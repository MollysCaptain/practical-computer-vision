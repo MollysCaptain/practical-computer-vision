{
 "cells": [
  {
   "cell_type": "markdown",
   "metadata": {},
   "source": [
    "# Fundamentals of Convolutional Networks - LeNet5"
   ]
  },
  {
   "cell_type": "markdown",
   "metadata": {},
   "source": [
    "[![Open In Kaggle](https://kaggle.com/static/images/open-in-kaggle.svg)](https://www.kaggle.com/code/andandand/lenet5-digit-recognition)"
   ]
  },
  {
   "cell_type": "markdown",
   "metadata": {},
   "source": [
    "#### Author: Antonio Rueda-Toicen\n",
    "\n",
    "**antonio.rueda.toicen 'at' hpi 'dot' de**\n",
    "\n",
    "\n",
    "[![Creative Commons License](https://i.creativecommons.org/l/by/4.0/88x31.png)](http://creativecommons.org/licenses/by/4.0/)\n",
    "\n",
    "This work is licensed under a [Creative Commons Attribution 4.0 International License](http://creativecommons.org/licenses/by/4.0/)."
   ]
  },
  {
   "cell_type": "markdown",
   "metadata": {},
   "source": [
    "[LeNet-5](https://en.wikipedia.org/wiki/LeNet), developed by Yann LeCun in 1998, was the one of the first architectures that could effectively recognize patterns on images.\n",
    "\n",
    "LeNet has a simple structure: input layer, two convolutional layers with pooling, followed by fully connected layers. \n",
    "\n",
    "LeNet-5 recognizes handwritten digits by using local receptive fields with shared weights and spatial subsampling (pooling) before feeding the resulting downsampled images into fully connected layers. \n",
    "\n",
    "This architecture became a blueprint for modern CNNs.\n",
    "\n",
    "In this notebook, we build it and use it to submit an entry into Kaggle's Digit Recognition Competition."
   ]
  },
  {
   "cell_type": "markdown",
   "metadata": {},
   "source": [
    "![](https://raw.githubusercontent.com/andandandand/images-for-colab-notebooks/refs/heads/main/Lenet5.png)"
   ]
  },
  {
   "cell_type": "markdown",
   "metadata": {
    "_cell_guid": "e9640e21-4918-4222-86a7-1baa9ff82edd",
    "_uuid": "3bf074cd-2ee4-4ddb-b99a-d8bc47c7dc6d",
    "collapsed": false,
    "jupyter": {
     "outputs_hidden": false
    },
    "trusted": true
   },
   "source": [
    "## Set up imports"
   ]
  },
  {
   "cell_type": "code",
   "execution_count": 1,
   "metadata": {
    "_cell_guid": "166a85b1-0964-4e30-b3c8-40c992ed7054",
    "_uuid": "a8404a12-e32d-478d-b359-d0f91e77c06e",
    "collapsed": false,
    "execution": {
     "iopub.execute_input": "2025-03-25T15:15:51.157012Z",
     "iopub.status.busy": "2025-03-25T15:15:51.156706Z",
     "iopub.status.idle": "2025-03-25T15:15:58.456607Z",
     "shell.execute_reply": "2025-03-25T15:15:58.455929Z",
     "shell.execute_reply.started": "2025-03-25T15:15:51.156963Z"
    },
    "jupyter": {
     "outputs_hidden": false
    },
    "trusted": true
   },
   "outputs": [],
   "source": [
    "import torch\n",
    "import torch.nn as nn\n",
    "from torch.utils.data import Dataset, DataLoader\n",
    "from torch.optim import Adam\n",
    "\n",
    "# Visualization tools\n",
    "import torchvision\n",
    "import torchvision.transforms.v2 as transforms\n",
    "import torchvision.transforms.functional as F\n",
    "import seaborn as sns\n",
    "import matplotlib.pyplot as plt\n",
    "from tqdm import tqdm\n",
    "from PIL import Image\n",
    "\n",
    "# Utilities for I/O and file manipulation\n",
    "import numpy as np\n",
    "import pandas as pd\n",
    "import os \n",
    "from contextlib import redirect_stdout"
   ]
  },
  {
   "cell_type": "markdown",
   "metadata": {
    "_cell_guid": "f7c4260c-93a3-4538-87ef-161d8fdf89bd",
    "_uuid": "a4b0436c-d9dc-4fd5-8ae6-ae2e00cc7e7b",
    "collapsed": false,
    "jupyter": {
     "outputs_hidden": false
    },
    "trusted": true
   },
   "source": [
    "## Reproducibility seed and compute device (GPU or CPU)"
   ]
  },
  {
   "cell_type": "code",
   "execution_count": 2,
   "metadata": {
    "_cell_guid": "528e22c0-a848-4495-8b8b-7b2becac5008",
    "_uuid": "adee5c16-949f-4be4-85a0-0043e7c41076",
    "collapsed": false,
    "execution": {
     "iopub.execute_input": "2025-03-25T15:15:58.458494Z",
     "iopub.status.busy": "2025-03-25T15:15:58.458146Z",
     "iopub.status.idle": "2025-03-25T15:15:58.517275Z",
     "shell.execute_reply": "2025-03-25T15:15:58.516586Z",
     "shell.execute_reply.started": "2025-03-25T15:15:58.458473Z"
    },
    "jupyter": {
     "outputs_hidden": false
    },
    "trusted": true
   },
   "outputs": [
    {
     "data": {
      "text/plain": [
       "device(type='cuda')"
      ]
     },
     "execution_count": 2,
     "metadata": {},
     "output_type": "execute_result"
    }
   ],
   "source": [
    "# Set random seed for reproducibility of all random operations on PyTorch\n",
    "torch.manual_seed(42)\n",
    "\n",
    "# Set computing device, \"cuda\" stands for an Nvidia GPU \n",
    "# Data and models will be sent to this device when training\n",
    "device = torch.device(\"cuda\" if torch.cuda.is_available() else \"cpu\")\n",
    "device"
   ]
  },
  {
   "cell_type": "markdown",
   "metadata": {
    "_cell_guid": "3f770ff4-e1e4-45d1-b5eb-8e390898ba4b",
    "_uuid": "73b1d80a-85ce-49b3-9f96-2d0ce1c980ca",
    "collapsed": false,
    "jupyter": {
     "outputs_hidden": false
    },
    "trusted": true
   },
   "source": [
    "## Prepare dataset"
   ]
  },
  {
   "cell_type": "code",
   "execution_count": 3,
   "metadata": {
    "_cell_guid": "0bd81053-dbb2-40f6-9556-e2078538e6e8",
    "_uuid": "42621d09-9152-4e3f-8ebe-d270eefd2b9b",
    "collapsed": false,
    "execution": {
     "iopub.execute_input": "2025-03-25T15:15:58.518737Z",
     "iopub.status.busy": "2025-03-25T15:15:58.518464Z",
     "iopub.status.idle": "2025-03-25T15:15:58.522575Z",
     "shell.execute_reply": "2025-03-25T15:15:58.521954Z",
     "shell.execute_reply.started": "2025-03-25T15:15:58.518710Z"
    },
    "jupyter": {
     "outputs_hidden": false
    },
    "trusted": true
   },
   "outputs": [],
   "source": [
    "# Create an initial transform from PIL to PyTorch tensor to compute mean and standard deviation of the training set\n",
    "initial_transform = transforms.Compose([transforms.ToImage(),\n",
    "                                        transforms.ToDtype(torch.float32, scale=True)])"
   ]
  },
  {
   "cell_type": "code",
   "execution_count": 4,
   "metadata": {
    "_cell_guid": "375b9c61-f669-4fbf-8e98-302b4dde6852",
    "_uuid": "6da95d28-247e-41e6-ae0d-2628b96f0bfc",
    "collapsed": false,
    "execution": {
     "iopub.execute_input": "2025-03-25T15:15:58.523632Z",
     "iopub.status.busy": "2025-03-25T15:15:58.523352Z",
     "iopub.status.idle": "2025-03-25T15:16:02.625439Z",
     "shell.execute_reply": "2025-03-25T15:16:02.624715Z",
     "shell.execute_reply.started": "2025-03-25T15:15:58.523595Z"
    },
    "jupyter": {
     "outputs_hidden": false
    },
    "trusted": true
   },
   "outputs": [],
   "source": [
    "# Define the MNIST Dataset class\n",
    "class MNISTDataset(Dataset):\n",
    "    def __init__(self, dataframe, labels=True, transform=None):\n",
    "        self.data = dataframe\n",
    "        self.labels = labels\n",
    "        self.transform = transform\n",
    "\n",
    "    def __len__(self):\n",
    "        return len(self.data)\n",
    "\n",
    "    def __getitem__(self, idx):\n",
    "        if self.labels:\n",
    "            image = self.data.iloc[idx, 1:].values.astype(np.float32).reshape(28, 28)\n",
    "            label = self.data.iloc[idx, 0]\n",
    "        else:\n",
    "            image = self.data.iloc[idx, :].values.astype(np.float32).reshape(28, 28)\n",
    "            label = 11  # Placeholder for test data\n",
    "\n",
    "        if self.transform:\n",
    "            image = self.transform(image)\n",
    "\n",
    "         # Ensure tensors are properly detached and typecast\n",
    "        image_tensor = torch.from_numpy(np.array(image)).clone().detach().float()\n",
    "        label_tensor = torch.tensor(label).clone().detach().long()\n",
    "\n",
    "        return image_tensor, label_tensor\n",
    "\n",
    "# Load the data\n",
    "train_data = pd.read_csv('/kaggle/input/digit-recognizer/train.csv')\n",
    "test_data  = pd.read_csv('/kaggle/input/digit-recognizer/test.csv')"
   ]
  },
  {
   "cell_type": "code",
   "execution_count": 5,
   "metadata": {
    "_cell_guid": "125cb50f-c4cd-4580-9721-85a4936b1cf5",
    "_uuid": "99abce3d-2885-45f1-b67b-7318b5467b3e",
    "collapsed": false,
    "execution": {
     "iopub.execute_input": "2025-03-25T15:16:02.626375Z",
     "iopub.status.busy": "2025-03-25T15:16:02.626163Z",
     "iopub.status.idle": "2025-03-25T15:16:02.651236Z",
     "shell.execute_reply": "2025-03-25T15:16:02.650572Z",
     "shell.execute_reply.started": "2025-03-25T15:16:02.626350Z"
    },
    "jupyter": {
     "outputs_hidden": false
    },
    "trusted": true
   },
   "outputs": [
    {
     "data": {
      "text/html": [
       "<div>\n",
       "<style scoped>\n",
       "    .dataframe tbody tr th:only-of-type {\n",
       "        vertical-align: middle;\n",
       "    }\n",
       "\n",
       "    .dataframe tbody tr th {\n",
       "        vertical-align: top;\n",
       "    }\n",
       "\n",
       "    .dataframe thead th {\n",
       "        text-align: right;\n",
       "    }\n",
       "</style>\n",
       "<table border=\"1\" class=\"dataframe\">\n",
       "  <thead>\n",
       "    <tr style=\"text-align: right;\">\n",
       "      <th></th>\n",
       "      <th>label</th>\n",
       "      <th>pixel0</th>\n",
       "      <th>pixel1</th>\n",
       "      <th>pixel2</th>\n",
       "      <th>pixel3</th>\n",
       "      <th>pixel4</th>\n",
       "      <th>pixel5</th>\n",
       "      <th>pixel6</th>\n",
       "      <th>pixel7</th>\n",
       "      <th>pixel8</th>\n",
       "      <th>...</th>\n",
       "      <th>pixel774</th>\n",
       "      <th>pixel775</th>\n",
       "      <th>pixel776</th>\n",
       "      <th>pixel777</th>\n",
       "      <th>pixel778</th>\n",
       "      <th>pixel779</th>\n",
       "      <th>pixel780</th>\n",
       "      <th>pixel781</th>\n",
       "      <th>pixel782</th>\n",
       "      <th>pixel783</th>\n",
       "    </tr>\n",
       "  </thead>\n",
       "  <tbody>\n",
       "    <tr>\n",
       "      <th>0</th>\n",
       "      <td>1</td>\n",
       "      <td>0</td>\n",
       "      <td>0</td>\n",
       "      <td>0</td>\n",
       "      <td>0</td>\n",
       "      <td>0</td>\n",
       "      <td>0</td>\n",
       "      <td>0</td>\n",
       "      <td>0</td>\n",
       "      <td>0</td>\n",
       "      <td>...</td>\n",
       "      <td>0</td>\n",
       "      <td>0</td>\n",
       "      <td>0</td>\n",
       "      <td>0</td>\n",
       "      <td>0</td>\n",
       "      <td>0</td>\n",
       "      <td>0</td>\n",
       "      <td>0</td>\n",
       "      <td>0</td>\n",
       "      <td>0</td>\n",
       "    </tr>\n",
       "  </tbody>\n",
       "</table>\n",
       "<p>1 rows × 785 columns</p>\n",
       "</div>"
      ],
      "text/plain": [
       "   label  pixel0  pixel1  pixel2  pixel3  pixel4  pixel5  pixel6  pixel7  \\\n",
       "0      1       0       0       0       0       0       0       0       0   \n",
       "\n",
       "   pixel8  ...  pixel774  pixel775  pixel776  pixel777  pixel778  pixel779  \\\n",
       "0       0  ...         0         0         0         0         0         0   \n",
       "\n",
       "   pixel780  pixel781  pixel782  pixel783  \n",
       "0         0         0         0         0  \n",
       "\n",
       "[1 rows x 785 columns]"
      ]
     },
     "execution_count": 5,
     "metadata": {},
     "output_type": "execute_result"
    }
   ],
   "source": [
    "train_data.head(1)"
   ]
  },
  {
   "cell_type": "code",
   "execution_count": 6,
   "metadata": {
    "_cell_guid": "dbf655a9-d0c0-4c7f-9258-1fed48200da2",
    "_uuid": "7f654045-0448-407f-82f4-428a0f5d1f35",
    "collapsed": false,
    "execution": {
     "iopub.execute_input": "2025-03-25T15:16:02.653543Z",
     "iopub.status.busy": "2025-03-25T15:16:02.653334Z",
     "iopub.status.idle": "2025-03-25T15:16:02.664020Z",
     "shell.execute_reply": "2025-03-25T15:16:02.663341Z",
     "shell.execute_reply.started": "2025-03-25T15:16:02.653525Z"
    },
    "jupyter": {
     "outputs_hidden": false
    },
    "trusted": true
   },
   "outputs": [
    {
     "data": {
      "text/html": [
       "<div>\n",
       "<style scoped>\n",
       "    .dataframe tbody tr th:only-of-type {\n",
       "        vertical-align: middle;\n",
       "    }\n",
       "\n",
       "    .dataframe tbody tr th {\n",
       "        vertical-align: top;\n",
       "    }\n",
       "\n",
       "    .dataframe thead th {\n",
       "        text-align: right;\n",
       "    }\n",
       "</style>\n",
       "<table border=\"1\" class=\"dataframe\">\n",
       "  <thead>\n",
       "    <tr style=\"text-align: right;\">\n",
       "      <th></th>\n",
       "      <th>pixel0</th>\n",
       "      <th>pixel1</th>\n",
       "      <th>pixel2</th>\n",
       "      <th>pixel3</th>\n",
       "      <th>pixel4</th>\n",
       "      <th>pixel5</th>\n",
       "      <th>pixel6</th>\n",
       "      <th>pixel7</th>\n",
       "      <th>pixel8</th>\n",
       "      <th>pixel9</th>\n",
       "      <th>...</th>\n",
       "      <th>pixel774</th>\n",
       "      <th>pixel775</th>\n",
       "      <th>pixel776</th>\n",
       "      <th>pixel777</th>\n",
       "      <th>pixel778</th>\n",
       "      <th>pixel779</th>\n",
       "      <th>pixel780</th>\n",
       "      <th>pixel781</th>\n",
       "      <th>pixel782</th>\n",
       "      <th>pixel783</th>\n",
       "    </tr>\n",
       "  </thead>\n",
       "  <tbody>\n",
       "    <tr>\n",
       "      <th>0</th>\n",
       "      <td>0</td>\n",
       "      <td>0</td>\n",
       "      <td>0</td>\n",
       "      <td>0</td>\n",
       "      <td>0</td>\n",
       "      <td>0</td>\n",
       "      <td>0</td>\n",
       "      <td>0</td>\n",
       "      <td>0</td>\n",
       "      <td>0</td>\n",
       "      <td>...</td>\n",
       "      <td>0</td>\n",
       "      <td>0</td>\n",
       "      <td>0</td>\n",
       "      <td>0</td>\n",
       "      <td>0</td>\n",
       "      <td>0</td>\n",
       "      <td>0</td>\n",
       "      <td>0</td>\n",
       "      <td>0</td>\n",
       "      <td>0</td>\n",
       "    </tr>\n",
       "  </tbody>\n",
       "</table>\n",
       "<p>1 rows × 784 columns</p>\n",
       "</div>"
      ],
      "text/plain": [
       "   pixel0  pixel1  pixel2  pixel3  pixel4  pixel5  pixel6  pixel7  pixel8  \\\n",
       "0       0       0       0       0       0       0       0       0       0   \n",
       "\n",
       "   pixel9  ...  pixel774  pixel775  pixel776  pixel777  pixel778  pixel779  \\\n",
       "0       0  ...         0         0         0         0         0         0   \n",
       "\n",
       "   pixel780  pixel781  pixel782  pixel783  \n",
       "0         0         0         0         0  \n",
       "\n",
       "[1 rows x 784 columns]"
      ]
     },
     "execution_count": 6,
     "metadata": {},
     "output_type": "execute_result"
    }
   ],
   "source": [
    "test_data.head(1)"
   ]
  },
  {
   "cell_type": "code",
   "execution_count": 7,
   "metadata": {
    "_cell_guid": "e0cd1bdc-ef70-4b48-b07e-1d34e6c9c178",
    "_uuid": "9b9c4494-8980-4917-a36a-0fff199a85a4",
    "collapsed": false,
    "execution": {
     "iopub.execute_input": "2025-03-25T15:16:02.665787Z",
     "iopub.status.busy": "2025-03-25T15:16:02.665566Z",
     "iopub.status.idle": "2025-03-25T15:16:02.678650Z",
     "shell.execute_reply": "2025-03-25T15:16:02.677957Z",
     "shell.execute_reply.started": "2025-03-25T15:16:02.665759Z"
    },
    "jupyter": {
     "outputs_hidden": false
    },
    "trusted": true
   },
   "outputs": [],
   "source": [
    "# Create datasets\n",
    "train_set = MNISTDataset(train_data, labels=True, transform=initial_transform)\n",
    "test_set = MNISTDataset(test_data, labels=False, transform=initial_transform)"
   ]
  },
  {
   "cell_type": "code",
   "execution_count": 8,
   "metadata": {
    "_cell_guid": "d202ff94-b38b-4d89-8ad6-b58236f626ac",
    "_uuid": "d33578e5-0c60-4ea6-916b-0f35c5e7e497",
    "collapsed": false,
    "execution": {
     "iopub.execute_input": "2025-03-25T15:16:02.679518Z",
     "iopub.status.busy": "2025-03-25T15:16:02.679329Z",
     "iopub.status.idle": "2025-03-25T15:16:02.775226Z",
     "shell.execute_reply": "2025-03-25T15:16:02.774519Z",
     "shell.execute_reply.started": "2025-03-25T15:16:02.679501Z"
    },
    "jupyter": {
     "outputs_hidden": false
    },
    "trusted": true
   },
   "outputs": [
    {
     "data": {
      "text/plain": [
       "(tensor([[[  0.,   0.,   0.,   0.,   0.,   0.,   0.,   0.,   0.,   0.,   0.,\n",
       "             0.,   0.,   0.,   0.,   0.,   0.,   0.,   0.,   0.,   0.,   0.,\n",
       "             0.,   0.,   0.,   0.,   0.,   0.],\n",
       "          [  0.,   0.,   0.,   0.,   0.,   0.,   0.,   0.,   0.,   0.,   0.,\n",
       "             0.,   0.,   0.,   0.,   0.,   0.,   0.,   0.,   0.,   0.,   0.,\n",
       "             0.,   0.,   0.,   0.,   0.,   0.],\n",
       "          [  0.,   0.,   0.,   0.,   0.,   0.,   0.,   0.,   0.,   0.,   0.,\n",
       "             0.,   0.,   0.,   0.,   0.,   0.,   0.,   0.,   0.,   0.,   0.,\n",
       "             0.,   0.,   0.,   0.,   0.,   0.],\n",
       "          [  0.,   0.,   0.,   0.,   0.,   0.,   0.,   0.,   0.,   0.,   0.,\n",
       "             0.,   0.,   0.,   0.,   0.,   0.,   0.,   0.,   0.,   0.,   0.,\n",
       "             0.,   0.,   0.,   0.,   0.,   0.],\n",
       "          [  0.,   0.,   0.,   0.,   0.,   0.,   0.,   0.,   0.,   0.,   0.,\n",
       "             0.,   0.,   0.,   0.,   0.,   0.,   0.,   0.,   0., 188., 255.,\n",
       "            94.,   0.,   0.,   0.,   0.,   0.],\n",
       "          [  0.,   0.,   0.,   0.,   0.,   0.,   0.,   0.,   0.,   0.,   0.,\n",
       "             0.,   0.,   0.,   0.,   0.,   0.,   0.,   0., 191., 250., 253.,\n",
       "            93.,   0.,   0.,   0.,   0.,   0.],\n",
       "          [  0.,   0.,   0.,   0.,   0.,   0.,   0.,   0.,   0.,   0.,   0.,\n",
       "             0.,   0.,   0.,   0.,   0.,   0.,   0., 123., 248., 253., 167.,\n",
       "            10.,   0.,   0.,   0.,   0.,   0.],\n",
       "          [  0.,   0.,   0.,   0.,   0.,   0.,   0.,   0.,   0.,   0.,   0.,\n",
       "             0.,   0.,   0.,   0.,   0.,   0.,  80., 247., 253., 208.,  13.,\n",
       "             0.,   0.,   0.,   0.,   0.,   0.],\n",
       "          [  0.,   0.,   0.,   0.,   0.,   0.,   0.,   0.,   0.,   0.,   0.,\n",
       "             0.,   0.,   0.,   0.,   0.,  29., 207., 253., 235.,  77.,   0.,\n",
       "             0.,   0.,   0.,   0.,   0.,   0.],\n",
       "          [  0.,   0.,   0.,   0.,   0.,   0.,   0.,   0.,   0.,   0.,   0.,\n",
       "             0.,   0.,   0.,   0.,  54., 209., 253., 253.,  88.,   0.,   0.,\n",
       "             0.,   0.,   0.,   0.,   0.,   0.],\n",
       "          [  0.,   0.,   0.,   0.,   0.,   0.,   0.,   0.,   0.,   0.,   0.,\n",
       "             0.,   0.,   0.,  93., 254., 253., 238., 170.,  17.,   0.,   0.,\n",
       "             0.,   0.,   0.,   0.,   0.,   0.],\n",
       "          [  0.,   0.,   0.,   0.,   0.,   0.,   0.,   0.,   0.,   0.,   0.,\n",
       "             0.,   0.,  23., 210., 254., 253., 159.,   0.,   0.,   0.,   0.,\n",
       "             0.,   0.,   0.,   0.,   0.,   0.],\n",
       "          [  0.,   0.,   0.,   0.,   0.,   0.,   0.,   0.,   0.,   0.,   0.,\n",
       "             0.,  16., 209., 253., 254., 240.,  81.,   0.,   0.,   0.,   0.,\n",
       "             0.,   0.,   0.,   0.,   0.,   0.],\n",
       "          [  0.,   0.,   0.,   0.,   0.,   0.,   0.,   0.,   0.,   0.,   0.,\n",
       "             0.,  27., 253., 253., 254.,  13.,   0.,   0.,   0.,   0.,   0.,\n",
       "             0.,   0.,   0.,   0.,   0.,   0.],\n",
       "          [  0.,   0.,   0.,   0.,   0.,   0.,   0.,   0.,   0.,   0.,   0.,\n",
       "            20., 206., 254., 254., 198.,   7.,   0.,   0.,   0.,   0.,   0.,\n",
       "             0.,   0.,   0.,   0.,   0.,   0.],\n",
       "          [  0.,   0.,   0.,   0.,   0.,   0.,   0.,   0.,   0.,   0.,   0.,\n",
       "           168., 253., 253., 196.,   7.,   0.,   0.,   0.,   0.,   0.,   0.,\n",
       "             0.,   0.,   0.,   0.,   0.,   0.],\n",
       "          [  0.,   0.,   0.,   0.,   0.,   0.,   0.,   0.,   0.,   0.,  20.,\n",
       "           203., 253., 248.,  76.,   0.,   0.,   0.,   0.,   0.,   0.,   0.,\n",
       "             0.,   0.,   0.,   0.,   0.,   0.],\n",
       "          [  0.,   0.,   0.,   0.,   0.,   0.,   0.,   0.,   0.,  22., 188.,\n",
       "           253., 245.,  93.,   0.,   0.,   0.,   0.,   0.,   0.,   0.,   0.,\n",
       "             0.,   0.,   0.,   0.,   0.,   0.],\n",
       "          [  0.,   0.,   0.,   0.,   0.,   0.,   0.,   0.,   0., 103., 253.,\n",
       "           253., 191.,   0.,   0.,   0.,   0.,   0.,   0.,   0.,   0.,   0.,\n",
       "             0.,   0.,   0.,   0.,   0.,   0.],\n",
       "          [  0.,   0.,   0.,   0.,   0.,   0.,   0.,   0.,  89., 240., 253.,\n",
       "           195.,  25.,   0.,   0.,   0.,   0.,   0.,   0.,   0.,   0.,   0.,\n",
       "             0.,   0.,   0.,   0.,   0.,   0.],\n",
       "          [  0.,   0.,   0.,   0.,   0.,   0.,   0.,  15., 220., 253., 253.,\n",
       "            80.,   0.,   0.,   0.,   0.,   0.,   0.,   0.,   0.,   0.,   0.,\n",
       "             0.,   0.,   0.,   0.,   0.,   0.],\n",
       "          [  0.,   0.,   0.,   0.,   0.,   0.,   0.,  94., 253., 253., 253.,\n",
       "            94.,   0.,   0.,   0.,   0.,   0.,   0.,   0.,   0.,   0.,   0.,\n",
       "             0.,   0.,   0.,   0.,   0.,   0.],\n",
       "          [  0.,   0.,   0.,   0.,   0.,   0.,   0.,  89., 251., 253., 250.,\n",
       "           131.,   0.,   0.,   0.,   0.,   0.,   0.,   0.,   0.,   0.,   0.,\n",
       "             0.,   0.,   0.,   0.,   0.,   0.],\n",
       "          [  0.,   0.,   0.,   0.,   0.,   0.,   0.,   0., 214., 218.,  95.,\n",
       "             0.,   0.,   0.,   0.,   0.,   0.,   0.,   0.,   0.,   0.,   0.,\n",
       "             0.,   0.,   0.,   0.,   0.,   0.],\n",
       "          [  0.,   0.,   0.,   0.,   0.,   0.,   0.,   0.,   0.,   0.,   0.,\n",
       "             0.,   0.,   0.,   0.,   0.,   0.,   0.,   0.,   0.,   0.,   0.,\n",
       "             0.,   0.,   0.,   0.,   0.,   0.],\n",
       "          [  0.,   0.,   0.,   0.,   0.,   0.,   0.,   0.,   0.,   0.,   0.,\n",
       "             0.,   0.,   0.,   0.,   0.,   0.,   0.,   0.,   0.,   0.,   0.,\n",
       "             0.,   0.,   0.,   0.,   0.,   0.],\n",
       "          [  0.,   0.,   0.,   0.,   0.,   0.,   0.,   0.,   0.,   0.,   0.,\n",
       "             0.,   0.,   0.,   0.,   0.,   0.,   0.,   0.,   0.,   0.,   0.,\n",
       "             0.,   0.,   0.,   0.,   0.,   0.],\n",
       "          [  0.,   0.,   0.,   0.,   0.,   0.,   0.,   0.,   0.,   0.,   0.,\n",
       "             0.,   0.,   0.,   0.,   0.,   0.,   0.,   0.,   0.,   0.,   0.,\n",
       "             0.,   0.,   0.,   0.,   0.,   0.]]]),\n",
       " tensor(1))"
      ]
     },
     "execution_count": 8,
     "metadata": {},
     "output_type": "execute_result"
    }
   ],
   "source": [
    "# The images are initially pairs of PIL (Python Image Library) images and their labels\n",
    "train_set[0]"
   ]
  },
  {
   "cell_type": "code",
   "execution_count": 9,
   "metadata": {
    "_cell_guid": "8209bd3d-4f48-4188-9ec5-16503e998538",
    "_uuid": "524bb208-c014-48ab-bd40-b6eaf7cef52c",
    "collapsed": false,
    "execution": {
     "iopub.execute_input": "2025-03-25T15:16:02.776221Z",
     "iopub.status.busy": "2025-03-25T15:16:02.775916Z",
     "iopub.status.idle": "2025-03-25T15:16:03.011429Z",
     "shell.execute_reply": "2025-03-25T15:16:03.010718Z",
     "shell.execute_reply.started": "2025-03-25T15:16:02.776200Z"
    },
    "jupyter": {
     "outputs_hidden": false
    },
    "trusted": true
   },
   "outputs": [
    {
     "data": {
      "image/png": "[encoded data removed]",
      "text/plain": [
       "<Figure size 640x480 with 1 Axes>"
      ]
     },
     "metadata": {},
     "output_type": "display_data"
    }
   ],
   "source": [
    "# Each image is 28x28 pixels and represented in grayscale\n",
    "im = train_set[7][0]\n",
    "plt.imshow(im.squeeze(), cmap='gray');"
   ]
  },
  {
   "cell_type": "code",
   "execution_count": 10,
   "metadata": {
    "_cell_guid": "a254da39-a18b-4f23-920f-874f9383ff18",
    "_uuid": "54b31887-fc44-4fc4-aa6c-53a334837190",
    "collapsed": false,
    "execution": {
     "iopub.execute_input": "2025-03-25T15:16:03.012427Z",
     "iopub.status.busy": "2025-03-25T15:16:03.012204Z",
     "iopub.status.idle": "2025-03-25T15:16:04.412538Z",
     "shell.execute_reply": "2025-03-25T15:16:04.411602Z",
     "shell.execute_reply.started": "2025-03-25T15:16:03.012408Z"
    },
    "jupyter": {
     "outputs_hidden": false
    },
    "trusted": true
   },
   "outputs": [
    {
     "data": {
      "image/png": "[encoded data removed]",
      "text/plain": [
       "<Figure size 1200x1000 with 1 Axes>"
      ]
     },
     "metadata": {},
     "output_type": "display_data"
    }
   ],
   "source": [
    "# We use 0 to represent black pixels and 255 to represent white in uint8 (unsigned integers of 8 bits)\n",
    "df = pd.DataFrame(np.array(im).squeeze())\n",
    "plt.figure(figsize=(12, 10))\n",
    "sns.heatmap(df, cmap=\"Greys_r\", annot=True, fmt=\".0f\", cbar=False)\n",
    "plt.show()"
   ]
  },
  {
   "cell_type": "code",
   "execution_count": 11,
   "metadata": {
    "_cell_guid": "a7c9adaa-15e6-486b-ba5f-f23ac5c4c181",
    "_uuid": "099f4d86-94c0-4635-88fe-8c754e197bd2",
    "collapsed": false,
    "execution": {
     "iopub.execute_input": "2025-03-25T15:16:04.413619Z",
     "iopub.status.busy": "2025-03-25T15:16:04.413365Z",
     "iopub.status.idle": "2025-03-25T15:16:04.418515Z",
     "shell.execute_reply": "2025-03-25T15:16:04.417875Z",
     "shell.execute_reply.started": "2025-03-25T15:16:04.413597Z"
    },
    "jupyter": {
     "outputs_hidden": false
    },
    "trusted": true
   },
   "outputs": [
    {
     "data": {
      "text/plain": [
       "(1, 28, 28)"
      ]
     },
     "execution_count": 11,
     "metadata": {},
     "output_type": "execute_result"
    }
   ],
   "source": [
    "# We can inspect the values used to represent the image by converting it\n",
    "# into a Numpy array or PyTorch tensor\n",
    "arr = np.array(im)\n",
    "\n",
    "arr.shape"
   ]
  },
  {
   "cell_type": "code",
   "execution_count": 12,
   "metadata": {
    "_cell_guid": "f5bc580b-5136-4315-95f8-618821c8fc33",
    "_uuid": "fa2b7fa5-30c1-4541-bd3e-d06be2771f06",
    "collapsed": false,
    "execution": {
     "iopub.execute_input": "2025-03-25T15:16:04.419728Z",
     "iopub.status.busy": "2025-03-25T15:16:04.419436Z",
     "iopub.status.idle": "2025-03-25T15:16:04.435278Z",
     "shell.execute_reply": "2025-03-25T15:16:04.434494Z",
     "shell.execute_reply.started": "2025-03-25T15:16:04.419699Z"
    },
    "jupyter": {
     "outputs_hidden": false
    },
    "trusted": true
   },
   "outputs": [
    {
     "data": {
      "text/plain": [
       "array([], shape=(0, 6, 28), dtype=float32)"
      ]
     },
     "execution_count": 12,
     "metadata": {},
     "output_type": "execute_result"
    }
   ],
   "source": [
    "# The 6:12 asks for the values in the rows from index 6 (included) to 12 (not included) \n",
    "# and the same for the columns. NumPy indexes from top to bottom and left to right.\n",
    "# This section is located in the top-left corner of the image\n",
    "arr[6:12, 6:12]"
   ]
  },
  {
   "cell_type": "code",
   "execution_count": 13,
   "metadata": {
    "_cell_guid": "c13fc2be-db58-4080-a28e-ca091546ff11",
    "_uuid": "d9313276-e502-495a-a728-f6234e502c26",
    "collapsed": false,
    "execution": {
     "iopub.execute_input": "2025-03-25T15:16:04.436341Z",
     "iopub.status.busy": "2025-03-25T15:16:04.436089Z",
     "iopub.status.idle": "2025-03-25T15:16:04.453599Z",
     "shell.execute_reply": "2025-03-25T15:16:04.453066Z",
     "shell.execute_reply.started": "2025-03-25T15:16:04.436311Z"
    },
    "jupyter": {
     "outputs_hidden": false
    },
    "trusted": true
   },
   "outputs": [
    {
     "data": {
      "text/plain": [
       "torch.Size([1, 28, 28])"
      ]
     },
     "execution_count": 13,
     "metadata": {},
     "output_type": "execute_result"
    }
   ],
   "source": [
    " \n",
    "# Here's the same as a PyTorch tensor. \n",
    "# We use transforms.ToImage() to convert the PIL image into a PyTorch tensor of unsigned integers\n",
    "to_imag = transforms.ToImage()\n",
    "my_tensor = to_imag(im)\n",
    "# The shape of the tensor includes the number of channels as a first dimension.\n",
    "# Grayscale images have only 1 channel. This is appended in front of the shape tensor\n",
    "my_tensor.shape"
   ]
  },
  {
   "cell_type": "code",
   "execution_count": 14,
   "metadata": {
    "execution": {
     "iopub.execute_input": "2025-03-25T15:16:04.454656Z",
     "iopub.status.busy": "2025-03-25T15:16:04.454354Z",
     "iopub.status.idle": "2025-03-25T15:16:04.473420Z",
     "shell.execute_reply": "2025-03-25T15:16:04.472608Z",
     "shell.execute_reply.started": "2025-03-25T15:16:04.454618Z"
    },
    "trusted": true
   },
   "outputs": [
    {
     "data": {
      "text/plain": [
       "4"
      ]
     },
     "execution_count": 14,
     "metadata": {},
     "output_type": "execute_result"
    }
   ],
   "source": [
    "my_tensor.unsqueeze(0).dim()"
   ]
  },
  {
   "cell_type": "code",
   "execution_count": 15,
   "metadata": {
    "_cell_guid": "fa31f28e-df6f-4215-86d2-f7f351011e74",
    "_uuid": "8bfd613e-7a53-4f0e-8118-74ff9b5b1d75",
    "collapsed": false,
    "execution": {
     "iopub.execute_input": "2025-03-25T15:16:04.474469Z",
     "iopub.status.busy": "2025-03-25T15:16:04.474223Z",
     "iopub.status.idle": "2025-03-25T15:16:04.490670Z",
     "shell.execute_reply": "2025-03-25T15:16:04.490026Z",
     "shell.execute_reply.started": "2025-03-25T15:16:04.474439Z"
    },
    "jupyter": {
     "outputs_hidden": false
    },
    "trusted": true
   },
   "outputs": [
    {
     "data": {
      "text/plain": [
       "tensor([[  0.,   0.,   0.,  21., 130., 190.],\n",
       "        [ 26., 102., 186., 254., 254., 248.],\n",
       "        [207., 254., 254., 177., 117.,  39.],\n",
       "        [ 91., 111.,  36.,   0.,   0.,   0.],\n",
       "        [  0.,   0.,   0.,   0.,   0.,   0.],\n",
       "        [  0.,   0.,   0.,   0.,   0.,   0.]])"
      ]
     },
     "execution_count": 15,
     "metadata": {},
     "output_type": "execute_result"
    }
   ],
   "source": [
    "# We can remove this dimension by using the squeeze() method, afterwards we can index the values just like we did with the numpy array\n",
    "selection_tensor = my_tensor.squeeze()[6:12, 6:12]\n",
    "selection_tensor"
   ]
  },
  {
   "cell_type": "markdown",
   "metadata": {
    "_cell_guid": "c7087d27-5fb9-4017-b7a4-ce3aecd9e4ac",
    "_uuid": "c57fd35f-ca6b-4338-9eeb-954fad258d0a",
    "collapsed": false,
    "jupyter": {
     "outputs_hidden": false
    },
    "trusted": true
   },
   "source": [
    "## Issues with numerical precision"
   ]
  },
  {
   "cell_type": "code",
   "execution_count": 16,
   "metadata": {
    "_cell_guid": "ac5aad4d-1677-4a38-9cf4-0a3444048b14",
    "_uuid": "749429bd-8832-4616-87ed-434d0266d206",
    "collapsed": false,
    "execution": {
     "iopub.execute_input": "2025-03-25T15:16:04.491867Z",
     "iopub.status.busy": "2025-03-25T15:16:04.491568Z",
     "iopub.status.idle": "2025-03-25T15:16:04.515356Z",
     "shell.execute_reply": "2025-03-25T15:16:04.514505Z",
     "shell.execute_reply.started": "2025-03-25T15:16:04.491838Z"
    },
    "jupyter": {
     "outputs_hidden": false
    },
    "trusted": true
   },
   "outputs": [
    {
     "data": {
      "text/plain": [
       "tensor([[1.0000e+00, 1.0000e+00, 1.0000e+00, 1.3188e+09,        inf,        inf],\n",
       "        [1.9573e+11,        inf,        inf,        inf,        inf,        inf],\n",
       "        [       inf,        inf,        inf,        inf,        inf, 8.6593e+16],\n",
       "        [       inf,        inf, 4.3112e+15, 1.0000e+00, 1.0000e+00, 1.0000e+00],\n",
       "        [1.0000e+00, 1.0000e+00, 1.0000e+00, 1.0000e+00, 1.0000e+00, 1.0000e+00],\n",
       "        [1.0000e+00, 1.0000e+00, 1.0000e+00, 1.0000e+00, 1.0000e+00, 1.0000e+00]])"
      ]
     },
     "execution_count": 16,
     "metadata": {},
     "output_type": "execute_result"
    }
   ],
   "source": [
    "# torch.uint8 can only represent numbers in the range of 0 to 255, this causes issues with common functions\n",
    "# that we use in neural networks, notice that applying an exponential function to the input will make many values \n",
    "# \"explode\" to infinity, this would destroy information during the training of a neural network \n",
    "# In this example selection_tensor is implicitly converted to a torch.float32 when passed to the torch.exp function \n",
    "torch.exp(selection_tensor)"
   ]
  },
  {
   "cell_type": "code",
   "execution_count": 17,
   "metadata": {
    "_cell_guid": "9b5941b6-5d2c-40be-9232-da4b05c750a5",
    "_uuid": "ccc4d25a-2d40-4ed0-9997-98be4460f605",
    "collapsed": false,
    "execution": {
     "iopub.execute_input": "2025-03-25T15:16:04.516717Z",
     "iopub.status.busy": "2025-03-25T15:16:04.516383Z",
     "iopub.status.idle": "2025-03-25T15:16:04.523300Z",
     "shell.execute_reply": "2025-03-25T15:16:04.522542Z",
     "shell.execute_reply.started": "2025-03-25T15:16:04.516685Z"
    },
    "jupyter": {
     "outputs_hidden": false
    },
    "trusted": true
   },
   "outputs": [
    {
     "data": {
      "text/plain": [
       "tensor([[1.0000, 1.0000, 1.0000, 1.0858, 1.6650, 2.1066],\n",
       "        [1.1073, 1.4918, 2.0739, 2.7076, 2.7076, 2.6447],\n",
       "        [2.2519, 2.7076, 2.7076, 2.0019, 1.5822, 1.1653],\n",
       "        [1.4288, 1.5454, 1.1516, 1.0000, 1.0000, 1.0000],\n",
       "        [1.0000, 1.0000, 1.0000, 1.0000, 1.0000, 1.0000],\n",
       "        [1.0000, 1.0000, 1.0000, 1.0000, 1.0000, 1.0000]])"
      ]
     },
     "execution_count": 17,
     "metadata": {},
     "output_type": "execute_result"
    }
   ],
   "source": [
    "# We can avoid this issue by rescaling the input in the range of 0 to 1 \n",
    "# Please take note that this division makes an implicit type conversion to torch.float32\n",
    "# In the following section we will see the more common ways that this scaling is done in PyTorch pipelines\n",
    "torch.exp(selection_tensor/255)"
   ]
  },
  {
   "cell_type": "markdown",
   "metadata": {
    "_cell_guid": "7192ab92-7600-43f9-becc-e7c2e7df05fd",
    "_uuid": "da1525dc-aa08-4ac9-8290-fef84a4165c9",
    "collapsed": false,
    "jupyter": {
     "outputs_hidden": false
    },
    "trusted": true
   },
   "source": [
    "## Moving and transforming tensors"
   ]
  },
  {
   "cell_type": "code",
   "execution_count": 18,
   "metadata": {
    "_cell_guid": "2e81a622-7eb2-4397-8acc-227e364e6d8c",
    "_uuid": "e6b9aa6c-f0da-4d08-94ea-2cd7a0e5e049",
    "collapsed": false,
    "execution": {
     "iopub.execute_input": "2025-03-25T15:16:04.526940Z",
     "iopub.status.busy": "2025-03-25T15:16:04.526713Z",
     "iopub.status.idle": "2025-03-25T15:16:04.944813Z",
     "shell.execute_reply": "2025-03-25T15:16:04.944079Z",
     "shell.execute_reply.started": "2025-03-25T15:16:04.526922Z"
    },
    "jupyter": {
     "outputs_hidden": false
    },
    "trusted": true
   },
   "outputs": [
    {
     "data": {
      "text/plain": [
       "tensor([[  0.,   0.,   0.,  21., 130., 190.],\n",
       "        [ 26., 102., 186., 254., 254., 248.],\n",
       "        [207., 254., 254., 177., 117.,  39.],\n",
       "        [ 91., 111.,  36.,   0.,   0.,   0.],\n",
       "        [  0.,   0.,   0.,   0.,   0.,   0.],\n",
       "        [  0.,   0.,   0.,   0.,   0.,   0.]], device='cuda:0')"
      ]
     },
     "execution_count": 18,
     "metadata": {},
     "output_type": "execute_result"
    }
   ],
   "source": [
    "# We can use PyTorch's 'to' function to move tensors to the GPU (if it is available) and change their data type\n",
    "float_selection_tensor = selection_tensor.to(device, dtype=torch.float32)\n",
    "float_selection_tensor"
   ]
  },
  {
   "cell_type": "code",
   "execution_count": 19,
   "metadata": {
    "_cell_guid": "cece1a65-1487-476a-a04c-edade3c2ae54",
    "_uuid": "c9d9caed-2077-4374-ab97-dbe5179f6c2a",
    "collapsed": false,
    "execution": {
     "iopub.execute_input": "2025-03-25T15:16:04.946496Z",
     "iopub.status.busy": "2025-03-25T15:16:04.946266Z",
     "iopub.status.idle": "2025-03-25T15:16:04.952692Z",
     "shell.execute_reply": "2025-03-25T15:16:04.952073Z",
     "shell.execute_reply.started": "2025-03-25T15:16:04.946477Z"
    },
    "jupyter": {
     "outputs_hidden": false
    },
    "trusted": true
   },
   "outputs": [
    {
     "data": {
      "text/plain": [
       "tensor([[  0.,   0.,   0.,  21., 130., 190.],\n",
       "        [ 26., 102., 186., 254., 254., 248.],\n",
       "        [207., 254., 254., 177., 117.,  39.],\n",
       "        [ 91., 111.,  36.,   0.,   0.,   0.],\n",
       "        [  0.,   0.,   0.,   0.,   0.,   0.],\n",
       "        [  0.,   0.,   0.,   0.,   0.,   0.]])"
      ]
     },
     "execution_count": 19,
     "metadata": {},
     "output_type": "execute_result"
    }
   ],
   "source": [
    "# Another way to transform the data type explicitly is to use transforms.ToDtype, notice that here we are using scale=False\n",
    "# This means that we **don't** re-scale the data to the range 0.0 to 1.0\n",
    "float32_transform = transforms.ToDtype(torch.float32, scale=False)\n",
    "float_selection_tensor = float32_transform(selection_tensor)\n",
    "float_selection_tensor"
   ]
  },
  {
   "cell_type": "code",
   "execution_count": 20,
   "metadata": {
    "_cell_guid": "45498c26-2404-43c9-a738-712e8709285b",
    "_uuid": "7998cc2c-b41c-4ba6-bd56-17b5de9151e1",
    "collapsed": false,
    "execution": {
     "iopub.execute_input": "2025-03-25T15:16:04.953632Z",
     "iopub.status.busy": "2025-03-25T15:16:04.953444Z",
     "iopub.status.idle": "2025-03-25T15:16:04.974528Z",
     "shell.execute_reply": "2025-03-25T15:16:04.973670Z",
     "shell.execute_reply.started": "2025-03-25T15:16:04.953616Z"
    },
    "jupyter": {
     "outputs_hidden": false
    },
    "trusted": true
   },
   "outputs": [
    {
     "data": {
      "text/plain": [
       "tensor([[  0.,   0.,   0.,  21., 130., 190.],\n",
       "        [ 26., 102., 186., 254., 254., 248.],\n",
       "        [207., 254., 254., 177., 117.,  39.],\n",
       "        [ 91., 111.,  36.,   0.,   0.,   0.],\n",
       "        [  0.,   0.,   0.,   0.,   0.,   0.],\n",
       "        [  0.,   0.,   0.,   0.,   0.,   0.]])"
      ]
     },
     "execution_count": 20,
     "metadata": {},
     "output_type": "execute_result"
    }
   ],
   "source": [
    "# Using scale=True will transform the data into the range of 0 to 1 \n",
    "scaling_transform = transforms.ToDtype(torch.float32, scale=True)\n",
    "scaling_transform(selection_tensor)"
   ]
  },
  {
   "cell_type": "markdown",
   "metadata": {
    "_cell_guid": "ef7d4bc7-1d9c-49c1-8b2a-9ff880103757",
    "_uuid": "f068646d-d373-483f-b41b-aae89965f628",
    "collapsed": false,
    "jupyter": {
     "outputs_hidden": false
    },
    "trusted": true
   },
   "source": [
    "## Input normalization with mean and standard deviation of the training set\n",
    "\n",
    "The classic paper [Efficient Backprop](https://www.researchgate.net/publication/2811922_Efficient_BackProp) (LeCun et al., 2000) shows empirically that input normalization using the mean and standard deviation of the training set can lead to a 10x improvement in training speed. This practice is widely spread in modern deep learning. Standard scaling transforms the data such that it has a mean of 0 and a standard deviation of 1. This is useful in machine learning algorithms sensitive to the magnitude of features.\n",
    "\n",
    "We use the standard scaling normalization (also called [z-score normalization](https://en.wikipedia.org/wiki/Standard_score)):\n",
    "\n",
    "$x^{normalized} = \\frac{x - \\mu}{\\sigma}$\n",
    "\n",
    "Where:\n",
    "- $x$ is the input variable\n",
    "- $\\mu$ is the mean of inputs across the training set\n",
    "- $\\sigma$ is the standard deviation across the training set\n",
    "\n",
    "It represents the distance between the raw input x and the population mean in units of the standard deviation. This distance is negative when the raw score is below the mean and positive when above. \n",
    "\n",
    "Implementation in PyTorch or NumPy:\n",
    "```python\n",
    "mean = training_data.mean()\n",
    "std = training_data.std()\n",
    "normalized_data = (data - mean) / std\n",
    "```\n",
    "\n",
    "Input normalization is useful for neural networks for these key reasons:\n",
    "\n",
    "1. Training Stability: Normalized inputs improve gradient flow through the network. Without normalization, large input values can cascade into exploding gradients (values that go outside of the range that we can represent with the number of bits that we have to represent our activations) and unstable training.\n",
    "\n",
    "2. Faster Learning: Normalization creates a more spherical loss surface, enabling more direct gradient descent paths and allowing higher learning rates.\n",
    "\n",
    "3. Better Initialization: Most normalized values fall in ranges where activation functions have stronger gradients, preventing early neuron saturation.\n",
    "\n",
    "**Important**: Always use training set statistics to normalize both training and test data to maintain consistent transformations."
   ]
  },
  {
   "cell_type": "code",
   "execution_count": 21,
   "metadata": {
    "_cell_guid": "eb352c08-45d2-4ca4-bbb0-e30aad5c5631",
    "_uuid": "7cacdef6-2eb0-48dd-ad62-a9ac530bf5e3",
    "collapsed": false,
    "execution": {
     "iopub.execute_input": "2025-03-25T15:16:04.975672Z",
     "iopub.status.busy": "2025-03-25T15:16:04.975398Z",
     "iopub.status.idle": "2025-03-25T15:16:20.795793Z",
     "shell.execute_reply": "2025-03-25T15:16:20.794953Z",
     "shell.execute_reply.started": "2025-03-25T15:16:04.975652Z"
    },
    "jupyter": {
     "outputs_hidden": false
    },
    "trusted": true
   },
   "outputs": [
    {
     "name": "stdout",
     "output_type": "stream",
     "text": [
      "Dataset statistics - Mean: 33.4089, Std: 78.6777\n"
     ]
    }
   ],
   "source": [
    "# Calculate mean and std of training set\n",
    "train_data = torch.stack([initial_transform(img) for img, _ in train_set])\n",
    "mean = train_data.mean().item()\n",
    "std = train_data.std()\n",
    "print(f\"Dataset statistics - Mean: {mean:.4f}, Std: {std:.4f}\")"
   ]
  },
  {
   "cell_type": "code",
   "execution_count": 22,
   "metadata": {
    "_cell_guid": "6fd24159-5ade-4b93-9950-cb3977d06480",
    "_uuid": "bd751b7f-2a15-4733-a645-ab6b0aed481d",
    "collapsed": false,
    "execution": {
     "iopub.execute_input": "2025-03-25T15:16:20.796955Z",
     "iopub.status.busy": "2025-03-25T15:16:20.796657Z",
     "iopub.status.idle": "2025-03-25T15:16:20.800823Z",
     "shell.execute_reply": "2025-03-25T15:16:20.800048Z",
     "shell.execute_reply.started": "2025-03-25T15:16:20.796923Z"
    },
    "jupyter": {
     "outputs_hidden": false
    },
    "trusted": true
   },
   "outputs": [],
   "source": [
    "# Now we create a final transformation that will convert the PIL Images to Tensors, scale them, and normalize them\n",
    "norm_transform = transforms.Compose([transforms.ToImage(),\n",
    "                                     transforms.ToDtype(torch.float32, scale=True),\n",
    "                                     transforms.Normalize((mean,), (std,))                       \n",
    "                                    ])"
   ]
  },
  {
   "cell_type": "markdown",
   "metadata": {
    "_cell_guid": "9711c496-9120-4508-bcad-47a5617c8448",
    "_uuid": "a058b408-eecc-477a-a5f6-ba1d9808d7fe",
    "collapsed": false,
    "jupyter": {
     "outputs_hidden": false
    },
    "trusted": true
   },
   "source": [
    "## Apply transformation to datasets"
   ]
  },
  {
   "cell_type": "code",
   "execution_count": 23,
   "metadata": {
    "_cell_guid": "665e438f-b22d-4e29-9105-1fdb53b3e385",
    "_uuid": "99f3b45d-c2dd-463b-9939-fa4ae6341104",
    "collapsed": false,
    "execution": {
     "iopub.execute_input": "2025-03-25T15:16:20.801663Z",
     "iopub.status.busy": "2025-03-25T15:16:20.801492Z",
     "iopub.status.idle": "2025-03-25T15:16:20.841293Z",
     "shell.execute_reply": "2025-03-25T15:16:20.840639Z",
     "shell.execute_reply.started": "2025-03-25T15:16:20.801648Z"
    },
    "jupyter": {
     "outputs_hidden": false
    },
    "trusted": true
   },
   "outputs": [],
   "source": [
    "# This converts every datapoint in the original dataset to scaled and normalized torch tensor\n",
    "train_set.transform = norm_transform\n",
    "test_set.transform = norm_transform"
   ]
  },
  {
   "cell_type": "code",
   "execution_count": 24,
   "metadata": {
    "_cell_guid": "1cdc6884-9ef3-4bf0-9fe3-97953453759c",
    "_uuid": "092e2d94-85e6-4694-9d69-b696f2ee7216",
    "collapsed": false,
    "execution": {
     "iopub.execute_input": "2025-03-25T15:16:20.842117Z",
     "iopub.status.busy": "2025-03-25T15:16:20.841903Z",
     "iopub.status.idle": "2025-03-25T15:16:20.865820Z",
     "shell.execute_reply": "2025-03-25T15:16:20.865057Z",
     "shell.execute_reply.started": "2025-03-25T15:16:20.842099Z"
    },
    "jupyter": {
     "outputs_hidden": false
    },
    "trusted": true
   },
   "outputs": [
    {
     "data": {
      "text/plain": [
       "tensor([[-0.4246, -0.4246, -0.4246, -0.4246, -0.4246, -0.4246],\n",
       "        [-0.4246, -0.4246, -0.4246, -0.4246, -0.4246, -0.4246],\n",
       "        [-0.4246, -0.4246, -0.4246, -0.4246, -0.4246, -0.4246],\n",
       "        [-0.4246, -0.4246, -0.4246, -0.4246, -0.4246, -0.4246],\n",
       "        [-0.4246, -0.4246, -0.4246, -0.4246, -0.4246, -0.4246],\n",
       "        [-0.4246, -0.4246, -0.4246, -0.4246, -0.4246, -0.4246]])"
      ]
     },
     "execution_count": 24,
     "metadata": {},
     "output_type": "execute_result"
    }
   ],
   "source": [
    "# If we inspect an image from the training_set, we see that it has been re-scaled\n",
    "train_set[0][0].squeeze()[6:12, 6:12]"
   ]
  },
  {
   "cell_type": "code",
   "execution_count": 25,
   "metadata": {
    "_cell_guid": "a3e1c810-fd84-43c8-b2d1-7bd4b4464e27",
    "_uuid": "a6ac0ce0-a623-4eee-8701-23b3dba3a578",
    "collapsed": false,
    "execution": {
     "iopub.execute_input": "2025-03-25T15:16:20.866708Z",
     "iopub.status.busy": "2025-03-25T15:16:20.866508Z",
     "iopub.status.idle": "2025-03-25T15:16:20.881583Z",
     "shell.execute_reply": "2025-03-25T15:16:20.880860Z",
     "shell.execute_reply.started": "2025-03-25T15:16:20.866679Z"
    },
    "jupyter": {
     "outputs_hidden": false
    },
    "trusted": true
   },
   "outputs": [
    {
     "data": {
      "text/plain": [
       "(tensor(-0.4246), tensor(2.8164))"
      ]
     },
     "execution_count": 25,
     "metadata": {},
     "output_type": "execute_result"
    }
   ],
   "source": [
    "train_set[0][0].min(), train_set[0][0].max()"
   ]
  },
  {
   "cell_type": "markdown",
   "metadata": {
    "_cell_guid": "65b978dd-f91a-4fc5-9dcc-ac3830e6ab95",
    "_uuid": "88c1c42b-e690-410b-9f4a-9498c2df4bb1",
    "collapsed": false,
    "jupyter": {
     "outputs_hidden": false
    },
    "trusted": true
   },
   "source": [
    "## Create a validation set"
   ]
  },
  {
   "cell_type": "code",
   "execution_count": 26,
   "metadata": {
    "_cell_guid": "d26ca423-3aad-4efc-856d-677ab08a77ee",
    "_uuid": "ed9a110c-8c08-4527-bd94-7548afe24b5c",
    "collapsed": false,
    "execution": {
     "iopub.execute_input": "2025-03-25T15:16:20.882451Z",
     "iopub.status.busy": "2025-03-25T15:16:20.882268Z",
     "iopub.status.idle": "2025-03-25T15:16:20.902662Z",
     "shell.execute_reply": "2025-03-25T15:16:20.901862Z",
     "shell.execute_reply.started": "2025-03-25T15:16:20.882436Z"
    },
    "jupyter": {
     "outputs_hidden": false
    },
    "trusted": true
   },
   "outputs": [
    {
     "data": {
      "text/plain": [
       "(10500, 31500)"
      ]
     },
     "execution_count": 26,
     "metadata": {},
     "output_type": "execute_result"
    }
   ],
   "source": [
    "# Create validation/test split from the test set\n",
    "validation_size = int(0.25 * len(train_set))  # Split test set in half\n",
    "train_size = len(train_set) - validation_size\n",
    "valid_subset, train_subset = torch.utils.data.random_split(\n",
    "    train_set, [validation_size, train_size], generator=torch.Generator().manual_seed(42)\n",
    ")\n",
    "len(valid_subset), len(train_subset)"
   ]
  },
  {
   "cell_type": "markdown",
   "metadata": {
    "_cell_guid": "9807eb4c-1f46-4556-9b35-af8c0c89a3cf",
    "_uuid": "00ca351a-ce0f-4f1c-81b2-d3db4cec67cf",
    "collapsed": false,
    "jupyter": {
     "outputs_hidden": false
    },
    "trusted": true
   },
   "source": [
    "## Create dataloaders"
   ]
  },
  {
   "cell_type": "code",
   "execution_count": 27,
   "metadata": {
    "_cell_guid": "2655e8ec-597d-4ec0-9bc5-50077b4cb99f",
    "_uuid": "ed05f82b-828d-4c75-9175-fcb37a80acbe",
    "collapsed": false,
    "execution": {
     "iopub.execute_input": "2025-03-25T15:16:20.903819Z",
     "iopub.status.busy": "2025-03-25T15:16:20.903509Z",
     "iopub.status.idle": "2025-03-25T15:16:20.918677Z",
     "shell.execute_reply": "2025-03-25T15:16:20.918005Z",
     "shell.execute_reply.started": "2025-03-25T15:16:20.903787Z"
    },
    "jupyter": {
     "outputs_hidden": false
    },
    "trusted": true
   },
   "outputs": [],
   "source": [
    "# Create data loaders\n",
    "batch_size = 32\n",
    "# Notice that we shuffle the training loader, but not the validation or test loaders.\n",
    "# This practice of shuffling the training set is one of the techniques that have been shown to improve training.\n",
    "# It is described on LeCun's Efficient Backprop publication, but its origin is likely much earlier.\n",
    "train_loader = DataLoader(train_subset, batch_size=batch_size, shuffle=True)\n",
    "valid_loader = DataLoader(valid_subset, batch_size=batch_size)\n",
    "test_loader  = DataLoader(test_set, batch_size=batch_size)"
   ]
  },
  {
   "cell_type": "code",
   "execution_count": 28,
   "metadata": {
    "_cell_guid": "910f62ee-e6c8-4b60-b1ca-1d80212b20fa",
    "_uuid": "68de1780-8225-4b77-9754-4146e922ac7a",
    "collapsed": false,
    "execution": {
     "iopub.execute_input": "2025-03-25T15:16:20.919595Z",
     "iopub.status.busy": "2025-03-25T15:16:20.919368Z",
     "iopub.status.idle": "2025-03-25T15:16:20.958037Z",
     "shell.execute_reply": "2025-03-25T15:16:20.957278Z",
     "shell.execute_reply.started": "2025-03-25T15:16:20.919567Z"
    },
    "jupyter": {
     "outputs_hidden": false
    },
    "trusted": true
   },
   "outputs": [
    {
     "data": {
      "text/plain": [
       "(torch.Size([32, 1, 28, 28]), torch.Size([32]))"
      ]
     },
     "execution_count": 28,
     "metadata": {},
     "output_type": "execute_result"
    }
   ],
   "source": [
    "# The batch size is the first dimension of the images tensor. Next comes the number of channels and x, y dimensions.\n",
    "# We have 32 labels, one for each datapoint in the batch. \n",
    "images, labels = next(iter(train_loader))\n",
    "images.shape, labels.shape"
   ]
  },
  {
   "cell_type": "markdown",
   "metadata": {
    "_cell_guid": "90bf53fc-0bf0-4923-a4f7-053b19011202",
    "_uuid": "66a17385-226a-4a46-a57f-1c8c5e613ce3",
    "collapsed": false,
    "jupyter": {
     "outputs_hidden": false
    },
    "trusted": true
   },
   "source": [
    "## Defining the Model"
   ]
  },
  {
   "cell_type": "markdown",
   "metadata": {},
   "source": [
    "![](https://raw.githubusercontent.com/andandandand/images-for-colab-notebooks/refs/heads/main/Lenet5.png)"
   ]
  },
  {
   "cell_type": "code",
   "execution_count": 58,
   "metadata": {
    "_cell_guid": "70b34051-862c-45f5-a626-f9a6bc20faf3",
    "_uuid": "42257382-45e9-4de3-ae6a-398f92e1d868",
    "collapsed": false,
    "execution": {
     "iopub.execute_input": "2025-03-25T15:21:54.170258Z",
     "iopub.status.busy": "2025-03-25T15:21:54.169920Z",
     "iopub.status.idle": "2025-03-25T15:21:54.182403Z",
     "shell.execute_reply": "2025-03-25T15:21:54.181472Z",
     "shell.execute_reply.started": "2025-03-25T15:21:54.170232Z"
    },
    "jupyter": {
     "outputs_hidden": false
    },
    "trusted": true
   },
   "outputs": [],
   "source": [
    "import torch\n",
    "import torch.nn as nn\n",
    "import torch.nn.functional as F\n",
    "\n",
    "class LeNet5(nn.Module):\n",
    "    def __init__(self, num_classes=10):\n",
    "        super(LeNet5, self).__init__()\n",
    "        self.conv1 = nn.Conv2d(in_channels=1, out_channels=6, kernel_size=5, padding=1)  \n",
    "        self.conv2 = nn.Conv2d(in_channels=6, out_channels=16, kernel_size=5, padding=1) \n",
    "        self.fc1   = nn.Linear(16*5*5, 120)\n",
    "        self.fc2   = nn.Linear(120, 84)\n",
    "        self.fc3   = nn.Linear(84, num_classes)\n",
    "\n",
    "    def forward(self, x):\n",
    "        x = F.relu(self.conv1(x))          \n",
    "        x = F.max_pool2d(x, 2)            \n",
    "        x = F.relu(self.conv2(x))         \n",
    "        x = F.max_pool2d(x, 2)            \n",
    "        x = x.view(x.size(0), -1)         \n",
    "        x = F.relu(self.fc1(x))          \n",
    "        x = F.relu(self.fc2(x))           \n",
    "        x = self.fc3(x)                  \n",
    "        return x\n",
    "\n",
    "\n",
    "model = LeNet5(num_classes=10)\n"
   ]
  },
  {
   "cell_type": "code",
   "execution_count": 59,
   "metadata": {
    "execution": {
     "iopub.execute_input": "2025-03-25T15:21:54.184061Z",
     "iopub.status.busy": "2025-03-25T15:21:54.183739Z",
     "iopub.status.idle": "2025-03-25T15:21:54.198477Z",
     "shell.execute_reply": "2025-03-25T15:21:54.197580Z",
     "shell.execute_reply.started": "2025-03-25T15:21:54.184033Z"
    },
    "trusted": true
   },
   "outputs": [
    {
     "data": {
      "text/plain": [
       "LeNet5(\n",
       "  (conv1): Conv2d(1, 6, kernel_size=(5, 5), stride=(1, 1), padding=(1, 1))\n",
       "  (conv2): Conv2d(6, 16, kernel_size=(5, 5), stride=(1, 1), padding=(1, 1))\n",
       "  (fc1): Linear(in_features=400, out_features=120, bias=True)\n",
       "  (fc2): Linear(in_features=120, out_features=84, bias=True)\n",
       "  (fc3): Linear(in_features=84, out_features=10, bias=True)\n",
       ")"
      ]
     },
     "execution_count": 59,
     "metadata": {},
     "output_type": "execute_result"
    }
   ],
   "source": [
    "## Send the model to the GPU's VRAM\n",
    "model.to(device)"
   ]
  },
  {
   "cell_type": "code",
   "execution_count": 60,
   "metadata": {
    "_cell_guid": "1fd82e45-ba49-48f3-ad15-2d5ec9299f16",
    "_uuid": "b0220efa-83a9-4883-bbd6-5179f03c3ccf",
    "collapsed": false,
    "execution": {
     "iopub.execute_input": "2025-03-25T15:21:54.200483Z",
     "iopub.status.busy": "2025-03-25T15:21:54.200186Z",
     "iopub.status.idle": "2025-03-25T15:21:54.216122Z",
     "shell.execute_reply": "2025-03-25T15:21:54.215216Z",
     "shell.execute_reply.started": "2025-03-25T15:21:54.200457Z"
    },
    "jupyter": {
     "outputs_hidden": false
    },
    "trusted": true
   },
   "outputs": [
    {
     "data": {
      "text/plain": [
       "device(type='cuda', index=0)"
      ]
     },
     "execution_count": 60,
     "metadata": {},
     "output_type": "execute_result"
    }
   ],
   "source": [
    "#Check where the model's weights are \n",
    "next(model.parameters()).device"
   ]
  },
  {
   "cell_type": "markdown",
   "metadata": {
    "_cell_guid": "a1705c6f-e103-4087-9cf6-a1843f4ab232",
    "_uuid": "344a8a68-b3a9-4ab6-a9bb-fbd7e191abaa",
    "collapsed": false,
    "jupyter": {
     "outputs_hidden": false
    },
    "trusted": true
   },
   "source": [
    "## Define a loss function and optimizer"
   ]
  },
  {
   "cell_type": "code",
   "execution_count": 61,
   "metadata": {
    "_cell_guid": "1a9e7398-0b96-4247-a22b-e6091eabb731",
    "_uuid": "0c70e367-8112-42b3-a57f-d9863919b963",
    "collapsed": false,
    "execution": {
     "iopub.execute_input": "2025-03-25T15:21:54.217816Z",
     "iopub.status.busy": "2025-03-25T15:21:54.217534Z",
     "iopub.status.idle": "2025-03-25T15:21:54.232801Z",
     "shell.execute_reply": "2025-03-25T15:21:54.232086Z",
     "shell.execute_reply.started": "2025-03-25T15:21:54.217795Z"
    },
    "jupyter": {
     "outputs_hidden": false
    },
    "trusted": true
   },
   "outputs": [],
   "source": [
    "loss_function = nn.CrossEntropyLoss()"
   ]
  },
  {
   "cell_type": "code",
   "execution_count": 62,
   "metadata": {
    "_cell_guid": "65648c2c-1bc7-460f-829f-7a9d5c168235",
    "_uuid": "4d2cb3b6-ea6a-458f-a62e-27010c4da16e",
    "collapsed": false,
    "execution": {
     "iopub.execute_input": "2025-03-25T15:21:54.233956Z",
     "iopub.status.busy": "2025-03-25T15:21:54.233670Z",
     "iopub.status.idle": "2025-03-25T15:21:54.247981Z",
     "shell.execute_reply": "2025-03-25T15:21:54.246929Z",
     "shell.execute_reply.started": "2025-03-25T15:21:54.233934Z"
    },
    "jupyter": {
     "outputs_hidden": false
    },
    "trusted": true
   },
   "outputs": [],
   "source": [
    "optimizer = Adam(model.parameters())"
   ]
  },
  {
   "cell_type": "markdown",
   "metadata": {
    "_cell_guid": "11258f1c-0d81-45a9-a6ec-a854dd6f9d04",
    "_uuid": "fbeab32d-ea85-42f7-8d45-00e815f3ef84",
    "collapsed": false,
    "jupyter": {
     "outputs_hidden": false
    },
    "trusted": true
   },
   "source": [
    "## Compute accuracy"
   ]
  },
  {
   "cell_type": "markdown",
   "metadata": {
    "_cell_guid": "831ce24b-b28d-4548-a18e-625a67c33c4c",
    "_uuid": "e8412bc1-a840-47f2-8eb8-4a0d4b552a74",
    "collapsed": false,
    "jupyter": {
     "outputs_hidden": false
    },
    "trusted": true
   },
   "source": [
    "$$\n",
    "\\text{Accuracy} = \\frac{\\text{Number of Correct Predictions}}{\\text{Total Number of Predictions}}\n",
    "$$"
   ]
  },
  {
   "cell_type": "code",
   "execution_count": 63,
   "metadata": {
    "_cell_guid": "2883fcfe-fff8-4845-82b6-16092d187bdd",
    "_uuid": "6ec18a63-b0a9-4213-921f-06755f18cc18",
    "collapsed": false,
    "execution": {
     "iopub.execute_input": "2025-03-25T15:21:54.249304Z",
     "iopub.status.busy": "2025-03-25T15:21:54.249005Z",
     "iopub.status.idle": "2025-03-25T15:21:54.264432Z",
     "shell.execute_reply": "2025-03-25T15:21:54.263717Z",
     "shell.execute_reply.started": "2025-03-25T15:21:54.249276Z"
    },
    "jupyter": {
     "outputs_hidden": false
    },
    "trusted": true
   },
   "outputs": [],
   "source": [
    "def get_batch_accuracy(output, y):\n",
    "    pred = output.argmax(dim=1, keepdim=True)\n",
    "    correct = pred.eq(y.view_as(pred)).sum().item()\n",
    "    return correct / output.shape[0]"
   ]
  },
  {
   "cell_type": "markdown",
   "metadata": {
    "_cell_guid": "9ad3e663-abb7-4930-96b4-29dedb12cc18",
    "_uuid": "01d49e9a-5fcc-4e74-97b7-fef9b6a8a70f",
    "collapsed": false,
    "jupyter": {
     "outputs_hidden": false
    },
    "trusted": true
   },
   "source": [
    "## Lists to track metrics"
   ]
  },
  {
   "cell_type": "code",
   "execution_count": 64,
   "metadata": {
    "_cell_guid": "d65dca82-853d-4d08-8f93-762a5d59c825",
    "_uuid": "1d7e3db7-809f-450e-9cdd-9e6ecc00424d",
    "collapsed": false,
    "execution": {
     "iopub.execute_input": "2025-03-25T15:21:54.265634Z",
     "iopub.status.busy": "2025-03-25T15:21:54.265323Z",
     "iopub.status.idle": "2025-03-25T15:21:54.281119Z",
     "shell.execute_reply": "2025-03-25T15:21:54.280169Z",
     "shell.execute_reply.started": "2025-03-25T15:21:54.265604Z"
    },
    "jupyter": {
     "outputs_hidden": false
    },
    "trusted": true
   },
   "outputs": [],
   "source": [
    "# We will use these for plotting \n",
    "train_losses = []\n",
    "train_accuracies = [] \n",
    "valid_losses = []\n",
    "valid_accuracies = []"
   ]
  },
  {
   "cell_type": "markdown",
   "metadata": {
    "_cell_guid": "ffb6cd5a-aae5-4039-a977-21333c053e3f",
    "_uuid": "3de4f04c-1be8-4d06-95f3-32316bf41a75",
    "collapsed": false,
    "jupyter": {
     "outputs_hidden": false
    },
    "trusted": true
   },
   "source": [
    "## Define training"
   ]
  },
  {
   "cell_type": "code",
   "execution_count": 65,
   "metadata": {
    "_cell_guid": "d85203cf-c227-40a6-afd3-d92cc96ee66d",
    "_uuid": "362f071f-db5a-4560-9551-a18d22957405",
    "collapsed": false,
    "execution": {
     "iopub.execute_input": "2025-03-25T15:21:54.283045Z",
     "iopub.status.busy": "2025-03-25T15:21:54.282821Z",
     "iopub.status.idle": "2025-03-25T15:21:54.299297Z",
     "shell.execute_reply": "2025-03-25T15:21:54.298392Z",
     "shell.execute_reply.started": "2025-03-25T15:21:54.283022Z"
    },
    "jupyter": {
     "outputs_hidden": false
    },
    "trusted": true
   },
   "outputs": [],
   "source": [
    "def train():\n",
    "    total_loss = 0\n",
    "    total_accuracy = 0\n",
    "    \n",
    "    model.train()\n",
    "    for x, y in train_loader:\n",
    "        x, y = x.to(device), y.to(device)\n",
    "        output = model(x)\n",
    "        optimizer.zero_grad()\n",
    "        batch_loss = loss_function(output, y)\n",
    "        batch_loss.backward()\n",
    "        optimizer.step()\n",
    "        \n",
    "        total_loss += batch_loss.item()\n",
    "        total_accuracy += get_batch_accuracy(output, y)\n",
    "    \n",
    "    # Calculate average loss and accuracy\n",
    "    avg_loss = total_loss / len(train_loader)\n",
    "    avg_accuracy = total_accuracy / len(train_loader)\n",
    "    \n",
    "    # Store metrics\n",
    "    train_losses.append(avg_loss)\n",
    "    train_accuracies.append(avg_accuracy)\n",
    "    \n",
    "    print(f'Train - Loss: {avg_loss:.4f} Accuracy: {avg_accuracy:.4f}')\n",
    "    return avg_loss, avg_accuracy"
   ]
  },
  {
   "cell_type": "markdown",
   "metadata": {
    "_cell_guid": "1c9dce2e-6418-4fdc-a833-1e6c7d161f0e",
    "_uuid": "484a5cd8-21d7-48ff-afb7-8687e41cfa4d",
    "collapsed": false,
    "jupyter": {
     "outputs_hidden": false
    },
    "trusted": true
   },
   "source": [
    "## Define validation"
   ]
  },
  {
   "cell_type": "code",
   "execution_count": 66,
   "metadata": {
    "_cell_guid": "50fe912d-6178-45a4-8c74-deb9fc4a8b0f",
    "_uuid": "e15c11d0-d100-464f-a664-9ac7a0a6e65f",
    "collapsed": false,
    "execution": {
     "iopub.execute_input": "2025-03-25T15:21:54.305093Z",
     "iopub.status.busy": "2025-03-25T15:21:54.304864Z",
     "iopub.status.idle": "2025-03-25T15:21:54.320906Z",
     "shell.execute_reply": "2025-03-25T15:21:54.320041Z",
     "shell.execute_reply.started": "2025-03-25T15:21:54.305074Z"
    },
    "jupyter": {
     "outputs_hidden": false
    },
    "trusted": true
   },
   "outputs": [],
   "source": [
    "def validate():\n",
    "    total_loss = 0\n",
    "    total_accuracy = 0\n",
    "    \n",
    "    model.eval()\n",
    "    with torch.no_grad():\n",
    "        for x, y in valid_loader:\n",
    "            x, y = x.to(device), y.to(device)\n",
    "            output = model(x)\n",
    "            \n",
    "            batch_loss = loss_function(output, y)\n",
    "            total_loss += batch_loss.item()\n",
    "            total_accuracy += get_batch_accuracy(output, y)\n",
    "    \n",
    "    # Calculate average loss and accuracy        \n",
    "    avg_loss = total_loss / len(valid_loader)\n",
    "    avg_accuracy = total_accuracy / len(valid_loader)\n",
    "    \n",
    "    # Store metrics\n",
    "    valid_losses.append(avg_loss)\n",
    "    valid_accuracies.append(avg_accuracy)\n",
    "    \n",
    "    print(f'Valid - Loss: {avg_loss:.4f} Accuracy: {avg_accuracy:.4f}')\n",
    "    return avg_loss, avg_accuracy"
   ]
  },
  {
   "cell_type": "markdown",
   "metadata": {
    "_cell_guid": "6c392bde-5a88-40f8-bccd-986e6c0372e9",
    "_uuid": "4d650952-8f13-4351-97fb-4e9f4e5e217e",
    "collapsed": false,
    "jupyter": {
     "outputs_hidden": false
    },
    "trusted": true
   },
   "source": [
    "## Training config"
   ]
  },
  {
   "cell_type": "code",
   "execution_count": 67,
   "metadata": {
    "_cell_guid": "0c7ef00a-c3df-4476-9ed0-1f6b0aa7d511",
    "_uuid": "ff5f14ed-ffab-4aba-9ddb-7ce8167100b3",
    "collapsed": false,
    "execution": {
     "iopub.execute_input": "2025-03-25T15:21:54.322447Z",
     "iopub.status.busy": "2025-03-25T15:21:54.322128Z",
     "iopub.status.idle": "2025-03-25T15:21:54.336490Z",
     "shell.execute_reply": "2025-03-25T15:21:54.335772Z",
     "shell.execute_reply.started": "2025-03-25T15:21:54.322415Z"
    },
    "jupyter": {
     "outputs_hidden": false
    },
    "trusted": true
   },
   "outputs": [],
   "source": [
    "def get_training_config():\n",
    "    config = {\n",
    "        'learning_rate': 0.001,  # Lower learning rate for Adam\n",
    "        'weight_decay': 1e-4,\n",
    "        'epochs': 3,\n",
    "        'min_lr': 1e-6  # Minimum learning rate for scheduler\n",
    "    }\n",
    "    return config\n",
    "\n",
    "config = get_training_config()"
   ]
  },
  {
   "cell_type": "code",
   "execution_count": 68,
   "metadata": {
    "_cell_guid": "542a67a8-9412-4964-85d0-667f1a15097f",
    "_uuid": "d09edc18-bc07-4b0c-b408-253a4dca3d8c",
    "collapsed": false,
    "execution": {
     "iopub.execute_input": "2025-03-25T15:21:54.338534Z",
     "iopub.status.busy": "2025-03-25T15:21:54.338331Z",
     "iopub.status.idle": "2025-03-25T15:21:54.350445Z",
     "shell.execute_reply": "2025-03-25T15:21:54.349590Z",
     "shell.execute_reply.started": "2025-03-25T15:21:54.338517Z"
    },
    "jupyter": {
     "outputs_hidden": false
    },
    "trusted": true
   },
   "outputs": [],
   "source": [
    "optimizer = torch.optim.Adam(\n",
    "        model.parameters(),\n",
    "        lr=config['learning_rate'],\n",
    "        weight_decay=config['weight_decay']\n",
    "    )"
   ]
  },
  {
   "cell_type": "code",
   "execution_count": 69,
   "metadata": {
    "_cell_guid": "b0a2b407-474b-40ed-b864-3c1e89b4bd8f",
    "_uuid": "d768fcee-753f-4740-a250-3c44be36c836",
    "collapsed": false,
    "execution": {
     "iopub.execute_input": "2025-03-25T15:21:54.351957Z",
     "iopub.status.busy": "2025-03-25T15:21:54.351662Z",
     "iopub.status.idle": "2025-03-25T15:21:54.366322Z",
     "shell.execute_reply": "2025-03-25T15:21:54.365607Z",
     "shell.execute_reply.started": "2025-03-25T15:21:54.351926Z"
    },
    "jupyter": {
     "outputs_hidden": false
    },
    "trusted": true
   },
   "outputs": [],
   "source": [
    " # CosineAnnealingLR scheduler\n",
    "scheduler = torch.optim.lr_scheduler.CosineAnnealingLR(\n",
    "        optimizer, \n",
    "        T_max=config['epochs'],\n",
    "        eta_min=config['min_lr']\n",
    "    )"
   ]
  },
  {
   "cell_type": "markdown",
   "metadata": {
    "_cell_guid": "e3e9163b-75b7-4a94-919b-44d5a5aec4e6",
    "_uuid": "79646f46-2c62-4ba6-bf86-c66e76dd3c9f",
    "collapsed": false,
    "jupyter": {
     "outputs_hidden": false
    },
    "trusted": true
   },
   "source": [
    "## Training loop with model checkpointing"
   ]
  },
  {
   "cell_type": "code",
   "execution_count": 70,
   "metadata": {
    "_cell_guid": "ee4ecdd5-24e8-4144-a610-4b944770209f",
    "_uuid": "d2fd8221-b548-4fac-ba39-47c1f060b980",
    "collapsed": false,
    "execution": {
     "iopub.execute_input": "2025-03-25T15:21:54.367429Z",
     "iopub.status.busy": "2025-03-25T15:21:54.367130Z",
     "iopub.status.idle": "2025-03-25T15:22:58.310347Z",
     "shell.execute_reply": "2025-03-25T15:22:58.309431Z",
     "shell.execute_reply.started": "2025-03-25T15:21:54.367407Z"
    },
    "jupyter": {
     "outputs_hidden": false
    },
    "trusted": true
   },
   "outputs": [
    {
     "name": "stderr",
     "output_type": "stream",
     "text": [
      "Epochs:   0%|          | 0/3 [00:00<?, ?it/s]"
     ]
    },
    {
     "name": "stdout",
     "output_type": "stream",
     "text": [
      "\n",
      "Epoch: 1/3\n",
      "Train - Loss: 0.2643 Accuracy: 0.9172\n"
     ]
    },
    {
     "name": "stderr",
     "output_type": "stream",
     "text": [
      "Epochs:  33%|███▎      | 1/3 [00:21<00:42, 21.36s/it]"
     ]
    },
    {
     "name": "stdout",
     "output_type": "stream",
     "text": [
      "Valid - Loss: 0.0918 Accuracy: 0.9707\n",
      "Model saved! New best validation accuracy: 0.9707\n",
      "\n",
      "Epoch: 2/3\n",
      "Train - Loss: 0.0772 Accuracy: 0.9759\n"
     ]
    },
    {
     "name": "stderr",
     "output_type": "stream",
     "text": [
      "Epochs:  67%|██████▋   | 2/3 [00:42<00:21, 21.34s/it]"
     ]
    },
    {
     "name": "stdout",
     "output_type": "stream",
     "text": [
      "Valid - Loss: 0.0745 Accuracy: 0.9771\n",
      "Model saved! New best validation accuracy: 0.9771\n",
      "\n",
      "Epoch: 3/3\n",
      "Train - Loss: 0.0424 Accuracy: 0.9871\n"
     ]
    },
    {
     "name": "stderr",
     "output_type": "stream",
     "text": [
      "Epochs: 100%|██████████| 3/3 [01:03<00:00, 21.31s/it]"
     ]
    },
    {
     "name": "stdout",
     "output_type": "stream",
     "text": [
      "Valid - Loss: 0.0547 Accuracy: 0.9832\n",
      "Model saved! New best validation accuracy: 0.9832\n"
     ]
    },
    {
     "name": "stderr",
     "output_type": "stream",
     "text": [
      "\n"
     ]
    }
   ],
   "source": [
    "# Training loop with model checkpointing\n",
    "epochs = config['epochs']\n",
    "best_valid_accuracy = 0\n",
    "\n",
    "# CosineAnnealingLR scheduler\n",
    "scheduler = torch.optim.lr_scheduler.CosineAnnealingLR(\n",
    "        optimizer, \n",
    "        T_max=config['epochs'],\n",
    "        eta_min=config['min_lr']\n",
    "    )\n",
    "\n",
    "for epoch in tqdm(range(epochs), desc='Epochs'):\n",
    "    print(f'\\nEpoch: {epoch+1}/{epochs}')\n",
    "    \n",
    "    train_loss, train_acc = train()\n",
    "    valid_loss, valid_acc = validate()\n",
    "\n",
    "    # Step the scheduler to change the learning rate\n",
    "    scheduler.step()\n",
    "    \n",
    "    # Save model if validation accuracy improves\n",
    "    if valid_acc > best_valid_accuracy:\n",
    "        best_valid_accuracy = valid_acc\n",
    "        torch.save(model.state_dict(), 'best_model.pth')\n",
    "        print(f'Model saved! New best validation accuracy: {best_valid_accuracy:.4f}')"
   ]
  },
  {
   "cell_type": "markdown",
   "metadata": {
    "_cell_guid": "0ab64a58-d170-40bf-a088-dd7b998638a4",
    "_uuid": "1b10d1c9-162d-4066-b164-b9cb49b564eb",
    "collapsed": false,
    "jupyter": {
     "outputs_hidden": false
    },
    "trusted": true
   },
   "source": [
    "## Plot training curves"
   ]
  },
  {
   "cell_type": "code",
   "execution_count": 71,
   "metadata": {
    "_cell_guid": "e4449b8a-a456-46c1-8e7d-5762962b0384",
    "_uuid": "3598fb45-12e1-48b4-a063-e428db499e09",
    "collapsed": false,
    "execution": {
     "iopub.execute_input": "2025-03-25T15:22:58.311710Z",
     "iopub.status.busy": "2025-03-25T15:22:58.311354Z",
     "iopub.status.idle": "2025-03-25T15:22:58.737979Z",
     "shell.execute_reply": "2025-03-25T15:22:58.737078Z",
     "shell.execute_reply.started": "2025-03-25T15:22:58.311677Z"
    },
    "jupyter": {
     "outputs_hidden": false
    },
    "trusted": true
   },
   "outputs": [
    {
     "data": {
      "image/png": "[encoded data removed]",
      "text/plain": [
       "<Figure size 1000x500 with 2 Axes>"
      ]
     },
     "metadata": {},
     "output_type": "display_data"
    },
    {
     "name": "stdout",
     "output_type": "stream",
     "text": [
      "Loaded best model with validation accuracy: 0.9832\n"
     ]
    }
   ],
   "source": [
    "# We want to see both validation and training loss going down\n",
    "plt.figure(figsize=(10, 5))\n",
    "\n",
    "# Plot losses\n",
    "plt.subplot(1, 2, 1)\n",
    "plt.plot(train_losses, label='Training Loss')\n",
    "plt.plot(valid_losses, label='Validation Loss')\n",
    "plt.xlabel('Epoch')\n",
    "plt.ylabel('Loss')\n",
    "plt.title('Training vs Validation Loss')\n",
    "plt.legend()\n",
    "\n",
    "# Plot accuracies \n",
    "plt.subplot(1, 2, 2)\n",
    "plt.plot(train_accuracies, label='Training Accuracy')\n",
    "plt.plot(valid_accuracies, label='Validation Accuracy')\n",
    "plt.xlabel('Epoch')\n",
    "plt.ylabel('Accuracy')\n",
    "plt.title('Training vs Validation Accuracy')\n",
    "plt.legend()\n",
    "\n",
    "plt.tight_layout()\n",
    "plt.show()\n",
    "\n",
    "# Load best model\n",
    "model.load_state_dict(torch.load('best_model.pth', weights_only=False))\n",
    "print(f'Loaded best model with validation accuracy: {best_valid_accuracy:.4f}')"
   ]
  },
  {
   "cell_type": "code",
   "execution_count": 72,
   "metadata": {
    "_cell_guid": "a0ca1e39-d51b-4d08-8ff8-f73f9b605a91",
    "_uuid": "8d264f99-114c-4ed5-b323-28399604c1ec",
    "collapsed": false,
    "execution": {
     "iopub.execute_input": "2025-03-25T15:22:58.739169Z",
     "iopub.status.busy": "2025-03-25T15:22:58.738903Z",
     "iopub.status.idle": "2025-03-25T15:23:08.645818Z",
     "shell.execute_reply": "2025-03-25T15:23:08.645041Z",
     "shell.execute_reply.started": "2025-03-25T15:22:58.739136Z"
    },
    "jupyter": {
     "outputs_hidden": false
    },
    "trusted": true
   },
   "outputs": [
    {
     "name": "stdout",
     "output_type": "stream",
     "text": [
      "Submission file created: 'submission.csv'\n"
     ]
    }
   ],
   "source": [
    "# Evaluate on the test data and prepare a submission\n",
    "model.eval()\n",
    "predictions = []\n",
    "with torch.no_grad():\n",
    "    for images, _ in test_loader:\n",
    "        outputs = model(images.to(device))\n",
    "        _, preds = torch.max(outputs, 1)\n",
    "        predictions.extend(preds.cpu().numpy())\n",
    "\n",
    "# Prepare submission\n",
    "submission = pd.DataFrame({'ImageId': np.arange(1, len(predictions) + 1), 'Label': predictions})\n",
    "submission.to_csv('submission.csv', index=False)\n",
    "\n",
    "print(\"Submission file created: 'submission.csv'\")"
   ]
  },
  {
   "cell_type": "markdown",
   "metadata": {
    "_cell_guid": "9f72386a-7e91-4ac2-9cac-11381dd8a8c9",
    "_uuid": "bcc3116e-1649-4ae7-a046-f875637c0a36",
    "collapsed": false,
    "jupyter": {
     "outputs_hidden": false
    },
    "trusted": true
   },
   "source": [
    "## Exercises\n",
    "\n",
    "* Try logging your experiments with Weights and Biases. For this you will need to create an account on https://wandb.ai/. Refer to [this notebook](https://www.kaggle.com/code/andandand/wandb-resnet-applebananaorange) to give you guidance on how to log experiments on wandb through Kaggle.\n",
    "* Think about the problem of [data leakage](https://en.wikipedia.org/wiki/Leakage_(machine_learning)), that is having testing data in the training set. How could a Kaggler use it to cheat and achieve a \"perfect\" score of 1.0 accuracy? You can refer to this [Github repo](https://github.com/tesla-is/MNIST-Kaggle-Competition-The-Winning-Solution) and [its discussion on Kaggle](https://www.kaggle.com/c/digit-recognizer/discussion/61480) for ideas."
   ]
  }
 ],
 "metadata": {
  "kaggle": {
   "accelerator": "gpu",
   "dataSources": [
    {
     "databundleVersionId": 861823,
     "sourceId": 3004,
     "sourceType": "competition"
    }
   ],
   "dockerImageVersionId": 30919,
   "isGpuEnabled": true,
   "isInternetEnabled": true,
   "language": "python",
   "sourceType": "notebook"
  },
  "kernelspec": {
   "display_name": "Python 3",
   "language": "python",
   "name": "python3"
  },
  "language_info": {
   "codemirror_mode": {
    "name": "ipython",
    "version": 3
   },
   "file_extension": ".py",
   "mimetype": "text/x-python",
   "name": "python",
   "nbconvert_exporter": "python",
   "pygments_lexer": "ipython3",
   "version": "3.10.12"
  }
 },
 "nbformat": 4,
 "nbformat_minor": 4
}
