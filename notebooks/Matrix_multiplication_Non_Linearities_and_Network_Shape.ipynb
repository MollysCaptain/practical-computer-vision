{
  "nbformat": 4,
  "nbformat_minor": 0,
  "metadata": {
    "colab": {
      "provenance": []
    },
    "kernelspec": {
      "name": "python3",
      "display_name": "Python 3"
    },
    "language_info": {
      "name": "python"
    }
  },
  "cells": [
    {
      "cell_type": "markdown",
      "source": [
        "# PyTorch Tutorial: Matrix Multiplications, Non-linear Activations, and Network Shape\n",
        "\n",
        "\n"
      ],
      "metadata": {
        "id": "fTC8kem9Hs4g"
      }
    },
    {
      "cell_type": "markdown",
      "source": [
        "#### Author: Antonio Rueda-Toicen\n",
        "\n",
        "**antonio.rueda.toicen 'at' hpi 'dot' de**\n",
        "\n",
        "\n",
        "[![Creative Commons License](https://i.creativecommons.org/l/by/4.0/88x31.png)](http://creativecommons.org/licenses/by/4.0/)\n",
        "\n",
        "This work is licensed under a [Creative Commons Attribution 4.0 International License](http://creativecommons.org/licenses/by/4.0/)."
      ],
      "metadata": {
        "id": "pgu4B7fAXr3e"
      }
    },
    {
      "cell_type": "markdown",
      "source": [
        "\n",
        "This notebook explores foundational concepts in neural networks using PyTorch.\n",
        "\n",
        "We'll focus on:\n",
        "\n",
        "1.  **Matrix Multiplication:** How it forms the core computation within network layers.\n",
        "2.  **Network Shape:** How the dimensions of matrices (tensors in PyTorch) define the architecture of a neural network (number of input features, output features, and connections).\n",
        "3.  **Non-linear Activations:** Why linear operations (like matrix multiplication) alone are not enough, and how functions like [ReLU](https://en.wikipedia.org/wiki/Rectifier_(neural_networks)) enable networks to learn complex patterns.\n",
        "\n",
        "By the end of this tutorial, you should:\n",
        "\n",
        "*   Understand the relationship between matrix multiplication dimensions and a network's architecture (its shape).\n",
        "*   Recognize the importance of passing the output of matrix multiplication operations through non-linear activation functions.\n",
        "*   Be comfortable implementing these concepts using both direct `torch.matmul` and the `torch.nn.Linear` layer in PyTorch.\n",
        "*   Be aware of common errors related to tensor dimensions (that we can check using `tensor_name.shape`)\n",
        "\n",
        "Let's get started!\n",
        "\n",
        "\n"
      ],
      "metadata": {
        "id": "XcpKdf_xG3mz"
      }
    },
    {
      "cell_type": "markdown",
      "source": [
        "## Imports"
      ],
      "metadata": {
        "id": "_U0snQmAJyoG"
      }
    },
    {
      "cell_type": "code",
      "source": [
        "# First, let's import the  PyTorch library.\n",
        "\n",
        "import torch\n",
        "import torch.nn as nn\n",
        "# We'll use Parameter to show trainable weights\n",
        "from torch.nn.parameter import Parameter\n",
        "\n",
        "print(f\"PyTorch version: {torch.__version__}\")\n",
        "\n"
      ],
      "metadata": {
        "colab": {
          "base_uri": "https://localhost:8080/"
        },
        "id": "Y-ewCtA7IgKa",
        "outputId": "e6c8563f-71ae-4556-bd36-40acad361961"
      },
      "execution_count": 25,
      "outputs": [
        {
          "output_type": "stream",
          "name": "stdout",
          "text": [
            "PyTorch version: 2.6.0+cu124\n"
          ]
        }
      ]
    },
    {
      "cell_type": "markdown",
      "source": [
        "## 1. The Feedforward Pass and Network Shape (Output Layer Example)\n",
        "\n",
        "\n",
        "The feedforward pass describes how information flows through a neural network. It goes from an input layer, through hidden layers (if any), to an output layer. [Matrix multiplication](https://matrixmultiplication.xyz/) is the operation that combines inputs and weights at each layer.\n",
        "\n",
        "Consider a simple case where we map 4 input features (e.g., from a hidden layer or the raw input) to a single output value.\n",
        "\n",
        "*   Input **X** has shape `(batch_size, input_features)`\n",
        "*   Weights **W** have shape `(input_features, output_features)`\n",
        "*   Output **Z = XW** has shape `(batch_size, output_features)`\n",
        "\n",
        "In our example: `input_features = 4`, `output_features = 1`.\n",
        "\n"
      ],
      "metadata": {
        "id": "iSR4n4xcJ2l5"
      }
    },
    {
      "cell_type": "markdown",
      "source": [
        "![Screenshot 2025-05-05 at 18.22.50.png](data:image/png;base64,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)"
      ],
      "metadata": {
        "id": "yFX-oGq_Qh4h"
      }
    },
    {
      "cell_type": "markdown",
      "source": [
        "*Image from https://alexlenail.me/NN-SVG/index.html*"
      ],
      "metadata": {
        "id": "5Rfi2kbuQlvP"
      }
    },
    {
      "cell_type": "markdown",
      "source": [
        "Let's implement this in PyTorch. We'll use a `batch_size` of 1 for simplicity, meaning we process one input sample at a time.\n",
        "\n"
      ],
      "metadata": {
        "id": "iNs62BpQQhAo"
      }
    },
    {
      "cell_type": "code",
      "source": [
        "# Define network dimensions\n",
        "batch_size = 1\n",
        "input_features = 4  # Like X1, X2, X3, X4\n",
        "output_features = 1 # Like Z (a single scalar output)\n",
        "\n",
        "# Create a random input tensor X\n",
        "# Shape: (batch_size, input_features) -> (1, 4)\n",
        "X = torch.randn(batch_size, input_features)\n",
        "print(f\"Input X (shape {X.shape}):\")\n",
        "print(X)\n",
        "print(\"-\" * 20)\n",
        "\n",
        "# Create a random weight tensor W\n",
        "# Shape: (input_features, output_features) -> (4, 1)\n",
        "weights = torch.randn(input_features, output_features)\n",
        "print(f\"Weights W (shape {weights.shape}):\")\n",
        "# .squeeze() removes dimensions of size 1 for cleaner printing\n",
        "print(weights.squeeze())\n",
        "print(\"-\" * 20)\n",
        "\n"
      ],
      "metadata": {
        "colab": {
          "base_uri": "https://localhost:8080/"
        },
        "id": "UsMU-g4_Iuvl",
        "outputId": "631d03d7-cf57-492e-f243-ec2970af7364"
      },
      "execution_count": 26,
      "outputs": [
        {
          "output_type": "stream",
          "name": "stdout",
          "text": [
            "Input X (shape torch.Size([1, 4])):\n",
            "tensor([[-0.2536, -0.3532, -0.0834, -0.1053]])\n",
            "--------------------\n",
            "Weights W (shape torch.Size([4, 1])):\n",
            "tensor([ 0.9454, -0.5094,  0.0475,  1.6230])\n",
            "--------------------\n"
          ]
        }
      ]
    },
    {
      "cell_type": "markdown",
      "source": [
        "### Approach 1: Direct Matrix Multiplication\n",
        "\n",
        "This is the least common way that we will design a neural network, but it's important to know how we do this in PyTorch.\n"
      ],
      "metadata": {
        "id": "CLwllTPJKPp1"
      }
    },
    {
      "cell_type": "code",
      "source": [
        "# Syntax option 1 for matrix multiplication: X @ weights\n",
        "Z = X @ weights #(equivalent to torch.matmul(X, W))\n",
        "print(f\"Output using X @ weights (shape {Z.shape}):\")\n",
        "Z.item() # We use .item() to access the content of the tensor, discarding its shape"
      ],
      "metadata": {
        "colab": {
          "base_uri": "https://localhost:8080/"
        },
        "id": "FSdQqGzlRIos",
        "outputId": "871f13d1-695f-436a-c34f-b1781fe91a1d"
      },
      "execution_count": 27,
      "outputs": [
        {
          "output_type": "stream",
          "name": "stdout",
          "text": [
            "Output using X @ weights (shape torch.Size([1, 1])):\n"
          ]
        },
        {
          "output_type": "execute_result",
          "data": {
            "text/plain": [
              "-0.23479336500167847"
            ]
          },
          "metadata": {},
          "execution_count": 27
        }
      ]
    },
    {
      "cell_type": "code",
      "source": [
        "# Real tensor output without .item()\n",
        "Z"
      ],
      "metadata": {
        "colab": {
          "base_uri": "https://localhost:8080/"
        },
        "id": "YdNAoUaxR16M",
        "outputId": "39314d65-18b4-4a52-9795-5e93dd1ea7e2"
      },
      "execution_count": 28,
      "outputs": [
        {
          "output_type": "execute_result",
          "data": {
            "text/plain": [
              "tensor([[-0.2348]])"
            ]
          },
          "metadata": {},
          "execution_count": 28
        }
      ]
    },
    {
      "cell_type": "code",
      "source": [
        "# Shape check: (1, 4) @ (4, 1) -> (1, 1)\n",
        "X.shape, weights.shape, Z.shape"
      ],
      "metadata": {
        "colab": {
          "base_uri": "https://localhost:8080/"
        },
        "id": "zWX_B3xdSC4E",
        "outputId": "c5792cec-dea2-401a-f4fe-1820336fd780"
      },
      "execution_count": 29,
      "outputs": [
        {
          "output_type": "execute_result",
          "data": {
            "text/plain": [
              "(torch.Size([1, 4]), torch.Size([4, 1]), torch.Size([1, 1]))"
            ]
          },
          "metadata": {},
          "execution_count": 29
        }
      ]
    },
    {
      "cell_type": "code",
      "source": [
        "output_matmul = torch.matmul(X, weights)\n",
        "print(f\"Output using torch.matmul (shape {output_matmul.shape}):\")\n",
        "# .item() extracts the single scalar value from a tensor with one element\n",
        "print(f\"{output_matmul.item():.4f}\") # We use a format string to reduce digits\n"
      ],
      "metadata": {
        "colab": {
          "base_uri": "https://localhost:8080/"
        },
        "id": "g_xvLG8EJBAy",
        "outputId": "31d34b86-de7e-47c5-862a-5183b0ed84be"
      },
      "execution_count": 30,
      "outputs": [
        {
          "output_type": "stream",
          "name": "stdout",
          "text": [
            "Output using torch.matmul (shape torch.Size([1, 1])):\n",
            "-0.2348\n"
          ]
        }
      ]
    },
    {
      "cell_type": "markdown",
      "source": [
        "###  Approach 2: Using `nn.Linear`\n",
        "\n",
        "`nn.Linear` layers wrap the computation of weights times features to produce an output."
      ],
      "metadata": {
        "id": "YRi68k6dKdef"
      }
    },
    {
      "cell_type": "code",
      "source": [
        "# nn.Linear encapsulates the matrix multiplication (XW^T + b)\n",
        "# We set bias=False to exactly replicate Z = XW\n",
        "layer = nn.Linear(in_features=input_features,\n",
        "                  out_features=output_features,\n",
        "                  bias=False)\n",
        "\n",
        "# Note: nn.Linear layers have their own internal weights.\n",
        "# To compare apples-to-apples with the matmul approach, we need to\n",
        "# manually set the layer's weight to our 'weights' tensor.\n",
        "# nn.Linear expects weights of shape (out_features, in_features)\n",
        "# so we need to transpose our 'weights' tensor.\n",
        "with torch.no_grad(): # Temporarily disable gradient tracking for manual assignment\n",
        "    layer.weight.copy_(weights.T) # Transpose W to match nn.Linear's expectation\n",
        "\n",
        "output_linear = layer(X)\n",
        "print(f\"Output using nn.Linear (shape {output_linear.shape}):\")\n",
        "print(f\"{output_linear.item():.4f}\")\n",
        "print(\"-\" * 20)\n",
        "\n",
        "# Verify internal weights of the nn.Linear layer (should match our 'weights' after transpose)\n",
        "print(f\"nn.Linear layer's weight tensor (shape {layer.weight.shape}):\")\n",
        "# We transpose it back here for easier comparison with our original 'weights'\n",
        "print(layer.weight.T.squeeze())\n",
        "\n"
      ],
      "metadata": {
        "colab": {
          "base_uri": "https://localhost:8080/"
        },
        "id": "_n8CccljJSeN",
        "outputId": "e758a47f-741e-476f-9c65-7b29c1fe02eb"
      },
      "execution_count": 31,
      "outputs": [
        {
          "output_type": "stream",
          "name": "stdout",
          "text": [
            "Output using nn.Linear (shape torch.Size([1, 1])):\n",
            "-0.2348\n",
            "--------------------\n",
            "nn.Linear layer's weight tensor (shape torch.Size([1, 4])):\n",
            "tensor([ 0.9454, -0.5094,  0.0475,  1.6230], grad_fn=<SqueezeBackward0>)\n"
          ]
        }
      ]
    },
    {
      "cell_type": "markdown",
      "source": [
        "\n",
        "#### Key Points:\n",
        "*   The shapes `(1, 4)` for input and `(4, 1)` for weights determine the structure: 4 input units connecting to 1 output unit.\n",
        "*   `torch.matmul` performs the raw mathematical operation.\n",
        "*   `nn.Linear` is PyTorch's building block for layers, handling weights (and biases, by default) automatically. It's more convenient for building larger networks.\n",
        "*   Note the difference in expected weight shape between manual `matmul` (input, output) and `nn.Linear` (output, input).\n",
        "\n",
        "\n"
      ],
      "metadata": {
        "id": "fqMalIjOKksx"
      }
    },
    {
      "cell_type": "markdown",
      "source": [
        "## 2. Common Errors with Tensor Dimensions\n",
        "\n",
        "\n",
        "**Getting tensor shapes right is important** and missing this is often a source of bugs. Let's look at common mistakes using variations of the previous code.\n",
        "\n",
        " **(Note: The following cells are expected to produce errors!)**\n",
        "\n",
        "\n"
      ],
      "metadata": {
        "id": "d1QUDP__Ixyh"
      }
    },
    {
      "cell_type": "markdown",
      "source": [
        "### Error 1: Missing Batch Dimension\n",
        "Neural networks in PyTorch generally expect input with a batch dimension.\n"
      ],
      "metadata": {
        "id": "VOihsFD9K0fk"
      }
    },
    {
      "cell_type": "code",
      "source": [
        "try:\n",
        "    X_no_batch = torch.randn(input_features) # Shape: (4,) instead of (1, 4)\n",
        "    print(f\"Input shape: {X_no_batch.shape}\")\n",
        "    # This will likely error in a layer or matmul expecting 2D input [batch, features]\n",
        "    output_error1 = torch.matmul(X_no_batch, weights) # Needs X to be (1,4) or weights to be different\n",
        "except RuntimeError as e:\n",
        "    print(f\"Error: {e}\")\n",
        "    print(\"Reason: torch.matmul needs compatible dimensions, often expecting 2D tensors.\")\n",
        "\n",
        "\n",
        "\n"
      ],
      "metadata": {
        "colab": {
          "base_uri": "https://localhost:8080/"
        },
        "id": "Z2vCtGuPShf3",
        "outputId": "59dbd194-f7d0-429a-b06e-2de44d4e2b3a"
      },
      "execution_count": 32,
      "outputs": [
        {
          "output_type": "stream",
          "name": "stdout",
          "text": [
            "Input shape: torch.Size([4])\n"
          ]
        }
      ]
    },
    {
      "cell_type": "code",
      "source": [
        "# Error 2: Reversed Matrix Multiplication Order\n",
        "# Remember: Matrix multiplication is not commutative (XW != WX)\n",
        "try:\n",
        "    # Original shapes: X=(1, 4), weights=(4, 1)\n",
        "    # Attempting weights @ X: (4, 1) @ (1, 4) -> results in a (4, 4) matrix, not (1, 1)\n",
        "    # If shapes were incompatible, e.g., (4, 1) @ (2, 4), it would error directly.\n",
        "    # Let's create an incompatible example: W=(4,1), X=(1,5)\n",
        "    X_wrong_shape = torch.randn(batch_size, 5)\n",
        "    print(f\"Shape mismatch attempt: weights({weights.shape}) @ X({X_wrong_shape.shape})\")\n",
        "    output_error2 = torch.matmul(weights, X_wrong_shape)\n",
        "except RuntimeError as e:\n",
        "    print(f\"Error: {e}\")\n",
        "    print(\"Reason: Inner dimensions must match for matrix multiplication.\")\n",
        "\n",
        "print(\"-\" * 20)\n"
      ],
      "metadata": {
        "colab": {
          "base_uri": "https://localhost:8080/"
        },
        "id": "lK4u9iQtSd-I",
        "outputId": "15ef916d-837e-4677-dfca-c18ea5b78526"
      },
      "execution_count": 33,
      "outputs": [
        {
          "output_type": "stream",
          "name": "stdout",
          "text": [
            "Shape mismatch attempt: weights(torch.Size([4, 1])) @ X(torch.Size([1, 5]))\n",
            "--------------------\n"
          ]
        }
      ]
    },
    {
      "cell_type": "markdown",
      "source": [
        "###  Error 3: Inconsistent Dimensions in `nn.Linear`\n",
        "The 'in_features' of `nn.Linear` must match the number of features in the input tensor.\n"
      ],
      "metadata": {
        "id": "0SkjCYoFI9HL"
      }
    },
    {
      "cell_type": "code",
      "source": [
        "try:\n",
        "    X_correct = torch.randn(batch_size, input_features) # Shape (1, 4)\n",
        "    print(f\"Input X shape: {X_correct.shape}\")\n",
        "\n",
        "    # Define layer expecting 3 input features, not 4\n",
        "    layer_wrong = nn.Linear(in_features=3,\n",
        "                            out_features=output_features,\n",
        "                            bias=False)\n",
        "    print(f\"Layer expecting in_features=3\")\n",
        "\n",
        "    output_error3 = layer_wrong(X_correct) # Pass input with 4 features\n",
        "\n",
        "except RuntimeError as e:\n",
        "    print(f\"Error: {e}\")\n",
        "    print(\"Reason: The layer expected input features=3, but received input features=4.\")\n",
        "\n"
      ],
      "metadata": {
        "colab": {
          "base_uri": "https://localhost:8080/"
        },
        "id": "EwIbVtRiK639",
        "outputId": "34ebdfea-a873-4959-e6d3-0365c5dcd1c3"
      },
      "execution_count": 34,
      "outputs": [
        {
          "output_type": "stream",
          "name": "stdout",
          "text": [
            "Input X shape: torch.Size([1, 4])\n",
            "Layer expecting in_features=3\n",
            "Error: mat1 and mat2 shapes cannot be multiplied (1x4 and 3x1)\n",
            "Reason: The layer expected input features=3, but received input features=4.\n"
          ]
        }
      ]
    },
    {
      "cell_type": "markdown",
      "source": [
        "\n",
        "**Debugging Tip:**\n",
        "\n",
        "> Always check the shape of your tensors before operations using `a_tensor.shape` or `a_tensor.size()`. Pay close attention to error messages, as they often show shape mismatches. Remember the [rules of matrix multiplication](http://matrixmultiplication.xyz/)!\n",
        "  \n",
        "> **The number of columns in the first matrix should match the number of rows in the second.**\n",
        "\n",
        "\n",
        "\n",
        "\n",
        "\n",
        "\n"
      ],
      "metadata": {
        "id": "eCtqMB-oLGvB"
      }
    },
    {
      "cell_type": "markdown",
      "source": [
        "![Screenshot 2025-05-05 at 18.04.17.png](data:image/png;base64,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)"
      ],
      "metadata": {
        "id": "byxiZZy6MO1y"
      }
    },
    {
      "cell_type": "markdown",
      "source": [
        "**The number of columns in the first matrix (e.g. the features) should match the number of rows in the second matrix (e.g. the weights)**"
      ],
      "metadata": {
        "id": "xBi5ivBhSxQR"
      }
    },
    {
      "cell_type": "markdown",
      "source": [
        "## 3. Adding Non-Linearity Between Layers\n",
        "\n",
        "\n",
        "So far, we've only performed linear transformations (Z = XW). If we stack multiple linear layers, the entire network remains linear. To learn complex, non-linear patterns in data (like classifying images or understanding language), we need to introduce non-linear **activation functions**.\n",
        "\n",
        "These functions are applied element-wise to the output of the linear layer (Z). A very common activation function is the Rectified Linear Unit (ReLU).\n",
        "\n",
        "`ReLU(x) = max(0, x)`\n",
        "\n",
        "Let's consider mapping a 3-dimensional input to a 4-dimensional output (e.g., a hidden layer) and apply ReLU.\n",
        "\n",
        "*   Input **X**: `(batch_size, 3)`\n",
        "*   Weights **W**: `(3, 4)`\n",
        "*   Linear Output **Z = XW**: `(batch_size, 4)`\n",
        "*   Activated Output **A = ReLU(Z)**: `(batch_size, 4)`\n",
        "\n",
        "\n"
      ],
      "metadata": {
        "id": "XzDGOg_II37_"
      }
    },
    {
      "cell_type": "code",
      "source": [
        "# Define new network dimensions\n",
        "batch_size = 1 # Keeping batch size 1 for simplicity\n",
        "input_features_nl = 3\n",
        "output_features_nl = 4\n",
        "\n",
        "# Create input tensor\n",
        "X_nl = torch.randn(batch_size, input_features_nl) # Shape: (1, 3)\n",
        "print(f\"Input X_nl (shape {X_nl.shape}):\\n{X_nl}\\n{'-'*20}\")\n",
        "\n",
        "# Create weight matrix.\n",
        "# Using nn.Parameter makes PyTorch track this tensor for gradient calculations during training.\n",
        "# nn.Linear handles this automatically for its internal weights.\n",
        "weights_nl = Parameter(torch.randn(input_features_nl, output_features_nl)) # Shape: (3, 4)\n",
        "print(f\"Weights W_nl (shape {weights_nl.shape}):\\n{weights_nl}\\n{'-'*20}\")\n",
        "\n",
        "# --- Approach 1: Direct matrix multiplication with ReLU ---\n",
        "# Step 1: Linear transformation Z = XW\n",
        "Z = torch.matmul(X_nl, weights_nl) # Shape: (1, 3) @ (3, 4) -> (1, 4)\n",
        "# Step 2: Apply ReLU activation A = ReLU(Z)\n",
        "output_matmul_relu = torch.relu(Z)\n",
        "\n",
        "print(f\"Linear Output Z (shape {Z.shape}):\\n{Z}\\n{'-'*20}\")\n",
        "print(f\"Activated Output using matmul + ReLU (shape {output_matmul_relu.shape}):\\n{output_matmul_relu}\\n{'-'*20}\")\n",
        "\n",
        "\n",
        "# --- Approach 2: Using nn.Sequential with nn.Linear and nn.ReLU ---\n",
        "# nn.Sequential is a container to chain layers/operations together.\n",
        "layer_relu = nn.Sequential(\n",
        "    nn.Linear(in_features=input_features_nl,\n",
        "              out_features=output_features_nl,\n",
        "              bias=False), # Again, bias=False for direct comparison\n",
        "    nn.ReLU()\n",
        ")\n",
        "\n",
        "# Manually set the weights of the nn.Linear part for comparison\n",
        "with torch.no_grad():\n",
        "    # Access the Linear layer within Sequential (it's the first element, index 0)\n",
        "    # Remember nn.Linear expects weights as (out, in), so transpose weights_nl\n",
        "    layer_relu[0].weight.copy_(weights_nl.T)\n",
        "\n",
        "output_sequential_relu = layer_relu(X_nl) # Pass input through the sequence\n",
        "\n",
        "print(f\"Activated Output using nn.Sequential(nn.Linear, nn.ReLU) (shape {output_sequential_relu.shape}):\\n{output_sequential_relu}\\n{'-'*20}\")\n",
        "\n",
        "\""
      ],
      "metadata": {
        "colab": {
          "base_uri": "https://localhost:8080/",
          "height": 106
        },
        "id": "S7oWKl3PMT79",
        "outputId": "a1a1f690-432e-4166-eab1-378dfce323eb"
      },
      "execution_count": 35,
      "outputs": [
        {
          "output_type": "error",
          "ename": "SyntaxError",
          "evalue": "unterminated string literal (detected at line 45) (<ipython-input-35-0c6801408874>, line 45)",
          "traceback": [
            "\u001b[0;36m  File \u001b[0;32m\"<ipython-input-35-0c6801408874>\"\u001b[0;36m, line \u001b[0;32m45\u001b[0m\n\u001b[0;31m    \"\u001b[0m\n\u001b[0m    ^\u001b[0m\n\u001b[0;31mSyntaxError\u001b[0m\u001b[0;31m:\u001b[0m unterminated string literal (detected at line 45)\n"
          ]
        }
      ]
    },
    {
      "cell_type": "markdown",
      "source": [
        "\n",
        "## Why Non-Linearity? The \"Squiggly Function\" Idea\n",
        "\n",
        "*   Linear transformations can only rotate, scale, and shear data. They can only produce linear decision boundaries (straight lines/planes).\n",
        "*   Non-linear activations like ReLU introduce \"bends\" or \"kinks\".\n",
        "*   By stacking layers with non-linearities (`Linear -> ReLU -> Linear -> ReLU ...`), a neural network can approximate highly complex, non-linear functions or decision boundaries – essentially learning to draw \"squiggly\" lines/surfaces to separate data points effectively.\n",
        "*   Think of the spiral dataset example: a [convex set](https://developers.google.com/machine-learning/glossary#convex_set) can't separate the spirals, but a more complex, curved boundary learned by a network with non-linearities can.\n",
        "\n"
      ],
      "metadata": {
        "id": "p2dBDbmWMcGC"
      }
    },
    {
      "cell_type": "markdown",
      "source": [
        "![Screenshot 2025-05-05 at 18.09.55.png](data:image/png;base64,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)"
      ],
      "metadata": {
        "id": "myCaOpn1NjNL"
      }
    },
    {
      "cell_type": "markdown",
      "source": [
        "### ReLU Benefits:\n",
        "\n",
        "*   **Computationally Efficient:** Very fast to compute (`max(0, x)`).\n",
        "*   **Avoids [Vanishing Gradients](https://en.wikipedia.org/wiki/Vanishing_gradient_problem) (for positive inputs):** Unlike [Sigmoid](https://en.wikipedia.org/wiki/Sigmoid_function) or [Tanh](https://paperswithcode.com/method/tanh-activation), the gradient is 1 for positive inputs, which helps avoid [numerical underflow](https://en.wikipedia.org/wiki/Arithmetic_underflow#:~:text=The%20term%20arithmetic%20underflow%20(also,central%20processing%20unit%20(CPU).) during training.\n",
        "*   **Induces Sparsity:** Sets negative inputs to zero, potentially making activations sparse (many zeros), which can ***sometimes*** be beneficial (*no guarantees exist in deep learning!) .\n",
        "\n",
        "Other activations like Leaky ReLU, ELU, GeLU, Sigmoid, Tanh exist, but ReLU is a very common and effective starting point. Remember that like any other architecture design choice, our chosen activation functions are [hyperparameters](https://en.wikipedia.org/wiki/Hyperparameter_optimization) that we can tweak and compare using the validation set of our data.\n",
        "\n",
        "\n"
      ],
      "metadata": {
        "id": "bnb_YSCTMoSL"
      }
    },
    {
      "cell_type": "markdown",
      "source": [
        "## 4. Practice: Connecting Matrix Multiplication to Network Visualization\n",
        "\n",
        "Let's use a concrete example to visualize the connection between matrix multiplication shapes and a simple network layer. Imagine mapping 4 input units to 4 output units.\n",
        "\n",
        "*   Input **X**: `(1, 4)` (1 sample, 4 features)\n",
        "*   Weights **W**: `(4, 4)` (Connects each of the 4 inputs to each of the 4 outputs; 4*4 = 16 weights total)\n",
        "*   Output **Z = XW**: `(1, 4)` (1 sample, 4 output features)\n",
        "\n",
        "We can visualize this as 4 input nodes fully connected to 4 output nodes, with each connection line representing one weight in the `W` matrix.\n",
        "\n",
        "\n"
      ],
      "metadata": {
        "id": "b_kYGUaUISEo"
      }
    },
    {
      "cell_type": "code",
      "source": [
        "# Create the input matrix with specific values\n",
        "X_practice = torch.tensor([[0.1, 0.2, 0.3, 0.4]], dtype=torch.float32)  # Shape: (1, 4)\n",
        "\n",
        "# Create the weight matrix with specific values\n",
        "# Using Parameter signifies these are learnable weights\n",
        "W_practice = Parameter(torch.tensor([\n",
        "   [0.11, 0.12, 0.13, 0.14], # Weights connecting Input 1 to Outputs 1, 2, 3, 4\n",
        "   [0.21, 0.22, 0.23, 0.24], # Weights connecting Input 2 to Outputs 1, 2, 3, 4\n",
        "   [0.31, 0.32, 0.33, 0.34], # Weights connecting Input 3 to Outputs 1, 2, 3, 4\n",
        "   [0.41, 0.42, 0.43, 0.44]  # Weights connecting Input 4 to Outputs 1, 2, 3, 4\n",
        "], dtype=torch.float32))  # Shape: (4, 4)\n",
        "\n",
        "# Perform matrix multiplication: Z = XW\n",
        "# Shape check: (1, 4) @ (4, 4) -> (1, 4)\n",
        "result_practice = torch.matmul(X_practice, W_practice)\n",
        "\n",
        "# Print results with clear formatting\n",
        "print(\"--- Matrix Multiplication Verification ---\")\n",
        "print(f\"Input X shape: {X_practice.shape}\")\n",
        "print(f\"Input X:\\n{X_practice}\\n\")\n",
        "print(f\"Weight W shape: {W_practice.shape}\")\n",
        "print(f\"Weight W:\\n{W_practice}\\n\") # W is a Parameter, print its data\n",
        "print(f\"Output Z = XW shape: {result_practice.shape}\")\n",
        "print(f\"Output Z:\\n{result_practice.detach()}\")  # Use .detach() for printing Parameter results cleanly\n",
        "\n"
      ],
      "metadata": {
        "id": "HcT09hUiIUtv"
      },
      "execution_count": null,
      "outputs": []
    },
    {
      "cell_type": "markdown",
      "source": [
        "\n",
        "### Connecting Shapes to Architecture:\n",
        "\n",
        "*   The input `X` having shape `(1, 4)` corresponds to 1 data sample with 4 features (or 4 nodes in the input layer/previous hidden layer).\n",
        "*   The weight matrix `W` having shape `(4, 4)` represents the connections. The first dimension (4) matches the *input features*, and the second dimension (4) determines the *output features*. This signifies 4 input nodes connecting to 4 output nodes.\n",
        "*   The resulting output `Z` having shape `(1, 4)` corresponds to 1 data sample with 4 resulting features (or 4 nodes in the output/current hidden layer).\n",
        "\n",
        "Changing the shape of `W` (e.g., to `(4, 10)`) would change the number of output nodes to 10. The inner dimension of `W` *must* match the feature dimension of `X`.\n",
        "\n",
        "\n"
      ],
      "metadata": {
        "id": "1iR-K2a8IKFz"
      }
    },
    {
      "cell_type": "markdown",
      "source": [
        "## Key Takeaways\n",
        "\n",
        "1.  **Matrix Multiplication is Important:** `torch.matmul(X, W)` is the fundamental computation within dense layers of neural networks, transforming input features into output features.\n",
        "2.  **Shapes Define Architecture:** The dimensions of your input tensor `X (batch, in_features)` and weight matrix `W (in_features, out_features)` dictate the number of input and output neurons and the connections between them. The result `Z` has shape `(batch, out_features)`.\n",
        "3.  **PyTorch Layers:** `torch.nn.Linear(in_features, out_features)` provides a convenient way to implement these linear transformations, automatically managing weight (and bias) tensors.\n",
        "4.  **Shape Verification is Important:** Always check tensor shapes (`.shape`) to prevent common runtime errors due to dimension mismatches.\n",
        "5.  **Non-Linearity is Important:** Linear operations alone are insufficient for complex tasks. Non-linear activation functions (like `torch.nn.ReLU()`) must be applied *after* the matrix multiplication (`Z = XW`) to enable networks to learn complex patterns and create non-linear decision boundaries.\n",
        "6.  **Building Blocks:** Combining linear layers (`nn.Linear`) with non-linear activations (`nn.ReLU`, etc.), often using `nn.Sequential`, forms the basis for building deep neural networks.\n",
        "\n",
        "\n"
      ],
      "metadata": {
        "id": "zW8A4_F1IDa_"
      }
    },
    {
      "cell_type": "markdown",
      "source": [
        "## Further Reading and References\n",
        "\n",
        "\n",
        "*   **torch.matmul:** [PyTorch Documentation](https://pytorch.org/docs/main/generated/torch.matmul.html)\n",
        "*   **torch.nn.Linear:** [PyTorch Documentation](https://pytorch.org/docs/stable/generated/torch.nn.Linear.html)\n",
        "*   **torch.nn.ReLU:** [PyTorch Documentation](https://pytorch.org/docs/stable/generated/torch.nn.ReLU.html)\n",
        "*   **torch.nn.Sequential:** [PyTorch Documentation](https://pytorch.org/docs/stable/generated/torch.nn.Sequential.html)\n",
        "*   **A case study on neural network training (CS231n):** [CS231n Notes](https://cs231n.github.io/neural-networks-case-study/) - Includes interactive examples showing decision boundaries.\n",
        "*   **Interactive Matrix Multiplication:** [matrixmultiplication.xyz](http://matrixmultiplication.xyz/)\n",
        "* **Convex Sets**: [Google's Machine Learning Glossary](https://developers.google.com/machine-learning/glossary#convex_set)\n",
        "\n",
        "\n"
      ],
      "metadata": {
        "id": "GhzhBRNPH_Qa"
      }
    },
    {
      "cell_type": "code",
      "source": [],
      "metadata": {
        "id": "I7x7AhUQHlt7"
      },
      "execution_count": null,
      "outputs": []
    }
  ]
}