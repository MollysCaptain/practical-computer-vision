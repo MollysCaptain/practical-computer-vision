{
  "nbformat": 4,
  "nbformat_minor": 0,
  "metadata": {
    "colab": {
      "provenance": [],
      "gpuType": "L4"
    },
    "kernelspec": {
      "name": "python3",
      "display_name": "Python 3"
    },
    "language_info": {
      "name": "python"
    },
    "accelerator": "GPU",
    "widgets": {
      "application/vnd.jupyter.widget-state+json": {
        "b4e6fcd3d2b44e3db86b670c19b922b4": {
          "model_module": "@jupyter-widgets/controls",
          "model_name": "HBoxModel",
          "model_module_version": "1.5.0",
          "state": {
            "_dom_classes": [],
            "_model_module": "@jupyter-widgets/controls",
            "_model_module_version": "1.5.0",
            "_model_name": "HBoxModel",
            "_view_count": null,
            "_view_module": "@jupyter-widgets/controls",
            "_view_module_version": "1.5.0",
            "_view_name": "HBoxView",
            "box_style": "",
            "children": [
              "IPY_MODEL_0db843aad3b14e7fb69af9786b90f43d",
              "IPY_MODEL_ebd902b234344b91a56b981c00d242d5",
              "IPY_MODEL_4a2932f77dc24e5cbd4c10bccd0e45f8"
            ],
            "layout": "IPY_MODEL_77792cd1d6454b02a6df10902d3970e8"
          }
        },
        "0db843aad3b14e7fb69af9786b90f43d": {
          "model_module": "@jupyter-widgets/controls",
          "model_name": "HTMLModel",
          "model_module_version": "1.5.0",
          "state": {
            "_dom_classes": [],
            "_model_module": "@jupyter-widgets/controls",
            "_model_module_version": "1.5.0",
            "_model_name": "HTMLModel",
            "_view_count": null,
            "_view_module": "@jupyter-widgets/controls",
            "_view_module_version": "1.5.0",
            "_view_name": "HTMLView",
            "description": "",
            "description_tooltip": null,
            "layout": "IPY_MODEL_97f9411e26e2434994439bb70f964c52",
            "placeholder": "​",
            "style": "IPY_MODEL_456229f83a2141a8bba687d0b4933549",
            "value": "Loading pipeline components...: 100%"
          }
        },
        "ebd902b234344b91a56b981c00d242d5": {
          "model_module": "@jupyter-widgets/controls",
          "model_name": "FloatProgressModel",
          "model_module_version": "1.5.0",
          "state": {
            "_dom_classes": [],
            "_model_module": "@jupyter-widgets/controls",
            "_model_module_version": "1.5.0",
            "_model_name": "FloatProgressModel",
            "_view_count": null,
            "_view_module": "@jupyter-widgets/controls",
            "_view_module_version": "1.5.0",
            "_view_name": "ProgressView",
            "bar_style": "success",
            "description": "",
            "description_tooltip": null,
            "layout": "IPY_MODEL_33825d86585d4d6cafca566061a1379f",
            "max": 7,
            "min": 0,
            "orientation": "horizontal",
            "style": "IPY_MODEL_fdae6a90e41f49cba7aeb18c7da9d191",
            "value": 7
          }
        },
        "4a2932f77dc24e5cbd4c10bccd0e45f8": {
          "model_module": "@jupyter-widgets/controls",
          "model_name": "HTMLModel",
          "model_module_version": "1.5.0",
          "state": {
            "_dom_classes": [],
            "_model_module": "@jupyter-widgets/controls",
            "_model_module_version": "1.5.0",
            "_model_name": "HTMLModel",
            "_view_count": null,
            "_view_module": "@jupyter-widgets/controls",
            "_view_module_version": "1.5.0",
            "_view_name": "HTMLView",
            "description": "",
            "description_tooltip": null,
            "layout": "IPY_MODEL_78f718785b064ceeb8174c3232bc9ebe",
            "placeholder": "​",
            "style": "IPY_MODEL_a9cdcc47e1b34260a93d23890662bb02",
            "value": " 7/7 [00:01&lt;00:00,  7.66it/s]"
          }
        },
        "77792cd1d6454b02a6df10902d3970e8": {
          "model_module": "@jupyter-widgets/base",
          "model_name": "LayoutModel",
          "model_module_version": "1.2.0",
          "state": {
            "_model_module": "@jupyter-widgets/base",
            "_model_module_version": "1.2.0",
            "_model_name": "LayoutModel",
            "_view_count": null,
            "_view_module": "@jupyter-widgets/base",
            "_view_module_version": "1.2.0",
            "_view_name": "LayoutView",
            "align_content": null,
            "align_items": null,
            "align_self": null,
            "border": null,
            "bottom": null,
            "display": null,
            "flex": null,
            "flex_flow": null,
            "grid_area": null,
            "grid_auto_columns": null,
            "grid_auto_flow": null,
            "grid_auto_rows": null,
            "grid_column": null,
            "grid_gap": null,
            "grid_row": null,
            "grid_template_areas": null,
            "grid_template_columns": null,
            "grid_template_rows": null,
            "height": null,
            "justify_content": null,
            "justify_items": null,
            "left": null,
            "margin": null,
            "max_height": null,
            "max_width": null,
            "min_height": null,
            "min_width": null,
            "object_fit": null,
            "object_position": null,
            "order": null,
            "overflow": null,
            "overflow_x": null,
            "overflow_y": null,
            "padding": null,
            "right": null,
            "top": null,
            "visibility": null,
            "width": null
          }
        },
        "97f9411e26e2434994439bb70f964c52": {
          "model_module": "@jupyter-widgets/base",
          "model_name": "LayoutModel",
          "model_module_version": "1.2.0",
          "state": {
            "_model_module": "@jupyter-widgets/base",
            "_model_module_version": "1.2.0",
            "_model_name": "LayoutModel",
            "_view_count": null,
            "_view_module": "@jupyter-widgets/base",
            "_view_module_version": "1.2.0",
            "_view_name": "LayoutView",
            "align_content": null,
            "align_items": null,
            "align_self": null,
            "border": null,
            "bottom": null,
            "display": null,
            "flex": null,
            "flex_flow": null,
            "grid_area": null,
            "grid_auto_columns": null,
            "grid_auto_flow": null,
            "grid_auto_rows": null,
            "grid_column": null,
            "grid_gap": null,
            "grid_row": null,
            "grid_template_areas": null,
            "grid_template_columns": null,
            "grid_template_rows": null,
            "height": null,
            "justify_content": null,
            "justify_items": null,
            "left": null,
            "margin": null,
            "max_height": null,
            "max_width": null,
            "min_height": null,
            "min_width": null,
            "object_fit": null,
            "object_position": null,
            "order": null,
            "overflow": null,
            "overflow_x": null,
            "overflow_y": null,
            "padding": null,
            "right": null,
            "top": null,
            "visibility": null,
            "width": null
          }
        },
        "456229f83a2141a8bba687d0b4933549": {
          "model_module": "@jupyter-widgets/controls",
          "model_name": "DescriptionStyleModel",
          "model_module_version": "1.5.0",
          "state": {
            "_model_module": "@jupyter-widgets/controls",
            "_model_module_version": "1.5.0",
            "_model_name": "DescriptionStyleModel",
            "_view_count": null,
            "_view_module": "@jupyter-widgets/base",
            "_view_module_version": "1.2.0",
            "_view_name": "StyleView",
            "description_width": ""
          }
        },
        "33825d86585d4d6cafca566061a1379f": {
          "model_module": "@jupyter-widgets/base",
          "model_name": "LayoutModel",
          "model_module_version": "1.2.0",
          "state": {
            "_model_module": "@jupyter-widgets/base",
            "_model_module_version": "1.2.0",
            "_model_name": "LayoutModel",
            "_view_count": null,
            "_view_module": "@jupyter-widgets/base",
            "_view_module_version": "1.2.0",
            "_view_name": "LayoutView",
            "align_content": null,
            "align_items": null,
            "align_self": null,
            "border": null,
            "bottom": null,
            "display": null,
            "flex": null,
            "flex_flow": null,
            "grid_area": null,
            "grid_auto_columns": null,
            "grid_auto_flow": null,
            "grid_auto_rows": null,
            "grid_column": null,
            "grid_gap": null,
            "grid_row": null,
            "grid_template_areas": null,
            "grid_template_columns": null,
            "grid_template_rows": null,
            "height": null,
            "justify_content": null,
            "justify_items": null,
            "left": null,
            "margin": null,
            "max_height": null,
            "max_width": null,
            "min_height": null,
            "min_width": null,
            "object_fit": null,
            "object_position": null,
            "order": null,
            "overflow": null,
            "overflow_x": null,
            "overflow_y": null,
            "padding": null,
            "right": null,
            "top": null,
            "visibility": null,
            "width": null
          }
        },
        "fdae6a90e41f49cba7aeb18c7da9d191": {
          "model_module": "@jupyter-widgets/controls",
          "model_name": "ProgressStyleModel",
          "model_module_version": "1.5.0",
          "state": {
            "_model_module": "@jupyter-widgets/controls",
            "_model_module_version": "1.5.0",
            "_model_name": "ProgressStyleModel",
            "_view_count": null,
            "_view_module": "@jupyter-widgets/base",
            "_view_module_version": "1.2.0",
            "_view_name": "StyleView",
            "bar_color": null,
            "description_width": ""
          }
        },
        "78f718785b064ceeb8174c3232bc9ebe": {
          "model_module": "@jupyter-widgets/base",
          "model_name": "LayoutModel",
          "model_module_version": "1.2.0",
          "state": {
            "_model_module": "@jupyter-widgets/base",
            "_model_module_version": "1.2.0",
            "_model_name": "LayoutModel",
            "_view_count": null,
            "_view_module": "@jupyter-widgets/base",
            "_view_module_version": "1.2.0",
            "_view_name": "LayoutView",
            "align_content": null,
            "align_items": null,
            "align_self": null,
            "border": null,
            "bottom": null,
            "display": null,
            "flex": null,
            "flex_flow": null,
            "grid_area": null,
            "grid_auto_columns": null,
            "grid_auto_flow": null,
            "grid_auto_rows": null,
            "grid_column": null,
            "grid_gap": null,
            "grid_row": null,
            "grid_template_areas": null,
            "grid_template_columns": null,
            "grid_template_rows": null,
            "height": null,
            "justify_content": null,
            "justify_items": null,
            "left": null,
            "margin": null,
            "max_height": null,
            "max_width": null,
            "min_height": null,
            "min_width": null,
            "object_fit": null,
            "object_position": null,
            "order": null,
            "overflow": null,
            "overflow_x": null,
            "overflow_y": null,
            "padding": null,
            "right": null,
            "top": null,
            "visibility": null,
            "width": null
          }
        },
        "a9cdcc47e1b34260a93d23890662bb02": {
          "model_module": "@jupyter-widgets/controls",
          "model_name": "DescriptionStyleModel",
          "model_module_version": "1.5.0",
          "state": {
            "_model_module": "@jupyter-widgets/controls",
            "_model_module_version": "1.5.0",
            "_model_name": "DescriptionStyleModel",
            "_view_count": null,
            "_view_module": "@jupyter-widgets/base",
            "_view_module_version": "1.2.0",
            "_view_name": "StyleView",
            "description_width": ""
          }
        },
        "b911cb47ee2d4139a2b0a928483dedb1": {
          "model_module": "@jupyter-widgets/controls",
          "model_name": "HBoxModel",
          "model_module_version": "1.5.0",
          "state": {
            "_dom_classes": [],
            "_model_module": "@jupyter-widgets/controls",
            "_model_module_version": "1.5.0",
            "_model_name": "HBoxModel",
            "_view_count": null,
            "_view_module": "@jupyter-widgets/controls",
            "_view_module_version": "1.5.0",
            "_view_name": "HBoxView",
            "box_style": "",
            "children": [
              "IPY_MODEL_40a523e0bc434083acf9d352dfaafa93",
              "IPY_MODEL_6faafeecf810421ebda91efa4c0da0af",
              "IPY_MODEL_4f039ea3594442a1978e08d925634341"
            ],
            "layout": "IPY_MODEL_e7e1f0b685594ff39a208c82d15d92a1"
          }
        },
        "40a523e0bc434083acf9d352dfaafa93": {
          "model_module": "@jupyter-widgets/controls",
          "model_name": "HTMLModel",
          "model_module_version": "1.5.0",
          "state": {
            "_dom_classes": [],
            "_model_module": "@jupyter-widgets/controls",
            "_model_module_version": "1.5.0",
            "_model_name": "HTMLModel",
            "_view_count": null,
            "_view_module": "@jupyter-widgets/controls",
            "_view_module_version": "1.5.0",
            "_view_name": "HTMLView",
            "description": "",
            "description_tooltip": null,
            "layout": "IPY_MODEL_74d0c9e612204bc5a6c7dfefb7b71da9",
            "placeholder": "​",
            "style": "IPY_MODEL_33d43101fd4f4fcfa4019ec537447a55",
            "value": "100%"
          }
        },
        "6faafeecf810421ebda91efa4c0da0af": {
          "model_module": "@jupyter-widgets/controls",
          "model_name": "FloatProgressModel",
          "model_module_version": "1.5.0",
          "state": {
            "_dom_classes": [],
            "_model_module": "@jupyter-widgets/controls",
            "_model_module_version": "1.5.0",
            "_model_name": "FloatProgressModel",
            "_view_count": null,
            "_view_module": "@jupyter-widgets/controls",
            "_view_module_version": "1.5.0",
            "_view_name": "ProgressView",
            "bar_style": "success",
            "description": "",
            "description_tooltip": null,
            "layout": "IPY_MODEL_e6b07fe7e1db4c1380f5ea61f271b1d7",
            "max": 25,
            "min": 0,
            "orientation": "horizontal",
            "style": "IPY_MODEL_d02d538752b8428390dfbac25454005c",
            "value": 25
          }
        },
        "4f039ea3594442a1978e08d925634341": {
          "model_module": "@jupyter-widgets/controls",
          "model_name": "HTMLModel",
          "model_module_version": "1.5.0",
          "state": {
            "_dom_classes": [],
            "_model_module": "@jupyter-widgets/controls",
            "_model_module_version": "1.5.0",
            "_model_name": "HTMLModel",
            "_view_count": null,
            "_view_module": "@jupyter-widgets/controls",
            "_view_module_version": "1.5.0",
            "_view_name": "HTMLView",
            "description": "",
            "description_tooltip": null,
            "layout": "IPY_MODEL_aec2537dbb7947a5aa08b76d7a114f73",
            "placeholder": "​",
            "style": "IPY_MODEL_005d8f2d20b6457eb0d31b59e979994f",
            "value": " 25/25 [00:09&lt;00:00,  2.65it/s]"
          }
        },
        "e7e1f0b685594ff39a208c82d15d92a1": {
          "model_module": "@jupyter-widgets/base",
          "model_name": "LayoutModel",
          "model_module_version": "1.2.0",
          "state": {
            "_model_module": "@jupyter-widgets/base",
            "_model_module_version": "1.2.0",
            "_model_name": "LayoutModel",
            "_view_count": null,
            "_view_module": "@jupyter-widgets/base",
            "_view_module_version": "1.2.0",
            "_view_name": "LayoutView",
            "align_content": null,
            "align_items": null,
            "align_self": null,
            "border": null,
            "bottom": null,
            "display": null,
            "flex": null,
            "flex_flow": null,
            "grid_area": null,
            "grid_auto_columns": null,
            "grid_auto_flow": null,
            "grid_auto_rows": null,
            "grid_column": null,
            "grid_gap": null,
            "grid_row": null,
            "grid_template_areas": null,
            "grid_template_columns": null,
            "grid_template_rows": null,
            "height": null,
            "justify_content": null,
            "justify_items": null,
            "left": null,
            "margin": null,
            "max_height": null,
            "max_width": null,
            "min_height": null,
            "min_width": null,
            "object_fit": null,
            "object_position": null,
            "order": null,
            "overflow": null,
            "overflow_x": null,
            "overflow_y": null,
            "padding": null,
            "right": null,
            "top": null,
            "visibility": null,
            "width": null
          }
        },
        "74d0c9e612204bc5a6c7dfefb7b71da9": {
          "model_module": "@jupyter-widgets/base",
          "model_name": "LayoutModel",
          "model_module_version": "1.2.0",
          "state": {
            "_model_module": "@jupyter-widgets/base",
            "_model_module_version": "1.2.0",
            "_model_name": "LayoutModel",
            "_view_count": null,
            "_view_module": "@jupyter-widgets/base",
            "_view_module_version": "1.2.0",
            "_view_name": "LayoutView",
            "align_content": null,
            "align_items": null,
            "align_self": null,
            "border": null,
            "bottom": null,
            "display": null,
            "flex": null,
            "flex_flow": null,
            "grid_area": null,
            "grid_auto_columns": null,
            "grid_auto_flow": null,
            "grid_auto_rows": null,
            "grid_column": null,
            "grid_gap": null,
            "grid_row": null,
            "grid_template_areas": null,
            "grid_template_columns": null,
            "grid_template_rows": null,
            "height": null,
            "justify_content": null,
            "justify_items": null,
            "left": null,
            "margin": null,
            "max_height": null,
            "max_width": null,
            "min_height": null,
            "min_width": null,
            "object_fit": null,
            "object_position": null,
            "order": null,
            "overflow": null,
            "overflow_x": null,
            "overflow_y": null,
            "padding": null,
            "right": null,
            "top": null,
            "visibility": null,
            "width": null
          }
        },
        "33d43101fd4f4fcfa4019ec537447a55": {
          "model_module": "@jupyter-widgets/controls",
          "model_name": "DescriptionStyleModel",
          "model_module_version": "1.5.0",
          "state": {
            "_model_module": "@jupyter-widgets/controls",
            "_model_module_version": "1.5.0",
            "_model_name": "DescriptionStyleModel",
            "_view_count": null,
            "_view_module": "@jupyter-widgets/base",
            "_view_module_version": "1.2.0",
            "_view_name": "StyleView",
            "description_width": ""
          }
        },
        "e6b07fe7e1db4c1380f5ea61f271b1d7": {
          "model_module": "@jupyter-widgets/base",
          "model_name": "LayoutModel",
          "model_module_version": "1.2.0",
          "state": {
            "_model_module": "@jupyter-widgets/base",
            "_model_module_version": "1.2.0",
            "_model_name": "LayoutModel",
            "_view_count": null,
            "_view_module": "@jupyter-widgets/base",
            "_view_module_version": "1.2.0",
            "_view_name": "LayoutView",
            "align_content": null,
            "align_items": null,
            "align_self": null,
            "border": null,
            "bottom": null,
            "display": null,
            "flex": null,
            "flex_flow": null,
            "grid_area": null,
            "grid_auto_columns": null,
            "grid_auto_flow": null,
            "grid_auto_rows": null,
            "grid_column": null,
            "grid_gap": null,
            "grid_row": null,
            "grid_template_areas": null,
            "grid_template_columns": null,
            "grid_template_rows": null,
            "height": null,
            "justify_content": null,
            "justify_items": null,
            "left": null,
            "margin": null,
            "max_height": null,
            "max_width": null,
            "min_height": null,
            "min_width": null,
            "object_fit": null,
            "object_position": null,
            "order": null,
            "overflow": null,
            "overflow_x": null,
            "overflow_y": null,
            "padding": null,
            "right": null,
            "top": null,
            "visibility": null,
            "width": null
          }
        },
        "d02d538752b8428390dfbac25454005c": {
          "model_module": "@jupyter-widgets/controls",
          "model_name": "ProgressStyleModel",
          "model_module_version": "1.5.0",
          "state": {
            "_model_module": "@jupyter-widgets/controls",
            "_model_module_version": "1.5.0",
            "_model_name": "ProgressStyleModel",
            "_view_count": null,
            "_view_module": "@jupyter-widgets/base",
            "_view_module_version": "1.2.0",
            "_view_name": "StyleView",
            "bar_color": null,
            "description_width": ""
          }
        },
        "aec2537dbb7947a5aa08b76d7a114f73": {
          "model_module": "@jupyter-widgets/base",
          "model_name": "LayoutModel",
          "model_module_version": "1.2.0",
          "state": {
            "_model_module": "@jupyter-widgets/base",
            "_model_module_version": "1.2.0",
            "_model_name": "LayoutModel",
            "_view_count": null,
            "_view_module": "@jupyter-widgets/base",
            "_view_module_version": "1.2.0",
            "_view_name": "LayoutView",
            "align_content": null,
            "align_items": null,
            "align_self": null,
            "border": null,
            "bottom": null,
            "display": null,
            "flex": null,
            "flex_flow": null,
            "grid_area": null,
            "grid_auto_columns": null,
            "grid_auto_flow": null,
            "grid_auto_rows": null,
            "grid_column": null,
            "grid_gap": null,
            "grid_row": null,
            "grid_template_areas": null,
            "grid_template_columns": null,
            "grid_template_rows": null,
            "height": null,
            "justify_content": null,
            "justify_items": null,
            "left": null,
            "margin": null,
            "max_height": null,
            "max_width": null,
            "min_height": null,
            "min_width": null,
            "object_fit": null,
            "object_position": null,
            "order": null,
            "overflow": null,
            "overflow_x": null,
            "overflow_y": null,
            "padding": null,
            "right": null,
            "top": null,
            "visibility": null,
            "width": null
          }
        },
        "005d8f2d20b6457eb0d31b59e979994f": {
          "model_module": "@jupyter-widgets/controls",
          "model_name": "DescriptionStyleModel",
          "model_module_version": "1.5.0",
          "state": {
            "_model_module": "@jupyter-widgets/controls",
            "_model_module_version": "1.5.0",
            "_model_name": "DescriptionStyleModel",
            "_view_count": null,
            "_view_module": "@jupyter-widgets/base",
            "_view_module_version": "1.2.0",
            "_view_name": "StyleView",
            "description_width": ""
          }
        },
        "d11999ab18e841f49d09f3b5ff31de47": {
          "model_module": "@jupyter-widgets/controls",
          "model_name": "HBoxModel",
          "model_module_version": "1.5.0",
          "state": {
            "_dom_classes": [],
            "_model_module": "@jupyter-widgets/controls",
            "_model_module_version": "1.5.0",
            "_model_name": "HBoxModel",
            "_view_count": null,
            "_view_module": "@jupyter-widgets/controls",
            "_view_module_version": "1.5.0",
            "_view_name": "HBoxView",
            "box_style": "",
            "children": [
              "IPY_MODEL_666d7ca0d474426fbe6cbfaf532c3b18",
              "IPY_MODEL_a4a112ea88494cd6a8d49ae903d36f72",
              "IPY_MODEL_a8c5f85007854371b55d0ac9ae39b5f8"
            ],
            "layout": "IPY_MODEL_f5efb713f95e4d5bafb9728ddc6136bf"
          }
        },
        "666d7ca0d474426fbe6cbfaf532c3b18": {
          "model_module": "@jupyter-widgets/controls",
          "model_name": "HTMLModel",
          "model_module_version": "1.5.0",
          "state": {
            "_dom_classes": [],
            "_model_module": "@jupyter-widgets/controls",
            "_model_module_version": "1.5.0",
            "_model_name": "HTMLModel",
            "_view_count": null,
            "_view_module": "@jupyter-widgets/controls",
            "_view_module_version": "1.5.0",
            "_view_name": "HTMLView",
            "description": "",
            "description_tooltip": null,
            "layout": "IPY_MODEL_2df9c32be05445de81718a94df17e5da",
            "placeholder": "​",
            "style": "IPY_MODEL_97a366048990458aad49eb2c84a0f9eb",
            "value": "100%"
          }
        },
        "a4a112ea88494cd6a8d49ae903d36f72": {
          "model_module": "@jupyter-widgets/controls",
          "model_name": "FloatProgressModel",
          "model_module_version": "1.5.0",
          "state": {
            "_dom_classes": [],
            "_model_module": "@jupyter-widgets/controls",
            "_model_module_version": "1.5.0",
            "_model_name": "FloatProgressModel",
            "_view_count": null,
            "_view_module": "@jupyter-widgets/controls",
            "_view_module_version": "1.5.0",
            "_view_name": "ProgressView",
            "bar_style": "success",
            "description": "",
            "description_tooltip": null,
            "layout": "IPY_MODEL_97ec15bdfa7c4316ba6374d84967e58c",
            "max": 25,
            "min": 0,
            "orientation": "horizontal",
            "style": "IPY_MODEL_76e9fcc04933422faf73decff1246b7c",
            "value": 25
          }
        },
        "a8c5f85007854371b55d0ac9ae39b5f8": {
          "model_module": "@jupyter-widgets/controls",
          "model_name": "HTMLModel",
          "model_module_version": "1.5.0",
          "state": {
            "_dom_classes": [],
            "_model_module": "@jupyter-widgets/controls",
            "_model_module_version": "1.5.0",
            "_model_name": "HTMLModel",
            "_view_count": null,
            "_view_module": "@jupyter-widgets/controls",
            "_view_module_version": "1.5.0",
            "_view_name": "HTMLView",
            "description": "",
            "description_tooltip": null,
            "layout": "IPY_MODEL_2a1ed2c35efb4109a2f171f6317440c2",
            "placeholder": "​",
            "style": "IPY_MODEL_1d3f59ec4e714fd6a40799c0aa05fdfb",
            "value": " 25/25 [00:09&lt;00:00,  2.61it/s]"
          }
        },
        "f5efb713f95e4d5bafb9728ddc6136bf": {
          "model_module": "@jupyter-widgets/base",
          "model_name": "LayoutModel",
          "model_module_version": "1.2.0",
          "state": {
            "_model_module": "@jupyter-widgets/base",
            "_model_module_version": "1.2.0",
            "_model_name": "LayoutModel",
            "_view_count": null,
            "_view_module": "@jupyter-widgets/base",
            "_view_module_version": "1.2.0",
            "_view_name": "LayoutView",
            "align_content": null,
            "align_items": null,
            "align_self": null,
            "border": null,
            "bottom": null,
            "display": null,
            "flex": null,
            "flex_flow": null,
            "grid_area": null,
            "grid_auto_columns": null,
            "grid_auto_flow": null,
            "grid_auto_rows": null,
            "grid_column": null,
            "grid_gap": null,
            "grid_row": null,
            "grid_template_areas": null,
            "grid_template_columns": null,
            "grid_template_rows": null,
            "height": null,
            "justify_content": null,
            "justify_items": null,
            "left": null,
            "margin": null,
            "max_height": null,
            "max_width": null,
            "min_height": null,
            "min_width": null,
            "object_fit": null,
            "object_position": null,
            "order": null,
            "overflow": null,
            "overflow_x": null,
            "overflow_y": null,
            "padding": null,
            "right": null,
            "top": null,
            "visibility": null,
            "width": null
          }
        },
        "2df9c32be05445de81718a94df17e5da": {
          "model_module": "@jupyter-widgets/base",
          "model_name": "LayoutModel",
          "model_module_version": "1.2.0",
          "state": {
            "_model_module": "@jupyter-widgets/base",
            "_model_module_version": "1.2.0",
            "_model_name": "LayoutModel",
            "_view_count": null,
            "_view_module": "@jupyter-widgets/base",
            "_view_module_version": "1.2.0",
            "_view_name": "LayoutView",
            "align_content": null,
            "align_items": null,
            "align_self": null,
            "border": null,
            "bottom": null,
            "display": null,
            "flex": null,
            "flex_flow": null,
            "grid_area": null,
            "grid_auto_columns": null,
            "grid_auto_flow": null,
            "grid_auto_rows": null,
            "grid_column": null,
            "grid_gap": null,
            "grid_row": null,
            "grid_template_areas": null,
            "grid_template_columns": null,
            "grid_template_rows": null,
            "height": null,
            "justify_content": null,
            "justify_items": null,
            "left": null,
            "margin": null,
            "max_height": null,
            "max_width": null,
            "min_height": null,
            "min_width": null,
            "object_fit": null,
            "object_position": null,
            "order": null,
            "overflow": null,
            "overflow_x": null,
            "overflow_y": null,
            "padding": null,
            "right": null,
            "top": null,
            "visibility": null,
            "width": null
          }
        },
        "97a366048990458aad49eb2c84a0f9eb": {
          "model_module": "@jupyter-widgets/controls",
          "model_name": "DescriptionStyleModel",
          "model_module_version": "1.5.0",
          "state": {
            "_model_module": "@jupyter-widgets/controls",
            "_model_module_version": "1.5.0",
            "_model_name": "DescriptionStyleModel",
            "_view_count": null,
            "_view_module": "@jupyter-widgets/base",
            "_view_module_version": "1.2.0",
            "_view_name": "StyleView",
            "description_width": ""
          }
        },
        "97ec15bdfa7c4316ba6374d84967e58c": {
          "model_module": "@jupyter-widgets/base",
          "model_name": "LayoutModel",
          "model_module_version": "1.2.0",
          "state": {
            "_model_module": "@jupyter-widgets/base",
            "_model_module_version": "1.2.0",
            "_model_name": "LayoutModel",
            "_view_count": null,
            "_view_module": "@jupyter-widgets/base",
            "_view_module_version": "1.2.0",
            "_view_name": "LayoutView",
            "align_content": null,
            "align_items": null,
            "align_self": null,
            "border": null,
            "bottom": null,
            "display": null,
            "flex": null,
            "flex_flow": null,
            "grid_area": null,
            "grid_auto_columns": null,
            "grid_auto_flow": null,
            "grid_auto_rows": null,
            "grid_column": null,
            "grid_gap": null,
            "grid_row": null,
            "grid_template_areas": null,
            "grid_template_columns": null,
            "grid_template_rows": null,
            "height": null,
            "justify_content": null,
            "justify_items": null,
            "left": null,
            "margin": null,
            "max_height": null,
            "max_width": null,
            "min_height": null,
            "min_width": null,
            "object_fit": null,
            "object_position": null,
            "order": null,
            "overflow": null,
            "overflow_x": null,
            "overflow_y": null,
            "padding": null,
            "right": null,
            "top": null,
            "visibility": null,
            "width": null
          }
        },
        "76e9fcc04933422faf73decff1246b7c": {
          "model_module": "@jupyter-widgets/controls",
          "model_name": "ProgressStyleModel",
          "model_module_version": "1.5.0",
          "state": {
            "_model_module": "@jupyter-widgets/controls",
            "_model_module_version": "1.5.0",
            "_model_name": "ProgressStyleModel",
            "_view_count": null,
            "_view_module": "@jupyter-widgets/base",
            "_view_module_version": "1.2.0",
            "_view_name": "StyleView",
            "bar_color": null,
            "description_width": ""
          }
        },
        "2a1ed2c35efb4109a2f171f6317440c2": {
          "model_module": "@jupyter-widgets/base",
          "model_name": "LayoutModel",
          "model_module_version": "1.2.0",
          "state": {
            "_model_module": "@jupyter-widgets/base",
            "_model_module_version": "1.2.0",
            "_model_name": "LayoutModel",
            "_view_count": null,
            "_view_module": "@jupyter-widgets/base",
            "_view_module_version": "1.2.0",
            "_view_name": "LayoutView",
            "align_content": null,
            "align_items": null,
            "align_self": null,
            "border": null,
            "bottom": null,
            "display": null,
            "flex": null,
            "flex_flow": null,
            "grid_area": null,
            "grid_auto_columns": null,
            "grid_auto_flow": null,
            "grid_auto_rows": null,
            "grid_column": null,
            "grid_gap": null,
            "grid_row": null,
            "grid_template_areas": null,
            "grid_template_columns": null,
            "grid_template_rows": null,
            "height": null,
            "justify_content": null,
            "justify_items": null,
            "left": null,
            "margin": null,
            "max_height": null,
            "max_width": null,
            "min_height": null,
            "min_width": null,
            "object_fit": null,
            "object_position": null,
            "order": null,
            "overflow": null,
            "overflow_x": null,
            "overflow_y": null,
            "padding": null,
            "right": null,
            "top": null,
            "visibility": null,
            "width": null
          }
        },
        "1d3f59ec4e714fd6a40799c0aa05fdfb": {
          "model_module": "@jupyter-widgets/controls",
          "model_name": "DescriptionStyleModel",
          "model_module_version": "1.5.0",
          "state": {
            "_model_module": "@jupyter-widgets/controls",
            "_model_module_version": "1.5.0",
            "_model_name": "DescriptionStyleModel",
            "_view_count": null,
            "_view_module": "@jupyter-widgets/base",
            "_view_module_version": "1.2.0",
            "_view_name": "StyleView",
            "description_width": ""
          }
        }
      }
    }
  },
  "cells": [
    {
      "cell_type": "markdown",
      "source": [
        "# Generating Artwork Images with Stable Diffusion and Inspecting the Output with Embeddings"
      ],
      "metadata": {
        "id": "metdDCe5Wg1H"
      }
    },
    {
      "cell_type": "markdown",
      "source": [
        "You will want to use a GPU to run this environment.In Google Colab go to Runtime -> Change Runtime Type and select one of the available Nvidia GPUs."
      ],
      "metadata": {
        "id": "OMqWULMjWrJ7"
      }
    },
    {
      "cell_type": "code",
      "source": [
        "# Install and fix required packages\n",
        "!pip install transformers==4.51.3 accelerate==1.7.0 scipy==1.15.3 safetensors==0.5.3 diffusers==0.33.1 fiftyone==1.5.2 open-clip-torch==2.32.0 > /dev/null"
      ],
      "metadata": {
        "id": "PwFgWL-J_4kV"
      },
      "execution_count": 31,
      "outputs": []
    },
    {
      "cell_type": "code",
      "source": [
        "# Check that we have an environment with a GPU\n",
        "# Go to Runtime -> Change Runtime Type to select the T4 GPU\n",
        "# Without it, this cell will fail\n",
        "!nvidia-smi"
      ],
      "metadata": {
        "id": "yHjQgZ7wA84m",
        "colab": {
          "base_uri": "https://localhost:8080/"
        },
        "outputId": "f7fdc873-f157-476b-ba2b-59efccd6ce8c"
      },
      "execution_count": 32,
      "outputs": [
        {
          "output_type": "stream",
          "name": "stdout",
          "text": [
            "Tue May 20 15:48:24 2025       \n",
            "+-----------------------------------------------------------------------------------------+\n",
            "| NVIDIA-SMI 550.54.15              Driver Version: 550.54.15      CUDA Version: 12.4     |\n",
            "|-----------------------------------------+------------------------+----------------------+\n",
            "| GPU  Name                 Persistence-M | Bus-Id          Disp.A | Volatile Uncorr. ECC |\n",
            "| Fan  Temp   Perf          Pwr:Usage/Cap |           Memory-Usage | GPU-Util  Compute M. |\n",
            "|                                         |                        |               MIG M. |\n",
            "|=========================================+========================+======================|\n",
            "|   0  NVIDIA L4                      Off |   00000000:00:03.0 Off |                    0 |\n",
            "| N/A   64C    P0             31W /   72W |   14729MiB /  23034MiB |      0%      Default |\n",
            "|                                         |                        |                  N/A |\n",
            "+-----------------------------------------+------------------------+----------------------+\n",
            "                                                                                         \n",
            "+-----------------------------------------------------------------------------------------+\n",
            "| Processes:                                                                              |\n",
            "|  GPU   GI   CI        PID   Type   Process name                              GPU Memory |\n",
            "|        ID   ID                                                               Usage      |\n",
            "|=========================================================================================|\n",
            "+-----------------------------------------------------------------------------------------+\n"
          ]
        }
      ]
    },
    {
      "cell_type": "markdown",
      "source": [
        "#Setup input + output"
      ],
      "metadata": {
        "id": "Vxa40ZexO0P0"
      }
    },
    {
      "cell_type": "code",
      "source": [
        "#set params & select model\n",
        "\n",
        "model = \"stabilityai/stable-diffusion-xl-base-1.0\""
      ],
      "metadata": {
        "id": "juhp1F4KxgpG"
      },
      "execution_count": 33,
      "outputs": []
    },
    {
      "cell_type": "code",
      "execution_count": 34,
      "metadata": {
        "id": "2Wk_eZSWkGqB",
        "colab": {
          "base_uri": "https://localhost:8080/"
        },
        "outputId": "1b16dca8-6157-453b-ffeb-d63e0c853a6a"
      },
      "outputs": [
        {
          "output_type": "stream",
          "name": "stdout",
          "text": [
            "Drive already mounted at /content/drive; to attempt to forcibly remount, call drive.mount(\"/content/drive\", force_remount=True).\n",
            "/content/drive/MyDrive/Colab Notebooks/Projects/artstyle5 was not present and was created\n"
          ]
        }
      ],
      "source": [
        "#set up folder configuration\n",
        "import os\n",
        "from google.colab import files, drive\n",
        "\n",
        "drive.mount('/content/drive')\n",
        "\n",
        "PROJECT_NAME = 'artstyle5'\n",
        "\n",
        "BASE_FOLDER = os.path.join(os.getcwd(), 'drive', 'MyDrive','Colab Notebooks')\n",
        "OUTPUT_IMAGE_FOLDER = os.path.join(BASE_FOLDER, 'Projects', PROJECT_NAME)\n",
        "\n",
        "if not os.path.exists(OUTPUT_IMAGE_FOLDER):\n",
        "    print(f'{OUTPUT_IMAGE_FOLDER} was not present and was created')\n",
        "    os.makedirs(OUTPUT_IMAGE_FOLDER, exist_ok=True)"
      ]
    },
    {
      "cell_type": "markdown",
      "source": [
        "# Load SDXL pipeline\n"
      ],
      "metadata": {
        "id": "fRaQ3rnMPDFZ"
      }
    },
    {
      "cell_type": "code",
      "source": [
        "#import libraries\n",
        "from diffusers import StableDiffusionXLPipeline #to use the refiner import DiffusionPipeline, StableDiffusionXLImg2ImgPipeline\n",
        "import torch"
      ],
      "metadata": {
        "id": "0Eu0uW5s8ufh"
      },
      "execution_count": 35,
      "outputs": []
    },
    {
      "cell_type": "code",
      "execution_count": 36,
      "metadata": {
        "id": "VSt_MNJCY4el",
        "colab": {
          "base_uri": "https://localhost:8080/",
          "height": 66,
          "referenced_widgets": [
            "b4e6fcd3d2b44e3db86b670c19b922b4",
            "0db843aad3b14e7fb69af9786b90f43d",
            "ebd902b234344b91a56b981c00d242d5",
            "4a2932f77dc24e5cbd4c10bccd0e45f8",
            "77792cd1d6454b02a6df10902d3970e8",
            "97f9411e26e2434994439bb70f964c52",
            "456229f83a2141a8bba687d0b4933549",
            "33825d86585d4d6cafca566061a1379f",
            "fdae6a90e41f49cba7aeb18c7da9d191",
            "78f718785b064ceeb8174c3232bc9ebe",
            "a9cdcc47e1b34260a93d23890662bb02"
          ]
        },
        "outputId": "db6a20d8-bce9-4cff-a5ae-2d610a59eddc"
      },
      "outputs": [
        {
          "output_type": "display_data",
          "data": {
            "text/plain": [
              "Loading pipeline components...:   0%|          | 0/7 [00:00<?, ?it/s]"
            ],
            "application/vnd.jupyter.widget-view+json": {
              "version_major": 2,
              "version_minor": 0,
              "model_id": "b4e6fcd3d2b44e3db86b670c19b922b4"
            }
          },
          "metadata": {}
        },
        {
          "output_type": "stream",
          "name": "stdout",
          "text": [
            "stabilityai/stable-diffusion-xl-base-1.0 loaded\n"
          ]
        }
      ],
      "source": [
        "#Load SDXL pipeline\n",
        "pipe = StableDiffusionXLPipeline.from_pretrained(\n",
        "  model,\n",
        "  torch_dtype=torch.float16,\n",
        "  use_safetensors=True,\n",
        "  variant=\"fp16\"\n",
        ")\n",
        "pipe.to(\"cuda\")\n",
        "\n",
        "print(f'{model} loaded')"
      ]
    },
    {
      "cell_type": "markdown",
      "source": [
        "#Generate images"
      ],
      "metadata": {
        "id": "Y4MVgIsUPHYI"
      }
    },
    {
      "cell_type": "code",
      "source": [
        "#gets the index of the last generated image\n",
        "def get_last_index(imgfolder): #os.listdir(OUTPUT_IMAGE_FOLDER)\n",
        "  outfiles = [file for file in os.listdir(imgfolder) if os.path.isfile(os.path.join(imgfolder,file))]\n",
        "  if len(outfiles)>0:\n",
        "    try:\n",
        "      img_num = sorted([int(img.split('.')[0]) for img in os.listdir(imgfolder) if img.split('.')[0].isdigit()])[-1] #gets last image in the output folder (highest number)\n",
        "      return img_num\n",
        "    except:\n",
        "      return 0\n",
        "  else:\n",
        "    return 0\n",
        "\n",
        "get_last_index(OUTPUT_IMAGE_FOLDER)"
      ],
      "metadata": {
        "id": "rF5FoS8N0G2O",
        "colab": {
          "base_uri": "https://localhost:8080/"
        },
        "outputId": "8fb26a65-ae1e-421f-dd05-e2403a27a4ff"
      },
      "execution_count": 37,
      "outputs": [
        {
          "output_type": "execute_result",
          "data": {
            "text/plain": [
              "0"
            ]
          },
          "metadata": {},
          "execution_count": 37
        }
      ]
    },
    {
      "cell_type": "code",
      "source": [
        "import random\n",
        "import pandas as pd\n",
        "\n",
        "art_styles = ['Rembrandt',  'Magritte', 'Monet', 'Klimt', 'Renoir', 'Peter Bruegel', 'Chagall',\n",
        "              'Hokusai', 'Hiroshige','Steampunk', 'Art Deco', 'Art Nouveau', 'Paul Gauguin',\n",
        "              'Banksy', 'Goya', 'Van Gogh', 'Leonardo da Vinci', 'Kandinsky', 'Mondrian']\n",
        "art_types = ['beautiful lansdcape', 'medieval town', 'sunset view from a park', 'desert',\n",
        "             'modern city at night, Berlin', 'Potsdamer Platz', 'arctic landscape with aurora borealis',\n",
        "             'portrait of mother and child', 'musical instruments', 'jazz band playing music', 'guitar player',\n",
        "             'skyscrappers', 'erupting volcano', 'sunny beach and sea', 'portrait of a woman', 'view of Berlin',\n",
        "             'spaeti shop in Berlin', 'Alexanderplatz', 'cafe at night',\n",
        "             'desert', 'jungle', 'painting of mechanical device', 'supercomputer','river bank', 'view of a city with bridge',\n",
        "             'still nature', 'wolf', 'a view of the Spree', 'crows in Berlin', 'crows and foxes in Berlin Tiergarten']\n",
        "\n",
        "img_num = get_last_index(OUTPUT_IMAGE_FOLDER)\n",
        "\n",
        "STARTING_RANGE = img_num+1 if img_num!=0 else 0 #starts image index after last index or 0 if no images found\n",
        "\n",
        "ADD_RANGE = 200 #how many images to generate\n",
        "\n",
        "prompt_save = [] #this keeps the info for the experiment sheet\n",
        "\n",
        "for i, seed in enumerate(range(STARTING_RANGE, STARTING_RANGE+ADD_RANGE)):\n",
        "    generator = torch.Generator(\"cuda\").manual_seed(seed)\n",
        "    art_style = random.choice(art_styles)\n",
        "    art_type = random.choice(art_types)\n",
        "    prompt = f'{art_type} in the style of {art_style}'\n",
        "    print(f'Processing image {i+1} / {ADD_RANGE} | seed: {seed} | prompt: {prompt}')\n",
        "    negative_prompt = None\n",
        "    image = pipe(prompt=prompt,\n",
        "                negative_prompt=negative_prompt,\n",
        "                generator=generator,\n",
        "                num_inference_steps=25)\n",
        "    image = image.images[0]\n",
        "    savefilename = f'{seed}_{prompt}.png'\n",
        "    image.save(os.path.join(OUTPUT_IMAGE_FOLDER, savefilename))\n",
        "    prompt_save.append([savefilename, seed, art_style, prompt, negative_prompt])"
      ],
      "metadata": {
        "id": "dUv43o7nsopf",
        "colab": {
          "base_uri": "https://localhost:8080/",
          "height": 116,
          "referenced_widgets": [
            "b911cb47ee2d4139a2b0a928483dedb1",
            "40a523e0bc434083acf9d352dfaafa93",
            "6faafeecf810421ebda91efa4c0da0af",
            "4f039ea3594442a1978e08d925634341",
            "e7e1f0b685594ff39a208c82d15d92a1",
            "74d0c9e612204bc5a6c7dfefb7b71da9",
            "33d43101fd4f4fcfa4019ec537447a55",
            "e6b07fe7e1db4c1380f5ea61f271b1d7",
            "d02d538752b8428390dfbac25454005c",
            "aec2537dbb7947a5aa08b76d7a114f73",
            "005d8f2d20b6457eb0d31b59e979994f",
            "d11999ab18e841f49d09f3b5ff31de47",
            "666d7ca0d474426fbe6cbfaf532c3b18",
            "a4a112ea88494cd6a8d49ae903d36f72",
            "a8c5f85007854371b55d0ac9ae39b5f8",
            "f5efb713f95e4d5bafb9728ddc6136bf",
            "2df9c32be05445de81718a94df17e5da",
            "97a366048990458aad49eb2c84a0f9eb",
            "97ec15bdfa7c4316ba6374d84967e58c",
            "76e9fcc04933422faf73decff1246b7c",
            "2a1ed2c35efb4109a2f171f6317440c2",
            "1d3f59ec4e714fd6a40799c0aa05fdfb"
          ]
        },
        "outputId": "0977435b-24b9-4965-999b-445be11d0c83"
      },
      "execution_count": null,
      "outputs": [
        {
          "output_type": "stream",
          "name": "stdout",
          "text": [
            "Processing image 1 / 200 | seed: 0 | prompt: modern city at night, Berlin in the style of Mondrian\n"
          ]
        },
        {
          "output_type": "display_data",
          "data": {
            "text/plain": [
              "  0%|          | 0/25 [00:00<?, ?it/s]"
            ],
            "application/vnd.jupyter.widget-view+json": {
              "version_major": 2,
              "version_minor": 0,
              "model_id": "b911cb47ee2d4139a2b0a928483dedb1"
            }
          },
          "metadata": {}
        },
        {
          "output_type": "stream",
          "name": "stdout",
          "text": [
            "Processing image 2 / 200 | seed: 1 | prompt: still nature in the style of Banksy\n"
          ]
        },
        {
          "output_type": "display_data",
          "data": {
            "text/plain": [
              "  0%|          | 0/25 [00:00<?, ?it/s]"
            ],
            "application/vnd.jupyter.widget-view+json": {
              "version_major": 2,
              "version_minor": 0,
              "model_id": "d11999ab18e841f49d09f3b5ff31de47"
            }
          },
          "metadata": {}
        }
      ]
    },
    {
      "cell_type": "code",
      "source": [
        "from pathlib import Path\n",
        "prompt_file = pd.DataFrame(prompt_save, columns=['filename', 'seed','art_style', 'prompt', 'negative_prompt'])\n",
        "prompt_file.to_csv(Path(OUTPUT_IMAGE_FOLDER).parent / f'trial_up_to_{seed}.csv', index=False)\n",
        "prompt_file"
      ],
      "metadata": {
        "id": "Xiv47RQBGLTa"
      },
      "execution_count": null,
      "outputs": []
    },
    {
      "cell_type": "code",
      "source": [
        "import fiftyone as fo\n",
        "\n",
        "# Create a FiftyOne dataset\n",
        "if fo.dataset_exists(\"stable-diffusion-xl-images\"):\n",
        "  fo.delete_dataset(\"stable-diffusion-xl-images\")\n",
        "dataset = fo.Dataset(name=\"stable-diffusion-xl-images\")\n",
        "\n",
        "# Add the art_style, prompt, and seed fields to the dataset schema\n",
        "dataset.add_samples(\n",
        "    [\n",
        "        fo.Sample(\n",
        "            filepath=os.path.join(OUTPUT_IMAGE_FOLDER, row['filename']),\n",
        "            tags=[],  # Add tags if you have any\n",
        "            metadata=None,  # Add metadata if you have any\n",
        "            art_style=row['art_style'],\n",
        "            prompt=row['prompt'],\n",
        "            seed=row['seed'],\n",
        "        )\n",
        "        for index, row in prompt_file.iterrows()\n",
        "    ]\n",
        ")\n",
        "dataset.persistent = True\n",
        "dataset.save()\n"
      ],
      "metadata": {
        "id": "-awtxfbFNgMP"
      },
      "execution_count": null,
      "outputs": []
    },
    {
      "cell_type": "code",
      "source": [
        "session = fo.launch_app(dataset, auto=False)\n",
        "print(session.url)"
      ],
      "metadata": {
        "id": "gHs0J2boSUbO"
      },
      "execution_count": null,
      "outputs": []
    },
    {
      "cell_type": "markdown",
      "source": [
        "# Computing and visualizing embeddings with CLIP\n",
        "\n",
        "Embeddings are powerful numerical representations of unstructured data like images. Models like CLIP (Contrastive Language-Image Pre-Training) can generate embeddings that capture semantic meaning.\n",
        "\n",
        "A CLIP-based model was used to guide the generation process of these images. It's how we connect the text prompts with the generated output\n",
        "\n",
        " By visualizing these embeddings in a lower-dimensional space (e.g., using PCA, UMAP or t-SNE), we can explore similarities and patterns in our dataset.\n",
        "\n",
        "FiftyOne's Brain provides tools to compute and visualize embeddings. We'll use the `compute_visualization()` method with a CLIP model."
      ],
      "metadata": {
        "id": "UOkntHWGVgjK"
      }
    },
    {
      "cell_type": "markdown",
      "source": [
        "![](https://github.com/andandandand/practical-computer-vision/blob/main/images/generated_artwork.png?raw=true)"
      ],
      "metadata": {
        "id": "PzSAK3rhYGop"
      }
    },
    {
      "cell_type": "code",
      "source": [
        "import fiftyone.brain as fob\n",
        "import fiftyone.zoo as foz"
      ],
      "metadata": {
        "id": "bMzmi-HKTCH-"
      },
      "execution_count": null,
      "outputs": []
    },
    {
      "cell_type": "markdown",
      "source": [
        "We will use `fob.compute_embeddings()` to generate both embeddings for our `dataset` using the `clip-vit-base-patch32` model. We use `fob.compute` and a two-dimensional projection of these embeddings that we can use to inspect the dataset.\n",
        "\n",
        "This function will:\n",
        "\n",
        "1. Download the CLIP model from the FiftyOne Model Zoo (if not already downloaded).\n",
        "2. Compute an embedding vector for each sample in the dataset.\n",
        "3. Apply a dimensionality reduction technique to project the high-dimensional embeddings into a 2D space.\n",
        "4. Store these 2D coordinates in a new field on each sample.\n",
        "\n",
        "The `brain_key` parameter assigns a name to this computation, allowing us to reference it later."
      ],
      "metadata": {
        "id": "b-tGzR_SV2VI"
      }
    },
    {
      "cell_type": "code",
      "source": [
        "# Load a model with embeddings\n",
        "model = foz.load_zoo_model(\"clip-vit-base32-torch\")\n",
        "\n",
        "# Generate embeddings for each sample\n",
        "embeddings = dataset.compute_embeddings(model)"
      ],
      "metadata": {
        "id": "lkEsLaw-VLO3"
      },
      "execution_count": null,
      "outputs": []
    },
    {
      "cell_type": "markdown",
      "source": [
        "### Visualizing embeddings in the FiftyOne app\n",
        "\n",
        "With the visualization data computed, we can now launch the FiftyOne App to explore the embeddings. The App provides an interactive scatter plot where each point represents an image.\n",
        "\n",
        "After running the cell below, the FiftyOne App will launch or update.\n",
        "1. Look for an **Embeddings** panel or a **brain icon** (usually on the left sidebar or as a tab).\n",
        "2. In this panel, you should find your `brain_key` (e.g., `clip_quickstart_viz`) listed under available plots.\n",
        "3. Click on it to load the 2D scatter plot of your image embeddings.\n",
        "\n",
        "You can then explore the image neighborhood according to attributes. The [`uniqueness`](https://docs.voxel51.com/tutorials/uniqueness.html)attribute allows interesting explorations of our samples.\n",
        "\n",
        "![]()\n",
        "\n",
        "To access this view click on the `+` symbol next to samples, then `Curate -> Embeddings` and Select the brain key that we used to compute the projection. Then `\"Split Horizontally\"` to access the view of the embeddings next to the images. You can then use the lasso selection tool to highlight portions of the dataset."
      ],
      "metadata": {
        "id": "mccy2zboV8mF"
      }
    },
    {
      "cell_type": "code",
      "source": [
        "# Compute visualization in two dimensions\n",
        "two_dim_projection = fob.compute_visualization(\n",
        "    dataset, embeddings=embeddings, seed=51, brain_key=\"embeddings_2d\", method=\"pca\"\n",
        ")"
      ],
      "metadata": {
        "id": "AlSivK7OVSw0"
      },
      "execution_count": null,
      "outputs": []
    },
    {
      "cell_type": "code",
      "source": [
        "# Compute uniqueness of embeddings\n",
        "fob.compute_uniqueness(dataset, embeddings=embeddings)"
      ],
      "metadata": {
        "id": "XZsRkjLBVVtg"
      },
      "execution_count": null,
      "outputs": []
    },
    {
      "cell_type": "code",
      "source": [
        "# Launch the session\n",
        "session = fo.launch_app(dataset, auto=False)\n",
        "print(f\"The app is available at {session.url}\")"
      ],
      "metadata": {
        "id": "9U7BEsJnVYCN"
      },
      "execution_count": null,
      "outputs": []
    },
    {
      "cell_type": "markdown",
      "source": [
        "## Acknowledgements\n",
        "\n",
        "Many thanks to [Lucian Renita](https://www.linkedin.com/in/lucian-renitsa/?originalSubdomain=de) for his help and feedback producing this notebook."
      ],
      "metadata": {
        "id": "8bfg8GveVapR"
      }
    },
    {
      "cell_type": "code",
      "source": [],
      "metadata": {
        "id": "o7IIerAHW14m"
      },
      "execution_count": null,
      "outputs": []
    }
  ]
}