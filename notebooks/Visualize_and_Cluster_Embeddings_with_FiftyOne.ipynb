{
  "nbformat": 4,
  "nbformat_minor": 0,
  "metadata": {
    "colab": {
      "provenance": []
    },
    "kernelspec": {
      "name": "python3",
      "display_name": "Python 3"
    },
    "language_info": {
      "name": "python"
    }
  },
  "cells": [
    {
      "cell_type": "markdown",
      "source": [
        "# Tutorial - Visualize Embedding Spaces with FiftyOne\n",
        "\n",
        "#### Author: Antonio Rueda-Toicen\n",
        "**antonio.rueda.toicen 'at' hpi 'dot' de**\n",
        "\n",
        "\n",
        "[![Creative Commons License](https://i.creativecommons.org/l/by/4.0/88x31.png)](http://creativecommons.org/licenses/by/4.0/)\n",
        "\n",
        "This work is licensed under a [Creative Commons Attribution 4.0 International License](http://creativecommons.org/licenses/by/4.0/)."
      ],
      "metadata": {
        "id": "F5DQaW2KzSDJ"
      }
    },
    {
      "cell_type": "markdown",
      "source": [
        "## Overview"
      ],
      "metadata": {
        "id": "m9MS6XhMzvXw"
      }
    },
    {
      "cell_type": "markdown",
      "source": [
        "In this notebook we learn how to visualize an embedding space using FiftyOne after applying [Principal Component Analysis](https://en.wikipedia.org/wiki/Principal_component_analysis) to reduce its dimensionality. We also use `sklearn` and `sklearn-extra` to produce clusters using the [K-means](https://en.wikipedia.org/wiki/K-means_clustering) algorithm.\n",
        "\n",
        "## Image data\n",
        "The folder with the image data and can be found [here](https://drive.google.com/drive/folders/1oZOMfxEYcrYctZSdx3NHO8KTc0ETrUFI?usp=drive_link). You can add it to your own Drive by right clicking on the folder name -> Organize -> Add Shortcut to Drive. Select the \"All locations\" tab -> My Drive and then create a folder called `art_recommendation`. This will allow you to access the data without having to download it.  "
      ],
      "metadata": {
        "id": "PXlHspZFzdGy"
      }
    },
    {
      "cell_type": "code",
      "execution_count": 1,
      "metadata": {
        "id": "A9r9b467SAVZ"
      },
      "outputs": [],
      "source": [
        "# Install fiftyone\n",
        "!pip install fiftyone==1.4.1 > /dev/null\n"
      ]
    },
    {
      "cell_type": "code",
      "source": [
        "from google.colab import drive\n",
        "drive.mount('/gdrive')"
      ],
      "metadata": {
        "colab": {
          "base_uri": "https://localhost:8080/"
        },
        "id": "PcgftoPbSKQ3",
        "outputId": "8c4688e9-558f-4d66-c543-83d6e3a7c55c"
      },
      "execution_count": 2,
      "outputs": [
        {
          "output_type": "stream",
          "name": "stdout",
          "text": [
            "Mounted at /gdrive\n"
          ]
        }
      ]
    },
    {
      "cell_type": "code",
      "source": [
        "from pathlib import Path\n",
        "import os\n",
        "artist_name = 'Hokusai'\n",
        "path = Path(f'/gdrive/MyDrive/art_recommendation/{artist_name}')"
      ],
      "metadata": {
        "id": "mene9wtAUa78"
      },
      "execution_count": 3,
      "outputs": []
    },
    {
      "cell_type": "code",
      "source": [
        "# here 'paintings' and 'paintings_embeddings.pickle' should both appear\n",
        "os.listdir(path)"
      ],
      "metadata": {
        "colab": {
          "base_uri": "https://localhost:8080/"
        },
        "id": "WrYnrh8ZUgad",
        "outputId": "9bc95319-3df8-4b30-db4d-e014c7b2da7a"
      },
      "execution_count": 4,
      "outputs": [
        {
          "output_type": "execute_result",
          "data": {
            "text/plain": [
              "['paintings', 'Hokusai artworks', 'paintings_embeddings.pickle']"
            ]
          },
          "metadata": {},
          "execution_count": 4
        }
      ]
    },
    {
      "cell_type": "code",
      "source": [
        "# Path where the images are\n",
        "images_dir = path / \"paintings\"\n",
        "images_dir"
      ],
      "metadata": {
        "colab": {
          "base_uri": "https://localhost:8080/"
        },
        "id": "sdf8OWi6Ui2U",
        "outputId": "86e48f4b-86da-4aa2-897e-2434ae4660db"
      },
      "execution_count": 5,
      "outputs": [
        {
          "output_type": "execute_result",
          "data": {
            "text/plain": [
              "PosixPath('/gdrive/MyDrive/art_recommendation/Hokusai/paintings')"
            ]
          },
          "metadata": {},
          "execution_count": 5
        }
      ]
    },
    {
      "cell_type": "code",
      "source": [
        "# Number of images\n",
        "len(os.listdir(images_dir))"
      ],
      "metadata": {
        "colab": {
          "base_uri": "https://localhost:8080/"
        },
        "id": "lAv2MXgQUqNP",
        "outputId": "79ebbc6d-325e-4aa9-ef8c-7ab6b0335ebd"
      },
      "execution_count": 6,
      "outputs": [
        {
          "output_type": "execute_result",
          "data": {
            "text/plain": [
              "832"
            ]
          },
          "metadata": {},
          "execution_count": 6
        }
      ]
    },
    {
      "cell_type": "markdown",
      "source": [
        "## Create a fiftyone dataset\n",
        "\n",
        "If fiftyone, datasets are a collection of images to which we can add metadata (labels, quality metrics, embeddings, etc.)."
      ],
      "metadata": {
        "id": "b8PMVDNdd9b0"
      }
    },
    {
      "cell_type": "code",
      "source": [
        "import fiftyone as fo\n",
        "\n",
        "\n",
        "dataset_name = dataset_name = f\"{artist_name}_paintings\"\n",
        "\n",
        "# delete the dataset in case it exists already on the Colab instance\n",
        "# (due to multiple evaluations of the code cell)\n",
        "if fo.dataset_exists(dataset_name):\n",
        "  fo.delete_dataset(dataset_name)"
      ],
      "metadata": {
        "id": "1yj5370mV_IF",
        "collapsed": true
      },
      "execution_count": 9,
      "outputs": []
    },
    {
      "cell_type": "code",
      "source": [
        "# this creates an empty dataset\n",
        "dataset = fo.Dataset(dataset_name)\n",
        "dataset"
      ],
      "metadata": {
        "colab": {
          "base_uri": "https://localhost:8080/"
        },
        "id": "P6wz5OF_Qcs5",
        "outputId": "35455f64-ff39-42ed-dfce-c2746cbecff8"
      },
      "execution_count": 10,
      "outputs": [
        {
          "output_type": "execute_result",
          "data": {
            "text/plain": [
              "Name:        Hokusai_paintings\n",
              "Media type:  None\n",
              "Num samples: 0\n",
              "Persistent:  False\n",
              "Tags:        []\n",
              "Sample fields:\n",
              "    id:               fiftyone.core.fields.ObjectIdField\n",
              "    filepath:         fiftyone.core.fields.StringField\n",
              "    tags:             fiftyone.core.fields.ListField(fiftyone.core.fields.StringField)\n",
              "    metadata:         fiftyone.core.fields.EmbeddedDocumentField(fiftyone.core.metadata.Metadata)\n",
              "    created_at:       fiftyone.core.fields.DateTimeField\n",
              "    last_modified_at: fiftyone.core.fields.DateTimeField"
            ]
          },
          "metadata": {},
          "execution_count": 10
        }
      ]
    },
    {
      "cell_type": "code",
      "source": [
        "# We use the location of the images_dir to add samples to the dataset\n",
        "dataset.add_dir(images_dir, dataset_type=fo.types.ImageDirectory)"
      ],
      "metadata": {
        "colab": {
          "base_uri": "https://localhost:8080/"
        },
        "id": "tlraGrcLQwrQ",
        "outputId": "d2c3a145-735f-40a9-b460-8a5b713f90b5"
      },
      "execution_count": 11,
      "outputs": [
        {
          "output_type": "stream",
          "name": "stdout",
          "text": [
            " 100% |█████████████████| 832/832 [189.4ms elapsed, 0s remaining, 4.4K samples/s]     \n"
          ]
        },
        {
          "output_type": "stream",
          "name": "stderr",
          "text": [
            "INFO:eta.core.utils: 100% |█████████████████| 832/832 [189.4ms elapsed, 0s remaining, 4.4K samples/s]     \n"
          ]
        },
        {
          "output_type": "execute_result",
          "data": {
            "text/plain": [
              "['681656ce231c064dde263d59',\n",
              " '681656ce231c064dde263d5a',\n",
              " '681656ce231c064dde263d5b',\n",
              " '681656ce231c064dde263d5c',\n",
              " '681656ce231c064dde263d5d',\n",
              " '681656ce231c064dde263d5e',\n",
              " '681656ce231c064dde263d5f',\n",
              " '681656ce231c064dde263d60',\n",
              " '681656ce231c064dde263d61',\n",
              " '681656ce231c064dde263d62',\n",
              " '681656ce231c064dde263d63',\n",
              " '681656ce231c064dde263d64',\n",
              " '681656ce231c064dde263d65',\n",
              " '681656ce231c064dde263d66',\n",
              " '681656ce231c064dde263d67',\n",
              " '681656ce231c064dde263d68',\n",
              " '681656ce231c064dde263d69',\n",
              " '681656ce231c064dde263d6a',\n",
              " '681656ce231c064dde263d6b',\n",
              " '681656ce231c064dde263d6c',\n",
              " '681656ce231c064dde263d6d',\n",
              " '681656ce231c064dde263d6e',\n",
              " '681656ce231c064dde263d6f',\n",
              " '681656ce231c064dde263d70',\n",
              " '681656ce231c064dde263d71',\n",
              " '681656ce231c064dde263d72',\n",
              " '681656ce231c064dde263d73',\n",
              " '681656ce231c064dde263d74',\n",
              " '681656ce231c064dde263d75',\n",
              " '681656ce231c064dde263d76',\n",
              " '681656ce231c064dde263d77',\n",
              " '681656ce231c064dde263d78',\n",
              " '681656ce231c064dde263d79',\n",
              " '681656ce231c064dde263d7a',\n",
              " '681656ce231c064dde263d7b',\n",
              " '681656ce231c064dde263d7c',\n",
              " '681656ce231c064dde263d7d',\n",
              " '681656ce231c064dde263d7e',\n",
              " '681656ce231c064dde263d7f',\n",
              " '681656ce231c064dde263d80',\n",
              " '681656ce231c064dde263d81',\n",
              " '681656ce231c064dde263d82',\n",
              " '681656ce231c064dde263d83',\n",
              " '681656ce231c064dde263d84',\n",
              " '681656ce231c064dde263d85',\n",
              " '681656ce231c064dde263d86',\n",
              " '681656ce231c064dde263d87',\n",
              " '681656ce231c064dde263d88',\n",
              " '681656ce231c064dde263d89',\n",
              " '681656ce231c064dde263d8a',\n",
              " '681656ce231c064dde263d8b',\n",
              " '681656ce231c064dde263d8c',\n",
              " '681656ce231c064dde263d8d',\n",
              " '681656ce231c064dde263d8e',\n",
              " '681656ce231c064dde263d8f',\n",
              " '681656ce231c064dde263d90',\n",
              " '681656ce231c064dde263d91',\n",
              " '681656ce231c064dde263d92',\n",
              " '681656ce231c064dde263d93',\n",
              " '681656ce231c064dde263d94',\n",
              " '681656ce231c064dde263d95',\n",
              " '681656ce231c064dde263d96',\n",
              " '681656ce231c064dde263d97',\n",
              " '681656ce231c064dde263d98',\n",
              " '681656ce231c064dde263d99',\n",
              " '681656ce231c064dde263d9a',\n",
              " '681656ce231c064dde263d9b',\n",
              " '681656ce231c064dde263d9c',\n",
              " '681656ce231c064dde263d9d',\n",
              " '681656ce231c064dde263d9e',\n",
              " '681656ce231c064dde263d9f',\n",
              " '681656ce231c064dde263da0',\n",
              " '681656ce231c064dde263da1',\n",
              " '681656ce231c064dde263da2',\n",
              " '681656ce231c064dde263da3',\n",
              " '681656ce231c064dde263da4',\n",
              " '681656ce231c064dde263da5',\n",
              " '681656ce231c064dde263da6',\n",
              " '681656ce231c064dde263da7',\n",
              " '681656ce231c064dde263da8',\n",
              " '681656ce231c064dde263da9',\n",
              " '681656ce231c064dde263daa',\n",
              " '681656ce231c064dde263dab',\n",
              " '681656ce231c064dde263dac',\n",
              " '681656ce231c064dde263dad',\n",
              " '681656ce231c064dde263dae',\n",
              " '681656ce231c064dde263daf',\n",
              " '681656ce231c064dde263db0',\n",
              " '681656ce231c064dde263db1',\n",
              " '681656ce231c064dde263db2',\n",
              " '681656ce231c064dde263db3',\n",
              " '681656ce231c064dde263db4',\n",
              " '681656ce231c064dde263db5',\n",
              " '681656ce231c064dde263db6',\n",
              " '681656ce231c064dde263db7',\n",
              " '681656ce231c064dde263db8',\n",
              " '681656ce231c064dde263db9',\n",
              " '681656ce231c064dde263dba',\n",
              " '681656ce231c064dde263dbb',\n",
              " '681656ce231c064dde263dbc',\n",
              " '681656ce231c064dde263dbd',\n",
              " '681656ce231c064dde263dbe',\n",
              " '681656ce231c064dde263dbf',\n",
              " '681656ce231c064dde263dc0',\n",
              " '681656ce231c064dde263dc1',\n",
              " '681656ce231c064dde263dc2',\n",
              " '681656ce231c064dde263dc3',\n",
              " '681656ce231c064dde263dc4',\n",
              " '681656ce231c064dde263dc5',\n",
              " '681656ce231c064dde263dc6',\n",
              " '681656ce231c064dde263dc7',\n",
              " '681656ce231c064dde263dc8',\n",
              " '681656ce231c064dde263dc9',\n",
              " '681656ce231c064dde263dca',\n",
              " '681656ce231c064dde263dcb',\n",
              " '681656ce231c064dde263dcc',\n",
              " '681656ce231c064dde263dcd',\n",
              " '681656ce231c064dde263dce',\n",
              " '681656ce231c064dde263dcf',\n",
              " '681656ce231c064dde263dd0',\n",
              " '681656ce231c064dde263dd1',\n",
              " '681656ce231c064dde263dd2',\n",
              " '681656ce231c064dde263dd3',\n",
              " '681656ce231c064dde263dd4',\n",
              " '681656ce231c064dde263dd5',\n",
              " '681656ce231c064dde263dd6',\n",
              " '681656ce231c064dde263dd7',\n",
              " '681656ce231c064dde263dd8',\n",
              " '681656ce231c064dde263dd9',\n",
              " '681656ce231c064dde263dda',\n",
              " '681656ce231c064dde263ddb',\n",
              " '681656ce231c064dde263ddc',\n",
              " '681656ce231c064dde263ddd',\n",
              " '681656ce231c064dde263dde',\n",
              " '681656ce231c064dde263ddf',\n",
              " '681656ce231c064dde263de0',\n",
              " '681656ce231c064dde263de1',\n",
              " '681656ce231c064dde263de2',\n",
              " '681656ce231c064dde263de3',\n",
              " '681656ce231c064dde263de4',\n",
              " '681656ce231c064dde263de5',\n",
              " '681656ce231c064dde263de6',\n",
              " '681656ce231c064dde263de7',\n",
              " '681656ce231c064dde263de8',\n",
              " '681656ce231c064dde263de9',\n",
              " '681656ce231c064dde263dea',\n",
              " '681656ce231c064dde263deb',\n",
              " '681656ce231c064dde263dec',\n",
              " '681656ce231c064dde263ded',\n",
              " '681656ce231c064dde263dee',\n",
              " '681656ce231c064dde263def',\n",
              " '681656ce231c064dde263df0',\n",
              " '681656ce231c064dde263df1',\n",
              " '681656ce231c064dde263df2',\n",
              " '681656ce231c064dde263df3',\n",
              " '681656ce231c064dde263df4',\n",
              " '681656ce231c064dde263df5',\n",
              " '681656ce231c064dde263df6',\n",
              " '681656ce231c064dde263df7',\n",
              " '681656ce231c064dde263df8',\n",
              " '681656ce231c064dde263df9',\n",
              " '681656ce231c064dde263dfa',\n",
              " '681656ce231c064dde263dfb',\n",
              " '681656ce231c064dde263dfc',\n",
              " '681656ce231c064dde263dfd',\n",
              " '681656ce231c064dde263dfe',\n",
              " '681656ce231c064dde263dff',\n",
              " '681656ce231c064dde263e00',\n",
              " '681656ce231c064dde263e01',\n",
              " '681656ce231c064dde263e02',\n",
              " '681656ce231c064dde263e03',\n",
              " '681656ce231c064dde263e04',\n",
              " '681656ce231c064dde263e05',\n",
              " '681656ce231c064dde263e06',\n",
              " '681656ce231c064dde263e07',\n",
              " '681656ce231c064dde263e08',\n",
              " '681656ce231c064dde263e09',\n",
              " '681656ce231c064dde263e0a',\n",
              " '681656ce231c064dde263e0b',\n",
              " '681656ce231c064dde263e0c',\n",
              " '681656ce231c064dde263e0d',\n",
              " '681656ce231c064dde263e0e',\n",
              " '681656ce231c064dde263e0f',\n",
              " '681656ce231c064dde263e10',\n",
              " '681656ce231c064dde263e11',\n",
              " '681656ce231c064dde263e12',\n",
              " '681656ce231c064dde263e13',\n",
              " '681656ce231c064dde263e14',\n",
              " '681656ce231c064dde263e15',\n",
              " '681656ce231c064dde263e16',\n",
              " '681656ce231c064dde263e17',\n",
              " '681656ce231c064dde263e18',\n",
              " '681656ce231c064dde263e19',\n",
              " '681656ce231c064dde263e1a',\n",
              " '681656ce231c064dde263e1b',\n",
              " '681656ce231c064dde263e1c',\n",
              " '681656ce231c064dde263e1d',\n",
              " '681656ce231c064dde263e1e',\n",
              " '681656ce231c064dde263e1f',\n",
              " '681656ce231c064dde263e20',\n",
              " '681656ce231c064dde263e21',\n",
              " '681656ce231c064dde263e22',\n",
              " '681656ce231c064dde263e23',\n",
              " '681656ce231c064dde263e24',\n",
              " '681656ce231c064dde263e25',\n",
              " '681656ce231c064dde263e26',\n",
              " '681656ce231c064dde263e27',\n",
              " '681656ce231c064dde263e28',\n",
              " '681656ce231c064dde263e29',\n",
              " '681656ce231c064dde263e2a',\n",
              " '681656ce231c064dde263e2b',\n",
              " '681656ce231c064dde263e2c',\n",
              " '681656ce231c064dde263e2d',\n",
              " '681656ce231c064dde263e2e',\n",
              " '681656ce231c064dde263e2f',\n",
              " '681656ce231c064dde263e30',\n",
              " '681656ce231c064dde263e31',\n",
              " '681656ce231c064dde263e32',\n",
              " '681656ce231c064dde263e33',\n",
              " '681656ce231c064dde263e34',\n",
              " '681656ce231c064dde263e35',\n",
              " '681656ce231c064dde263e36',\n",
              " '681656ce231c064dde263e37',\n",
              " '681656ce231c064dde263e38',\n",
              " '681656ce231c064dde263e39',\n",
              " '681656ce231c064dde263e3a',\n",
              " '681656ce231c064dde263e3b',\n",
              " '681656ce231c064dde263e3c',\n",
              " '681656ce231c064dde263e3d',\n",
              " '681656ce231c064dde263e3e',\n",
              " '681656ce231c064dde263e3f',\n",
              " '681656ce231c064dde263e40',\n",
              " '681656ce231c064dde263e41',\n",
              " '681656ce231c064dde263e42',\n",
              " '681656ce231c064dde263e43',\n",
              " '681656ce231c064dde263e44',\n",
              " '681656ce231c064dde263e45',\n",
              " '681656ce231c064dde263e46',\n",
              " '681656ce231c064dde263e47',\n",
              " '681656ce231c064dde263e48',\n",
              " '681656ce231c064dde263e49',\n",
              " '681656ce231c064dde263e4a',\n",
              " '681656ce231c064dde263e4b',\n",
              " '681656ce231c064dde263e4c',\n",
              " '681656ce231c064dde263e4d',\n",
              " '681656ce231c064dde263e4e',\n",
              " '681656ce231c064dde263e4f',\n",
              " '681656ce231c064dde263e50',\n",
              " '681656ce231c064dde263e51',\n",
              " '681656ce231c064dde263e52',\n",
              " '681656ce231c064dde263e53',\n",
              " '681656ce231c064dde263e54',\n",
              " '681656ce231c064dde263e55',\n",
              " '681656ce231c064dde263e56',\n",
              " '681656ce231c064dde263e57',\n",
              " '681656ce231c064dde263e58',\n",
              " '681656ce231c064dde263e59',\n",
              " '681656ce231c064dde263e5a',\n",
              " '681656ce231c064dde263e5b',\n",
              " '681656ce231c064dde263e5c',\n",
              " '681656ce231c064dde263e5d',\n",
              " '681656ce231c064dde263e5e',\n",
              " '681656ce231c064dde263e5f',\n",
              " '681656ce231c064dde263e60',\n",
              " '681656ce231c064dde263e61',\n",
              " '681656ce231c064dde263e62',\n",
              " '681656ce231c064dde263e63',\n",
              " '681656ce231c064dde263e64',\n",
              " '681656ce231c064dde263e65',\n",
              " '681656ce231c064dde263e66',\n",
              " '681656ce231c064dde263e67',\n",
              " '681656ce231c064dde263e68',\n",
              " '681656ce231c064dde263e69',\n",
              " '681656ce231c064dde263e6a',\n",
              " '681656ce231c064dde263e6b',\n",
              " '681656ce231c064dde263e6c',\n",
              " '681656ce231c064dde263e6d',\n",
              " '681656ce231c064dde263e6e',\n",
              " '681656ce231c064dde263e6f',\n",
              " '681656ce231c064dde263e70',\n",
              " '681656ce231c064dde263e71',\n",
              " '681656ce231c064dde263e72',\n",
              " '681656ce231c064dde263e73',\n",
              " '681656ce231c064dde263e74',\n",
              " '681656ce231c064dde263e75',\n",
              " '681656ce231c064dde263e76',\n",
              " '681656ce231c064dde263e77',\n",
              " '681656ce231c064dde263e78',\n",
              " '681656ce231c064dde263e79',\n",
              " '681656ce231c064dde263e7a',\n",
              " '681656ce231c064dde263e7b',\n",
              " '681656ce231c064dde263e7c',\n",
              " '681656ce231c064dde263e7d',\n",
              " '681656ce231c064dde263e7e',\n",
              " '681656ce231c064dde263e7f',\n",
              " '681656ce231c064dde263e80',\n",
              " '681656ce231c064dde263e81',\n",
              " '681656ce231c064dde263e82',\n",
              " '681656ce231c064dde263e83',\n",
              " '681656ce231c064dde263e84',\n",
              " '681656ce231c064dde263e85',\n",
              " '681656ce231c064dde263e86',\n",
              " '681656ce231c064dde263e87',\n",
              " '681656ce231c064dde263e88',\n",
              " '681656ce231c064dde263e89',\n",
              " '681656ce231c064dde263e8a',\n",
              " '681656ce231c064dde263e8b',\n",
              " '681656ce231c064dde263e8c',\n",
              " '681656ce231c064dde263e8d',\n",
              " '681656ce231c064dde263e8e',\n",
              " '681656ce231c064dde263e8f',\n",
              " '681656ce231c064dde263e90',\n",
              " '681656ce231c064dde263e91',\n",
              " '681656ce231c064dde263e92',\n",
              " '681656ce231c064dde263e93',\n",
              " '681656ce231c064dde263e94',\n",
              " '681656ce231c064dde263e95',\n",
              " '681656ce231c064dde263e96',\n",
              " '681656ce231c064dde263e97',\n",
              " '681656ce231c064dde263e98',\n",
              " '681656ce231c064dde263e99',\n",
              " '681656ce231c064dde263e9a',\n",
              " '681656ce231c064dde263e9b',\n",
              " '681656ce231c064dde263e9c',\n",
              " '681656ce231c064dde263e9d',\n",
              " '681656ce231c064dde263e9e',\n",
              " '681656ce231c064dde263e9f',\n",
              " '681656ce231c064dde263ea0',\n",
              " '681656ce231c064dde263ea1',\n",
              " '681656ce231c064dde263ea2',\n",
              " '681656ce231c064dde263ea3',\n",
              " '681656ce231c064dde263ea4',\n",
              " '681656ce231c064dde263ea5',\n",
              " '681656ce231c064dde263ea6',\n",
              " '681656ce231c064dde263ea7',\n",
              " '681656ce231c064dde263ea8',\n",
              " '681656ce231c064dde263ea9',\n",
              " '681656ce231c064dde263eaa',\n",
              " '681656ce231c064dde263eab',\n",
              " '681656ce231c064dde263eac',\n",
              " '681656ce231c064dde263ead',\n",
              " '681656ce231c064dde263eae',\n",
              " '681656ce231c064dde263eaf',\n",
              " '681656ce231c064dde263eb0',\n",
              " '681656ce231c064dde263eb1',\n",
              " '681656ce231c064dde263eb2',\n",
              " '681656ce231c064dde263eb3',\n",
              " '681656ce231c064dde263eb4',\n",
              " '681656ce231c064dde263eb5',\n",
              " '681656ce231c064dde263eb6',\n",
              " '681656ce231c064dde263eb7',\n",
              " '681656ce231c064dde263eb8',\n",
              " '681656ce231c064dde263eb9',\n",
              " '681656ce231c064dde263eba',\n",
              " '681656ce231c064dde263ebb',\n",
              " '681656ce231c064dde263ebc',\n",
              " '681656ce231c064dde263ebd',\n",
              " '681656ce231c064dde263ebe',\n",
              " '681656ce231c064dde263ebf',\n",
              " '681656ce231c064dde263ec0',\n",
              " '681656ce231c064dde263ec1',\n",
              " '681656ce231c064dde263ec2',\n",
              " '681656ce231c064dde263ec3',\n",
              " '681656ce231c064dde263ec4',\n",
              " '681656ce231c064dde263ec5',\n",
              " '681656ce231c064dde263ec6',\n",
              " '681656ce231c064dde263ec7',\n",
              " '681656ce231c064dde263ec8',\n",
              " '681656ce231c064dde263ec9',\n",
              " '681656ce231c064dde263eca',\n",
              " '681656ce231c064dde263ecb',\n",
              " '681656ce231c064dde263ecc',\n",
              " '681656ce231c064dde263ecd',\n",
              " '681656ce231c064dde263ece',\n",
              " '681656ce231c064dde263ecf',\n",
              " '681656ce231c064dde263ed0',\n",
              " '681656ce231c064dde263ed1',\n",
              " '681656ce231c064dde263ed2',\n",
              " '681656ce231c064dde263ed3',\n",
              " '681656ce231c064dde263ed4',\n",
              " '681656ce231c064dde263ed5',\n",
              " '681656ce231c064dde263ed6',\n",
              " '681656ce231c064dde263ed7',\n",
              " '681656ce231c064dde263ed8',\n",
              " '681656ce231c064dde263ed9',\n",
              " '681656ce231c064dde263eda',\n",
              " '681656ce231c064dde263edb',\n",
              " '681656ce231c064dde263edc',\n",
              " '681656ce231c064dde263edd',\n",
              " '681656ce231c064dde263ede',\n",
              " '681656ce231c064dde263edf',\n",
              " '681656ce231c064dde263ee0',\n",
              " '681656ce231c064dde263ee1',\n",
              " '681656ce231c064dde263ee2',\n",
              " '681656ce231c064dde263ee3',\n",
              " '681656ce231c064dde263ee4',\n",
              " '681656ce231c064dde263ee5',\n",
              " '681656ce231c064dde263ee6',\n",
              " '681656ce231c064dde263ee7',\n",
              " '681656ce231c064dde263ee8',\n",
              " '681656ce231c064dde263ee9',\n",
              " '681656ce231c064dde263eea',\n",
              " '681656ce231c064dde263eeb',\n",
              " '681656ce231c064dde263eec',\n",
              " '681656ce231c064dde263eed',\n",
              " '681656ce231c064dde263eee',\n",
              " '681656ce231c064dde263eef',\n",
              " '681656ce231c064dde263ef0',\n",
              " '681656ce231c064dde263ef1',\n",
              " '681656ce231c064dde263ef2',\n",
              " '681656ce231c064dde263ef3',\n",
              " '681656ce231c064dde263ef4',\n",
              " '681656ce231c064dde263ef5',\n",
              " '681656ce231c064dde263ef6',\n",
              " '681656ce231c064dde263ef7',\n",
              " '681656ce231c064dde263ef8',\n",
              " '681656ce231c064dde263ef9',\n",
              " '681656ce231c064dde263efa',\n",
              " '681656ce231c064dde263efb',\n",
              " '681656ce231c064dde263efc',\n",
              " '681656ce231c064dde263efd',\n",
              " '681656ce231c064dde263efe',\n",
              " '681656ce231c064dde263eff',\n",
              " '681656ce231c064dde263f00',\n",
              " '681656ce231c064dde263f01',\n",
              " '681656ce231c064dde263f02',\n",
              " '681656ce231c064dde263f03',\n",
              " '681656ce231c064dde263f04',\n",
              " '681656ce231c064dde263f05',\n",
              " '681656ce231c064dde263f06',\n",
              " '681656ce231c064dde263f07',\n",
              " '681656ce231c064dde263f08',\n",
              " '681656ce231c064dde263f09',\n",
              " '681656ce231c064dde263f0a',\n",
              " '681656ce231c064dde263f0b',\n",
              " '681656ce231c064dde263f0c',\n",
              " '681656ce231c064dde263f0d',\n",
              " '681656ce231c064dde263f0e',\n",
              " '681656ce231c064dde263f0f',\n",
              " '681656ce231c064dde263f10',\n",
              " '681656ce231c064dde263f11',\n",
              " '681656ce231c064dde263f12',\n",
              " '681656ce231c064dde263f13',\n",
              " '681656ce231c064dde263f14',\n",
              " '681656ce231c064dde263f15',\n",
              " '681656ce231c064dde263f16',\n",
              " '681656ce231c064dde263f17',\n",
              " '681656ce231c064dde263f18',\n",
              " '681656ce231c064dde263f19',\n",
              " '681656ce231c064dde263f1a',\n",
              " '681656ce231c064dde263f1b',\n",
              " '681656ce231c064dde263f1c',\n",
              " '681656ce231c064dde263f1d',\n",
              " '681656ce231c064dde263f1e',\n",
              " '681656ce231c064dde263f1f',\n",
              " '681656ce231c064dde263f20',\n",
              " '681656ce231c064dde263f21',\n",
              " '681656ce231c064dde263f22',\n",
              " '681656ce231c064dde263f23',\n",
              " '681656ce231c064dde263f24',\n",
              " '681656ce231c064dde263f25',\n",
              " '681656ce231c064dde263f26',\n",
              " '681656ce231c064dde263f27',\n",
              " '681656ce231c064dde263f28',\n",
              " '681656ce231c064dde263f29',\n",
              " '681656ce231c064dde263f2a',\n",
              " '681656ce231c064dde263f2b',\n",
              " '681656ce231c064dde263f2c',\n",
              " '681656ce231c064dde263f2d',\n",
              " '681656ce231c064dde263f2e',\n",
              " '681656ce231c064dde263f2f',\n",
              " '681656ce231c064dde263f30',\n",
              " '681656ce231c064dde263f31',\n",
              " '681656ce231c064dde263f32',\n",
              " '681656ce231c064dde263f33',\n",
              " '681656ce231c064dde263f34',\n",
              " '681656ce231c064dde263f35',\n",
              " '681656ce231c064dde263f36',\n",
              " '681656ce231c064dde263f37',\n",
              " '681656ce231c064dde263f38',\n",
              " '681656ce231c064dde263f39',\n",
              " '681656ce231c064dde263f3a',\n",
              " '681656ce231c064dde263f3b',\n",
              " '681656ce231c064dde263f3c',\n",
              " '681656ce231c064dde263f3d',\n",
              " '681656ce231c064dde263f3e',\n",
              " '681656ce231c064dde263f3f',\n",
              " '681656ce231c064dde263f40',\n",
              " '681656ce231c064dde263f41',\n",
              " '681656ce231c064dde263f42',\n",
              " '681656ce231c064dde263f43',\n",
              " '681656ce231c064dde263f44',\n",
              " '681656ce231c064dde263f45',\n",
              " '681656ce231c064dde263f46',\n",
              " '681656ce231c064dde263f47',\n",
              " '681656ce231c064dde263f48',\n",
              " '681656ce231c064dde263f49',\n",
              " '681656ce231c064dde263f4a',\n",
              " '681656ce231c064dde263f4b',\n",
              " '681656ce231c064dde263f4c',\n",
              " '681656ce231c064dde263f4d',\n",
              " '681656ce231c064dde263f4e',\n",
              " '681656ce231c064dde263f4f',\n",
              " '681656ce231c064dde263f50',\n",
              " '681656ce231c064dde263f51',\n",
              " '681656ce231c064dde263f52',\n",
              " '681656ce231c064dde263f53',\n",
              " '681656ce231c064dde263f54',\n",
              " '681656ce231c064dde263f55',\n",
              " '681656ce231c064dde263f56',\n",
              " '681656ce231c064dde263f57',\n",
              " '681656ce231c064dde263f58',\n",
              " '681656ce231c064dde263f59',\n",
              " '681656ce231c064dde263f5a',\n",
              " '681656ce231c064dde263f5b',\n",
              " '681656ce231c064dde263f5c',\n",
              " '681656ce231c064dde263f5d',\n",
              " '681656ce231c064dde263f5e',\n",
              " '681656ce231c064dde263f5f',\n",
              " '681656ce231c064dde263f60',\n",
              " '681656ce231c064dde263f61',\n",
              " '681656ce231c064dde263f62',\n",
              " '681656ce231c064dde263f63',\n",
              " '681656ce231c064dde263f64',\n",
              " '681656ce231c064dde263f65',\n",
              " '681656ce231c064dde263f66',\n",
              " '681656ce231c064dde263f67',\n",
              " '681656ce231c064dde263f68',\n",
              " '681656ce231c064dde263f69',\n",
              " '681656ce231c064dde263f6a',\n",
              " '681656ce231c064dde263f6b',\n",
              " '681656ce231c064dde263f6c',\n",
              " '681656ce231c064dde263f6d',\n",
              " '681656ce231c064dde263f6e',\n",
              " '681656ce231c064dde263f6f',\n",
              " '681656ce231c064dde263f70',\n",
              " '681656ce231c064dde263f71',\n",
              " '681656ce231c064dde263f72',\n",
              " '681656ce231c064dde263f73',\n",
              " '681656ce231c064dde263f74',\n",
              " '681656ce231c064dde263f75',\n",
              " '681656ce231c064dde263f76',\n",
              " '681656ce231c064dde263f77',\n",
              " '681656ce231c064dde263f78',\n",
              " '681656ce231c064dde263f79',\n",
              " '681656ce231c064dde263f7a',\n",
              " '681656ce231c064dde263f7b',\n",
              " '681656ce231c064dde263f7c',\n",
              " '681656ce231c064dde263f7d',\n",
              " '681656ce231c064dde263f7e',\n",
              " '681656ce231c064dde263f7f',\n",
              " '681656ce231c064dde263f80',\n",
              " '681656ce231c064dde263f81',\n",
              " '681656ce231c064dde263f82',\n",
              " '681656ce231c064dde263f83',\n",
              " '681656ce231c064dde263f84',\n",
              " '681656ce231c064dde263f85',\n",
              " '681656ce231c064dde263f86',\n",
              " '681656ce231c064dde263f87',\n",
              " '681656ce231c064dde263f88',\n",
              " '681656ce231c064dde263f89',\n",
              " '681656ce231c064dde263f8a',\n",
              " '681656ce231c064dde263f8b',\n",
              " '681656ce231c064dde263f8c',\n",
              " '681656ce231c064dde263f8d',\n",
              " '681656ce231c064dde263f8e',\n",
              " '681656ce231c064dde263f8f',\n",
              " '681656ce231c064dde263f90',\n",
              " '681656ce231c064dde263f91',\n",
              " '681656ce231c064dde263f92',\n",
              " '681656ce231c064dde263f93',\n",
              " '681656ce231c064dde263f94',\n",
              " '681656ce231c064dde263f95',\n",
              " '681656ce231c064dde263f96',\n",
              " '681656ce231c064dde263f97',\n",
              " '681656ce231c064dde263f98',\n",
              " '681656ce231c064dde263f99',\n",
              " '681656ce231c064dde263f9a',\n",
              " '681656ce231c064dde263f9b',\n",
              " '681656ce231c064dde263f9c',\n",
              " '681656ce231c064dde263f9d',\n",
              " '681656ce231c064dde263f9e',\n",
              " '681656ce231c064dde263f9f',\n",
              " '681656ce231c064dde263fa0',\n",
              " '681656ce231c064dde263fa1',\n",
              " '681656ce231c064dde263fa2',\n",
              " '681656ce231c064dde263fa3',\n",
              " '681656ce231c064dde263fa4',\n",
              " '681656ce231c064dde263fa5',\n",
              " '681656ce231c064dde263fa6',\n",
              " '681656ce231c064dde263fa7',\n",
              " '681656ce231c064dde263fa8',\n",
              " '681656ce231c064dde263fa9',\n",
              " '681656ce231c064dde263faa',\n",
              " '681656ce231c064dde263fab',\n",
              " '681656ce231c064dde263fac',\n",
              " '681656ce231c064dde263fad',\n",
              " '681656ce231c064dde263fae',\n",
              " '681656ce231c064dde263faf',\n",
              " '681656ce231c064dde263fb0',\n",
              " '681656ce231c064dde263fb1',\n",
              " '681656ce231c064dde263fb2',\n",
              " '681656ce231c064dde263fb3',\n",
              " '681656ce231c064dde263fb4',\n",
              " '681656ce231c064dde263fb5',\n",
              " '681656ce231c064dde263fb6',\n",
              " '681656ce231c064dde263fb7',\n",
              " '681656ce231c064dde263fb8',\n",
              " '681656ce231c064dde263fb9',\n",
              " '681656ce231c064dde263fba',\n",
              " '681656ce231c064dde263fbb',\n",
              " '681656ce231c064dde263fbc',\n",
              " '681656ce231c064dde263fbd',\n",
              " '681656ce231c064dde263fbe',\n",
              " '681656ce231c064dde263fbf',\n",
              " '681656ce231c064dde263fc0',\n",
              " '681656ce231c064dde263fc1',\n",
              " '681656ce231c064dde263fc2',\n",
              " '681656ce231c064dde263fc3',\n",
              " '681656ce231c064dde263fc4',\n",
              " '681656ce231c064dde263fc5',\n",
              " '681656ce231c064dde263fc6',\n",
              " '681656ce231c064dde263fc7',\n",
              " '681656ce231c064dde263fc8',\n",
              " '681656ce231c064dde263fc9',\n",
              " '681656ce231c064dde263fca',\n",
              " '681656ce231c064dde263fcb',\n",
              " '681656ce231c064dde263fcc',\n",
              " '681656ce231c064dde263fcd',\n",
              " '681656ce231c064dde263fce',\n",
              " '681656ce231c064dde263fcf',\n",
              " '681656ce231c064dde263fd0',\n",
              " '681656ce231c064dde263fd1',\n",
              " '681656ce231c064dde263fd2',\n",
              " '681656ce231c064dde263fd3',\n",
              " '681656ce231c064dde263fd4',\n",
              " '681656ce231c064dde263fd5',\n",
              " '681656ce231c064dde263fd6',\n",
              " '681656ce231c064dde263fd7',\n",
              " '681656ce231c064dde263fd8',\n",
              " '681656ce231c064dde263fd9',\n",
              " '681656ce231c064dde263fda',\n",
              " '681656ce231c064dde263fdb',\n",
              " '681656ce231c064dde263fdc',\n",
              " '681656ce231c064dde263fdd',\n",
              " '681656ce231c064dde263fde',\n",
              " '681656ce231c064dde263fdf',\n",
              " '681656ce231c064dde263fe0',\n",
              " '681656ce231c064dde263fe1',\n",
              " '681656ce231c064dde263fe2',\n",
              " '681656ce231c064dde263fe3',\n",
              " '681656ce231c064dde263fe4',\n",
              " '681656ce231c064dde263fe5',\n",
              " '681656ce231c064dde263fe6',\n",
              " '681656ce231c064dde263fe7',\n",
              " '681656ce231c064dde263fe8',\n",
              " '681656ce231c064dde263fe9',\n",
              " '681656ce231c064dde263fea',\n",
              " '681656ce231c064dde263feb',\n",
              " '681656ce231c064dde263fec',\n",
              " '681656ce231c064dde263fed',\n",
              " '681656ce231c064dde263fee',\n",
              " '681656ce231c064dde263fef',\n",
              " '681656ce231c064dde263ff0',\n",
              " '681656ce231c064dde263ff1',\n",
              " '681656ce231c064dde263ff2',\n",
              " '681656ce231c064dde263ff3',\n",
              " '681656ce231c064dde263ff4',\n",
              " '681656ce231c064dde263ff5',\n",
              " '681656ce231c064dde263ff6',\n",
              " '681656ce231c064dde263ff7',\n",
              " '681656ce231c064dde263ff8',\n",
              " '681656ce231c064dde263ff9',\n",
              " '681656ce231c064dde263ffa',\n",
              " '681656ce231c064dde263ffb',\n",
              " '681656ce231c064dde263ffc',\n",
              " '681656ce231c064dde263ffd',\n",
              " '681656ce231c064dde263ffe',\n",
              " '681656ce231c064dde263fff',\n",
              " '681656ce231c064dde264000',\n",
              " '681656ce231c064dde264001',\n",
              " '681656ce231c064dde264002',\n",
              " '681656ce231c064dde264003',\n",
              " '681656ce231c064dde264004',\n",
              " '681656ce231c064dde264005',\n",
              " '681656ce231c064dde264006',\n",
              " '681656ce231c064dde264007',\n",
              " '681656ce231c064dde264008',\n",
              " '681656ce231c064dde264009',\n",
              " '681656ce231c064dde26400a',\n",
              " '681656ce231c064dde26400b',\n",
              " '681656ce231c064dde26400c',\n",
              " '681656ce231c064dde26400d',\n",
              " '681656ce231c064dde26400e',\n",
              " '681656ce231c064dde26400f',\n",
              " '681656ce231c064dde264010',\n",
              " '681656ce231c064dde264011',\n",
              " '681656ce231c064dde264012',\n",
              " '681656ce231c064dde264013',\n",
              " '681656ce231c064dde264014',\n",
              " '681656ce231c064dde264015',\n",
              " '681656ce231c064dde264016',\n",
              " '681656ce231c064dde264017',\n",
              " '681656ce231c064dde264018',\n",
              " '681656ce231c064dde264019',\n",
              " '681656ce231c064dde26401a',\n",
              " '681656ce231c064dde26401b',\n",
              " '681656ce231c064dde26401c',\n",
              " '681656ce231c064dde26401d',\n",
              " '681656ce231c064dde26401e',\n",
              " '681656ce231c064dde26401f',\n",
              " '681656ce231c064dde264020',\n",
              " '681656ce231c064dde264021',\n",
              " '681656ce231c064dde264022',\n",
              " '681656ce231c064dde264023',\n",
              " '681656ce231c064dde264024',\n",
              " '681656ce231c064dde264025',\n",
              " '681656ce231c064dde264026',\n",
              " '681656ce231c064dde264027',\n",
              " '681656ce231c064dde264028',\n",
              " '681656ce231c064dde264029',\n",
              " '681656ce231c064dde26402a',\n",
              " '681656ce231c064dde26402b',\n",
              " '681656ce231c064dde26402c',\n",
              " '681656ce231c064dde26402d',\n",
              " '681656ce231c064dde26402e',\n",
              " '681656ce231c064dde26402f',\n",
              " '681656ce231c064dde264030',\n",
              " '681656ce231c064dde264031',\n",
              " '681656ce231c064dde264032',\n",
              " '681656ce231c064dde264033',\n",
              " '681656ce231c064dde264034',\n",
              " '681656ce231c064dde264035',\n",
              " '681656ce231c064dde264036',\n",
              " '681656ce231c064dde264037',\n",
              " '681656ce231c064dde264038',\n",
              " '681656ce231c064dde264039',\n",
              " '681656ce231c064dde26403a',\n",
              " '681656ce231c064dde26403b',\n",
              " '681656ce231c064dde26403c',\n",
              " '681656ce231c064dde26403d',\n",
              " '681656ce231c064dde26403e',\n",
              " '681656ce231c064dde26403f',\n",
              " '681656ce231c064dde264040',\n",
              " '681656ce231c064dde264041',\n",
              " '681656ce231c064dde264042',\n",
              " '681656ce231c064dde264043',\n",
              " '681656ce231c064dde264044',\n",
              " '681656ce231c064dde264045',\n",
              " '681656ce231c064dde264046',\n",
              " '681656ce231c064dde264047',\n",
              " '681656ce231c064dde264048',\n",
              " '681656ce231c064dde264049',\n",
              " '681656ce231c064dde26404a',\n",
              " '681656ce231c064dde26404b',\n",
              " '681656ce231c064dde26404c',\n",
              " '681656ce231c064dde26404d',\n",
              " '681656ce231c064dde26404e',\n",
              " '681656ce231c064dde26404f',\n",
              " '681656ce231c064dde264050',\n",
              " '681656ce231c064dde264051',\n",
              " '681656ce231c064dde264052',\n",
              " '681656ce231c064dde264053',\n",
              " '681656ce231c064dde264054',\n",
              " '681656ce231c064dde264055',\n",
              " '681656ce231c064dde264056',\n",
              " '681656ce231c064dde264057',\n",
              " '681656ce231c064dde264058',\n",
              " '681656ce231c064dde264059',\n",
              " '681656ce231c064dde26405a',\n",
              " '681656ce231c064dde26405b',\n",
              " '681656ce231c064dde26405c',\n",
              " '681656ce231c064dde26405d',\n",
              " '681656ce231c064dde26405e',\n",
              " '681656ce231c064dde26405f',\n",
              " '681656ce231c064dde264060',\n",
              " '681656ce231c064dde264061',\n",
              " '681656ce231c064dde264062',\n",
              " '681656ce231c064dde264063',\n",
              " '681656ce231c064dde264064',\n",
              " '681656ce231c064dde264065',\n",
              " '681656ce231c064dde264066',\n",
              " '681656ce231c064dde264067',\n",
              " '681656ce231c064dde264068',\n",
              " '681656ce231c064dde264069',\n",
              " '681656ce231c064dde26406a',\n",
              " '681656ce231c064dde26406b',\n",
              " '681656ce231c064dde26406c',\n",
              " '681656ce231c064dde26406d',\n",
              " '681656ce231c064dde26406e',\n",
              " '681656ce231c064dde26406f',\n",
              " '681656ce231c064dde264070',\n",
              " '681656ce231c064dde264071',\n",
              " '681656ce231c064dde264072',\n",
              " '681656ce231c064dde264073',\n",
              " '681656ce231c064dde264074',\n",
              " '681656ce231c064dde264075',\n",
              " '681656ce231c064dde264076',\n",
              " '681656ce231c064dde264077',\n",
              " '681656ce231c064dde264078',\n",
              " '681656ce231c064dde264079',\n",
              " '681656ce231c064dde26407a',\n",
              " '681656ce231c064dde26407b',\n",
              " '681656ce231c064dde26407c',\n",
              " '681656ce231c064dde26407d',\n",
              " '681656ce231c064dde26407e',\n",
              " '681656ce231c064dde26407f',\n",
              " '681656ce231c064dde264080',\n",
              " '681656ce231c064dde264081',\n",
              " '681656ce231c064dde264082',\n",
              " '681656ce231c064dde264083',\n",
              " '681656ce231c064dde264084',\n",
              " '681656ce231c064dde264085',\n",
              " '681656ce231c064dde264086',\n",
              " '681656ce231c064dde264087',\n",
              " '681656ce231c064dde264088',\n",
              " '681656ce231c064dde264089',\n",
              " '681656ce231c064dde26408a',\n",
              " '681656ce231c064dde26408b',\n",
              " '681656ce231c064dde26408c',\n",
              " '681656ce231c064dde26408d',\n",
              " '681656ce231c064dde26408e',\n",
              " '681656ce231c064dde26408f',\n",
              " '681656ce231c064dde264090',\n",
              " '681656ce231c064dde264091',\n",
              " '681656ce231c064dde264092',\n",
              " '681656ce231c064dde264093',\n",
              " '681656ce231c064dde264094',\n",
              " '681656ce231c064dde264095',\n",
              " '681656ce231c064dde264096',\n",
              " '681656ce231c064dde264097',\n",
              " '681656ce231c064dde264098']"
            ]
          },
          "metadata": {},
          "execution_count": 11
        }
      ]
    },
    {
      "cell_type": "markdown",
      "source": [
        "## Connect embeddings to the dataset"
      ],
      "metadata": {
        "id": "TrFu7Z62eYKn"
      }
    },
    {
      "cell_type": "code",
      "source": [
        "import pickle\n",
        "with open(path /'paintings_embeddings.pickle', 'rb') as f:\n",
        "    embeddings = pickle.load(f)\n",
        "\n",
        "\n",
        "assert len(embeddings) == len(os.listdir(images_dir))\n"
      ],
      "metadata": {
        "collapsed": true,
        "id": "2-jCgA97ekGa",
        "colab": {
          "base_uri": "https://localhost:8080/"
        },
        "outputId": "a6903967-4f74-4a8e-ba24-21bfb4d969bc"
      },
      "execution_count": 12,
      "outputs": [
        {
          "output_type": "stream",
          "name": "stderr",
          "text": [
            "<ipython-input-12-3f86fdde16ef>:3: DeprecationWarning: numpy.core.numeric is deprecated and has been renamed to numpy._core.numeric. The numpy._core namespace contains private NumPy internals and its use is discouraged, as NumPy internals can change without warning in any release. In practice, most real-world usage of numpy.core is to access functionality in the public NumPy API. If that is the case, use the public NumPy API. If not, you are using NumPy internals. If you would still like to access an internal attribute, use numpy._core.numeric._frombuffer.\n",
            "  embeddings = pickle.load(f)\n"
          ]
        }
      ]
    },
    {
      "cell_type": "code",
      "source": [
        "# Every sample is an image, here we connect a sample to its embedding\n",
        "for sample in dataset:\n",
        "  sample[\"embedding\"] = embeddings[Path(sample.filepath)]\n",
        "  sample.save()\n",
        "\n",
        "dataset.save()"
      ],
      "metadata": {
        "id": "AJsDDSBpqciY"
      },
      "execution_count": 13,
      "outputs": []
    },
    {
      "cell_type": "code",
      "source": [
        "dataset.view()"
      ],
      "metadata": {
        "id": "_fPagGQtwz6U",
        "colab": {
          "base_uri": "https://localhost:8080/"
        },
        "outputId": "88fa0314-f6ab-42e7-eef8-5a8b414dd303"
      },
      "execution_count": 14,
      "outputs": [
        {
          "output_type": "execute_result",
          "data": {
            "text/plain": [
              "Dataset:     Hokusai_paintings\n",
              "Media type:  image\n",
              "Num samples: 832\n",
              "Sample fields:\n",
              "    id:               fiftyone.core.fields.ObjectIdField\n",
              "    filepath:         fiftyone.core.fields.StringField\n",
              "    tags:             fiftyone.core.fields.ListField(fiftyone.core.fields.StringField)\n",
              "    metadata:         fiftyone.core.fields.EmbeddedDocumentField(fiftyone.core.metadata.ImageMetadata)\n",
              "    created_at:       fiftyone.core.fields.DateTimeField\n",
              "    last_modified_at: fiftyone.core.fields.DateTimeField\n",
              "    embedding:        fiftyone.core.fields.VectorField\n",
              "View stages:\n",
              "    ---"
            ]
          },
          "metadata": {},
          "execution_count": 14
        }
      ]
    },
    {
      "cell_type": "markdown",
      "source": [
        "## Principal Component Analysis"
      ],
      "metadata": {
        "id": "xZcBxbQB6OSj"
      }
    },
    {
      "cell_type": "code",
      "source": [
        "import fiftyone.brain as fob\n",
        "\n",
        "embeddings = dataset.values('embedding')\n",
        "\n",
        "pca_brain_key = f\"{dataset_name}_pca\"\n",
        "\n",
        "# Check if brain key exists\n",
        "if dataset.has_brain_run(pca_brain_key):\n",
        "    # Delete the brain key\n",
        "    dataset.clear_brain_runs(pca_brain_key)\n",
        "    dataset.save()\n",
        "\n",
        "# Compute 2D representation\n",
        "results = fob.compute_visualization(\n",
        "    dataset,\n",
        "    embeddings=embeddings,\n",
        "    num_dims=2,\n",
        "    method=\"pca\",\n",
        "    brain_key=pca_brain_key,\n",
        "    verbose=True,\n",
        "    seed=51,\n",
        ")"
      ],
      "metadata": {
        "id": "ssRCRvTnwMIf",
        "colab": {
          "base_uri": "https://localhost:8080/"
        },
        "outputId": "bac2ab1e-230e-4eb1-8d71-24a7ad5f519a"
      },
      "execution_count": 15,
      "outputs": [
        {
          "output_type": "stream",
          "name": "stdout",
          "text": [
            "Generating visualization...\n"
          ]
        },
        {
          "output_type": "stream",
          "name": "stderr",
          "text": [
            "INFO:fiftyone.brain.visualization:Generating visualization...\n"
          ]
        }
      ]
    },
    {
      "cell_type": "markdown",
      "source": [
        "## Clustering"
      ],
      "metadata": {
        "id": "pKlxfgnY6KZe"
      }
    },
    {
      "cell_type": "code",
      "source": [
        "import numpy as np\n",
        "from sklearn.cluster import KMeans\n",
        "import fiftyone as fo\n",
        "\n",
        "\n",
        "# Choose the number of clusters\n",
        "num_clusters = 5\n",
        "kmeans = KMeans(n_clusters=num_clusters, random_state=42)\n",
        "labels = kmeans.fit_predict(embeddings)\n",
        "\n",
        "# Assign each sample its cluster label\n",
        "for sample, label in zip(dataset, labels):\n",
        "    sample[\"k_means_cluster\"] = int(label)\n",
        "    sample.save()\n",
        "\n",
        "print(\"Clusters computed and stored in each sample's 'cluster' field.\")\n"
      ],
      "metadata": {
        "id": "Gj5TijwR6DVL",
        "colab": {
          "base_uri": "https://localhost:8080/"
        },
        "outputId": "e15b0869-d18e-4d8a-c246-c59110c919ae"
      },
      "execution_count": 21,
      "outputs": [
        {
          "output_type": "stream",
          "name": "stdout",
          "text": [
            "Clusters computed and stored in each sample's 'cluster' field.\n"
          ]
        }
      ]
    },
    {
      "cell_type": "code",
      "source": [
        "# Save the dataset to keep views in sync\n",
        "dataset.save()"
      ],
      "metadata": {
        "id": "U7j2zuGnTlEn"
      },
      "execution_count": 22,
      "outputs": []
    },
    {
      "cell_type": "markdown",
      "source": [
        "## Launch the FiftyOne App"
      ],
      "metadata": {
        "id": "o6dW6QODPKVl"
      }
    },
    {
      "cell_type": "code",
      "source": [
        "# Launch the FiftyOne App, if you get an error try going into Runtime -> Run All\n",
        "# If that fails, go to Runtime -> Disconnect and Delete Runtime\n",
        "session = fo.launch_app(dataset, auto=False)"
      ],
      "metadata": {
        "id": "OEh0EC3IX6Dl",
        "colab": {
          "base_uri": "https://localhost:8080/"
        },
        "outputId": "4a42a57e-b592-4ee5-8209-9597d6efc1b8"
      },
      "execution_count": 23,
      "outputs": [
        {
          "output_type": "stream",
          "name": "stdout",
          "text": [
            "Session launched. Run `session.show()` to open the App in a cell output.\n"
          ]
        },
        {
          "output_type": "stream",
          "name": "stderr",
          "text": [
            "INFO:fiftyone.core.session.session:Session launched. Run `session.show()` to open the App in a cell output.\n"
          ]
        },
        {
          "output_type": "stream",
          "name": "stdout",
          "text": [
            "\n",
            "Welcome to\n",
            "\n",
            "███████╗██╗███████╗████████╗██╗   ██╗ ██████╗ ███╗   ██╗███████╗\n",
            "██╔════╝██║██╔════╝╚══██╔══╝╚██╗ ██╔╝██╔═══██╗████╗  ██║██╔════╝\n",
            "█████╗  ██║█████╗     ██║    ╚████╔╝ ██║   ██║██╔██╗ ██║█████╗\n",
            "██╔══╝  ██║██╔══╝     ██║     ╚██╔╝  ██║   ██║██║╚██╗██║██╔══╝\n",
            "██║     ██║██║        ██║      ██║   ╚██████╔╝██║ ╚████║███████╗\n",
            "╚═╝     ╚═╝╚═╝        ╚═╝      ╚═╝    ╚═════╝ ╚═╝  ╚═══╝╚══════╝ v1.4.1\n",
            "\n",
            "If you're finding FiftyOne helpful, here's how you can get involved:\n",
            "\n",
            "|\n",
            "|  ⭐⭐⭐ Give the project a star on GitHub ⭐⭐⭐\n",
            "|  https://github.com/voxel51/fiftyone\n",
            "|\n",
            "|  🚀🚀🚀 Join the FiftyOne Discord community 🚀🚀🚀\n",
            "|  https://community.voxel51.com/\n",
            "|\n",
            "\n"
          ]
        },
        {
          "output_type": "stream",
          "name": "stderr",
          "text": [
            "INFO:fiftyone.core.session.session:\n",
            "Welcome to\n",
            "\n",
            "███████╗██╗███████╗████████╗██╗   ██╗ ██████╗ ███╗   ██╗███████╗\n",
            "██╔════╝██║██╔════╝╚══██╔══╝╚██╗ ██╔╝██╔═══██╗████╗  ██║██╔════╝\n",
            "█████╗  ██║█████╗     ██║    ╚████╔╝ ██║   ██║██╔██╗ ██║█████╗\n",
            "██╔══╝  ██║██╔══╝     ██║     ╚██╔╝  ██║   ██║██║╚██╗██║██╔══╝\n",
            "██║     ██║██║        ██║      ██║   ╚██████╔╝██║ ╚████║███████╗\n",
            "╚═╝     ╚═╝╚═╝        ╚═╝      ╚═╝    ╚═════╝ ╚═╝  ╚═══╝╚══════╝ v1.4.1\n",
            "\n",
            "If you're finding FiftyOne helpful, here's how you can get involved:\n",
            "\n",
            "|\n",
            "|  ⭐⭐⭐ Give the project a star on GitHub ⭐⭐⭐\n",
            "|  https://github.com/voxel51/fiftyone\n",
            "|\n",
            "|  🚀🚀🚀 Join the FiftyOne Discord community 🚀🚀🚀\n",
            "|  https://community.voxel51.com/\n",
            "|\n",
            "\n"
          ]
        }
      ]
    },
    {
      "cell_type": "code",
      "source": [
        "# Copy and paste the session url in a separate browser window\n",
        "session.url"
      ],
      "metadata": {
        "id": "__p-ZnSLYdLS",
        "colab": {
          "base_uri": "https://localhost:8080/",
          "height": 36
        },
        "outputId": "ecad81a8-d011-4a6b-d5af-7d764ea3445b"
      },
      "execution_count": 24,
      "outputs": [
        {
          "output_type": "execute_result",
          "data": {
            "text/plain": [
              "'https://5151-m-s-3jd2r6yrvwkgw-c.us-east1-1.prod.colab.dev?polling=true'"
            ],
            "application/vnd.google.colaboratory.intrinsic+json": {
              "type": "string"
            }
          },
          "metadata": {},
          "execution_count": 24
        }
      ]
    }
  ]
}