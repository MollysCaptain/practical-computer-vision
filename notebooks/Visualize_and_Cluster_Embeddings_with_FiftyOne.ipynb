{
  "nbformat": 4,
  "nbformat_minor": 0,
  "metadata": {
    "colab": {
      "provenance": [],
      "include_colab_link": true
    },
    "kernelspec": {
      "name": "python3",
      "display_name": "Python 3"
    },
    "language_info": {
      "name": "python"
    }
  },
  "cells": [
    {
      "cell_type": "markdown",
      "metadata": {
        "id": "view-in-github",
        "colab_type": "text"
      },
      "source": [
        "<a href=\"https://colab.research.google.com/github/andandandand/practical-computer-vision/blob/main/notebooks/Visualize_and_Cluster_Embeddings_with_FiftyOne.ipynb\" target=\"_parent\"><img src=\"https://colab.research.google.com/assets/colab-badge.svg\" alt=\"Open In Colab\"/></a>"
      ]
    },
    {
      "cell_type": "markdown",
      "source": [
        "# Tutorial - Visualize Embedding Spaces with FiftyOne\n",
        "\n",
        "#### Author: Antonio Rueda-Toicen\n",
        "**antonio.rueda.toicen 'at' hpi 'dot' de**\n",
        "\n",
        "\n",
        "[![Creative Commons License](https://i.creativecommons.org/l/by/4.0/88x31.png)](http://creativecommons.org/licenses/by/4.0/)\n",
        "\n",
        "This work is licensed under a [Creative Commons Attribution 4.0 International License](http://creativecommons.org/licenses/by/4.0/)."
      ],
      "metadata": {
        "id": "F5DQaW2KzSDJ"
      }
    },
    {
      "cell_type": "markdown",
      "source": [
        "## Overview"
      ],
      "metadata": {
        "id": "m9MS6XhMzvXw"
      }
    },
    {
      "cell_type": "markdown",
      "source": [
        "In this notebook we learn how to visualize an embedding space using FiftyOne after applying [Principal Component Analysis](https://en.wikipedia.org/wiki/Principal_component_analysis) to reduce its dimensionality. We also use `sklearn` and `sklearn-extra` to produce clusters using the [K-means](https://en.wikipedia.org/wiki/K-means_clustering) algorithm.\n",
        "\n",
        "## Image data\n",
        "The folder with the image data and can be found [here](https://drive.google.com/drive/folders/1oZOMfxEYcrYctZSdx3NHO8KTc0ETrUFI?usp=drive_link).\n",
        "\n",
        "You can add it to your own Google Drive by **right clicking on the folder name** -> **Organize** -> **Add Shortcut to Drive**. Select the **\"All locations\"** tab -> **My Drive** and then create a folder called `art_recommendation`. This will allow you to access the data without having to download it.  "
      ],
      "metadata": {
        "id": "PXlHspZFzdGy"
      }
    },
    {
      "cell_type": "code",
      "execution_count": 1,
      "metadata": {
        "id": "A9r9b467SAVZ"
      },
      "outputs": [],
      "source": [
        "# Install fiftyone\n",
        "!pip install fiftyone==1.4.1 > /dev/null\n"
      ]
    },
    {
      "cell_type": "code",
      "source": [
        "from google.colab import drive\n",
        "drive.mount('/gdrive')"
      ],
      "metadata": {
        "id": "PcgftoPbSKQ3"
      },
      "execution_count": null,
      "outputs": []
    },
    {
      "cell_type": "code",
      "source": [
        "from pathlib import Path\n",
        "import os\n",
        "artist_name = 'Hokusai'\n",
        "path = Path(f'/gdrive/MyDrive/art_recommendation/{artist_name}')"
      ],
      "metadata": {
        "id": "mene9wtAUa78"
      },
      "execution_count": null,
      "outputs": []
    },
    {
      "cell_type": "code",
      "source": [
        "# here 'paintings' and 'paintings_embeddings.pickle' should both appear\n",
        "os.listdir(path)"
      ],
      "metadata": {
        "id": "WrYnrh8ZUgad"
      },
      "execution_count": null,
      "outputs": []
    },
    {
      "cell_type": "code",
      "source": [
        "# Path where the images are\n",
        "images_dir = path / \"paintings\"\n",
        "images_dir"
      ],
      "metadata": {
        "id": "sdf8OWi6Ui2U"
      },
      "execution_count": null,
      "outputs": []
    },
    {
      "cell_type": "code",
      "source": [
        "# Number of images\n",
        "len(os.listdir(images_dir))"
      ],
      "metadata": {
        "id": "lAv2MXgQUqNP"
      },
      "execution_count": null,
      "outputs": []
    },
    {
      "cell_type": "markdown",
      "source": [
        "## Create a fiftyone dataset\n",
        "\n",
        "If fiftyone, datasets are a collection of images to which we can add metadata (labels, quality metrics, embeddings, etc.)."
      ],
      "metadata": {
        "id": "b8PMVDNdd9b0"
      }
    },
    {
      "cell_type": "code",
      "source": [
        "import fiftyone as fo\n",
        "\n",
        "\n",
        "dataset_name = dataset_name = f\"{artist_name}_paintings\"\n",
        "\n",
        "# delete the dataset in case it exists already on the Colab instance\n",
        "# (due to multiple evaluations of the code cell)\n",
        "if fo.dataset_exists(dataset_name):\n",
        "  fo.delete_dataset(dataset_name)"
      ],
      "metadata": {
        "id": "1yj5370mV_IF",
        "collapsed": true
      },
      "execution_count": null,
      "outputs": []
    },
    {
      "cell_type": "code",
      "source": [
        "# this creates an empty dataset\n",
        "dataset = fo.Dataset(dataset_name)\n",
        "dataset"
      ],
      "metadata": {
        "id": "P6wz5OF_Qcs5"
      },
      "execution_count": null,
      "outputs": []
    },
    {
      "cell_type": "code",
      "source": [
        "# We use the location of the images_dir to add samples to the dataset\n",
        "dataset.add_dir(images_dir, dataset_type=fo.types.ImageDirectory)"
      ],
      "metadata": {
        "id": "tlraGrcLQwrQ"
      },
      "execution_count": null,
      "outputs": []
    },
    {
      "cell_type": "markdown",
      "source": [
        "## Connect embeddings to the dataset"
      ],
      "metadata": {
        "id": "TrFu7Z62eYKn"
      }
    },
    {
      "cell_type": "code",
      "source": [
        "import pickle\n",
        "with open(path /'paintings_embeddings.pickle', 'rb') as f:\n",
        "    embeddings = pickle.load(f)\n",
        "\n",
        "\n",
        "assert len(embeddings) == len(os.listdir(images_dir))\n"
      ],
      "metadata": {
        "collapsed": true,
        "id": "2-jCgA97ekGa"
      },
      "execution_count": null,
      "outputs": []
    },
    {
      "cell_type": "code",
      "source": [
        "# Every sample is an image, here we connect a sample to its embedding\n",
        "for sample in dataset:\n",
        "  sample[\"embedding\"] = embeddings[Path(sample.filepath)]\n",
        "  sample.save()\n",
        "\n",
        "dataset.save()"
      ],
      "metadata": {
        "id": "AJsDDSBpqciY"
      },
      "execution_count": null,
      "outputs": []
    },
    {
      "cell_type": "code",
      "source": [
        "dataset.view()"
      ],
      "metadata": {
        "id": "_fPagGQtwz6U"
      },
      "execution_count": null,
      "outputs": []
    },
    {
      "cell_type": "markdown",
      "source": [
        "## Principal Component Analysis"
      ],
      "metadata": {
        "id": "xZcBxbQB6OSj"
      }
    },
    {
      "cell_type": "code",
      "source": [
        "import fiftyone.brain as fob\n",
        "\n",
        "embeddings = dataset.values('embedding')\n",
        "\n",
        "pca_brain_key = f\"{dataset_name}_pca\"\n",
        "\n",
        "# Check if brain key exists\n",
        "if dataset.has_brain_run(pca_brain_key):\n",
        "    # Delete the brain key\n",
        "    dataset.clear_brain_runs(pca_brain_key)\n",
        "    dataset.save()\n",
        "\n",
        "# Compute 2D representation\n",
        "results = fob.compute_visualization(\n",
        "    dataset,\n",
        "    embeddings=embeddings,\n",
        "    num_dims=2,\n",
        "    method=\"pca\",\n",
        "    brain_key=pca_brain_key,\n",
        "    verbose=True,\n",
        "    seed=51,\n",
        ")"
      ],
      "metadata": {
        "id": "ssRCRvTnwMIf"
      },
      "execution_count": null,
      "outputs": []
    },
    {
      "cell_type": "markdown",
      "source": [
        "## Clustering"
      ],
      "metadata": {
        "id": "pKlxfgnY6KZe"
      }
    },
    {
      "cell_type": "code",
      "source": [
        "import numpy as np\n",
        "from sklearn.cluster import KMeans\n",
        "import fiftyone as fo\n",
        "\n",
        "\n",
        "# Choose the number of clusters\n",
        "num_clusters = 5\n",
        "kmeans = KMeans(n_clusters=num_clusters, random_state=42)\n",
        "labels = kmeans.fit_predict(embeddings)\n",
        "\n",
        "# Assign each sample its cluster label\n",
        "for sample, label in zip(dataset, labels):\n",
        "    sample[\"k_means_cluster\"] = int(label)\n",
        "    sample.save()\n",
        "\n",
        "print(\"Clusters computed and stored in each sample's 'cluster' field.\")\n"
      ],
      "metadata": {
        "id": "Gj5TijwR6DVL"
      },
      "execution_count": null,
      "outputs": []
    },
    {
      "cell_type": "code",
      "source": [
        "# Save the dataset to keep views in sync\n",
        "dataset.save()"
      ],
      "metadata": {
        "id": "U7j2zuGnTlEn"
      },
      "execution_count": null,
      "outputs": []
    },
    {
      "cell_type": "markdown",
      "source": [
        "## Launch the FiftyOne App"
      ],
      "metadata": {
        "id": "o6dW6QODPKVl"
      }
    },
    {
      "cell_type": "code",
      "source": [
        "# Launch the FiftyOne App, if you get an error try going into Runtime -> Run All\n",
        "# If that fails, go to Runtime -> Disconnect and Delete Runtime\n",
        "session = fo.launch_app(dataset, auto=False)"
      ],
      "metadata": {
        "id": "OEh0EC3IX6Dl"
      },
      "execution_count": null,
      "outputs": []
    },
    {
      "cell_type": "code",
      "source": [
        "# Copy and paste the session url in a separate browser window\n",
        "session.url"
      ],
      "metadata": {
        "id": "__p-ZnSLYdLS"
      },
      "execution_count": null,
      "outputs": []
    }
  ]
}