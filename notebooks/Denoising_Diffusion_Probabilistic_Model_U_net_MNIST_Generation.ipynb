{
  "nbformat": 4,
  "nbformat_minor": 0,
  "metadata": {
    "colab": {
      "provenance": [],
      "machine_shape": "hm",
      "gpuType": "A100",
      "toc_visible": true
    },
    "kernelspec": {
      "name": "python3",
      "display_name": "Python 3"
    },
    "language_info": {
      "name": "python"
    },
    "accelerator": "GPU"
  },
  "cells": [
    {
      "cell_type": "code",
      "source": [
        "!pip install fiftyone==1.5.2 > /dev/null"
      ],
      "metadata": {
        "id": "4kFm4d6mN1YZ"
      },
      "execution_count": 1,
      "outputs": []
    },
    {
      "cell_type": "markdown",
      "source": [
        "## Understanding Denoising Diffusion Probabilistic Models (MNIST digit generation)"
      ],
      "metadata": {
        "id": "Feagam036AYl"
      }
    },
    {
      "cell_type": "markdown",
      "source": [
        "![](https://raw.githubusercontent.com/andandandand/practical-computer-vision/refs/heads/main/images/generated_mnist_digits_FO.png)"
      ],
      "metadata": {
        "id": "7izynWdRGH1x"
      }
    },
    {
      "cell_type": "markdown",
      "source": [
        "\n",
        "\n",
        "* U-Net: For the noise prediction network in the Denoising Diffusion Probabilisit Model (DDPM)\n",
        "* Diffusion Process: Defines how noise is added (forward) and removed (reverse).\n",
        "* MNIST Classifier: A standard convolutional neural network for classifying digits. It doesn't share gradients or information with the U-net, we use it just to evaluate the quality of predictions.\n",
        "* Training Loops: One for the DDPM, one for the classifier.\n",
        "* Sampling & Evaluation: Generating digits from the DDPM and classifying them."
      ],
      "metadata": {
        "id": "r5GqxAMl7ndl"
      }
    },
    {
      "cell_type": "markdown",
      "source": [
        "\n",
        "\n",
        "# Benefits of U-Net's Downsampling-Upsampling Architecture in Diffusion Models\n",
        "\n",
        "## Multi-scale Feature Processing\n",
        "- U-Net captures hierarchical image features through progressive downsampling\n",
        "- Lower resolutions encode global context and structure\n",
        "- Higher resolutions preserve fine details and textures\n",
        "- This multi-scale approach matches diffusion's noise characteristics at different timesteps\n",
        "\n",
        "## Efficient Long-range Dependencies\n",
        "- Downsampling increases effective receptive field without computational explosion\n",
        "- Later timesteps (more noise) require global context to reconstruct structure\n",
        "- Earlier timesteps (less noise) need local precision for detail refinement\n",
        "- U-Net addresses both through its pyramidal architecture\n",
        "\n",
        "## Skip Connections Preserve Information\n",
        "- Skip connections between corresponding encoding/decoding layers maintain critical information\n",
        "- These connections combat vanishing gradients in deep networks\n",
        "- They create residual pathways that help preserve spatial details lost during downsampling\n",
        "- Particularly valuable in diffusion models where preserving underlying image structure is essential\n",
        "\n",
        "## Parameter Efficiency\n",
        "- Downsampling reduces spatial dimensions, allowing deeper networks with manageable parameters\n",
        "- Deeper networks capture more complex noise patterns across diffusion timesteps\n",
        "- Upsampling gradually reconstructs spatial resolution while maintaining semantic understanding\n",
        "- This efficiency enables handling the complex mapping from noisy to clean images\n",
        "\n",
        "## Resolution-dependent Processing\n",
        "- Different stages in diffusion process benefit from different resolution processing:\n",
        "  - Early denoising (high noise): Benefits from low-resolution processing focused on structural elements\n",
        "  - Late denoising (low noise): Requires high-resolution processing for detail refinement\n",
        "- U-Net's architecture naturally aligns with this progression\n",
        "\n",
        "## Consistent with Diffusion Physics\n",
        "- Noise diffusion follows a coarse-to-fine pattern in physical systems\n",
        "- U-Net's architecture mimics this natural process:\n",
        "  - Downsampling path: Identifies global structures in highly noisy images\n",
        "  - Upsampling path: Progressively refines details as noise levels decrease\n",
        "- This alignment improves model convergence and generation quality\n",
        "\n",
        "## Attention Integration\n",
        "- Modern diffusion U-Nets incorporate self-attention at lower resolutions\n",
        "- This combines convolutional inductive bias with transformer-like global reasoning\n",
        "- Particularly valuable for coherent structure generation in highly degraded images\n",
        "\n",
        "The U-Net architecture  balances global context and local detail processing, making it suited for the progressive denoising task of diffusion models across their full timestep spectrum."
      ],
      "metadata": {
        "id": "VtdeQlc7KPO3"
      }
    },
    {
      "cell_type": "code",
      "execution_count": 24,
      "metadata": {
        "colab": {
          "base_uri": "https://localhost:8080/"
        },
        "id": "lTXppAKy0c-b",
        "outputId": "7eae2bd9-beb9-41c2-c3c4-ab3e21de7827"
      },
      "outputs": [
        {
          "output_type": "stream",
          "name": "stdout",
          "text": [
            "Using device: cuda\n"
          ]
        }
      ],
      "source": [
        "import torch\n",
        "import torch.nn as nn\n",
        "import torch.optim as optim\n",
        "from torch.utils.data import DataLoader\n",
        "from torchvision import datasets, transforms\n",
        "from torchvision.utils import save_image, make_grid\n",
        "import matplotlib.pyplot as plt\n",
        "import numpy as np\n",
        "import math\n",
        "import os\n",
        "import shutil\n",
        "import fiftyone as fo\n",
        "from tqdm import tqdm\n",
        "import torch.nn.functional as F\n",
        "\n",
        "# --- Configuration ---\n",
        "DEVICE = \"cuda\" if torch.cuda.is_available() else \"cpu\"\n",
        "print(f\"Using device: {DEVICE}\")\n",
        "\n",
        "IMG_SIZE = 28 # MNIST image size\n",
        "BATCH_SIZE_DDPM = 128\n",
        "BATCH_SIZE_CLASSIFIER = 64\n",
        "# Learning rates\n",
        "LR_DDPM = 1e-3\n",
        "LR_CLASSIFIER = 1e-3\n",
        "EPOCHS_DDPM = 50 # Increase for better results (e.g., 100-200)\n",
        "EPOCHS_CLASSIFIER = 10 # Usually converges faster\n",
        "T = 300 # Number of diffusion timesteps (can be 200-1000)\n",
        "SAVE_INTERVAL_DDPM = 10 # Save generated images every N epochs\n",
        "OUTPUT_DIR = \"ddpm_mnist_output\"\n",
        "CLASSIFIER_MODEL_PATH = os.path.join(OUTPUT_DIR, \"mnist_classifier.pth\")\n",
        "DDPM_MODEL_PATH = os.path.join(OUTPUT_DIR, \"ddpm_unet.pth\")\n",
        "\n",
        "os.makedirs(OUTPUT_DIR, exist_ok=True)\n",
        "\n"
      ]
    },
    {
      "cell_type": "code",
      "source": [
        "# Mount Google Drive and Define Paths\n",
        "import os\n",
        "import shutil\n",
        "from google.colab import drive"
      ],
      "metadata": {
        "id": "t1v14A_-li7Z"
      },
      "execution_count": null,
      "outputs": []
    },
    {
      "cell_type": "code",
      "source": [
        "DRIVE_AVAILABLE = True\n",
        "from google.colab import drive\n",
        "drive.mount('/gdrive')"
      ],
      "metadata": {
        "colab": {
          "base_uri": "https://localhost:8080/"
        },
        "id": "yBcsmn_npcSN",
        "outputId": "aba9fdc1-ed90-467b-d453-48fc5b7a0e79"
      },
      "execution_count": 14,
      "outputs": [
        {
          "output_type": "stream",
          "name": "stdout",
          "text": [
            "Mounted at /gdrive\n"
          ]
        }
      ]
    },
    {
      "cell_type": "code",
      "source": [
        "# Set this to False in case that you don't want to use Google Drive to store models and generated images\n",
        "#DRIVE_AVAILABLE = False"
      ],
      "metadata": {
        "id": "DVe_nG1Opp8V"
      },
      "execution_count": null,
      "outputs": []
    },
    {
      "cell_type": "markdown",
      "source": [
        "## Define Model Paths"
      ],
      "metadata": {
        "id": "Ha87423ksgai"
      }
    },
    {
      "cell_type": "code",
      "source": [
        "# Base directory for models on Google Drive\n",
        "DRIVE_MODEL_ROOT_DIR = \"/content/drive/MyDrive/fiftyone-getting-started-datasets/DDPM_MNIST_Models\"\n",
        "if DRIVE_AVAILABLE:\n",
        "    os.makedirs(DRIVE_MODEL_ROOT_DIR, exist_ok=True)\n",
        "\n",
        "# Local output directory (as before)\n",
        "LOCAL_OUTPUT_DIR = \"ddpm_mnist_output\"\n",
        "os.makedirs(LOCAL_OUTPUT_DIR, exist_ok=True)\n",
        "\n",
        "# Model file names\n",
        "CLASSIFIER_MODEL_FILENAME = \"mnist_classifier.pth\"\n",
        "BEST_CLASSIFIER_MODEL_FILENAME = \"best_mnist_classifier.pth\"\n",
        "DDPM_MODEL_FILENAME = \"ddpm_unet.pth\"\n",
        "BEST_DDPM_MODEL_FILENAME = \"best_ddpm_unet.pth\"\n",
        "\n",
        "# Local Paths\n",
        "CLASSIFIER_MODEL_PATH_LOCAL = os.path.join(LOCAL_OUTPUT_DIR, CLASSIFIER_MODEL_FILENAME)\n",
        "BEST_CLASSIFIER_MODEL_PATH_LOCAL = os.path.join(LOCAL_OUTPUT_DIR, BEST_CLASSIFIER_MODEL_FILENAME)\n",
        "DDPM_MODEL_PATH_LOCAL = os.path.join(LOCAL_OUTPUT_DIR, DDPM_MODEL_FILENAME)\n",
        "BEST_DDPM_MODEL_PATH_LOCAL = os.path.join(LOCAL_OUTPUT_DIR, BEST_DDPM_MODEL_FILENAME)\n",
        "\n",
        "# Google Drive Paths (None if Drive not available)\n",
        "CLASSIFIER_MODEL_PATH_DRIVE = os.path.join(DRIVE_MODEL_ROOT_DIR, CLASSIFIER_MODEL_FILENAME) if DRIVE_AVAILABLE else None\n",
        "BEST_CLASSIFIER_MODEL_PATH_DRIVE = os.path.join(DRIVE_MODEL_ROOT_DIR, BEST_CLASSIFIER_MODEL_FILENAME) if DRIVE_AVAILABLE else None\n",
        "DDPM_MODEL_PATH_DRIVE = os.path.join(DRIVE_MODEL_ROOT_DIR, DDPM_MODEL_FILENAME) if DRIVE_AVAILABLE else None\n",
        "BEST_DDPM_MODEL_PATH_DRIVE = os.path.join(DRIVE_MODEL_ROOT_DIR, BEST_DDPM_MODEL_FILENAME) if DRIVE_AVAILABLE else None\n",
        "\n",
        "print(\"--- Model Paths ---\")\n",
        "print(f\"Local output directory: {LOCAL_OUTPUT_DIR}\")\n",
        "if DRIVE_AVAILABLE:\n",
        "    print(f\"Google Drive model directory: {DRIVE_MODEL_ROOT_DIR}\")\n",
        "else:\n",
        "    print(\"Google Drive not available. Models will be local only.\")\n",
        "\n",
        "print(f\"Local Classifier (Final): {CLASSIFIER_MODEL_PATH_LOCAL}\")\n",
        "print(f\"Local Classifier (Best): {BEST_CLASSIFIER_MODEL_PATH_LOCAL}\")\n",
        "print(f\"Local DDPM (Final): {DDPM_MODEL_PATH_LOCAL}\")\n",
        "print(f\"Local DDPM (Best): {BEST_DDPM_MODEL_PATH_LOCAL}\")\n",
        "\n",
        "if DRIVE_AVAILABLE:\n",
        "    print(f\"Drive Classifier (Final): {CLASSIFIER_MODEL_PATH_DRIVE}\")\n",
        "    print(f\"Drive Classifier (Best): {BEST_CLASSIFIER_MODEL_PATH_DRIVE}\")\n",
        "    print(f\"Drive DDPM (Final): {DDPM_MODEL_PATH_DRIVE}\")\n",
        "    print(f\"Drive DDPM (Best): {BEST_DDPM_MODEL_PATH_DRIVE}\")"
      ],
      "metadata": {
        "colab": {
          "base_uri": "https://localhost:8080/"
        },
        "id": "mqmXYmVNpTp0",
        "outputId": "54bcd1da-5ca9-4690-df54-9d6c54af24ed"
      },
      "execution_count": 15,
      "outputs": [
        {
          "output_type": "stream",
          "name": "stdout",
          "text": [
            "--- Model Paths ---\n",
            "Local output directory: ddpm_mnist_output\n",
            "Google Drive model directory: /content/drive/MyDrive/fiftyone-getting-started-datasets/DDPM_MNIST_Models\n",
            "Local Classifier (Final): ddpm_mnist_output/mnist_classifier.pth\n",
            "Local Classifier (Best): ddpm_mnist_output/best_mnist_classifier.pth\n",
            "Local DDPM (Final): ddpm_mnist_output/ddpm_unet.pth\n",
            "Local DDPM (Best): ddpm_mnist_output/best_ddpm_unet.pth\n",
            "Drive Classifier (Final): /content/drive/MyDrive/fiftyone-getting-started-datasets/DDPM_MNIST_Models/mnist_classifier.pth\n",
            "Drive Classifier (Best): /content/drive/MyDrive/fiftyone-getting-started-datasets/DDPM_MNIST_Models/best_mnist_classifier.pth\n",
            "Drive DDPM (Final): /content/drive/MyDrive/fiftyone-getting-started-datasets/DDPM_MNIST_Models/ddpm_unet.pth\n",
            "Drive DDPM (Best): /content/drive/MyDrive/fiftyone-getting-started-datasets/DDPM_MNIST_Models/best_ddpm_unet.pth\n"
          ]
        }
      ]
    },
    {
      "cell_type": "code",
      "source": [
        "# Cell 3: Configuration\n",
        "DEVICE = \"cuda\" if torch.cuda.is_available() else \"cpu\"\n",
        "print(f\"Using device: {DEVICE}\")\n",
        "\n",
        "IMG_SIZE = 28 # MNIST image size\n",
        "BATCH_SIZE_DDPM = 128\n",
        "BATCH_SIZE_CLASSIFIER = 64\n",
        "# Learning rates\n",
        "LR_DDPM = 1e-3\n",
        "LR_CLASSIFIER = 1e-3\n",
        "\n",
        "# SET THESE CAREFULLY:\n",
        "# 0 means only load, >0 means train (or continue training if model loaded)\n",
        "EPOCHS_DDPM = 50       # e.g., 50 for training, 0 for loading only\n",
        "EPOCHS_CLASSIFIER = 10 # e.g., 10 for training, 0 for loading only\n",
        "\n",
        "T = 300 # Number of diffusion timesteps (can be 200-1000)\n",
        "SAVE_INTERVAL_DDPM = 10 # Save generated images every N epochs during DDPM training\n",
        "# LOCAL_OUTPUT_DIR is used for non-model artifacts like sample images"
      ],
      "metadata": {
        "id": "zEMAb_FMmjTZ"
      },
      "execution_count": null,
      "outputs": []
    },
    {
      "cell_type": "markdown",
      "source": [
        "# Why We Use Positional Embeddings for Timesteps\n",
        "\n",
        "Sinusoidal positional embeddings for timesteps `t` in Denoising Diffusion Probabilistic Models serve several critical functions:\n",
        "\n",
        "## Purpose\n",
        "- The U-Net predicts noise `ε` added to image `x_0` to produce `x_t`\n",
        "- Noise characteristics depend on timestep `t` - early timesteps have minimal noise while late timesteps contain mostly noise\n",
        "- The U-Net requires timestep information to predict the appropriate noise to remove\n",
        "\n",
        "## Problems with Raw Integer Timesteps\n",
        "- **Scale Issues:** Raw integers (0-1000) have disparate magnitudes that complicate neural network learning\n",
        "- **Interpretation Gaps:** Networks may treat each integer as distinct, missing the relationship between adjacent timesteps\n",
        "- **Limited Range:** Raw integers provide no framework for understanding timesteps outside training range\n",
        "- **Insufficient Information:** A single scalar value lacks expressiveness for timestep representation\n",
        "\n",
        "## Benefits of Sinusoidal Positional Embeddings\n",
        "- **Unique Vectors:** Each timestep receives a distinct vector representation\n",
        "- **Fixed Calculation:** Embeddings derive from sine/cosine functions rather than learning, providing consistency\n",
        "- **Continuity:** Smooth functions create proximity between adjacent timesteps in embedding space, enabling interpolation\n",
        "- **Structured Relationships:** For offset `k`, embedding of `t+k` can be expressed as linear function of embedding `t`\n",
        "- **Frequency Spectrum:** Multiple frequencies capture both coarse and fine-grained timestep relationships:\n",
        "  ```\n",
        "  PE(t, 2i)   = sin(t / 10000^(2i / d_model))\n",
        "  PE(t, 2i+1) = cos(t / 10000^(2i / d_model))\n",
        "  ```\n",
        "  - Low frequencies (large wavelengths) capture broad noise patterns\n",
        "  - High frequencies (small wavelengths) differentiate between adjacent timesteps\n",
        "- **Value Constraints:** Sine/cosine outputs bound between -1 and 1, stabilizing network training\n",
        "- **Dimensional Richness:** Vector representation (256-512 dimensions) provides depth beyond scalar values\n",
        "\n",
        "## Implementation in U-Net Architecture\n",
        "- Integer timestep `t` converts to sinusoidal positional embedding vector\n",
        "- This vector passes through a multi-layer perceptron for transformation\n",
        "- The resulting embedding integrates with U-Net feature maps via addition or concatenation, conditioning the network on the noise level"
      ],
      "metadata": {
        "id": "A9JcGDqTG43o"
      }
    },
    {
      "cell_type": "code",
      "source": [
        "#  Helper: Sinusoidal Positional Embeddings for Timesteps\n",
        "class SinusoidalPositionEmbeddings(nn.Module):\n",
        "    def __init__(self, dim):\n",
        "        super().__init__()\n",
        "        self.dim = dim\n",
        "\n",
        "    def forward(self, time):\n",
        "        device = time.device\n",
        "        half_dim = self.dim // 2\n",
        "        embeddings = math.log(10000) / (half_dim - 1)\n",
        "        embeddings = torch.exp(torch.arange(half_dim, device=device) * -embeddings)\n",
        "        embeddings = time[:, None] * embeddings[None, :]\n",
        "        embeddings = torch.cat((embeddings.sin(), embeddings.cos()), dim=-1)\n",
        "        return embeddings"
      ],
      "metadata": {
        "id": "O5BuZaWx8DXx"
      },
      "execution_count": 16,
      "outputs": []
    },
    {
      "cell_type": "markdown",
      "source": [
        "## U-net Architecture"
      ],
      "metadata": {
        "id": "B3fB8gLasTYF"
      }
    },
    {
      "cell_type": "code",
      "source": [
        "class Block(nn.Module):\n",
        "    def __init__(self, in_ch, out_ch, time_emb_dim, up=False):\n",
        "        super().__init__()\n",
        "        self.time_mlp = nn.Linear(time_emb_dim, out_ch)\n",
        "        if up:\n",
        "            # For upsampling, conv1 takes concatenated input (skip + previous upsample)\n",
        "            # The input channels to conv1 will be in_ch (from skip) + in_ch_prev_upsample\n",
        "            # Here, in_ch is specified as the total input channels after concatenation.\n",
        "            self.conv1 = nn.Conv2d(in_ch, out_ch, 3, padding=1) # Adjusted for explicit concat in UNet forward\n",
        "            self.transform = nn.ConvTranspose2d(out_ch, out_ch, 4, 2, 1)\n",
        "        else: # Downsampling\n",
        "            self.conv1 = nn.Conv2d(in_ch, out_ch, 3, padding=1)\n",
        "            self.transform = nn.Conv2d(out_ch, out_ch, 4, 2, 1)\n",
        "        self.conv2 = nn.Conv2d(out_ch, out_ch, 3, padding=1)\n",
        "        self.bnorm1 = nn.BatchNorm2d(out_ch)\n",
        "        self.bnorm2 = nn.BatchNorm2d(out_ch)\n",
        "        self.relu = nn.ReLU()\n",
        "\n",
        "    def forward(self, x, t):\n",
        "        h = self.bnorm1(self.relu(self.conv1(x)))\n",
        "        time_emb = self.relu(self.time_mlp(t))\n",
        "        time_emb = time_emb[(...,) + (None,) * 2] # Expand to match spatial dims\n",
        "        h = h + time_emb\n",
        "        h = self.bnorm2(self.relu(self.conv2(h)))\n",
        "        return self.transform(h)\n",
        "\n",
        "class UNet(nn.Module):\n",
        "    def __init__(self, img_channels=1, time_emb_dim=256):\n",
        "        super().__init__()\n",
        "        self.time_emb_dim = time_emb_dim\n",
        "        self.time_mlp = nn.Sequential(\n",
        "            SinusoidalPositionEmbeddings(time_emb_dim),\n",
        "            nn.Linear(time_emb_dim, time_emb_dim),\n",
        "            nn.ReLU()\n",
        "        )\n",
        "\n",
        "        # Initial projection: (B, C, H, W) -> (B, 64, H, W)\n",
        "        self.initial_conv = nn.Conv2d(img_channels, 64, 3, padding=1)\n",
        "\n",
        "        # Downsampling path for 28x28 image\n",
        "        # (B, 64, 28, 28) -> (B, 128, 14, 14)\n",
        "        self.down1 = Block(64, 128, time_emb_dim)\n",
        "        # (B, 128, 14, 14) -> (B, 256, 7, 7)\n",
        "        self.down2 = Block(128, 256, time_emb_dim)\n",
        "\n",
        "        # Bottleneck\n",
        "        self.bot_conv1 = nn.Conv2d(256, 512, 3, padding=1) # Stays at 7x7\n",
        "        self.bot_relu = nn.ReLU()\n",
        "        self.bot_time_mlp = nn.Linear(time_emb_dim, 512) # Time embedding for bottleneck\n",
        "        self.bot_conv2 = nn.Conv2d(512, 256, 3, padding=1) # Back to 256 channels, 7x7\n",
        "\n",
        "        # Upsampling path\n",
        "        # Skip from down2 (256 ch) + bottleneck output (256 ch) = 512 ch input\n",
        "        # (B, 512, 7, 7) -> (B, 128, 14, 14)\n",
        "        self.up1 = Block(256 + 256, 128, time_emb_dim, up=True)\n",
        "        # Skip from down1 (128 ch) + up1 output (128 ch) = 256 ch input\n",
        "        # (B, 256, 14, 14) -> (B, 64, 28, 28)\n",
        "        self.up2 = Block(128 + 128, 64, time_emb_dim, up=True)\n",
        "\n",
        "        # Final output layer\n",
        "        # Input from up2 (64 ch) + initial_conv output for skip (64 ch) = 128 ch input\n",
        "        # (B, 128, 28, 28) -> (B, img_channels, 28, 28)\n",
        "        # A common U-Net pattern is to have a final conv that takes the last upsample layer's output\n",
        "        # and potentially a skip from the very first layer.\n",
        "        # Let's adjust self.output to take the output of up2 and the initial projection.\n",
        "        self.output_conv = nn.Conv2d(64 + 64, img_channels, kernel_size=1)\n",
        "        # Simpler: just use the output of up2 if that's the intended design\n",
        "        # self.output_conv = nn.Conv2d(64, img_channels, kernel_size=1) # If no final skip\n",
        "\n",
        "    def forward(self, x, timestep):\n",
        "        t_emb = self.time_mlp(timestep)\n",
        "\n",
        "        x0 = self.initial_conv(x) # (B, 64, 28, 28) - This is the first skip connection source\n",
        "\n",
        "        # Downsample\n",
        "        d1 = self.down1(x0, t_emb) # (B, 128, 14, 14)\n",
        "        d2 = self.down2(d1, t_emb) # (B, 256, 7, 7)\n",
        "\n",
        "        # Bottleneck\n",
        "        b = self.bot_conv1(d2)    # (B, 512, 7, 7)\n",
        "        time_emb_bot = self.bot_relu(self.bot_time_mlp(t_emb))\n",
        "        time_emb_bot = time_emb_bot[(...,) + (None,) * 2]\n",
        "        b = b + time_emb_bot\n",
        "        b = self.bot_conv2(self.bot_relu(b)) # (B, 256, 7, 7)\n",
        "\n",
        "        # Upsample with skip connections\n",
        "        # up1 input: concat(b, d2) -> (B, 256+256=512, 7, 7)\n",
        "        u1 = self.up1(torch.cat((b, d2), dim=1), t_emb)    # (B, 128, 14, 14)\n",
        "        # up2 input: concat(u1, d1) -> (B, 128+128=256, 14, 14)\n",
        "        u2 = self.up2(torch.cat((u1, d1), dim=1), t_emb)    # (B, 64, 28, 28)\n",
        "\n",
        "        # Final output\n",
        "        # Option 1: Concatenate with initial projection x0\n",
        "        out = self.output_conv(torch.cat((u2, x0), dim=1)) # (B, C, 28, 28)\n",
        "        # Option 2: If output_conv takes 64 channels (no final skip with x0)\n",
        "        # out = self.output_conv(u2)\n",
        "        return out"
      ],
      "metadata": {
        "id": "KBqy3SQH8GCF"
      },
      "execution_count": 17,
      "outputs": []
    },
    {
      "cell_type": "markdown",
      "source": [
        "## Diffusion Process"
      ],
      "metadata": {
        "id": "XFfpGgu9sL_S"
      }
    },
    {
      "cell_type": "code",
      "source": [
        "def linear_beta_schedule(timesteps, start=0.0001, end=0.02):\n",
        "    return torch.linspace(start, end, timesteps)\n",
        "\n",
        "def get_index_from_list(vals, t, x_shape):\n",
        "    batch_size = t.shape[0]\n",
        "    out = vals.gather(-1, t)\n",
        "    return out.reshape(batch_size, *((1,) * (len(x_shape) - 1))).to(t.device)\n",
        "\n",
        "class Diffusion:\n",
        "    def __init__(self, timesteps=T, img_size=IMG_SIZE, device=DEVICE):\n",
        "        self.timesteps = timesteps\n",
        "        self.img_size = img_size\n",
        "        self.device = device\n",
        "\n",
        "        self.betas = linear_beta_schedule(timesteps).to(device)\n",
        "        self.alphas = 1. - self.betas\n",
        "        self.alphas_cumprod = torch.cumprod(self.alphas, axis=0)\n",
        "        # Ensure F.pad is torch.nn.functional.pad\n",
        "        self.alphas_cumprod_prev = F.pad(self.alphas_cumprod[:-1], (1, 0), value=1.0)\n",
        "        self.sqrt_recip_alphas = torch.sqrt(1.0 / self.alphas)\n",
        "        self.sqrt_alphas_cumprod = torch.sqrt(self.alphas_cumprod)\n",
        "        self.sqrt_one_minus_alphas_cumprod = torch.sqrt(1. - self.alphas_cumprod)\n",
        "        self.posterior_variance = self.betas * (1. - self.alphas_cumprod_prev) / (1. - self.alphas_cumprod)\n",
        "\n",
        "    def q_sample(self, x_start, t, noise=None):\n",
        "        if noise is None:\n",
        "            noise = torch.randn_like(x_start)\n",
        "        sqrt_alphas_cumprod_t = get_index_from_list(self.sqrt_alphas_cumprod, t, x_start.shape)\n",
        "        sqrt_one_minus_alphas_cumprod_t = get_index_from_list(self.sqrt_one_minus_alphas_cumprod, t, x_start.shape)\n",
        "        return sqrt_alphas_cumprod_t * x_start + sqrt_one_minus_alphas_cumprod_t * noise\n",
        "\n",
        "    @torch.no_grad()\n",
        "    def p_sample(self, model, x, t, t_index):\n",
        "        betas_t = get_index_from_list(self.betas, t, x.shape)\n",
        "        sqrt_one_minus_alphas_cumprod_t = get_index_from_list(self.sqrt_one_minus_alphas_cumprod, t, x.shape)\n",
        "        sqrt_recip_alphas_t = get_index_from_list(self.sqrt_recip_alphas, t, x.shape)\n",
        "        model_mean = sqrt_recip_alphas_t * (x - betas_t * model(x, t) / sqrt_one_minus_alphas_cumprod_t)\n",
        "        if t_index == 0:\n",
        "            return model_mean\n",
        "        else:\n",
        "            posterior_variance_t = get_index_from_list(self.posterior_variance, t, x.shape)\n",
        "            noise = torch.randn_like(x)\n",
        "            return model_mean + torch.sqrt(posterior_variance_t) * noise\n",
        "\n",
        "    @torch.no_grad()\n",
        "    def sample(self, model, image_size, batch_size=16, channels=1):\n",
        "        shape = (batch_size, channels, image_size, image_size)\n",
        "        img = torch.randn(shape, device=self.device)\n",
        "        imgs = []\n",
        "        for i in tqdm(reversed(range(0, self.timesteps)), desc='Sampling loop', total=self.timesteps):\n",
        "            t = torch.full((batch_size,), i, device=self.device, dtype=torch.long)\n",
        "            img = self.p_sample(model, img, t, i)\n",
        "            if i % (self.timesteps // 10) == 0 or i < 10 :\n",
        "                 imgs.append(img.cpu())\n",
        "        imgs.append(img.cpu())\n",
        "        return imgs\n",
        "\n",
        "    def p_losses(self, denoise_model, x_start, t, noise=None, loss_type=\"l1\"):\n",
        "        if noise is None:\n",
        "            noise = torch.randn_like(x_start)\n",
        "        x_noisy = self.q_sample(x_start=x_start, t=t, noise=noise)\n",
        "        predicted_noise = denoise_model(x_noisy, t)\n",
        "        if loss_type == 'l1':\n",
        "            loss = F.l1_loss(noise, predicted_noise)\n",
        "        elif loss_type == 'l2':\n",
        "            loss = F.mse_loss(noise, predicted_noise)\n",
        "        elif loss_type == \"huber\":\n",
        "            loss = F.smooth_l1_loss(noise, predicted_noise)\n",
        "        else:\n",
        "            raise NotImplementedError()\n",
        "        return loss"
      ],
      "metadata": {
        "id": "xM_bT2Br8lSk"
      },
      "execution_count": 18,
      "outputs": []
    },
    {
      "cell_type": "markdown",
      "source": [
        "## MNIST Classifier"
      ],
      "metadata": {
        "id": "GNz4lhr8sIKF"
      }
    },
    {
      "cell_type": "code",
      "source": [
        "class MNISTClassifier(nn.Module):\n",
        "    def __init__(self):\n",
        "        super(MNISTClassifier, self).__init__()\n",
        "        self.conv1 = nn.Conv2d(1, 32, kernel_size=3, padding=1)\n",
        "        self.relu1 = nn.ReLU()\n",
        "        self.pool1 = nn.MaxPool2d(kernel_size=2, stride=2)\n",
        "        self.conv2 = nn.Conv2d(32, 64, kernel_size=3, padding=1)\n",
        "        self.relu2 = nn.ReLU()\n",
        "        self.pool2 = nn.MaxPool2d(kernel_size=2, stride=2)\n",
        "        self.flatten = nn.Flatten()\n",
        "        self.fc1 = nn.Linear(64 * 7 * 7, 128)\n",
        "        self.relu3 = nn.ReLU()\n",
        "        self.fc2 = nn.Linear(128, 10)\n",
        "\n",
        "    def forward(self, x):\n",
        "        x = self.pool1(self.relu1(self.conv1(x)))\n",
        "        x = self.pool2(self.relu2(self.conv2(x)))\n",
        "        x = self.flatten(x)\n",
        "        x = self.relu3(self.fc1(x))\n",
        "        x = self.fc2(x)\n",
        "        return x"
      ],
      "metadata": {
        "id": "MFSfeE8ZDRAq"
      },
      "execution_count": 19,
      "outputs": []
    },
    {
      "cell_type": "markdown",
      "source": [
        "## Data Loading"
      ],
      "metadata": {
        "id": "SCTjvYYqsDF2"
      }
    },
    {
      "cell_type": "code",
      "source": [
        "\n",
        "transform_ddpm = transforms.Compose([\n",
        "    transforms.Resize((IMG_SIZE, IMG_SIZE)),\n",
        "    transforms.ToTensor(),\n",
        "    transforms.Normalize((0.5,), (0.5,))\n",
        "])\n",
        "transform_classifier = transforms.Compose([\n",
        "    transforms.ToTensor(),\n",
        "    transforms.Normalize((0.1307,), (0.3081,))\n",
        "])\n",
        "\n",
        "# For DDPM training\n",
        "train_dataset_ddpm = datasets.MNIST('.', train=True, download=True, transform=transform_ddpm)\n",
        "train_loader_ddpm = DataLoader(train_dataset_ddpm, batch_size=BATCH_SIZE_DDPM, shuffle=True, drop_last=True)\n",
        "\n",
        "# For Classifier training and evaluation\n",
        "train_dataset_classifier = datasets.MNIST('.', train=True, download=True, transform=transform_classifier)\n",
        "test_dataset_classifier = datasets.MNIST('.', train=False, download=True, transform=transform_classifier)\n",
        "train_loader_classifier = DataLoader(train_dataset_classifier, batch_size=BATCH_SIZE_CLASSIFIER, shuffle=True)\n",
        "test_loader_classifier = DataLoader(test_dataset_classifier, batch_size=BATCH_SIZE_CLASSIFIER, shuffle=False)\n",
        "\n",
        "print(\"Datasets and DataLoaders ready.\")"
      ],
      "metadata": {
        "id": "JY-0w-CxDUqN",
        "colab": {
          "base_uri": "https://localhost:8080/"
        },
        "outputId": "276c3e96-95aa-4dc6-e9a5-9e9e0ce55b87"
      },
      "execution_count": 20,
      "outputs": [
        {
          "output_type": "stream",
          "name": "stdout",
          "text": [
            "Datasets and DataLoaders ready.\n"
          ]
        }
      ]
    },
    {
      "cell_type": "markdown",
      "source": [
        "## Visualizing the Forward Diffusion Process\n",
        "\n",
        "This section visualizes the **forward diffusion process**, which is the foundation of Denoising Diffusion Probabilistic Models (DDPMs). The forward process describes how a clean, original image (`x₀`) is gradually corrupted by adding small amounts of [Gaussian noise](https://en.wikipedia.org/wiki/Gaussian_noise) over a series of discrete timesteps (`t`).\n",
        "\n",
        "**What we are visualizing:**\n",
        "\n",
        "We start with a single, clean sample image from the MNIST dataset (`x₀`). Then, for a sequence of increasing timesteps `t` (from `t=0` up to `t=T-1`, where `T` is the total number of diffusion steps defined in our model), we apply the forward diffusion equation:\n",
        "\n",
        "`xₜ = sqrt(ᾱₜ) * x₀ + sqrt(1 - ᾱₜ) * ε`\n",
        "\n",
        "where:\n",
        "*   `xₜ` is the noisy image at timestep `t`.\n",
        "*   `x₀` is the original clean image.\n",
        "*   `ᾱₜ` (alpha-bar-t) is a pre-computed noise schedule parameter that decreases as `t` increases. This means more noise is effectively added at later timesteps.\n",
        "*   `ε` is a sample from a standard Gaussian (normal) distribution.\n",
        "\n",
        "**The Plot:**\n",
        "\n",
        "The plot will display a row of images:\n",
        "*   Each image in the row represents the state of the original `x₀` after noise has been added up to the indicated timestep `t`.\n",
        "*   The leftmost images (small `t`) will show the original image with very little noise.\n",
        "*   As we move to the right (increasing `t`), the images will become progressively noisier.\n",
        "*   The rightmost image (large `t`, close to `T-1`) will be almost entirely noise, with little to no discernible structure from the original image.\n",
        "\n",
        "**Why is this important?**\n",
        "\n",
        "Understanding the forward process is important because:\n",
        "1.  It defines how the training data for the U-Net (the noise prediction model) is generated. The U-Net is trained to predict the noise `ε` that was added to `x₀` to get `xₜ`, given `xₜ` and `t`.\n",
        "2.  The reverse process (which the U-Net learns to approximate) aims to undo this noise addition, step-by-step, starting from pure noise (`xT`) and gradually denoising it back to a clean image (`x₀`). This reverse process is how new images are generated.\n",
        "\n",
        "This visualization helps build intuition about the nature of the noisy inputs the U-Net will encounter during training and the progressive nature of the denoising task it must learn."
      ],
      "metadata": {
        "id": "PYpJG28fwYpc"
      }
    },
    {
      "cell_type": "code",
      "source": [
        "\n",
        "if 'train_dataset_ddpm' not in locals() or 'Diffusion' not in locals():\n",
        "    print(\"Please ensure 'Data Loading' (Cell 8) and 'Diffusion Process' (Cell 6) have been run.\")\n",
        "else:\n",
        "    # Create a diffusion instance specifically for this visualization\n",
        "    # Note: 'T' from config is the total number of diffusion timesteps.\n",
        "    # Timestep indices in the code usually go from 0 to T-1.\n",
        "    diffusion_visualizer = Diffusion(timesteps=T, img_size=IMG_SIZE, device=DEVICE)\n",
        "\n",
        "    # Get a sample image from the DDPM training dataset\n",
        "    # The transform_ddpm has already scaled images to [-1, 1]\n",
        "    sample_idx = 0 # You can change this index to see different digits\n",
        "    x0_tensor, _ = train_dataset_ddpm[sample_idx]\n",
        "    x0_tensor = x0_tensor.to(DEVICE) # Shape: (C, H, W)\n",
        "\n",
        "    # --- Timesteps to visualize ---\n",
        "    # We want to show how the image gets corrupted over time.\n",
        "    # The `q_sample` function with t=0 (index) applies the first scheduled noise amount.\n",
        "    num_images_to_plot = 8 # Total images to display in the row\n",
        "\n",
        "    if T >= num_images_to_plot:\n",
        "        # Select evenly spaced timesteps from 0 to T-1\n",
        "        plot_t_indices = torch.linspace(0, T - 1, num_images_to_plot, dtype=torch.long).tolist()\n",
        "    else:\n",
        "        # If T is small, show all available steps up to num_images_to_plot\n",
        "        plot_t_indices = torch.arange(0, T, dtype=torch.long).tolist()\n",
        "        # Pad with the last step if num_images_to_plot is larger than T\n",
        "        while len(plot_t_indices) < num_images_to_plot:\n",
        "            plot_t_indices.append(T - 1 if T > 0 else 0)\n",
        "\n",
        "\n",
        "    # --- Plotting ---\n",
        "    fig, axes = plt.subplots(1, num_images_to_plot, figsize=(2.5 * num_images_to_plot, 3.5))\n",
        "    fig.suptitle(f\"Forward Diffusion: x_0 Corrupted to x_t (MNIST Sample {sample_idx})\", fontsize=16)\n",
        "\n",
        "    for i, t_idx_val in enumerate(plot_t_indices):\n",
        "        ax = axes[i]\n",
        "\n",
        "        # Prepare input for q_sample: batch of x0 and batch of timesteps\n",
        "        x_start_batch = x0_tensor.unsqueeze(0)  # Shape: (1, C, H, W)\n",
        "        t_batch = torch.tensor([t_idx_val], device=DEVICE, dtype=torch.long) # Shape: (1)\n",
        "\n",
        "        # Apply forward diffusion q(x_t | x_0)\n",
        "        # xt will be on DEVICE, shape (1, C, H, W)\n",
        "        xt = diffusion_visualizer.q_sample(x_start_batch, t_batch)\n",
        "\n",
        "        # Denormalize from [-1, 1] to [0, 1] for plotting\n",
        "        # Squeeze batch dim, move to CPU, denormalize\n",
        "        img_to_plot = (xt.squeeze(0).cpu() + 1) / 2.0\n",
        "\n",
        "        # Plot\n",
        "        # permute for (H, W, C) if multi-channel, then squeeze if C=1 for grayscale\n",
        "        ax.imshow(img_to_plot.permute(1, 2, 0).squeeze().numpy(), cmap=\"gray\")\n",
        "        ax.set_title(f\"t={t_idx_val}\")\n",
        "        ax.axis('off')\n",
        "\n",
        "    plt.tight_layout(rect=[0, 0, 1, 0.93]) # Adjust layout to make space for suptitle\n",
        "    plt.show()"
      ],
      "metadata": {
        "colab": {
          "base_uri": "https://localhost:8080/",
          "height": 290
        },
        "id": "zDYrjUUBwjso",
        "outputId": "07a7c27c-4173-444a-d656-630dbb1d1479"
      },
      "execution_count": 32,
      "outputs": [
        {
          "output_type": "display_data",
          "data": {
            "text/plain": [
              "<Figure size 2000x350 with 8 Axes>"
            ],
            "image/png": "[encoded data removed]"
          },
          "metadata": {}
        }
      ]
    },
    {
      "cell_type": "markdown",
      "source": [
        "## Helper function to load models"
      ],
      "metadata": {
        "id": "emGdMj3Fr-hU"
      }
    },
    {
      "cell_type": "code",
      "source": [
        "def load_model_weights(model, model_name, paths_to_try, device):\n",
        "    \"\"\"\n",
        "    Tries to load model weights from a list of paths.\n",
        "    Paths should be ordered by priority (e.g., best on Drive, best local, final on Drive, final local).\n",
        "    Returns True if loaded, False otherwise.\n",
        "    \"\"\"\n",
        "    for path in paths_to_try:\n",
        "        if path and os.path.exists(path):\n",
        "            print(f\"Attempting to load {model_name} from {path}...\")\n",
        "            try:\n",
        "                model.load_state_dict(torch.load(path, map_location=device))\n",
        "                model.to(device) # Ensure model is on the correct device after loading\n",
        "                print(f\"{model_name} loaded successfully from {path}.\")\n",
        "                return True\n",
        "            except Exception as e:\n",
        "                print(f\"Error loading {model_name} from {path}: {e}. Trying next path.\")\n",
        "        elif path:\n",
        "            # print(f\"Path {path} for {model_name} does not exist.\") # Optional debug\n",
        "            pass\n",
        "    print(f\"{model_name} not found in any specified paths.\")\n",
        "    return False"
      ],
      "metadata": {
        "id": "mYXre4RZ8Jo4"
      },
      "execution_count": 21,
      "outputs": []
    },
    {
      "cell_type": "markdown",
      "source": [
        "## Training functions"
      ],
      "metadata": {
        "id": "ZPVhagVJr7DK"
      }
    },
    {
      "cell_type": "code",
      "source": [
        "\n",
        "\n",
        "def test_classifier(model, test_loader, criterion, name=\"Test\"):\n",
        "    model.eval()\n",
        "    test_loss = 0\n",
        "    correct = 0\n",
        "    total = 0\n",
        "    with torch.no_grad():\n",
        "        for images, labels in test_loader:\n",
        "            images, labels = images.to(DEVICE), labels.to(DEVICE)\n",
        "            outputs = model(images)\n",
        "            loss = criterion(outputs, labels)\n",
        "            test_loss += loss.item()\n",
        "            _, predicted = torch.max(outputs.data, 1)\n",
        "            total += labels.size(0)\n",
        "            correct += (predicted == labels).sum().item()\n",
        "    avg_test_loss = test_loss / len(test_loader)\n",
        "    accuracy = 100 * correct / total\n",
        "    print(f\"{name} Results: Avg Loss: {avg_test_loss:.4f}, Accuracy: {accuracy:.2f}%\")\n",
        "    # model.train() # Set back to train mode by the caller if needed\n",
        "    return accuracy\n",
        "\n",
        "def train_classifier(model, train_loader, test_loader, optimizer, criterion, epochs,\n",
        "                       initial_best_accuracy=0.0):\n",
        "    model.train() # Ensure model is in training mode\n",
        "    print(\"Starting Classifier Training...\")\n",
        "    best_accuracy = initial_best_accuracy\n",
        "\n",
        "    for epoch in range(epochs):\n",
        "        model.train() # Ensure model is in training mode for each epoch\n",
        "        epoch_loss_train = 0\n",
        "        correct_train = 0\n",
        "        total_train = 0\n",
        "        for images, labels in tqdm(train_loader, desc=f\"Classifier Epoch {epoch+1}/{epochs} (Train)\"):\n",
        "            images, labels = images.to(DEVICE), labels.to(DEVICE)\n",
        "            optimizer.zero_grad()\n",
        "            outputs = model(images)\n",
        "            loss = criterion(outputs, labels)\n",
        "            loss.backward()\n",
        "            optimizer.step()\n",
        "            epoch_loss_train += loss.item()\n",
        "            _, predicted = torch.max(outputs.data, 1)\n",
        "            total_train += labels.size(0)\n",
        "            correct_train += (predicted == labels).sum().item()\n",
        "\n",
        "        avg_epoch_loss_train = epoch_loss_train / len(train_loader)\n",
        "        accuracy_train = 100 * correct_train / total_train\n",
        "        print(f\"Classifier Epoch {epoch+1}/{epochs} (Train): Loss: {avg_epoch_loss_train:.4f}, Accuracy: {accuracy_train:.2f}%\")\n",
        "\n",
        "        current_test_accuracy = test_classifier(model, test_loader, criterion, f\"Classifier Test Epoch {epoch+1}\")\n",
        "\n",
        "        if current_test_accuracy > best_accuracy:\n",
        "            best_accuracy = current_test_accuracy\n",
        "            print(f\"New best classifier accuracy: {best_accuracy:.2f}%. Saving best model...\")\n",
        "            torch.save(model.state_dict(), BEST_CLASSIFIER_MODEL_PATH_LOCAL)\n",
        "            print(f\"  Best classifier model saved locally: {BEST_CLASSIFIER_MODEL_PATH_LOCAL}\")\n",
        "            if BEST_CLASSIFIER_MODEL_PATH_DRIVE:\n",
        "                try:\n",
        "                    shutil.copyfile(BEST_CLASSIFIER_MODEL_PATH_LOCAL, BEST_CLASSIFIER_MODEL_PATH_DRIVE)\n",
        "                    print(f\"  Best classifier model copied to Drive: {BEST_CLASSIFIER_MODEL_PATH_DRIVE}\")\n",
        "                except Exception as e:\n",
        "                    print(f\"  Error saving best classifier model to Drive: {e}\")\n",
        "\n",
        "    print(f\"\\nFinished classifier training. Saving final model...\")\n",
        "    torch.save(model.state_dict(), CLASSIFIER_MODEL_PATH_LOCAL)\n",
        "    print(f\"  Final classifier model saved locally: {CLASSIFIER_MODEL_PATH_LOCAL}\")\n",
        "    if CLASSIFIER_MODEL_PATH_DRIVE:\n",
        "        try:\n",
        "            shutil.copyfile(CLASSIFIER_MODEL_PATH_LOCAL, CLASSIFIER_MODEL_PATH_DRIVE)\n",
        "            print(f\"  Final classifier model copied to Drive: {CLASSIFIER_MODEL_PATH_DRIVE}\")\n",
        "        except Exception as e:\n",
        "            print(f\"  Error saving final classifier model to Drive: {e}\")\n",
        "    return best_accuracy\n",
        "\n",
        "\n",
        "def train_ddpm(model, diffusion_process, dataloader, optimizer, epochs,\n",
        "                 initial_best_loss=float('inf')):\n",
        "    model.train() # Ensure model is in training mode\n",
        "    print(\"Starting DDPM Training...\")\n",
        "    best_loss = initial_best_loss\n",
        "\n",
        "    for epoch in range(epochs):\n",
        "        model.train() # Ensure model is in training mode for each epoch\n",
        "        epoch_loss = 0\n",
        "        for step, (images, _) in enumerate(tqdm(dataloader, desc=f\"DDPM Epoch {epoch+1}/{epochs}\")):\n",
        "            optimizer.zero_grad()\n",
        "            images = images.to(DEVICE)\n",
        "            batch_size = images.shape[0]\n",
        "            t = torch.randint(0, diffusion_process.timesteps, (batch_size,), device=DEVICE).long()\n",
        "            loss = diffusion_process.p_losses(model, images, t, loss_type=\"huber\")\n",
        "            loss.backward()\n",
        "            optimizer.step()\n",
        "            epoch_loss += loss.item()\n",
        "\n",
        "        avg_epoch_loss = epoch_loss / len(dataloader)\n",
        "        print(f\"DDPM Epoch {epoch+1}/{epochs}, Loss: {avg_epoch_loss:.4f}\")\n",
        "\n",
        "        if avg_epoch_loss < best_loss:\n",
        "            best_loss = avg_epoch_loss\n",
        "            print(f\"New best DDPM loss: {best_loss:.4f}. Saving best model...\")\n",
        "            torch.save(model.state_dict(), BEST_DDPM_MODEL_PATH_LOCAL)\n",
        "            print(f\"  Best DDPM model saved locally: {BEST_DDPM_MODEL_PATH_LOCAL}\")\n",
        "            if BEST_DDPM_MODEL_PATH_DRIVE:\n",
        "                try:\n",
        "                    shutil.copyfile(BEST_DDPM_MODEL_PATH_LOCAL, BEST_DDPM_MODEL_PATH_DRIVE)\n",
        "                    print(f\"  Best DDPM model copied to Drive: {BEST_DDPM_MODEL_PATH_DRIVE}\")\n",
        "                except Exception as e:\n",
        "                    print(f\"  Error saving best DDPM model to Drive: {e}\")\n",
        "\n",
        "        if (epoch + 1) % SAVE_INTERVAL_DDPM == 0 or epoch == epochs - 1:\n",
        "            model.eval()\n",
        "            with torch.no_grad():\n",
        "                sampled_images_steps = diffusion_process.sample(model, IMG_SIZE, batch_size=16, channels=1)\n",
        "                final_sampled_images = sampled_images_steps[-1]\n",
        "                final_sampled_images = (final_sampled_images + 1) / 2.0 # Denormalize\n",
        "                grid = make_grid(final_sampled_images, nrow=4)\n",
        "                img_save_path = os.path.join(LOCAL_OUTPUT_DIR, f\"ddpm_sample_epoch_{epoch+1}.png\")\n",
        "                save_image(grid, img_save_path)\n",
        "                print(f\"Saved sample images at epoch {epoch+1} to {img_save_path}\")\n",
        "            # model.train() # Re-set by loop start\n",
        "\n",
        "    print(f\"\\nFinished DDPM training. Saving final model...\")\n",
        "    torch.save(model.state_dict(), DDPM_MODEL_PATH_LOCAL)\n",
        "    print(f\"  Final DDPM model saved locally: {DDPM_MODEL_PATH_LOCAL}\")\n",
        "    if DDPM_MODEL_PATH_DRIVE:\n",
        "        try:\n",
        "            shutil.copyfile(DDPM_MODEL_PATH_LOCAL, DDPM_MODEL_PATH_DRIVE)\n",
        "            print(f\"  Final DDPM model copied to Drive: {DDPM_MODEL_PATH_DRIVE}\")\n",
        "        except Exception as e:\n",
        "            print(f\"  Error saving final DDPM model to Drive: {e}\")\n",
        "    return best_loss"
      ],
      "metadata": {
        "id": "ZdrdKfSj1-ds"
      },
      "execution_count": 22,
      "outputs": []
    },
    {
      "cell_type": "markdown",
      "source": [
        "## Load, Train, Evaluate"
      ],
      "metadata": {
        "id": "oJROkh-Yr0Uv"
      }
    },
    {
      "cell_type": "code",
      "source": [
        "\n",
        "# --- 1. MNIST Classifier ---\n",
        "print(\"\\n--- Initializing MNIST Classifier ---\")\n",
        "mnist_classifier = MNISTClassifier().to(DEVICE) # Initialized on DEVICE\n",
        "optimizer_classifier = optim.Adam(mnist_classifier.parameters(), lr=LR_CLASSIFIER)\n",
        "criterion_classifier = nn.CrossEntropyLoss()\n",
        "\n",
        "classifier_ready = False\n",
        "current_best_classifier_accuracy = 0.0\n",
        "\n",
        "# Define paths to try for loading classifier, in order of preference\n",
        "classifier_load_paths_ordered = [\n",
        "    BEST_CLASSIFIER_MODEL_PATH_DRIVE, BEST_CLASSIFIER_MODEL_PATH_LOCAL,\n",
        "    CLASSIFIER_MODEL_PATH_DRIVE, CLASSIFIER_MODEL_PATH_LOCAL\n",
        "]\n",
        "if load_model_weights(mnist_classifier, \"MNIST Classifier\", classifier_load_paths_ordered, DEVICE):\n",
        "    classifier_ready = True\n",
        "    print(\"Evaluating loaded classifier model...\")\n",
        "    current_best_classifier_accuracy = test_classifier(mnist_classifier, test_loader_classifier, criterion_classifier, \"Loaded Classifier Performance\")\n",
        "    mnist_classifier.train() # Set back to train mode if test_classifier set it to eval\n",
        "else:\n",
        "    print(\"No pre-trained classifier found or failed to load.\")\n",
        "\n",
        "if EPOCHS_CLASSIFIER > 0:\n",
        "    print(f\"Proceeding to train classifier for {EPOCHS_CLASSIFIER} epochs.\")\n",
        "    if classifier_ready:\n",
        "        print(f\"Continuing training. Initial best accuracy for this session: {current_best_classifier_accuracy:.2f}%\")\n",
        "    else: # No model loaded, starting fresh\n",
        "        print(\"Training classifier from scratch.\")\n",
        "        current_best_classifier_accuracy = 0.0 # Ensure it starts from 0 if no load\n",
        "    train_classifier(mnist_classifier, train_loader_classifier, test_loader_classifier,\n",
        "                     optimizer_classifier, criterion_classifier, EPOCHS_CLASSIFIER,\n",
        "                     initial_best_accuracy=current_best_classifier_accuracy)\n",
        "    classifier_ready = True # Mark as ready after training\n",
        "elif not classifier_ready:\n",
        "    print(\"WARNING: EPOCHS_CLASSIFIER is 0, and no classifier model was loaded. Evaluation of DDPM samples might fail or be inaccurate.\")\n",
        "else: # EPOCHS_CLASSIFIER == 0 and classifier_loaded == True\n",
        "    print(\"Classifier loaded, and EPOCHS_CLASSIFIER is 0. Skipping classifier training.\")\n",
        "\n",
        "\n"
      ],
      "metadata": {
        "id": "egb6S2BS5VB9",
        "colab": {
          "base_uri": "https://localhost:8080/",
          "height": 1000
        },
        "outputId": "c8491ffc-0947-413a-bd24-987288a57f62"
      },
      "execution_count": 25,
      "outputs": [
        {
          "output_type": "stream",
          "name": "stdout",
          "text": [
            "\n",
            "--- Initializing MNIST Classifier ---\n",
            "MNIST Classifier not found in any specified paths.\n",
            "No pre-trained classifier found or failed to load.\n",
            "Proceeding to train classifier for 10 epochs.\n",
            "Training classifier from scratch.\n",
            "Starting Classifier Training...\n"
          ]
        },
        {
          "output_type": "stream",
          "name": "stderr",
          "text": [
            "Classifier Epoch 1/10 (Train): 100%|██████████| 938/938 [00:16<00:00, 58.05it/s]\n"
          ]
        },
        {
          "output_type": "stream",
          "name": "stdout",
          "text": [
            "Classifier Epoch 1/10 (Train): Loss: 0.1358, Accuracy: 95.90%\n",
            "Classifier Test Epoch 1 Results: Avg Loss: 0.0461, Accuracy: 98.50%\n",
            "New best classifier accuracy: 98.50%. Saving best model...\n",
            "  Best classifier model saved locally: ddpm_mnist_output/best_mnist_classifier.pth\n",
            "  Best classifier model copied to Drive: /content/drive/MyDrive/fiftyone-getting-started-datasets/DDPM_MNIST_Models/best_mnist_classifier.pth\n"
          ]
        },
        {
          "output_type": "stream",
          "name": "stderr",
          "text": [
            "Classifier Epoch 2/10 (Train): 100%|██████████| 938/938 [00:14<00:00, 63.27it/s]\n"
          ]
        },
        {
          "output_type": "stream",
          "name": "stdout",
          "text": [
            "Classifier Epoch 2/10 (Train): Loss: 0.0426, Accuracy: 98.69%\n",
            "Classifier Test Epoch 2 Results: Avg Loss: 0.0330, Accuracy: 98.92%\n",
            "New best classifier accuracy: 98.92%. Saving best model...\n",
            "  Best classifier model saved locally: ddpm_mnist_output/best_mnist_classifier.pth\n",
            "  Best classifier model copied to Drive: /content/drive/MyDrive/fiftyone-getting-started-datasets/DDPM_MNIST_Models/best_mnist_classifier.pth\n"
          ]
        },
        {
          "output_type": "stream",
          "name": "stderr",
          "text": [
            "Classifier Epoch 3/10 (Train): 100%|██████████| 938/938 [00:14<00:00, 63.68it/s]\n"
          ]
        },
        {
          "output_type": "stream",
          "name": "stdout",
          "text": [
            "Classifier Epoch 3/10 (Train): Loss: 0.0280, Accuracy: 99.14%\n",
            "Classifier Test Epoch 3 Results: Avg Loss: 0.0320, Accuracy: 99.00%\n",
            "New best classifier accuracy: 99.00%. Saving best model...\n",
            "  Best classifier model saved locally: ddpm_mnist_output/best_mnist_classifier.pth\n",
            "  Best classifier model copied to Drive: /content/drive/MyDrive/fiftyone-getting-started-datasets/DDPM_MNIST_Models/best_mnist_classifier.pth\n"
          ]
        },
        {
          "output_type": "stream",
          "name": "stderr",
          "text": [
            "Classifier Epoch 4/10 (Train): 100%|██████████| 938/938 [00:14<00:00, 63.43it/s]\n"
          ]
        },
        {
          "output_type": "stream",
          "name": "stdout",
          "text": [
            "Classifier Epoch 4/10 (Train): Loss: 0.0209, Accuracy: 99.30%\n",
            "Classifier Test Epoch 4 Results: Avg Loss: 0.0343, Accuracy: 98.89%\n"
          ]
        },
        {
          "output_type": "stream",
          "name": "stderr",
          "text": [
            "Classifier Epoch 5/10 (Train): 100%|██████████| 938/938 [00:14<00:00, 64.05it/s]\n"
          ]
        },
        {
          "output_type": "stream",
          "name": "stdout",
          "text": [
            "Classifier Epoch 5/10 (Train): Loss: 0.0164, Accuracy: 99.49%\n",
            "Classifier Test Epoch 5 Results: Avg Loss: 0.0353, Accuracy: 99.04%\n",
            "New best classifier accuracy: 99.04%. Saving best model...\n",
            "  Best classifier model saved locally: ddpm_mnist_output/best_mnist_classifier.pth\n",
            "  Best classifier model copied to Drive: /content/drive/MyDrive/fiftyone-getting-started-datasets/DDPM_MNIST_Models/best_mnist_classifier.pth\n"
          ]
        },
        {
          "output_type": "stream",
          "name": "stderr",
          "text": [
            "Classifier Epoch 6/10 (Train): 100%|██████████| 938/938 [00:14<00:00, 63.49it/s]\n"
          ]
        },
        {
          "output_type": "stream",
          "name": "stdout",
          "text": [
            "Classifier Epoch 6/10 (Train): Loss: 0.0127, Accuracy: 99.58%\n",
            "Classifier Test Epoch 6 Results: Avg Loss: 0.0395, Accuracy: 98.82%\n"
          ]
        },
        {
          "output_type": "stream",
          "name": "stderr",
          "text": [
            "Classifier Epoch 7/10 (Train): 100%|██████████| 938/938 [00:14<00:00, 64.09it/s]\n"
          ]
        },
        {
          "output_type": "stream",
          "name": "stdout",
          "text": [
            "Classifier Epoch 7/10 (Train): Loss: 0.0105, Accuracy: 99.70%\n",
            "Classifier Test Epoch 7 Results: Avg Loss: 0.0326, Accuracy: 98.94%\n"
          ]
        },
        {
          "output_type": "stream",
          "name": "stderr",
          "text": [
            "Classifier Epoch 8/10 (Train): 100%|██████████| 938/938 [00:14<00:00, 63.95it/s]\n"
          ]
        },
        {
          "output_type": "stream",
          "name": "stdout",
          "text": [
            "Classifier Epoch 8/10 (Train): Loss: 0.0098, Accuracy: 99.68%\n",
            "Classifier Test Epoch 8 Results: Avg Loss: 0.0331, Accuracy: 99.18%\n",
            "New best classifier accuracy: 99.18%. Saving best model...\n",
            "  Best classifier model saved locally: ddpm_mnist_output/best_mnist_classifier.pth\n",
            "  Best classifier model copied to Drive: /content/drive/MyDrive/fiftyone-getting-started-datasets/DDPM_MNIST_Models/best_mnist_classifier.pth\n"
          ]
        },
        {
          "output_type": "stream",
          "name": "stderr",
          "text": [
            "Classifier Epoch 9/10 (Train): 100%|██████████| 938/938 [00:14<00:00, 63.85it/s]\n"
          ]
        },
        {
          "output_type": "stream",
          "name": "stdout",
          "text": [
            "Classifier Epoch 9/10 (Train): Loss: 0.0081, Accuracy: 99.74%\n",
            "Classifier Test Epoch 9 Results: Avg Loss: 0.0302, Accuracy: 99.13%\n"
          ]
        },
        {
          "output_type": "stream",
          "name": "stderr",
          "text": [
            "Classifier Epoch 10/10 (Train): 100%|██████████| 938/938 [00:14<00:00, 63.70it/s]\n"
          ]
        },
        {
          "output_type": "stream",
          "name": "stdout",
          "text": [
            "Classifier Epoch 10/10 (Train): Loss: 0.0063, Accuracy: 99.80%\n",
            "Classifier Test Epoch 10 Results: Avg Loss: 0.0332, Accuracy: 99.08%\n",
            "\n",
            "Finished classifier training. Saving final model...\n",
            "  Final classifier model saved locally: ddpm_mnist_output/mnist_classifier.pth\n",
            "  Final classifier model copied to Drive: /content/drive/MyDrive/fiftyone-getting-started-datasets/DDPM_MNIST_Models/mnist_classifier.pth\n",
            "\n",
            "--- Initializing DDPM U-Net ---\n",
            "DDPM U-Net not found in any specified paths.\n",
            "No pre-trained DDPM U-Net found or failed to load.\n",
            "Proceeding to train DDPM U-Net for 50 epochs.\n",
            "Training DDPM U-Net from scratch.\n",
            "Starting DDPM Training...\n"
          ]
        },
        {
          "output_type": "stream",
          "name": "stderr",
          "text": [
            "DDPM Epoch 1/50: 100%|██████████| 468/468 [00:20<00:00, 22.87it/s]\n"
          ]
        },
        {
          "output_type": "stream",
          "name": "stdout",
          "text": [
            "DDPM Epoch 1/50, Loss: 0.0417\n",
            "New best DDPM loss: 0.0417. Saving best model...\n",
            "  Best DDPM model saved locally: ddpm_mnist_output/best_ddpm_unet.pth\n",
            "  Best DDPM model copied to Drive: /content/drive/MyDrive/fiftyone-getting-started-datasets/DDPM_MNIST_Models/best_ddpm_unet.pth\n"
          ]
        },
        {
          "output_type": "stream",
          "name": "stderr",
          "text": [
            "DDPM Epoch 2/50: 100%|██████████| 468/468 [00:19<00:00, 23.57it/s]\n"
          ]
        },
        {
          "output_type": "stream",
          "name": "stdout",
          "text": [
            "DDPM Epoch 2/50, Loss: 0.0255\n",
            "New best DDPM loss: 0.0255. Saving best model...\n",
            "  Best DDPM model saved locally: ddpm_mnist_output/best_ddpm_unet.pth\n",
            "  Best DDPM model copied to Drive: /content/drive/MyDrive/fiftyone-getting-started-datasets/DDPM_MNIST_Models/best_ddpm_unet.pth\n"
          ]
        },
        {
          "output_type": "stream",
          "name": "stderr",
          "text": [
            "DDPM Epoch 3/50: 100%|██████████| 468/468 [00:19<00:00, 23.51it/s]\n"
          ]
        },
        {
          "output_type": "stream",
          "name": "stdout",
          "text": [
            "DDPM Epoch 3/50, Loss: 0.0237\n",
            "New best DDPM loss: 0.0237. Saving best model...\n",
            "  Best DDPM model saved locally: ddpm_mnist_output/best_ddpm_unet.pth\n",
            "  Best DDPM model copied to Drive: /content/drive/MyDrive/fiftyone-getting-started-datasets/DDPM_MNIST_Models/best_ddpm_unet.pth\n"
          ]
        },
        {
          "output_type": "stream",
          "name": "stderr",
          "text": [
            "DDPM Epoch 4/50: 100%|██████████| 468/468 [00:19<00:00, 23.46it/s]\n"
          ]
        },
        {
          "output_type": "stream",
          "name": "stdout",
          "text": [
            "DDPM Epoch 4/50, Loss: 0.0227\n",
            "New best DDPM loss: 0.0227. Saving best model...\n",
            "  Best DDPM model saved locally: ddpm_mnist_output/best_ddpm_unet.pth\n",
            "  Best DDPM model copied to Drive: /content/drive/MyDrive/fiftyone-getting-started-datasets/DDPM_MNIST_Models/best_ddpm_unet.pth\n"
          ]
        },
        {
          "output_type": "stream",
          "name": "stderr",
          "text": [
            "DDPM Epoch 5/50: 100%|██████████| 468/468 [00:19<00:00, 23.47it/s]\n"
          ]
        },
        {
          "output_type": "stream",
          "name": "stdout",
          "text": [
            "DDPM Epoch 5/50, Loss: 0.0220\n",
            "New best DDPM loss: 0.0220. Saving best model...\n",
            "  Best DDPM model saved locally: ddpm_mnist_output/best_ddpm_unet.pth\n",
            "  Best DDPM model copied to Drive: /content/drive/MyDrive/fiftyone-getting-started-datasets/DDPM_MNIST_Models/best_ddpm_unet.pth\n"
          ]
        },
        {
          "output_type": "stream",
          "name": "stderr",
          "text": [
            "DDPM Epoch 6/50: 100%|██████████| 468/468 [00:19<00:00, 23.42it/s]\n"
          ]
        },
        {
          "output_type": "stream",
          "name": "stdout",
          "text": [
            "DDPM Epoch 6/50, Loss: 0.0215\n",
            "New best DDPM loss: 0.0215. Saving best model...\n",
            "  Best DDPM model saved locally: ddpm_mnist_output/best_ddpm_unet.pth\n",
            "  Best DDPM model copied to Drive: /content/drive/MyDrive/fiftyone-getting-started-datasets/DDPM_MNIST_Models/best_ddpm_unet.pth\n"
          ]
        },
        {
          "output_type": "stream",
          "name": "stderr",
          "text": [
            "DDPM Epoch 7/50: 100%|██████████| 468/468 [00:19<00:00, 23.45it/s]\n"
          ]
        },
        {
          "output_type": "stream",
          "name": "stdout",
          "text": [
            "DDPM Epoch 7/50, Loss: 0.0213\n",
            "New best DDPM loss: 0.0213. Saving best model...\n",
            "  Best DDPM model saved locally: ddpm_mnist_output/best_ddpm_unet.pth\n",
            "  Best DDPM model copied to Drive: /content/drive/MyDrive/fiftyone-getting-started-datasets/DDPM_MNIST_Models/best_ddpm_unet.pth\n"
          ]
        },
        {
          "output_type": "stream",
          "name": "stderr",
          "text": [
            "DDPM Epoch 8/50: 100%|██████████| 468/468 [00:20<00:00, 23.37it/s]\n"
          ]
        },
        {
          "output_type": "stream",
          "name": "stdout",
          "text": [
            "DDPM Epoch 8/50, Loss: 0.0208\n",
            "New best DDPM loss: 0.0208. Saving best model...\n",
            "  Best DDPM model saved locally: ddpm_mnist_output/best_ddpm_unet.pth\n",
            "  Best DDPM model copied to Drive: /content/drive/MyDrive/fiftyone-getting-started-datasets/DDPM_MNIST_Models/best_ddpm_unet.pth\n"
          ]
        },
        {
          "output_type": "stream",
          "name": "stderr",
          "text": [
            "DDPM Epoch 9/50: 100%|██████████| 468/468 [00:20<00:00, 23.33it/s]\n"
          ]
        },
        {
          "output_type": "stream",
          "name": "stdout",
          "text": [
            "DDPM Epoch 9/50, Loss: 0.0208\n"
          ]
        },
        {
          "output_type": "stream",
          "name": "stderr",
          "text": [
            "DDPM Epoch 10/50: 100%|██████████| 468/468 [00:19<00:00, 23.50it/s]\n"
          ]
        },
        {
          "output_type": "stream",
          "name": "stdout",
          "text": [
            "DDPM Epoch 10/50, Loss: 0.0206\n",
            "New best DDPM loss: 0.0206. Saving best model...\n",
            "  Best DDPM model saved locally: ddpm_mnist_output/best_ddpm_unet.pth\n",
            "  Best DDPM model copied to Drive: /content/drive/MyDrive/fiftyone-getting-started-datasets/DDPM_MNIST_Models/best_ddpm_unet.pth\n"
          ]
        },
        {
          "output_type": "stream",
          "name": "stderr",
          "text": [
            "Sampling loop: 100%|██████████| 300/300 [00:01<00:00, 288.88it/s]\n"
          ]
        },
        {
          "output_type": "stream",
          "name": "stdout",
          "text": [
            "Saved sample images at epoch 10 to ddpm_mnist_output/ddpm_sample_epoch_10.png\n"
          ]
        },
        {
          "output_type": "stream",
          "name": "stderr",
          "text": [
            "DDPM Epoch 11/50: 100%|██████████| 468/468 [00:20<00:00, 23.30it/s]\n"
          ]
        },
        {
          "output_type": "stream",
          "name": "stdout",
          "text": [
            "DDPM Epoch 11/50, Loss: 0.0204\n",
            "New best DDPM loss: 0.0204. Saving best model...\n",
            "  Best DDPM model saved locally: ddpm_mnist_output/best_ddpm_unet.pth\n",
            "  Best DDPM model copied to Drive: /content/drive/MyDrive/fiftyone-getting-started-datasets/DDPM_MNIST_Models/best_ddpm_unet.pth\n"
          ]
        },
        {
          "output_type": "stream",
          "name": "stderr",
          "text": [
            "DDPM Epoch 12/50: 100%|██████████| 468/468 [00:20<00:00, 23.34it/s]\n"
          ]
        },
        {
          "output_type": "stream",
          "name": "stdout",
          "text": [
            "DDPM Epoch 12/50, Loss: 0.0202\n",
            "New best DDPM loss: 0.0202. Saving best model...\n",
            "  Best DDPM model saved locally: ddpm_mnist_output/best_ddpm_unet.pth\n",
            "  Best DDPM model copied to Drive: /content/drive/MyDrive/fiftyone-getting-started-datasets/DDPM_MNIST_Models/best_ddpm_unet.pth\n"
          ]
        },
        {
          "output_type": "stream",
          "name": "stderr",
          "text": [
            "DDPM Epoch 13/50: 100%|██████████| 468/468 [00:20<00:00, 23.38it/s]\n"
          ]
        },
        {
          "output_type": "stream",
          "name": "stdout",
          "text": [
            "DDPM Epoch 13/50, Loss: 0.0200\n",
            "New best DDPM loss: 0.0200. Saving best model...\n",
            "  Best DDPM model saved locally: ddpm_mnist_output/best_ddpm_unet.pth\n",
            "  Best DDPM model copied to Drive: /content/drive/MyDrive/fiftyone-getting-started-datasets/DDPM_MNIST_Models/best_ddpm_unet.pth\n"
          ]
        },
        {
          "output_type": "stream",
          "name": "stderr",
          "text": [
            "DDPM Epoch 14/50: 100%|██████████| 468/468 [00:19<00:00, 23.45it/s]\n"
          ]
        },
        {
          "output_type": "stream",
          "name": "stdout",
          "text": [
            "DDPM Epoch 14/50, Loss: 0.0200\n",
            "New best DDPM loss: 0.0200. Saving best model...\n",
            "  Best DDPM model saved locally: ddpm_mnist_output/best_ddpm_unet.pth\n",
            "  Best DDPM model copied to Drive: /content/drive/MyDrive/fiftyone-getting-started-datasets/DDPM_MNIST_Models/best_ddpm_unet.pth\n"
          ]
        },
        {
          "output_type": "stream",
          "name": "stderr",
          "text": [
            "DDPM Epoch 15/50: 100%|██████████| 468/468 [00:19<00:00, 23.40it/s]\n"
          ]
        },
        {
          "output_type": "stream",
          "name": "stdout",
          "text": [
            "DDPM Epoch 15/50, Loss: 0.0199\n",
            "New best DDPM loss: 0.0199. Saving best model...\n",
            "  Best DDPM model saved locally: ddpm_mnist_output/best_ddpm_unet.pth\n",
            "  Best DDPM model copied to Drive: /content/drive/MyDrive/fiftyone-getting-started-datasets/DDPM_MNIST_Models/best_ddpm_unet.pth\n"
          ]
        },
        {
          "output_type": "stream",
          "name": "stderr",
          "text": [
            "DDPM Epoch 16/50: 100%|██████████| 468/468 [00:20<00:00, 23.31it/s]\n"
          ]
        },
        {
          "output_type": "stream",
          "name": "stdout",
          "text": [
            "DDPM Epoch 16/50, Loss: 0.0198\n",
            "New best DDPM loss: 0.0198. Saving best model...\n",
            "  Best DDPM model saved locally: ddpm_mnist_output/best_ddpm_unet.pth\n",
            "  Best DDPM model copied to Drive: /content/drive/MyDrive/fiftyone-getting-started-datasets/DDPM_MNIST_Models/best_ddpm_unet.pth\n"
          ]
        },
        {
          "output_type": "stream",
          "name": "stderr",
          "text": [
            "DDPM Epoch 17/50: 100%|██████████| 468/468 [00:19<00:00, 23.42it/s]\n"
          ]
        },
        {
          "output_type": "stream",
          "name": "stdout",
          "text": [
            "DDPM Epoch 17/50, Loss: 0.0196\n",
            "New best DDPM loss: 0.0196. Saving best model...\n",
            "  Best DDPM model saved locally: ddpm_mnist_output/best_ddpm_unet.pth\n",
            "  Best DDPM model copied to Drive: /content/drive/MyDrive/fiftyone-getting-started-datasets/DDPM_MNIST_Models/best_ddpm_unet.pth\n"
          ]
        },
        {
          "output_type": "stream",
          "name": "stderr",
          "text": [
            "DDPM Epoch 18/50: 100%|██████████| 468/468 [00:19<00:00, 23.43it/s]\n"
          ]
        },
        {
          "output_type": "stream",
          "name": "stdout",
          "text": [
            "DDPM Epoch 18/50, Loss: 0.0196\n",
            "New best DDPM loss: 0.0196. Saving best model...\n",
            "  Best DDPM model saved locally: ddpm_mnist_output/best_ddpm_unet.pth\n",
            "  Best DDPM model copied to Drive: /content/drive/MyDrive/fiftyone-getting-started-datasets/DDPM_MNIST_Models/best_ddpm_unet.pth\n"
          ]
        },
        {
          "output_type": "stream",
          "name": "stderr",
          "text": [
            "DDPM Epoch 19/50: 100%|██████████| 468/468 [00:19<00:00, 23.41it/s]\n"
          ]
        },
        {
          "output_type": "stream",
          "name": "stdout",
          "text": [
            "DDPM Epoch 19/50, Loss: 0.0195\n",
            "New best DDPM loss: 0.0195. Saving best model...\n",
            "  Best DDPM model saved locally: ddpm_mnist_output/best_ddpm_unet.pth\n",
            "  Best DDPM model copied to Drive: /content/drive/MyDrive/fiftyone-getting-started-datasets/DDPM_MNIST_Models/best_ddpm_unet.pth\n"
          ]
        },
        {
          "output_type": "stream",
          "name": "stderr",
          "text": [
            "DDPM Epoch 20/50: 100%|██████████| 468/468 [00:19<00:00, 23.52it/s]\n"
          ]
        },
        {
          "output_type": "stream",
          "name": "stdout",
          "text": [
            "DDPM Epoch 20/50, Loss: 0.0194\n",
            "New best DDPM loss: 0.0194. Saving best model...\n",
            "  Best DDPM model saved locally: ddpm_mnist_output/best_ddpm_unet.pth\n",
            "  Best DDPM model copied to Drive: /content/drive/MyDrive/fiftyone-getting-started-datasets/DDPM_MNIST_Models/best_ddpm_unet.pth\n"
          ]
        },
        {
          "output_type": "stream",
          "name": "stderr",
          "text": [
            "Sampling loop: 100%|██████████| 300/300 [00:01<00:00, 298.70it/s]\n"
          ]
        },
        {
          "output_type": "stream",
          "name": "stdout",
          "text": [
            "Saved sample images at epoch 20 to ddpm_mnist_output/ddpm_sample_epoch_20.png\n"
          ]
        },
        {
          "output_type": "stream",
          "name": "stderr",
          "text": [
            "DDPM Epoch 21/50: 100%|██████████| 468/468 [00:20<00:00, 23.31it/s]\n"
          ]
        },
        {
          "output_type": "stream",
          "name": "stdout",
          "text": [
            "DDPM Epoch 21/50, Loss: 0.0194\n"
          ]
        },
        {
          "output_type": "stream",
          "name": "stderr",
          "text": [
            "DDPM Epoch 22/50: 100%|██████████| 468/468 [00:20<00:00, 23.23it/s]\n"
          ]
        },
        {
          "output_type": "stream",
          "name": "stdout",
          "text": [
            "DDPM Epoch 22/50, Loss: 0.0193\n",
            "New best DDPM loss: 0.0193. Saving best model...\n",
            "  Best DDPM model saved locally: ddpm_mnist_output/best_ddpm_unet.pth\n",
            "  Best DDPM model copied to Drive: /content/drive/MyDrive/fiftyone-getting-started-datasets/DDPM_MNIST_Models/best_ddpm_unet.pth\n"
          ]
        },
        {
          "output_type": "stream",
          "name": "stderr",
          "text": [
            "DDPM Epoch 23/50: 100%|██████████| 468/468 [00:20<00:00, 23.26it/s]\n"
          ]
        },
        {
          "output_type": "stream",
          "name": "stdout",
          "text": [
            "DDPM Epoch 23/50, Loss: 0.0194\n"
          ]
        },
        {
          "output_type": "stream",
          "name": "stderr",
          "text": [
            "DDPM Epoch 24/50: 100%|██████████| 468/468 [00:20<00:00, 23.35it/s]\n"
          ]
        },
        {
          "output_type": "stream",
          "name": "stdout",
          "text": [
            "DDPM Epoch 24/50, Loss: 0.0191\n",
            "New best DDPM loss: 0.0191. Saving best model...\n",
            "  Best DDPM model saved locally: ddpm_mnist_output/best_ddpm_unet.pth\n",
            "  Best DDPM model copied to Drive: /content/drive/MyDrive/fiftyone-getting-started-datasets/DDPM_MNIST_Models/best_ddpm_unet.pth\n"
          ]
        },
        {
          "output_type": "stream",
          "name": "stderr",
          "text": [
            "DDPM Epoch 25/50: 100%|██████████| 468/468 [00:20<00:00, 23.29it/s]\n"
          ]
        },
        {
          "output_type": "stream",
          "name": "stdout",
          "text": [
            "DDPM Epoch 25/50, Loss: 0.0192\n"
          ]
        },
        {
          "output_type": "stream",
          "name": "stderr",
          "text": [
            "DDPM Epoch 26/50: 100%|██████████| 468/468 [00:19<00:00, 23.41it/s]\n"
          ]
        },
        {
          "output_type": "stream",
          "name": "stdout",
          "text": [
            "DDPM Epoch 26/50, Loss: 0.0192\n"
          ]
        },
        {
          "output_type": "stream",
          "name": "stderr",
          "text": [
            "DDPM Epoch 27/50: 100%|██████████| 468/468 [00:20<00:00, 23.35it/s]\n"
          ]
        },
        {
          "output_type": "stream",
          "name": "stdout",
          "text": [
            "DDPM Epoch 27/50, Loss: 0.0189\n",
            "New best DDPM loss: 0.0189. Saving best model...\n",
            "  Best DDPM model saved locally: ddpm_mnist_output/best_ddpm_unet.pth\n",
            "  Best DDPM model copied to Drive: /content/drive/MyDrive/fiftyone-getting-started-datasets/DDPM_MNIST_Models/best_ddpm_unet.pth\n"
          ]
        },
        {
          "output_type": "stream",
          "name": "stderr",
          "text": [
            "DDPM Epoch 28/50: 100%|██████████| 468/468 [00:19<00:00, 23.43it/s]\n"
          ]
        },
        {
          "output_type": "stream",
          "name": "stdout",
          "text": [
            "DDPM Epoch 28/50, Loss: 0.0190\n"
          ]
        },
        {
          "output_type": "stream",
          "name": "stderr",
          "text": [
            "DDPM Epoch 29/50: 100%|██████████| 468/468 [00:20<00:00, 23.37it/s]\n"
          ]
        },
        {
          "output_type": "stream",
          "name": "stdout",
          "text": [
            "DDPM Epoch 29/50, Loss: 0.0190\n"
          ]
        },
        {
          "output_type": "stream",
          "name": "stderr",
          "text": [
            "DDPM Epoch 30/50: 100%|██████████| 468/468 [00:19<00:00, 23.44it/s]\n"
          ]
        },
        {
          "output_type": "stream",
          "name": "stdout",
          "text": [
            "DDPM Epoch 30/50, Loss: 0.0189\n",
            "New best DDPM loss: 0.0189. Saving best model...\n",
            "  Best DDPM model saved locally: ddpm_mnist_output/best_ddpm_unet.pth\n",
            "  Best DDPM model copied to Drive: /content/drive/MyDrive/fiftyone-getting-started-datasets/DDPM_MNIST_Models/best_ddpm_unet.pth\n"
          ]
        },
        {
          "output_type": "stream",
          "name": "stderr",
          "text": [
            "Sampling loop: 100%|██████████| 300/300 [00:00<00:00, 302.81it/s]\n"
          ]
        },
        {
          "output_type": "stream",
          "name": "stdout",
          "text": [
            "Saved sample images at epoch 30 to ddpm_mnist_output/ddpm_sample_epoch_30.png\n"
          ]
        },
        {
          "output_type": "stream",
          "name": "stderr",
          "text": [
            "DDPM Epoch 31/50: 100%|██████████| 468/468 [00:20<00:00, 23.29it/s]\n"
          ]
        },
        {
          "output_type": "stream",
          "name": "stdout",
          "text": [
            "DDPM Epoch 31/50, Loss: 0.0189\n"
          ]
        },
        {
          "output_type": "stream",
          "name": "stderr",
          "text": [
            "DDPM Epoch 32/50: 100%|██████████| 468/468 [00:20<00:00, 23.40it/s]\n"
          ]
        },
        {
          "output_type": "stream",
          "name": "stdout",
          "text": [
            "DDPM Epoch 32/50, Loss: 0.0189\n"
          ]
        },
        {
          "output_type": "stream",
          "name": "stderr",
          "text": [
            "DDPM Epoch 33/50: 100%|██████████| 468/468 [00:20<00:00, 23.27it/s]\n"
          ]
        },
        {
          "output_type": "stream",
          "name": "stdout",
          "text": [
            "DDPM Epoch 33/50, Loss: 0.0189\n"
          ]
        },
        {
          "output_type": "stream",
          "name": "stderr",
          "text": [
            "DDPM Epoch 34/50: 100%|██████████| 468/468 [00:20<00:00, 23.26it/s]\n"
          ]
        },
        {
          "output_type": "stream",
          "name": "stdout",
          "text": [
            "DDPM Epoch 34/50, Loss: 0.0188\n",
            "New best DDPM loss: 0.0188. Saving best model...\n",
            "  Best DDPM model saved locally: ddpm_mnist_output/best_ddpm_unet.pth\n",
            "  Best DDPM model copied to Drive: /content/drive/MyDrive/fiftyone-getting-started-datasets/DDPM_MNIST_Models/best_ddpm_unet.pth\n"
          ]
        },
        {
          "output_type": "stream",
          "name": "stderr",
          "text": [
            "DDPM Epoch 35/50: 100%|██████████| 468/468 [00:20<00:00, 23.24it/s]\n"
          ]
        },
        {
          "output_type": "stream",
          "name": "stdout",
          "text": [
            "DDPM Epoch 35/50, Loss: 0.0188\n",
            "New best DDPM loss: 0.0188. Saving best model...\n",
            "  Best DDPM model saved locally: ddpm_mnist_output/best_ddpm_unet.pth\n",
            "  Best DDPM model copied to Drive: /content/drive/MyDrive/fiftyone-getting-started-datasets/DDPM_MNIST_Models/best_ddpm_unet.pth\n"
          ]
        },
        {
          "output_type": "stream",
          "name": "stderr",
          "text": [
            "DDPM Epoch 36/50: 100%|██████████| 468/468 [00:20<00:00, 23.25it/s]\n"
          ]
        },
        {
          "output_type": "stream",
          "name": "stdout",
          "text": [
            "DDPM Epoch 36/50, Loss: 0.0187\n",
            "New best DDPM loss: 0.0187. Saving best model...\n",
            "  Best DDPM model saved locally: ddpm_mnist_output/best_ddpm_unet.pth\n",
            "  Best DDPM model copied to Drive: /content/drive/MyDrive/fiftyone-getting-started-datasets/DDPM_MNIST_Models/best_ddpm_unet.pth\n"
          ]
        },
        {
          "output_type": "stream",
          "name": "stderr",
          "text": [
            "DDPM Epoch 37/50: 100%|██████████| 468/468 [00:20<00:00, 23.33it/s]\n"
          ]
        },
        {
          "output_type": "stream",
          "name": "stdout",
          "text": [
            "DDPM Epoch 37/50, Loss: 0.0188\n"
          ]
        },
        {
          "output_type": "stream",
          "name": "stderr",
          "text": [
            "DDPM Epoch 38/50: 100%|██████████| 468/468 [00:20<00:00, 23.35it/s]\n"
          ]
        },
        {
          "output_type": "stream",
          "name": "stdout",
          "text": [
            "DDPM Epoch 38/50, Loss: 0.0186\n",
            "New best DDPM loss: 0.0186. Saving best model...\n",
            "  Best DDPM model saved locally: ddpm_mnist_output/best_ddpm_unet.pth\n",
            "  Best DDPM model copied to Drive: /content/drive/MyDrive/fiftyone-getting-started-datasets/DDPM_MNIST_Models/best_ddpm_unet.pth\n"
          ]
        },
        {
          "output_type": "stream",
          "name": "stderr",
          "text": [
            "DDPM Epoch 39/50: 100%|██████████| 468/468 [00:20<00:00, 23.28it/s]\n"
          ]
        },
        {
          "output_type": "stream",
          "name": "stdout",
          "text": [
            "DDPM Epoch 39/50, Loss: 0.0186\n",
            "New best DDPM loss: 0.0186. Saving best model...\n",
            "  Best DDPM model saved locally: ddpm_mnist_output/best_ddpm_unet.pth\n",
            "  Best DDPM model copied to Drive: /content/drive/MyDrive/fiftyone-getting-started-datasets/DDPM_MNIST_Models/best_ddpm_unet.pth\n"
          ]
        },
        {
          "output_type": "stream",
          "name": "stderr",
          "text": [
            "DDPM Epoch 40/50: 100%|██████████| 468/468 [00:20<00:00, 23.21it/s]\n"
          ]
        },
        {
          "output_type": "stream",
          "name": "stdout",
          "text": [
            "DDPM Epoch 40/50, Loss: 0.0187\n"
          ]
        },
        {
          "output_type": "stream",
          "name": "stderr",
          "text": [
            "Sampling loop: 100%|██████████| 300/300 [00:00<00:00, 304.79it/s]\n"
          ]
        },
        {
          "output_type": "stream",
          "name": "stdout",
          "text": [
            "Saved sample images at epoch 40 to ddpm_mnist_output/ddpm_sample_epoch_40.png\n"
          ]
        },
        {
          "output_type": "stream",
          "name": "stderr",
          "text": [
            "DDPM Epoch 41/50: 100%|██████████| 468/468 [00:20<00:00, 23.26it/s]\n"
          ]
        },
        {
          "output_type": "stream",
          "name": "stdout",
          "text": [
            "DDPM Epoch 41/50, Loss: 0.0186\n",
            "New best DDPM loss: 0.0186. Saving best model...\n",
            "  Best DDPM model saved locally: ddpm_mnist_output/best_ddpm_unet.pth\n",
            "  Best DDPM model copied to Drive: /content/drive/MyDrive/fiftyone-getting-started-datasets/DDPM_MNIST_Models/best_ddpm_unet.pth\n"
          ]
        },
        {
          "output_type": "stream",
          "name": "stderr",
          "text": [
            "DDPM Epoch 42/50: 100%|██████████| 468/468 [00:20<00:00, 23.28it/s]\n"
          ]
        },
        {
          "output_type": "stream",
          "name": "stdout",
          "text": [
            "DDPM Epoch 42/50, Loss: 0.0186\n"
          ]
        },
        {
          "output_type": "stream",
          "name": "stderr",
          "text": [
            "DDPM Epoch 43/50: 100%|██████████| 468/468 [00:20<00:00, 23.35it/s]\n"
          ]
        },
        {
          "output_type": "stream",
          "name": "stdout",
          "text": [
            "DDPM Epoch 43/50, Loss: 0.0185\n",
            "New best DDPM loss: 0.0185. Saving best model...\n",
            "  Best DDPM model saved locally: ddpm_mnist_output/best_ddpm_unet.pth\n",
            "  Best DDPM model copied to Drive: /content/drive/MyDrive/fiftyone-getting-started-datasets/DDPM_MNIST_Models/best_ddpm_unet.pth\n"
          ]
        },
        {
          "output_type": "stream",
          "name": "stderr",
          "text": [
            "DDPM Epoch 44/50: 100%|██████████| 468/468 [00:20<00:00, 23.26it/s]\n"
          ]
        },
        {
          "output_type": "stream",
          "name": "stdout",
          "text": [
            "DDPM Epoch 44/50, Loss: 0.0185\n",
            "New best DDPM loss: 0.0185. Saving best model...\n",
            "  Best DDPM model saved locally: ddpm_mnist_output/best_ddpm_unet.pth\n",
            "  Best DDPM model copied to Drive: /content/drive/MyDrive/fiftyone-getting-started-datasets/DDPM_MNIST_Models/best_ddpm_unet.pth\n"
          ]
        },
        {
          "output_type": "stream",
          "name": "stderr",
          "text": [
            "DDPM Epoch 45/50: 100%|██████████| 468/468 [00:20<00:00, 23.28it/s]\n"
          ]
        },
        {
          "output_type": "stream",
          "name": "stdout",
          "text": [
            "DDPM Epoch 45/50, Loss: 0.0185\n",
            "New best DDPM loss: 0.0185. Saving best model...\n",
            "  Best DDPM model saved locally: ddpm_mnist_output/best_ddpm_unet.pth\n",
            "  Best DDPM model copied to Drive: /content/drive/MyDrive/fiftyone-getting-started-datasets/DDPM_MNIST_Models/best_ddpm_unet.pth\n"
          ]
        },
        {
          "output_type": "stream",
          "name": "stderr",
          "text": [
            "DDPM Epoch 46/50: 100%|██████████| 468/468 [00:20<00:00, 23.22it/s]\n"
          ]
        },
        {
          "output_type": "stream",
          "name": "stdout",
          "text": [
            "DDPM Epoch 46/50, Loss: 0.0185\n"
          ]
        },
        {
          "output_type": "stream",
          "name": "stderr",
          "text": [
            "DDPM Epoch 47/50: 100%|██████████| 468/468 [00:20<00:00, 23.35it/s]\n"
          ]
        },
        {
          "output_type": "stream",
          "name": "stdout",
          "text": [
            "DDPM Epoch 47/50, Loss: 0.0184\n",
            "New best DDPM loss: 0.0184. Saving best model...\n",
            "  Best DDPM model saved locally: ddpm_mnist_output/best_ddpm_unet.pth\n",
            "  Best DDPM model copied to Drive: /content/drive/MyDrive/fiftyone-getting-started-datasets/DDPM_MNIST_Models/best_ddpm_unet.pth\n"
          ]
        },
        {
          "output_type": "stream",
          "name": "stderr",
          "text": [
            "DDPM Epoch 48/50: 100%|██████████| 468/468 [00:20<00:00, 23.14it/s]\n"
          ]
        },
        {
          "output_type": "stream",
          "name": "stdout",
          "text": [
            "DDPM Epoch 48/50, Loss: 0.0185\n"
          ]
        },
        {
          "output_type": "stream",
          "name": "stderr",
          "text": [
            "DDPM Epoch 49/50: 100%|██████████| 468/468 [00:20<00:00, 23.19it/s]\n"
          ]
        },
        {
          "output_type": "stream",
          "name": "stdout",
          "text": [
            "DDPM Epoch 49/50, Loss: 0.0185\n"
          ]
        },
        {
          "output_type": "stream",
          "name": "stderr",
          "text": [
            "DDPM Epoch 50/50: 100%|██████████| 468/468 [00:19<00:00, 23.44it/s]\n"
          ]
        },
        {
          "output_type": "stream",
          "name": "stdout",
          "text": [
            "DDPM Epoch 50/50, Loss: 0.0184\n",
            "New best DDPM loss: 0.0184. Saving best model...\n",
            "  Best DDPM model saved locally: ddpm_mnist_output/best_ddpm_unet.pth\n",
            "  Best DDPM model copied to Drive: /content/drive/MyDrive/fiftyone-getting-started-datasets/DDPM_MNIST_Models/best_ddpm_unet.pth\n"
          ]
        },
        {
          "output_type": "stream",
          "name": "stderr",
          "text": [
            "Sampling loop: 100%|██████████| 300/300 [00:00<00:00, 300.32it/s]\n"
          ]
        },
        {
          "output_type": "stream",
          "name": "stdout",
          "text": [
            "Saved sample images at epoch 50 to ddpm_mnist_output/ddpm_sample_epoch_50.png\n",
            "\n",
            "Finished DDPM training. Saving final model...\n",
            "  Final DDPM model saved locally: ddpm_mnist_output/ddpm_unet.pth\n",
            "  Final DDPM model copied to Drive: /content/drive/MyDrive/fiftyone-getting-started-datasets/DDPM_MNIST_Models/ddpm_unet.pth\n",
            "\n",
            "--- Generating and Evaluating DDPM Samples ---\n",
            "Generating 128 samples with DDPM...\n"
          ]
        },
        {
          "output_type": "stream",
          "name": "stderr",
          "text": [
            "Sampling loop: 100%|██████████| 300/300 [00:01<00:00, 254.81it/s]\n"
          ]
        },
        {
          "output_type": "stream",
          "name": "stdout",
          "text": [
            "Saved final generated grid to ddpm_mnist_output/ddpm_final_generated_grid.png\n",
            "Classifying generated samples...\n",
            "\n",
            "Classifier predictions for first 64 DDPM-generated digits (showing a subset if many):\n",
            "[[8 7 0 3 8 5 3 8]\n",
            " [0 1 7 5 4 1 8 3]\n",
            " [4 6 4 7 7 0 5 4]\n",
            " [4 0 7 3 9 8 9 5]\n",
            " [9 9 9 9 2 1 9 2]\n",
            " [6 2 8 8 9 0 6 3]\n",
            " [2 0 9 0 3 8 6 9]\n",
            " [3 6 2 4 0 9 0 5]]\n",
            "Saved plot of generated images with predictions to ddpm_mnist_output/ddpm_generated_with_predictions.png\n",
            "\n",
            "Distribution of predicted classes for generated samples:\n",
            "Digit 0: 23 samples (17.97%)\n",
            "Digit 1: 5 samples (3.91%)\n",
            "Digit 2: 13 samples (10.16%)\n",
            "Digit 3: 15 samples (11.72%)\n",
            "Digit 4: 14 samples (10.94%)\n",
            "Digit 5: 10 samples (7.81%)\n",
            "Digit 6: 11 samples (8.59%)\n",
            "Digit 7: 8 samples (6.25%)\n",
            "Digit 8: 14 samples (10.94%)\n",
            "Digit 9: 15 samples (11.72%)\n",
            "\n",
            "--- Creating FiftyOne Dataset ---\n"
          ]
        },
        {
          "output_type": "error",
          "ename": "AttributeError",
          "evalue": "module 'fiftyone' has no attribute 'Vector'",
          "traceback": [
            "\u001b[0;31m---------------------------------------------------------------------------\u001b[0m",
            "\u001b[0;31mAttributeError\u001b[0m                            Traceback (most recent call last)",
            "\u001b[0;32m<ipython-input-25-328787a51bbe>\u001b[0m in \u001b[0;36m<cell line: 0>\u001b[0;34m()\u001b[0m\n\u001b[1;32m    178\u001b[0m             \u001b[0;31m# Add probabilities for each class as a custom field (list of floats)\u001b[0m\u001b[0;34m\u001b[0m\u001b[0;34m\u001b[0m\u001b[0m\n\u001b[1;32m    179\u001b[0m             \u001b[0;31m# For FiftyOne, this is better stored as a fo.Vector or just a list in a field\u001b[0m\u001b[0;34m\u001b[0m\u001b[0;34m\u001b[0m\u001b[0m\n\u001b[0;32m--> 180\u001b[0;31m             \u001b[0mfo_sample\u001b[0m\u001b[0;34m[\u001b[0m\u001b[0;34m\"probabilities_all_classes\"\u001b[0m\u001b[0;34m]\u001b[0m \u001b[0;34m=\u001b[0m \u001b[0mfo\u001b[0m\u001b[0;34m.\u001b[0m\u001b[0mVector\u001b[0m\u001b[0;34m(\u001b[0m\u001b[0mvalues\u001b[0m\u001b[0;34m=\u001b[0m\u001b[0msample_probabilities\u001b[0m\u001b[0;34m)\u001b[0m\u001b[0;34m\u001b[0m\u001b[0;34m\u001b[0m\u001b[0m\n\u001b[0m\u001b[1;32m    181\u001b[0m             \u001b[0mfo_sample\u001b[0m\u001b[0;34m[\u001b[0m\u001b[0;34m\"predicted_digit\"\u001b[0m\u001b[0;34m]\u001b[0m \u001b[0;34m=\u001b[0m \u001b[0msample_predicted_class_int\u001b[0m \u001b[0;31m# scalar field\u001b[0m\u001b[0;34m\u001b[0m\u001b[0;34m\u001b[0m\u001b[0m\n\u001b[1;32m    182\u001b[0m \u001b[0;34m\u001b[0m\u001b[0m\n",
            "\u001b[0;31mAttributeError\u001b[0m: module 'fiftyone' has no attribute 'Vector'"
          ]
        },
        {
          "output_type": "display_data",
          "data": {
            "text/plain": [
              "<Figure size 1000x1000 with 16 Axes>"
            ],
            "image/png": "[encoded data removed]"
          },
          "metadata": {}
        }
      ]
    },
    {
      "cell_type": "markdown",
      "source": [
        "## DDPM U-net"
      ],
      "metadata": {
        "id": "PLJVMGY2rkte"
      }
    },
    {
      "cell_type": "code",
      "source": [
        "print(\"\\n--- Initializing DDPM U-Net ---\")\n",
        "unet_model = UNet(img_channels=1, time_emb_dim=256).to(DEVICE) # Initialized on DEVICE\n",
        "diffusion = Diffusion(timesteps=T, img_size=IMG_SIZE, device=DEVICE)\n",
        "optimizer_ddpm = optim.Adam(unet_model.parameters(), lr=LR_DDPM)\n",
        "\n",
        "ddpm_ready = False\n",
        "current_best_ddpm_loss = float('inf')\n",
        "\n",
        "ddpm_load_paths_ordered = [\n",
        "    BEST_DDPM_MODEL_PATH_DRIVE, BEST_DDPM_MODEL_PATH_LOCAL,\n",
        "    DDPM_MODEL_PATH_DRIVE, DDPM_MODEL_PATH_LOCAL\n",
        "]\n",
        "if load_model_weights(unet_model, \"DDPM U-Net\", ddpm_load_paths_ordered, DEVICE):\n",
        "    ddpm_ready = True\n",
        "    # For DDPM, we don't typically \"evaluate\" a loaded model's loss before training in the same way.\n",
        "    # The 'initial_best_loss' in train_ddpm will handle new bests.\n",
        "    print(\"DDPM U-Net loaded. Training will continue/start from this state.\")\n",
        "else:\n",
        "    print(\"No pre-trained DDPM U-Net found or failed to load.\")\n",
        "\n",
        "if EPOCHS_DDPM > 0:\n",
        "    print(f\"Proceeding to train DDPM U-Net for {EPOCHS_DDPM} epochs.\")\n",
        "    if ddpm_ready:\n",
        "        print(\"Continuing DDPM training from loaded model.\")\n",
        "    else: # No model loaded, starting fresh\n",
        "        print(\"Training DDPM U-Net from scratch.\")\n",
        "        current_best_ddpm_loss = float('inf') # Ensure it starts from inf if no load\n",
        "    train_ddpm(unet_model, diffusion, train_loader_ddpm, optimizer_ddpm, EPOCHS_DDPM,\n",
        "                 initial_best_loss=current_best_ddpm_loss)\n",
        "    ddpm_ready = True # Mark as ready after training\n",
        "elif not ddpm_ready:\n",
        "    print(\"WARNING: EPOCHS_DDPM is 0, and no DDPM model was loaded. Sample generation will fail.\")\n",
        "else: # EPOCHS_DDPM == 0 and ddpm_loaded == True\n",
        "    print(\"DDPM U-Net loaded, and EPOCHS_DDPM is 0. Skipping DDPM training.\")\n",
        "\n",
        "\n"
      ],
      "metadata": {
        "id": "28PTISrprjgx"
      },
      "execution_count": null,
      "outputs": []
    },
    {
      "cell_type": "markdown",
      "source": [
        "## Generate Digits with DDPM and Evaluate with Classifier\n"
      ],
      "metadata": {
        "id": "3IzyFrEbvlz9"
      }
    },
    {
      "cell_type": "code",
      "source": [
        "if not ddpm_ready:\n",
        "    print(\"DDPM model not ready (not trained or loaded). Cannot generate samples.\")\n",
        "elif not classifier_ready:\n",
        "    print(\"Classifier model not ready (not trained or loaded). Cannot fully evaluate generated samples.\")\n",
        "else:\n",
        "    unet_model.eval()\n",
        "    mnist_classifier.eval()\n",
        "\n",
        "    with torch.no_grad():\n",
        "        num_generated_samples = 1024 # Increase for more comprehensive FiftyOne dataset\n",
        "        print(f\"Generating {num_generated_samples} samples with DDPM...\")\n",
        "        generated_image_steps = diffusion.sample(unet_model, IMG_SIZE, batch_size=num_generated_samples, channels=1)\n",
        "        generated_images_final = generated_image_steps[-1].to(DEVICE) # Already on DEVICE if sample puts it there\n",
        "\n",
        "        # Denormalize DDPM output from [-1, 1] to [0, 1]\n",
        "        generated_images_0_1 = (generated_images_final + 1) / 2.0\n",
        "\n",
        "        # Normalize for classifier input (from [0,1] to classifier's expected norm)\n",
        "        classifier_normalize_transform = transforms.Normalize((0.1307,), (0.3081,))\n",
        "        generated_images_for_classifier = classifier_normalize_transform(generated_images_0_1.clone()) # Use .clone()\n",
        "\n",
        "        # Save a grid of generated images\n",
        "        grid_save_path = os.path.join(LOCAL_OUTPUT_DIR, \"ddpm_final_generated_grid.png\")\n",
        "        grid = make_grid(generated_images_0_1.cpu(), nrow=8 if num_generated_samples >=8 else int(num_generated_samples**0.5))\n",
        "        save_image(grid, grid_save_path)\n",
        "        print(f\"Saved final generated grid to {grid_save_path}\")\n",
        "\n",
        "        # Get classifier predictions\n",
        "        print(\"Classifying generated samples...\")\n",
        "        classifier_outputs_logits = mnist_classifier(generated_images_for_classifier)\n",
        "        classifier_outputs_probs = F.softmax(classifier_outputs_logits, dim=1)\n",
        "        predicted_confidences, predicted_classes_int = torch.max(classifier_outputs_probs.data, 1)\n",
        "\n",
        "        print(f\"\\nClassifier predictions for first {min(num_generated_samples, 64)} DDPM-generated digits (showing a subset if many):\")\n",
        "        print(predicted_classes_int.cpu().numpy()[:64].reshape(-1, 8))\n",
        "\n",
        "        # Plot some generated images with their predicted classes\n",
        "        fig, axes = plt.subplots(4, 4, figsize=(10, 10))\n",
        "        for i, ax in enumerate(axes.flat):\n",
        "            if i < num_generated_samples and i < 16: # Plot first 16\n",
        "                img_to_plot = generated_images_0_1[i].cpu().squeeze().numpy()\n",
        "                ax.imshow(img_to_plot, cmap='gray')\n",
        "                ax.set_title(f\"Pred: {predicted_classes_int[i].item()} ({predicted_confidences[i].item():.2f})\")\n",
        "                ax.axis('off')\n",
        "        plt.tight_layout()\n",
        "        plot_save_path = os.path.join(LOCAL_OUTPUT_DIR, \"ddpm_generated_with_predictions.png\")\n",
        "        plt.savefig(plot_save_path)\n",
        "        print(f\"Saved plot of generated images with predictions to {plot_save_path}\")\n",
        "        # plt.show() # Uncomment to display plot if running interactively and not just saving\n",
        "\n",
        "        class_counts = torch.bincount(predicted_classes_int.cpu(), minlength=10)\n",
        "        print(\"\\nDistribution of predicted classes for generated samples:\")\n",
        "        for digit, count in enumerate(class_counts):\n",
        "            print(f\"Digit {digit}: {count.item()} samples ({100*count.item()/num_generated_samples:.2f}%)\")\n",
        "\n",
        "        # --- FiftyOne Integration ---\n",
        "        print(\"\\n--- Creating FiftyOne Dataset ---\")\n",
        "        fiftyone_image_dir = os.path.join(LOCAL_OUTPUT_DIR, \"fiftyone_generated_images\")\n",
        "        if os.path.exists(fiftyone_image_dir):\n",
        "            shutil.rmtree(fiftyone_image_dir)\n",
        "        os.makedirs(fiftyone_image_dir, exist_ok=True)\n",
        "\n",
        "        dataset_name = \"ddpm_mnist_generated_v3\" # Versioning dataset name\n",
        "        try:\n",
        "            if fo.dataset_exists(dataset_name):\n",
        "                dataset = fo.load_dataset(dataset_name)\n",
        "                dataset.delete()\n",
        "                print(f\"Deleted existing FiftyOne dataset: {dataset_name}\")\n",
        "        except Exception as e: # Broader exception for any fo issue\n",
        "            print(f\"Error checking/deleting FiftyOne dataset {dataset_name}: {e}. Proceeding to create new.\")\n",
        "            pass\n",
        "\n",
        "        dataset = fo.Dataset(name=dataset_name, persistent=True)\n",
        "        dataset.info[\"description\"] = (\n",
        "            \"MNIST digits generated by a DDPM U-Net model, \"\n",
        "            \"with predictions from a separately trained classifier.\"\n",
        "        )\n",
        "\n",
        "\n",
        "        fo_samples = []\n",
        "        for i in range(num_generated_samples):\n",
        "            img_tensor_0_1 = generated_images_0_1[i] # Already in [0,1] format, CHW\n",
        "            img_filename = f\"generated_img_{i:04d}.png\"\n",
        "            img_filepath = os.path.join(fiftyone_image_dir, img_filename)\n",
        "            save_image(img_tensor_0_1.cpu(), img_filepath)\n",
        "\n",
        "            sample_predicted_class_int = predicted_classes_int[i].item()\n",
        "            sample_predicted_class_label = str(sample_predicted_class_int)\n",
        "            sample_confidence = predicted_confidences[i].item()\n",
        "            sample_probabilities = classifier_outputs_probs[i].cpu().numpy().tolist()\n",
        "\n",
        "            fo_sample = fo.Sample(filepath=img_filepath)\n",
        "            fo_sample[\"prediction\"] = fo.Classification(\n",
        "                label=sample_predicted_class_label,\n",
        "                confidence=sample_confidence\n",
        "            )\n",
        "\n",
        "            fo_sample[\"predicted_digit\"] = sample_predicted_class_int # scalar field\n",
        "\n",
        "            fo_samples.append(fo_sample)\n",
        "\n",
        "        dataset.add_samples(fo_samples)\n",
        "        print(f\"Added {len(fo_samples)} samples to FiftyOne dataset '{dataset_name}'.\")\n",
        "        print(f\"Images for FiftyOne are stored in: {fiftyone_image_dir}\")\n",
        "        print(f\"\\nTo view the dataset in FiftyOne App, (if in Colab) run the next cell,\")\n",
        "        print(f\"or (if local) run in your terminal: fiftyone app launch {dataset_name}\")\n",
        "\n",
        "# Global dataset variable for the next cell\n",
        "GLOBAL_FO_DATASET = dataset if 'dataset' in locals() and dataset is not None else None"
      ],
      "metadata": {
        "colab": {
          "base_uri": "https://localhost:8080/",
          "height": 1000
        },
        "id": "kYYAFzkSvjq4",
        "outputId": "0c8a95aa-35bb-4d4c-9b9b-c0cb36d7d5b2"
      },
      "execution_count": 94,
      "outputs": [
        {
          "output_type": "stream",
          "name": "stdout",
          "text": [
            "Generating 1024 samples with DDPM...\n"
          ]
        },
        {
          "output_type": "stream",
          "name": "stderr",
          "text": [
            "Sampling loop: 100%|██████████| 300/300 [00:07<00:00, 38.75it/s]\n"
          ]
        },
        {
          "output_type": "stream",
          "name": "stdout",
          "text": [
            "Saved final generated grid to ddpm_mnist_output/ddpm_final_generated_grid.png\n",
            "Classifying generated samples...\n",
            "\n",
            "Classifier predictions for first 64 DDPM-generated digits (showing a subset if many):\n",
            "[[6 3 2 8 4 2 3 0]\n",
            " [3 2 4 0 3 7 3 6]\n",
            " [7 8 0 8 2 2 8 9]\n",
            " [1 3 7 6 0 7 8 5]\n",
            " [8 5 0 0 5 2 8 2]\n",
            " [4 3 8 8 9 3 9 0]\n",
            " [8 5 6 9 0 6 3 4]\n",
            " [4 4 8 3 6 2 3 8]]\n",
            "Saved plot of generated images with predictions to ddpm_mnist_output/ddpm_generated_with_predictions.png\n",
            "\n",
            "Distribution of predicted classes for generated samples:\n",
            "Digit 0: 184 samples (17.97%)\n",
            "Digit 1: 28 samples (2.73%)\n",
            "Digit 2: 130 samples (12.70%)\n",
            "Digit 3: 136 samples (13.28%)\n",
            "Digit 4: 99 samples (9.67%)\n",
            "Digit 5: 80 samples (7.81%)\n",
            "Digit 6: 86 samples (8.40%)\n",
            "Digit 7: 66 samples (6.45%)\n",
            "Digit 8: 147 samples (14.36%)\n",
            "Digit 9: 68 samples (6.64%)\n",
            "\n",
            "--- Creating FiftyOne Dataset ---\n",
            "Deleted existing FiftyOne dataset: ddpm_mnist_generated_v3\n",
            " 100% |███████████████| 1024/1024 [408.8ms elapsed, 0s remaining, 2.5K samples/s]      \n"
          ]
        },
        {
          "output_type": "stream",
          "name": "stderr",
          "text": [
            "INFO:eta.core.utils: 100% |███████████████| 1024/1024 [408.8ms elapsed, 0s remaining, 2.5K samples/s]      \n"
          ]
        },
        {
          "output_type": "stream",
          "name": "stdout",
          "text": [
            "Added 1024 samples to FiftyOne dataset 'ddpm_mnist_generated_v3'.\n",
            "Images for FiftyOne are stored in: ddpm_mnist_output/fiftyone_generated_images\n",
            "\n",
            "To view the dataset in FiftyOne App, (if in Colab) run the next cell,\n",
            "or (if local) run in your terminal: fiftyone app launch ddpm_mnist_generated_v3\n"
          ]
        },
        {
          "output_type": "display_data",
          "data": {
            "text/plain": [
              "<Figure size 1000x1000 with 16 Axes>"
            ],
            "image/png": "[encoded data removed]"
          },
          "metadata": {}
        }
      ]
    },
    {
      "cell_type": "markdown",
      "source": [
        "## Visualizing the U-Net's Denoising Task\n",
        "\n",
        "Here visualize the core task of the U-Net within our Denoising Diffusion Probabilistic Model (DDPM). The U-Net is trained to predict the noise that was added to an image during the forward diffusion process. By observing its predictions, we can understand how well it has learned to \"denoise.\"\n",
        "\n",
        "We will take a clean image, manually add a known amount of noise to it for a specific timestep `t`, and then ask our trained U-Net to predict that noise. We'll compare the U-Net's prediction to the actual noise and also see how well we can reconstruct the original image using the U-Net's prediction.\n",
        "\n",
        "**What We Are Visualizing in Each Row (for a given timestep `t`):**\n",
        "\n",
        "1.  **Original x₀:**\n",
        "    *   This is a clean, original image sampled directly from the MNIST dataset. It represents the starting point before any noise is added.\n",
        "\n",
        "2.  **Noisy xₜ (t = selected timestep):**\n",
        "    *   This is the `Original x₀` after a specific amount of Gaussian noise (`Actual Noise ε`) has been added to it, corresponding to the forward diffusion process up to timestep `t`.\n",
        "    *   The formula is: `xₜ = sqrt(ᾱₜ) * x₀ + sqrt(1 - ᾱₜ) * ε`, where `ε` is the `Actual Noise`.\n",
        "    *   This `xₜ` is the input that our U-Net receives.\n",
        "\n",
        "3.  **Actual Noise ε:**\n",
        "    *   This is the *specific* Gaussian noise sample (scaled appropriately by the diffusion schedule constants implicitly within `q_sample`) that was intentionally added to `Original x₀` to produce `Noisy xₜ`.\n",
        "    *   This is the \"ground truth\" noise that we want our U-Net to predict.\n",
        "\n",
        "4.  **Predicted Noise ε\\_θ:**\n",
        "    *   This is the output of our trained U-Net when given `Noisy xₜ` and the timestep `t` as input.\n",
        "    *   The U-Net's goal is to make this `Predicted Noise ε\\_θ` as close as possible to the `Actual Noise ε`.\n",
        "\n",
        "5.  **Reconstructed x̂₀:**\n",
        "    *   This is an attempt to recover the `Original x₀` from the `Noisy xₜ` by using the `Predicted Noise ε\\_θ` from the U-Net.\n",
        "    *   The formula used for reconstruction is derived from the forward process:\n",
        "        `x̂₀ = (xₜ - sqrt(1 - ᾱₜ) * ε\\_θ) / sqrt(ᾱₜ)`\n",
        "    *   How closely `Reconstructed x̂₀` resembles `Original x₀` is a direct measure of the U-Net's denoising performance at that specific timestep `t`.\n",
        "\n",
        "By observing these five images across different timesteps `t` (representing different noise levels), we can gain insights into:\n",
        "*   How the noise characteristics change with `t`.\n",
        "*   How well the U-Net learns to predict noise under varying conditions.\n",
        "*   The U-Net's ability to facilitate the reverse diffusion process, which is key to generating new images.\n",
        "\n",
        "Ideally, the `Predicted Noise ε\\_θ` should look very similar to the `Actual Noise ε`, and the `Reconstructed x̂₀` should be a good approximation of the `Original x₀`."
      ],
      "metadata": {
        "id": "RJuQ-whlxHl2"
      }
    },
    {
      "cell_type": "code",
      "source": [
        "\n",
        "\n",
        "if 'unet_model' not in locals() or not ddpm_ready: # ddpm_ready from Cell 11 indicates model is loaded/trained\n",
        "    print(\"U-Net model is not trained or loaded. Cannot visualize its output.\")\n",
        "elif 'diffusion' not in locals():\n",
        "    print(\"Diffusion object not found. Cannot perform q_sample.\")\n",
        "elif 'train_dataset_ddpm' not in locals():\n",
        "    print(\"Training dataset not found. Cannot get a sample image.\")\n",
        "else:\n",
        "    unet_model.eval() # Ensure U-Net is in evaluation mode\n",
        "\n",
        "    # Get a sample clean image (x_0)\n",
        "    sample_idx = 100 # You can change this\n",
        "    x0_original_tensor, _ = train_dataset_ddpm[sample_idx]\n",
        "    x0_original_tensor = x0_original_tensor.to(DEVICE).unsqueeze(0) # Add batch dim: (1, C, H, W)\n",
        "\n",
        "    # Choose a few timesteps to visualize\n",
        "    # T is the total number of timesteps (e.g., 300)\n",
        "    # Timestep indices go from 0 to T-1\n",
        "    # Let's pick some representative timesteps: early, mid, late in the noise schedule\n",
        "    timesteps_to_visualize = [int(T * 0.1), int(T * 0.5), int(T * 0.9)]\n",
        "    if T < 10: # Adjust if T is very small\n",
        "        timesteps_to_visualize = [0, T // 2, T - 1 if T > 0 else 0]\n",
        "    timesteps_to_visualize = [max(0, min(t, T - 1)) for t in timesteps_to_visualize] # Clamp to [0, T-1]\n",
        "\n",
        "\n",
        "    num_cols = 5 # x_0, x_t, actual_noise, predicted_noise, reconstructed_x_0\n",
        "    fig, axes = plt.subplots(len(timesteps_to_visualize), num_cols,\n",
        "                             figsize=(num_cols * 3, len(timesteps_to_visualize) * 3.5))\n",
        "    if len(timesteps_to_visualize) == 1: # Handle case for single row subplot\n",
        "        axes = np.array([axes])\n",
        "\n",
        "    fig.suptitle(\"U-Net Noise Prediction and Reconstruction\", fontsize=16)\n",
        "\n",
        "    with torch.no_grad():\n",
        "        for i, t_val in enumerate(timesteps_to_visualize):\n",
        "            t_tensor = torch.tensor([t_val], device=DEVICE, dtype=torch.long)\n",
        "\n",
        "            # 1. Generate actual noise and the noisy image x_t\n",
        "            actual_noise = torch.randn_like(x0_original_tensor) # Standard Gaussian noise\n",
        "            xt_noisy_tensor = diffusion.q_sample(x_start=x0_original_tensor, t=t_tensor, noise=actual_noise)\n",
        "\n",
        "            # 2. U-Net predicts noise\n",
        "            predicted_noise_tensor = unet_model(xt_noisy_tensor, t_tensor)\n",
        "\n",
        "            # 3. Reconstruct x_0 using the predicted noise (simplified from DDPM paper, Eq. 4 rearranged)\n",
        "            # x_0_reconstructed = (x_t - sqrt(1-alpha_bar_t) * predicted_noise) / sqrt(alpha_bar_t)\n",
        "            sqrt_alphas_cumprod_t = get_index_from_list(diffusion.sqrt_alphas_cumprod, t_tensor, xt_noisy_tensor.shape)\n",
        "            sqrt_one_minus_alphas_cumprod_t = get_index_from_list(diffusion.sqrt_one_minus_alphas_cumprod, t_tensor, xt_noisy_tensor.shape)\n",
        "            x0_reconstructed_tensor = (xt_noisy_tensor - sqrt_one_minus_alphas_cumprod_t * predicted_noise_tensor) / sqrt_alphas_cumprod_t\n",
        "            x0_reconstructed_tensor = torch.clamp(x0_reconstructed_tensor, -1.0, 1.0) # Clamp to image range\n",
        "\n",
        "            # --- Plotting ---\n",
        "            # Denormalize all images/noise from [-1, 1] to [0, 1] for display\n",
        "            img_list = [\n",
        "                (x0_original_tensor.squeeze(0).cpu() + 1) / 2.0,\n",
        "                (xt_noisy_tensor.squeeze(0).cpu() + 1) / 2.0,\n",
        "                (actual_noise.squeeze(0).cpu() + 1) / 2.0,         # Visualizing noise this way might make it mostly gray\n",
        "                                                                    # but shows structure if present.\n",
        "                (predicted_noise_tensor.squeeze(0).cpu() + 1) / 2.0,\n",
        "                (x0_reconstructed_tensor.squeeze(0).cpu() + 1) / 2.0\n",
        "            ]\n",
        "            titles = [\"Original x_0\", f\"Noisy x_t (t={t_val})\", \"Actual Noise ε\", \"Predicted Noise ε_θ\", \"Reconstructed x̂_0\"]\n",
        "\n",
        "            for j, img_tensor_0_1 in enumerate(img_list):\n",
        "                ax = axes[i, j]\n",
        "                # Permute for (H, W, C) if multi-channel, then squeeze if C=1 for grayscale\n",
        "                ax.imshow(img_tensor_0_1.permute(1, 2, 0).squeeze().numpy(), cmap=\"gray\", vmin=0, vmax=1)\n",
        "                ax.set_title(titles[j])\n",
        "                ax.axis('off')\n",
        "\n",
        "    plt.tight_layout(rect=[0, 0.03, 1, 0.95]) # Adjust layout for suptitle\n",
        "    plt.show()"
      ],
      "metadata": {
        "colab": {
          "base_uri": "https://localhost:8080/",
          "height": 1000
        },
        "id": "yN8zyizfxMa2",
        "outputId": "4d9d002d-443a-4fa7-d38e-6d0e74721bd2"
      },
      "execution_count": 79,
      "outputs": [
        {
          "output_type": "display_data",
          "data": {
            "text/plain": [
              "<Figure size 1500x1050 with 15 Axes>"
            ],
            "image/png": "[encoded data removed]"
          },
          "metadata": {}
        }
      ]
    },
    {
      "cell_type": "markdown",
      "source": [
        "## Launch FiftyOne App"
      ],
      "metadata": {
        "id": "SJgJGUhCvvse"
      }
    },
    {
      "cell_type": "code",
      "source": [
        "# Cell 12: Launch FiftyOne (if dataset was created)\n",
        "if 'GLOBAL_FO_DATASET' in locals() and GLOBAL_FO_DATASET is not None:\n",
        "    print(f\"Launching FiftyOne App for dataset: {GLOBAL_FO_DATASET.name}\")\n",
        "    # In Colab, auto=False is often better, then print URL.\n",
        "    # Or use session.show() if it works for your Colab setup.\n",
        "    session = fo.launch_app(GLOBAL_FO_DATASET, auto=False)\n",
        "    print(f\"FiftyOne App URL: {session.url}\")\n",
        "    # To open in a new tab directly from Colab (might be blocked by popup blockers):\n",
        "    # session.show()\n",
        "else:\n",
        "    print(\"FiftyOne dataset was not created or is unavailable. Cannot launch app.\")\n",
        "\n",
        "print(\"\\nAll operations complete.\")"
      ],
      "metadata": {
        "colab": {
          "base_uri": "https://localhost:8080/",
          "height": 121
        },
        "id": "XyTHF3R4L1jY",
        "outputId": "af55bf49-cb84-4192-b7b4-40a7dac167f2"
      },
      "execution_count": 80,
      "outputs": [
        {
          "output_type": "stream",
          "name": "stdout",
          "text": [
            "Launching FiftyOne App for dataset: ddpm_mnist_generated_v3\n",
            "Session launched. Run `session.show()` to open the App in a cell output.\n"
          ]
        },
        {
          "output_type": "stream",
          "name": "stderr",
          "text": [
            "INFO:fiftyone.core.session.session:Session launched. Run `session.show()` to open the App in a cell output.\n"
          ]
        },
        {
          "output_type": "stream",
          "name": "stdout",
          "text": [
            "FiftyOne App URL: https://5151-gpu-a100-s-3v0x92b1dbl40-f.us-central1-0.prod.colab.dev?polling=true\n",
            "\n",
            "All operations complete.\n"
          ]
        }
      ]
    },
    {
      "cell_type": "markdown",
      "source": [
        "## Inspect how good is the model at producing digits of the different classes\n",
        "\n",
        "`Labels` -> `Prediction` -> `Label` will allow you to check how good is the model at producing digits of different classes.  \n",
        "\n",
        "![](https://raw.githubusercontent.com/andandandand/practical-computer-vision/refs/heads/main/images/filtering_zeros.png)"
      ],
      "metadata": {
        "id": "XXQELLw66soL"
      }
    },
    {
      "cell_type": "markdown",
      "source": [
        "### Filter the output by the confidence of the classifier\n",
        "\n",
        "Go to `Labels` -> `Prediction` and filter samples by threshold."
      ],
      "metadata": {
        "id": "2T0dxI6pOxQ4"
      }
    },
    {
      "cell_type": "markdown",
      "source": [
        "![](https://raw.githubusercontent.com/andandandand/practical-computer-vision/refs/heads/main/images/mnist_confidence.png)"
      ],
      "metadata": {
        "id": "kYAyj4yuNXub"
      }
    },
    {
      "cell_type": "markdown",
      "source": [
        "## Compute embeddings for the generated images using the classifier"
      ],
      "metadata": {
        "id": "Hhqf2gBWz8N_"
      }
    },
    {
      "cell_type": "code",
      "source": [
        "if 'mnist_classifier' not in locals() or not classifier_ready:\n",
        "    print(\"MNIST Classifier model not available or not ready. Cannot compute embeddings.\")\n",
        "elif 'generated_images_for_classifier' not in locals():\n",
        "    print(\"Generated images (for classifier) not found. Cannot compute embeddings.\")\n",
        "else:\n",
        "    mnist_classifier.eval() # Ensure classifier is in evaluation mode\n",
        "\n",
        "    # We want to get the output of the layer before the final classification layer (fc1)\n",
        "    # In our MNISTClassifier, fc1 is nn.Linear(64 * 7 * 7, 128)\n",
        "    # The output of fc1 (after relu3) is the 128-dimensional embedding.\n",
        "\n",
        "    # Store the embeddings\n",
        "    embeddings_list = []\n",
        "\n",
        "    # Define a hook function to capture the output of the desired layer\n",
        "    def get_activation(name):\n",
        "        def hook(model, input, output):\n",
        "            # `input` is a tuple, `output` is the tensor from the layer\n",
        "            # We are interested in the output of fc1, which is then passed to relu3.\n",
        "            # Let's get the output of relu3, which is the activated embedding.\n",
        "            embeddings_list.append(output.detach().cpu())\n",
        "        return hook\n",
        "\n",
        "    # Register the hook. We need to find the correct layer.\n",
        "    # The target layer is self.relu3 in MNISTClassifier, which processes the output of self.fc1\n",
        "    hook_handle = None\n",
        "    target_layer = None\n",
        "\n",
        "    # Find the target layer (relu3 after fc1)\n",
        "    for name, layer in mnist_classifier.named_modules():\n",
        "        if name == 'relu3': # This is nn.ReLU() after fc1\n",
        "            target_layer = layer\n",
        "            break\n",
        "\n",
        "    if target_layer:\n",
        "        print(f\"Registering hook to layer: {target_layer}\")\n",
        "        hook_handle = target_layer.register_forward_hook(get_activation(\"fc1_relu_output\"))\n",
        "\n",
        "        # Perform a forward pass to trigger the hook\n",
        "        # No need to store the final output of the classifier here,\n",
        "        # as we are interested in the intermediate embeddings captured by the hook.\n",
        "        with torch.no_grad():\n",
        "            _ = mnist_classifier(generated_images_for_classifier.to(DEVICE)) # Ensure images are on device\n",
        "\n",
        "        # Remove the hook now that we're done\n",
        "        if hook_handle:\n",
        "            hook_handle.remove()\n",
        "            print(\"Hook removed.\")\n",
        "\n",
        "        if embeddings_list:\n",
        "            # Concatenate all captured batch embeddings (if they were processed in batches by the hook)\n",
        "            # In this case, the forward pass is on all generated_images_for_classifier at once,\n",
        "            # so embeddings_list should contain one tensor.\n",
        "            all_embeddings = torch.cat(embeddings_list, dim=0)\n",
        "            print(f\"\\nSuccessfully computed embeddings for {all_embeddings.shape[0]} generated images.\")\n",
        "            print(f\"Shape of the embeddings tensor: {all_embeddings.shape}\")\n",
        "            print(f\"Each image is represented by a {all_embeddings.shape[1]}-dimensional vector.\")\n",
        "\n",
        "            # You can now use these `all_embeddings` for further analysis,\n",
        "            # e.g., dimensionality reduction (t-SNE, UMAP) and visualization,\n",
        "            # or for calculating diversity/similarity metrics.\n",
        "\n",
        "            # Example: Print the first 2 embeddings (first 10 features)\n",
        "            print(\"\\nFirst 2 embeddings (first 10 features):\")\n",
        "            for i in range(min(2, all_embeddings.shape[0])):\n",
        "                print(f\"Image {i}: {all_embeddings[i, :10].numpy()}\")\n",
        "\n",
        "            # Store these embeddings in the FiftyOne dataset if desired\n",
        "            if 'GLOBAL_FO_DATASET' in locals() and GLOBAL_FO_DATASET is not None and fo.dataset_exists(GLOBAL_FO_DATASET.name):\n",
        "                try:\n",
        "                    dataset_to_update = fo.load_dataset(GLOBAL_FO_DATASET.name)\n",
        "                    print(f\"\\nAdding embeddings to FiftyOne dataset '{dataset_to_update.name}'...\")\n",
        "                    # Ensure number of embeddings matches number of samples in FO dataset slice\n",
        "                    if len(dataset_to_update) == all_embeddings.shape[0]:\n",
        "                        # Add embeddings as a vector field to each sample\n",
        "                        # Make sure samples are iterated in the same order as generated_images_for_classifier\n",
        "                        # This assumes the current `dataset_to_update` view has the same samples in the same order.\n",
        "                        # If num_generated_samples in cell 11 was different, this might mismatch.\n",
        "                        # For safety, let's assume they match the initial `num_generated_samples`.\n",
        "\n",
        "                        embedding_vectors = np.array([emb.tolist() for emb in all_embeddings])\n",
        "                        dataset_to_update.add_sample_field(\"classifier_embedding\", fo.VectorField)\n",
        "                        dataset_to_update.set_values(\"classifier_embedding\", embedding_vectors)\n",
        "\n",
        "                        # Or if you want to be very careful matching filepaths:\n",
        "                        # sample_filepaths_ordered = [s.filepath for s in dataset_to_update]\n",
        "                        # # This requires knowing the order of generated_images_for_classifier\n",
        "                        # # and how they map to filepaths. For simplicity, direct assignment is used above.\n",
        "\n",
        "                        dataset_to_update.save() # Persist changes\n",
        "                        print(f\"Embeddings added to FiftyOne samples as 'classifier_embedding'.\")\n",
        "                        print(f\"You might need to refresh the FiftyOne App to see the new field.\")\n",
        "                    else:\n",
        "                        print(f\"Mismatch in number of embeddings ({all_embeddings.shape[0]}) and FO samples ({len(dataset_to_update)}). Skipping FO update.\")\n",
        "\n",
        "                except Exception as e:\n",
        "                    print(f\"Error updating FiftyOne dataset with embeddings: {e}\")\n",
        "            else:\n",
        "                print(\"FiftyOne dataset not available for updating with embeddings.\")\n",
        "\n",
        "        else:\n",
        "            print(\"No embeddings were captured. Check hook registration and forward pass.\")\n",
        "    else:\n",
        "        print(\"Could not find the target layer 'relu3' in the MNIST classifier for hook registration.\")\n",
        "\n",
        "print(\"\\nEmbedding computation process finished.\")"
      ],
      "metadata": {
        "colab": {
          "base_uri": "https://localhost:8080/"
        },
        "id": "sVfiTdu4oN8o",
        "outputId": "8bcd24ae-507d-4b71-890a-f9397f32e7e2"
      },
      "execution_count": 81,
      "outputs": [
        {
          "output_type": "stream",
          "name": "stdout",
          "text": [
            "Registering hook to layer: ReLU()\n",
            "Hook removed.\n",
            "\n",
            "Successfully computed embeddings for 1024 generated images.\n",
            "Shape of the embeddings tensor: torch.Size([1024, 128])\n",
            "Each image is represented by a 128-dimensional vector.\n",
            "\n",
            "First 2 embeddings (first 10 features):\n",
            "Image 0: [ 0.        10.044947   7.6390758  9.015022   5.206052  10.898995\n",
            "  0.         0.         0.         0.       ]\n",
            "Image 1: [ 0.         17.843866    0.          7.889731    0.          0.19435611\n",
            "  0.          0.          0.          0.        ]\n",
            "\n",
            "Adding embeddings to FiftyOne dataset 'ddpm_mnist_generated_v3'...\n",
            "Embeddings added to FiftyOne samples as 'classifier_embedding'.\n",
            "You might need to refresh the FiftyOne App to see the new field.\n",
            "\n",
            "Embedding computation process finished.\n"
          ]
        }
      ]
    },
    {
      "cell_type": "code",
      "source": [
        "type(embedding_vectors)"
      ],
      "metadata": {
        "colab": {
          "base_uri": "https://localhost:8080/"
        },
        "id": "LD0qWuDn0DoD",
        "outputId": "46b195f0-6a70-4879-ec30-dad05342d09d"
      },
      "execution_count": 95,
      "outputs": [
        {
          "output_type": "execute_result",
          "data": {
            "text/plain": [
              "numpy.ndarray"
            ]
          },
          "metadata": {},
          "execution_count": 95
        }
      ]
    },
    {
      "cell_type": "code",
      "source": [
        "embedding_vectors.shape"
      ],
      "metadata": {
        "colab": {
          "base_uri": "https://localhost:8080/"
        },
        "id": "PEjJJRd20VsW",
        "outputId": "ba9e9ac9-f193-4f3d-9e9c-c3d8949636f9"
      },
      "execution_count": 96,
      "outputs": [
        {
          "output_type": "execute_result",
          "data": {
            "text/plain": [
              "(1024, 128)"
            ]
          },
          "metadata": {},
          "execution_count": 96
        }
      ]
    },
    {
      "cell_type": "code",
      "source": [
        "fo.list_datasets()"
      ],
      "metadata": {
        "colab": {
          "base_uri": "https://localhost:8080/"
        },
        "id": "EpdCdaWK0gPd",
        "outputId": "5078ea3a-40a8-4896-c07b-840de5e83912"
      },
      "execution_count": 97,
      "outputs": [
        {
          "output_type": "execute_result",
          "data": {
            "text/plain": [
              "['ddpm_mnist_generated_v3']"
            ]
          },
          "metadata": {},
          "execution_count": 97
        }
      ]
    },
    {
      "cell_type": "code",
      "source": [
        "embedding_vectors[0].shape"
      ],
      "metadata": {
        "colab": {
          "base_uri": "https://localhost:8080/"
        },
        "id": "OkK4wlTB2l64",
        "outputId": "74ca48d5-1fe3-43f7-94fd-968913ac7e96"
      },
      "execution_count": 98,
      "outputs": [
        {
          "output_type": "execute_result",
          "data": {
            "text/plain": [
              "(128,)"
            ]
          },
          "metadata": {},
          "execution_count": 98
        }
      ]
    },
    {
      "cell_type": "code",
      "source": [
        "print(\"Adding 'embedding_vectors' field to samples...\")\n",
        "with fo.ProgressBar() as pb:\n",
        "    for i, sample in enumerate(pb(dataset)):\n",
        "          # Create a FiftyOne Embeddings object (or just store as a list/ndarray)\n",
        "          # FiftyOne can store numpy arrays directly\n",
        "          sample[\"embedding\"] = embedding_vectors[i]\n",
        "          sample.save() # Save the changes to the sample\n",
        "dataset.save()"
      ],
      "metadata": {
        "colab": {
          "base_uri": "https://localhost:8080/"
        },
        "id": "liyAdDnq0lRc",
        "outputId": "29de4b75-1016-4fc8-9ea5-17f4ee9af824"
      },
      "execution_count": 99,
      "outputs": [
        {
          "output_type": "stream",
          "name": "stdout",
          "text": [
            "Adding 'embedding_vectors' field to samples...\n",
            " 100% |███████████████| 1024/1024 [1.1s elapsed, 0s remaining, 989.4 samples/s]         \n"
          ]
        },
        {
          "output_type": "stream",
          "name": "stderr",
          "text": [
            "INFO:eta.core.utils: 100% |███████████████| 1024/1024 [1.1s elapsed, 0s remaining, 989.4 samples/s]         \n"
          ]
        }
      ]
    },
    {
      "cell_type": "code",
      "source": [
        "import fiftyone.brain as fob\n",
        "\n",
        "embeddings = dataset.values('embedding')\n",
        "\n",
        "pca_brain_key = f\"{dataset_name}_pca\"\n",
        "\n",
        "# Check if brain key exists\n",
        "if dataset.has_brain_run(pca_brain_key):\n",
        "    # Delete the brain key\n",
        "    dataset.clear_brain_runs(pca_brain_key)\n",
        "    dataset.save()\n",
        "\n",
        "# Compute 2D representation\n",
        "results = fob.compute_visualization(\n",
        "    dataset,\n",
        "    embeddings=embeddings,\n",
        "    num_dims=2,\n",
        "    method=\"pca\",\n",
        "    brain_key=pca_brain_key,\n",
        "    verbose=True,\n",
        "    seed=51,\n",
        ")"
      ],
      "metadata": {
        "colab": {
          "base_uri": "https://localhost:8080/"
        },
        "id": "ITIZkpXx03Su",
        "outputId": "48a7b94b-fd5e-48f9-fdb7-c402efedcaa7"
      },
      "execution_count": 100,
      "outputs": [
        {
          "output_type": "stream",
          "name": "stdout",
          "text": [
            "Generating visualization...\n"
          ]
        },
        {
          "output_type": "stream",
          "name": "stderr",
          "text": [
            "INFO:fiftyone.brain.visualization:Generating visualization...\n"
          ]
        }
      ]
    },
    {
      "cell_type": "code",
      "source": [
        "# Compute uniqueness of embeddings\n",
        "fob.compute_uniqueness(dataset, embeddings=embeddings)"
      ],
      "metadata": {
        "colab": {
          "base_uri": "https://localhost:8080/"
        },
        "id": "a8oIaRau3Z2k",
        "outputId": "72984c38-a661-4bd8-ae26-4451bdbaadfb"
      },
      "execution_count": 101,
      "outputs": [
        {
          "output_type": "stream",
          "name": "stdout",
          "text": [
            "Computing uniqueness...\n"
          ]
        },
        {
          "output_type": "stream",
          "name": "stderr",
          "text": [
            "INFO:fiftyone.brain.internal.core.uniqueness:Computing uniqueness...\n"
          ]
        },
        {
          "output_type": "stream",
          "name": "stdout",
          "text": [
            "Uniqueness computation complete\n"
          ]
        },
        {
          "output_type": "stream",
          "name": "stderr",
          "text": [
            "INFO:fiftyone.brain.internal.core.uniqueness:Uniqueness computation complete\n"
          ]
        }
      ]
    },
    {
      "cell_type": "code",
      "source": [
        "from sklearn.cluster import KMeans\n",
        "\n",
        "# Choose the number of clusters\n",
        "num_clusters = 10\n",
        "kmeans = KMeans(n_clusters=num_clusters, random_state=42)\n",
        "labels = kmeans.fit_predict(embeddings)\n",
        "\n",
        "# Assign each sample its cluster label\n",
        "for sample, label in zip(dataset, labels):\n",
        "    sample[\"k_means_cluster\"] = int(label)\n",
        "    sample.save()\n",
        "\n",
        "print(\"Clusters computed and stored in each sample's 'cluster' field.\")"
      ],
      "metadata": {
        "colab": {
          "base_uri": "https://localhost:8080/"
        },
        "id": "eO3y_QTL21TR",
        "outputId": "3c9d9696-edb2-4814-bdbb-c7602b2bc73b"
      },
      "execution_count": 102,
      "outputs": [
        {
          "output_type": "stream",
          "name": "stdout",
          "text": [
            "Clusters computed and stored in each sample's 'cluster' field.\n"
          ]
        }
      ]
    },
    {
      "cell_type": "code",
      "source": [
        "# Save the dataset to keep views in sync\n",
        "dataset.save()"
      ],
      "metadata": {
        "id": "Nv_OiKkQ26Oc"
      },
      "execution_count": 103,
      "outputs": []
    },
    {
      "cell_type": "code",
      "source": [
        "session = fo.launch_app(GLOBAL_FO_DATASET, auto=False)\n",
        "print(f\"FiftyOne App URL: {session.url}\")"
      ],
      "metadata": {
        "colab": {
          "base_uri": "https://localhost:8080/",
          "height": 69
        },
        "id": "Xe8hRnOc06t3",
        "outputId": "b68f4be2-3e20-4e8a-8151-c5cc04c8c824"
      },
      "execution_count": 104,
      "outputs": [
        {
          "output_type": "stream",
          "name": "stdout",
          "text": [
            "Session launched. Run `session.show()` to open the App in a cell output.\n"
          ]
        },
        {
          "output_type": "stream",
          "name": "stderr",
          "text": [
            "INFO:fiftyone.core.session.session:Session launched. Run `session.show()` to open the App in a cell output.\n"
          ]
        },
        {
          "output_type": "stream",
          "name": "stdout",
          "text": [
            "FiftyOne App URL: https://5151-gpu-a100-s-3v0x92b1dbl40-f.us-central1-0.prod.colab.dev?polling=true\n"
          ]
        }
      ]
    },
    {
      "cell_type": "code",
      "source": [
        "# Sort in increasing order of uniqueness (least unique first)\n",
        "dups_view = dataset.sort_by(\"uniqueness\", reverse=False)\n",
        "\n",
        "# Open view in the App\n",
        "session.view = dups_view\n",
        "print(f\"Duplicate views at: {session.url}\")"
      ],
      "metadata": {
        "colab": {
          "base_uri": "https://localhost:8080/",
          "height": 34
        },
        "id": "2gcUreQq1uZ1",
        "outputId": "92892dac-9b32-479f-900f-bc53594f92fd"
      },
      "execution_count": 105,
      "outputs": [
        {
          "output_type": "stream",
          "name": "stdout",
          "text": [
            "Duplicate views at: https://5151-gpu-a100-s-3v0x92b1dbl40-f.us-central1-0.prod.colab.dev?polling=true\n"
          ]
        }
      ]
    },
    {
      "cell_type": "code",
      "source": [],
      "metadata": {
        "id": "8qyWlOEm4Ny6"
      },
      "execution_count": 105,
      "outputs": []
    }
  ]
}