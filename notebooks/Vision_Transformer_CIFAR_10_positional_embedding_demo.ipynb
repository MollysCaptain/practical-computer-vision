{
  "nbformat": 4,
  "nbformat_minor": 0,
  "metadata": {
    "colab": {
      "provenance": []
    },
    "kernelspec": {
      "name": "python3",
      "display_name": "Python 3"
    },
    "language_info": {
      "name": "python"
    }
  },
  "cells": [
    {
      "cell_type": "markdown",
      "source": [
        "# Projection of flattened patches and positional embedding for Vision Transformer (ViT)\n",
        "\n",
        "#### Author: Antonio Rueda-Toicen\n",
        "**antonio.rueda.toicen 'at' hpi 'dot' de**\n",
        "\n",
        "\n",
        "[![Creative Commons License](https://i.creativecommons.org/l/by/4.0/88x31.png)](http://creativecommons.org/licenses/by/4.0/)\n",
        "\n",
        "This work is licensed under a [Creative Commons Attribution 4.0 International License](http://creativecommons.org/licenses/by/4.0/).\n"
      ],
      "metadata": {
        "id": "NE-iu70vcdbH"
      }
    },
    {
      "cell_type": "code",
      "source": [
        "import torch\n",
        "import torch.nn as nn\n",
        "import torchvision\n",
        "import torchvision.transforms as transforms\n",
        "import matplotlib.pyplot as plt\n",
        "from PIL import Image\n",
        "import numpy as np\n",
        "\n",
        "# Load CIFAR-10 dataset\n",
        "transform = transforms.ToTensor()  # Convert images to tensors\n",
        "trainset = torchvision.datasets.CIFAR10(root='./data', train=True, download=True, transform=transform)\n",
        "trainloader = torch.utils.data.DataLoader(trainset, batch_size=64, shuffle=False)\n",
        "\n",
        "# Get a batch of images\n",
        "data_iter = iter(trainloader)\n",
        "images, labels = next(data_iter)\n",
        "\n",
        "# Now 'images' contains a batch of 64 CIFAR-10 images\n",
        "# with shape (64, 3, 32, 32)\n",
        "images.shape"
      ],
      "metadata": {
        "colab": {
          "base_uri": "https://localhost:8080/"
        },
        "id": "4YAgmjuWbJKN",
        "outputId": "fe29735d-38e3-4ee8-e9cf-89d9fbf5d99d"
      },
      "execution_count": 54,
      "outputs": [
        {
          "output_type": "execute_result",
          "data": {
            "text/plain": [
              "torch.Size([64, 3, 32, 32])"
            ]
          },
          "metadata": {},
          "execution_count": 54
        }
      ]
    },
    {
      "cell_type": "code",
      "source": [
        "# Convert the tensor to numpy array\n",
        "image_np = images[7].permute(1, 2, 0).numpy()\n",
        "\n",
        "# Convert the data type to uint8 and scale to 0-255\n",
        "image_np = (image_np * 255).astype(np.uint8)\n",
        "\n",
        "# Create the PIL Image to see it on its 'real' resolution\n",
        "image = Image.fromarray(image_np)\n",
        "image"
      ],
      "metadata": {
        "colab": {
          "base_uri": "https://localhost:8080/",
          "height": 49
        },
        "id": "zlV4yiP0ZovP",
        "outputId": "af85cf4d-8f68-4817-f83a-352bd48ec41f"
      },
      "execution_count": 55,
      "outputs": [
        {
          "output_type": "execute_result",
          "data": {
            "text/plain": [
              "<PIL.Image.Image image mode=RGB size=32x32>"
            ],
            "image/png": "[encoded data removed]",
            "image/jpeg": "[encoded data removed]"
          },
          "metadata": {},
          "execution_count": 55
        }
      ]
    },
    {
      "cell_type": "code",
      "source": [
        "# Hyperparameters\n",
        "patch_size = 16\n",
        "channels   = 3\n",
        "embed_dim  = 768  # Standard ViT-Base embedding dimension"
      ],
      "metadata": {
        "id": "L7QSZNswZA3a"
      },
      "execution_count": 56,
      "outputs": []
    },
    {
      "cell_type": "code",
      "source": [
        "# Visualizing patches\n",
        "patches = [\n",
        "    image_np[:patch_size, :patch_size],  # Top-left\n",
        "    image_np[:patch_size, patch_size:],  # Top-right\n",
        "    image_np[patch_size:, :patch_size],  # Bottom-left\n",
        "    image_np[patch_size:, patch_size:],  # Bottom-right\n",
        "]\n",
        "\n",
        "# Plot the patches\n",
        "fig, axes = plt.subplots(2, 2, figsize=(6, 6))\n",
        "for i, ax in enumerate(axes.flat):\n",
        "    ax.imshow(patches[i])\n",
        "    ax.axis('off')\n",
        "\n",
        "plt.show()"
      ],
      "metadata": {
        "colab": {
          "base_uri": "https://localhost:8080/",
          "height": 499
        },
        "id": "sXRJzUzigE8L",
        "outputId": "311851da-f224-4415-8ccc-114c6a4fcb52"
      },
      "execution_count": 57,
      "outputs": [
        {
          "output_type": "display_data",
          "data": {
            "text/plain": [
              "<Figure size 600x600 with 4 Axes>"
            ],
            "image/png": "[encoded data removed]"
          },
          "metadata": {}
        }
      ]
    },
    {
      "cell_type": "code",
      "source": [
        "# Calculate number of patches\n",
        "num_patches = (32 // patch_size) * (32 // patch_size)  # 4 = 2*2\n",
        "patch_dim = patch_size * patch_size * channels  # 768 = 16*16*3\n",
        "\n",
        "# Linear projection and positional embedding\n",
        "patch_embed = nn.Linear(patch_dim, embed_dim)\n",
        "pos_embed = nn.Parameter(torch.zeros(1, num_patches, embed_dim))\n"
      ],
      "metadata": {
        "id": "S29JJkMlZE17"
      },
      "execution_count": 58,
      "outputs": []
    },
    {
      "cell_type": "code",
      "source": [
        "# Reshape data into patches\n",
        "# From (batch_size, channels, height, width) to (batch_size, channels, h_patches, patch_size, w_patches, patch_size)\n",
        "patches = images.unfold(2, patch_size, patch_size).unfold(3, patch_size, patch_size)\n",
        "\n",
        "# Reshape to (batch_size, num_patches, patch_dim)\n",
        "patches = patches.permute(0, 2, 4, 1, 3, 5).reshape(images.size(0), num_patches, -1)\n",
        "\n",
        "# Linear projection of patches\n",
        "x = patch_embed(patches)  # Shape: (batch_size, num_patches, embed_dim)\n",
        "\n",
        "# Add positional embeddings\n",
        "x = x + pos_embed\n",
        "\n",
        "print(f\"Input shape: {images.shape}\")  # [4, 3, 32, 32]\n",
        "print(f\"Patches shape: {patches.shape}\")  # [4, 4, 768]\n",
        "print(f\"Output shape: {x.shape}\")  # [4, 4, 768]\n"
      ],
      "metadata": {
        "colab": {
          "base_uri": "https://localhost:8080/"
        },
        "id": "Zd9uDzT9fasz",
        "outputId": "84a1879f-fe1d-4d8d-80a7-a85d389d002f"
      },
      "execution_count": 59,
      "outputs": [
        {
          "output_type": "stream",
          "name": "stdout",
          "text": [
            "Input shape: torch.Size([64, 3, 32, 32])\n",
            "Patches shape: torch.Size([64, 4, 768])\n",
            "Output shape: torch.Size([64, 4, 768])\n"
          ]
        }
      ]
    }
  ]
}