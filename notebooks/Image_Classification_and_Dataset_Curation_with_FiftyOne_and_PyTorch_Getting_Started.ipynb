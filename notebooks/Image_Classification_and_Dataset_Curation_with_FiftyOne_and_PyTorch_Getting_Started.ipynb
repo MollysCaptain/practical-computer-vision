{
  "nbformat": 4,
  "nbformat_minor": 0,
  "metadata": {
    "colab": {
      "provenance": [],
      "machine_shape": "hm",
      "gpuType": "T4"
    },
    "kernelspec": {
      "name": "python3",
      "display_name": "Python 3"
    },
    "language_info": {
      "name": "python"
    },
    "accelerator": "GPU",
    "widgets": {
      "application/vnd.jupyter.widget-state+json": {
        "91758ef8a55949a3ac676b5bb0b11197": {
          "model_module": "@jupyter-widgets/controls",
          "model_name": "HBoxModel",
          "model_module_version": "1.5.0",
          "state": {
            "_dom_classes": [],
            "_model_module": "@jupyter-widgets/controls",
            "_model_module_version": "1.5.0",
            "_model_name": "HBoxModel",
            "_view_count": null,
            "_view_module": "@jupyter-widgets/controls",
            "_view_module_version": "1.5.0",
            "_view_name": "HBoxView",
            "box_style": "",
            "children": [
              "IPY_MODEL_ada2d651a675452bb6766d366d9bb5ba",
              "IPY_MODEL_e6e7eab2cb954c91817ce78cd3b2a48d",
              "IPY_MODEL_9a4ca6841b504f74a5d741d3118129da"
            ],
            "layout": "IPY_MODEL_f84e3b18d7584f998e92a21f024d2626"
          }
        },
        "ada2d651a675452bb6766d366d9bb5ba": {
          "model_module": "@jupyter-widgets/controls",
          "model_name": "HTMLModel",
          "model_module_version": "1.5.0",
          "state": {
            "_dom_classes": [],
            "_model_module": "@jupyter-widgets/controls",
            "_model_module_version": "1.5.0",
            "_model_name": "HTMLModel",
            "_view_count": null,
            "_view_module": "@jupyter-widgets/controls",
            "_view_module_version": "1.5.0",
            "_view_name": "HTMLView",
            "description": "",
            "description_tooltip": null,
            "layout": "IPY_MODEL_af406c92c25b4cb9aca4ba95b5a7b7dc",
            "placeholder": "​",
            "style": "IPY_MODEL_f7014b3ab1b947b0806d346f2c9a4bd8",
            "value": "Epochs completed: 100%| "
          }
        },
        "e6e7eab2cb954c91817ce78cd3b2a48d": {
          "model_module": "@jupyter-widgets/controls",
          "model_name": "FloatProgressModel",
          "model_module_version": "1.5.0",
          "state": {
            "_dom_classes": [],
            "_model_module": "@jupyter-widgets/controls",
            "_model_module_version": "1.5.0",
            "_model_name": "FloatProgressModel",
            "_view_count": null,
            "_view_module": "@jupyter-widgets/controls",
            "_view_module_version": "1.5.0",
            "_view_name": "ProgressView",
            "bar_style": "success",
            "description": "",
            "description_tooltip": null,
            "layout": "IPY_MODEL_f2ed5ff97a064338b7ed3ee10e6d0a30",
            "max": 500,
            "min": 0,
            "orientation": "horizontal",
            "style": "IPY_MODEL_da09eade67a64e25be78bb6097425fa8",
            "value": 500
          }
        },
        "9a4ca6841b504f74a5d741d3118129da": {
          "model_module": "@jupyter-widgets/controls",
          "model_name": "HTMLModel",
          "model_module_version": "1.5.0",
          "state": {
            "_dom_classes": [],
            "_model_module": "@jupyter-widgets/controls",
            "_model_module_version": "1.5.0",
            "_model_name": "HTMLModel",
            "_view_count": null,
            "_view_module": "@jupyter-widgets/controls",
            "_view_module_version": "1.5.0",
            "_view_name": "HTMLView",
            "description": "",
            "description_tooltip": null,
            "layout": "IPY_MODEL_495585fa2a23496999ef188174e42c18",
            "placeholder": "​",
            "style": "IPY_MODEL_a9fe5792ef2b47708ec84c07e9df6c60",
            "value": " 500/500 [00:05]"
          }
        },
        "f84e3b18d7584f998e92a21f024d2626": {
          "model_module": "@jupyter-widgets/base",
          "model_name": "LayoutModel",
          "model_module_version": "1.2.0",
          "state": {
            "_model_module": "@jupyter-widgets/base",
            "_model_module_version": "1.2.0",
            "_model_name": "LayoutModel",
            "_view_count": null,
            "_view_module": "@jupyter-widgets/base",
            "_view_module_version": "1.2.0",
            "_view_name": "LayoutView",
            "align_content": null,
            "align_items": null,
            "align_self": null,
            "border": null,
            "bottom": null,
            "display": null,
            "flex": null,
            "flex_flow": null,
            "grid_area": null,
            "grid_auto_columns": null,
            "grid_auto_flow": null,
            "grid_auto_rows": null,
            "grid_column": null,
            "grid_gap": null,
            "grid_row": null,
            "grid_template_areas": null,
            "grid_template_columns": null,
            "grid_template_rows": null,
            "height": null,
            "justify_content": null,
            "justify_items": null,
            "left": null,
            "margin": null,
            "max_height": null,
            "max_width": null,
            "min_height": null,
            "min_width": null,
            "object_fit": null,
            "object_position": null,
            "order": null,
            "overflow": null,
            "overflow_x": null,
            "overflow_y": null,
            "padding": null,
            "right": null,
            "top": null,
            "visibility": null,
            "width": null
          }
        },
        "af406c92c25b4cb9aca4ba95b5a7b7dc": {
          "model_module": "@jupyter-widgets/base",
          "model_name": "LayoutModel",
          "model_module_version": "1.2.0",
          "state": {
            "_model_module": "@jupyter-widgets/base",
            "_model_module_version": "1.2.0",
            "_model_name": "LayoutModel",
            "_view_count": null,
            "_view_module": "@jupyter-widgets/base",
            "_view_module_version": "1.2.0",
            "_view_name": "LayoutView",
            "align_content": null,
            "align_items": null,
            "align_self": null,
            "border": null,
            "bottom": null,
            "display": null,
            "flex": null,
            "flex_flow": null,
            "grid_area": null,
            "grid_auto_columns": null,
            "grid_auto_flow": null,
            "grid_auto_rows": null,
            "grid_column": null,
            "grid_gap": null,
            "grid_row": null,
            "grid_template_areas": null,
            "grid_template_columns": null,
            "grid_template_rows": null,
            "height": null,
            "justify_content": null,
            "justify_items": null,
            "left": null,
            "margin": null,
            "max_height": null,
            "max_width": null,
            "min_height": null,
            "min_width": null,
            "object_fit": null,
            "object_position": null,
            "order": null,
            "overflow": null,
            "overflow_x": null,
            "overflow_y": null,
            "padding": null,
            "right": null,
            "top": null,
            "visibility": null,
            "width": null
          }
        },
        "f7014b3ab1b947b0806d346f2c9a4bd8": {
          "model_module": "@jupyter-widgets/controls",
          "model_name": "DescriptionStyleModel",
          "model_module_version": "1.5.0",
          "state": {
            "_model_module": "@jupyter-widgets/controls",
            "_model_module_version": "1.5.0",
            "_model_name": "DescriptionStyleModel",
            "_view_count": null,
            "_view_module": "@jupyter-widgets/base",
            "_view_module_version": "1.2.0",
            "_view_name": "StyleView",
            "description_width": ""
          }
        },
        "f2ed5ff97a064338b7ed3ee10e6d0a30": {
          "model_module": "@jupyter-widgets/base",
          "model_name": "LayoutModel",
          "model_module_version": "1.2.0",
          "state": {
            "_model_module": "@jupyter-widgets/base",
            "_model_module_version": "1.2.0",
            "_model_name": "LayoutModel",
            "_view_count": null,
            "_view_module": "@jupyter-widgets/base",
            "_view_module_version": "1.2.0",
            "_view_name": "LayoutView",
            "align_content": null,
            "align_items": null,
            "align_self": null,
            "border": null,
            "bottom": null,
            "display": null,
            "flex": null,
            "flex_flow": null,
            "grid_area": null,
            "grid_auto_columns": null,
            "grid_auto_flow": null,
            "grid_auto_rows": null,
            "grid_column": null,
            "grid_gap": null,
            "grid_row": null,
            "grid_template_areas": null,
            "grid_template_columns": null,
            "grid_template_rows": null,
            "height": null,
            "justify_content": null,
            "justify_items": null,
            "left": null,
            "margin": null,
            "max_height": null,
            "max_width": null,
            "min_height": null,
            "min_width": null,
            "object_fit": null,
            "object_position": null,
            "order": null,
            "overflow": null,
            "overflow_x": null,
            "overflow_y": null,
            "padding": null,
            "right": null,
            "top": null,
            "visibility": null,
            "width": null
          }
        },
        "da09eade67a64e25be78bb6097425fa8": {
          "model_module": "@jupyter-widgets/controls",
          "model_name": "ProgressStyleModel",
          "model_module_version": "1.5.0",
          "state": {
            "_model_module": "@jupyter-widgets/controls",
            "_model_module_version": "1.5.0",
            "_model_name": "ProgressStyleModel",
            "_view_count": null,
            "_view_module": "@jupyter-widgets/base",
            "_view_module_version": "1.2.0",
            "_view_name": "StyleView",
            "bar_color": null,
            "description_width": ""
          }
        },
        "495585fa2a23496999ef188174e42c18": {
          "model_module": "@jupyter-widgets/base",
          "model_name": "LayoutModel",
          "model_module_version": "1.2.0",
          "state": {
            "_model_module": "@jupyter-widgets/base",
            "_model_module_version": "1.2.0",
            "_model_name": "LayoutModel",
            "_view_count": null,
            "_view_module": "@jupyter-widgets/base",
            "_view_module_version": "1.2.0",
            "_view_name": "LayoutView",
            "align_content": null,
            "align_items": null,
            "align_self": null,
            "border": null,
            "bottom": null,
            "display": null,
            "flex": null,
            "flex_flow": null,
            "grid_area": null,
            "grid_auto_columns": null,
            "grid_auto_flow": null,
            "grid_auto_rows": null,
            "grid_column": null,
            "grid_gap": null,
            "grid_row": null,
            "grid_template_areas": null,
            "grid_template_columns": null,
            "grid_template_rows": null,
            "height": null,
            "justify_content": null,
            "justify_items": null,
            "left": null,
            "margin": null,
            "max_height": null,
            "max_width": null,
            "min_height": null,
            "min_width": null,
            "object_fit": null,
            "object_position": null,
            "order": null,
            "overflow": null,
            "overflow_x": null,
            "overflow_y": null,
            "padding": null,
            "right": null,
            "top": null,
            "visibility": null,
            "width": null
          }
        },
        "a9fe5792ef2b47708ec84c07e9df6c60": {
          "model_module": "@jupyter-widgets/controls",
          "model_name": "DescriptionStyleModel",
          "model_module_version": "1.5.0",
          "state": {
            "_model_module": "@jupyter-widgets/controls",
            "_model_module_version": "1.5.0",
            "_model_name": "DescriptionStyleModel",
            "_view_count": null,
            "_view_module": "@jupyter-widgets/base",
            "_view_module_version": "1.2.0",
            "_view_name": "StyleView",
            "description_width": ""
          }
        },
        "7c8ed97918384c3284cb68a3c8299e81": {
          "model_module": "@jupyter-widgets/controls",
          "model_name": "HBoxModel",
          "model_module_version": "1.5.0",
          "state": {
            "_dom_classes": [],
            "_model_module": "@jupyter-widgets/controls",
            "_model_module_version": "1.5.0",
            "_model_name": "HBoxModel",
            "_view_count": null,
            "_view_module": "@jupyter-widgets/controls",
            "_view_module_version": "1.5.0",
            "_view_name": "HBoxView",
            "box_style": "",
            "children": [
              "IPY_MODEL_2349fff23a4f44948729f63bfc1c2a4c",
              "IPY_MODEL_b8b368b61330410685b363e1f2bc9c80",
              "IPY_MODEL_8176dc816b0f4751b6a7bdb69c1ea699"
            ],
            "layout": "IPY_MODEL_b32a9edc2eec48a3966d91e5d5045cc4"
          }
        },
        "2349fff23a4f44948729f63bfc1c2a4c": {
          "model_module": "@jupyter-widgets/controls",
          "model_name": "HTMLModel",
          "model_module_version": "1.5.0",
          "state": {
            "_dom_classes": [],
            "_model_module": "@jupyter-widgets/controls",
            "_model_module_version": "1.5.0",
            "_model_name": "HTMLModel",
            "_view_count": null,
            "_view_module": "@jupyter-widgets/controls",
            "_view_module_version": "1.5.0",
            "_view_name": "HTMLView",
            "description": "",
            "description_tooltip": null,
            "layout": "IPY_MODEL_890470403af5446d8b2eaf61895a981d",
            "placeholder": "​",
            "style": "IPY_MODEL_528f7e2d90ee43708c94098eb0a93852",
            "value": "Epochs completed: 100%| "
          }
        },
        "b8b368b61330410685b363e1f2bc9c80": {
          "model_module": "@jupyter-widgets/controls",
          "model_name": "FloatProgressModel",
          "model_module_version": "1.5.0",
          "state": {
            "_dom_classes": [],
            "_model_module": "@jupyter-widgets/controls",
            "_model_module_version": "1.5.0",
            "_model_name": "FloatProgressModel",
            "_view_count": null,
            "_view_module": "@jupyter-widgets/controls",
            "_view_module_version": "1.5.0",
            "_view_name": "ProgressView",
            "bar_style": "success",
            "description": "",
            "description_tooltip": null,
            "layout": "IPY_MODEL_0111466bd8bf41f2b3a6ac49d8423108",
            "max": 200,
            "min": 0,
            "orientation": "horizontal",
            "style": "IPY_MODEL_3160abfb4e674b72862addd04fdedcb0",
            "value": 200
          }
        },
        "8176dc816b0f4751b6a7bdb69c1ea699": {
          "model_module": "@jupyter-widgets/controls",
          "model_name": "HTMLModel",
          "model_module_version": "1.5.0",
          "state": {
            "_dom_classes": [],
            "_model_module": "@jupyter-widgets/controls",
            "_model_module_version": "1.5.0",
            "_model_name": "HTMLModel",
            "_view_count": null,
            "_view_module": "@jupyter-widgets/controls",
            "_view_module_version": "1.5.0",
            "_view_name": "HTMLView",
            "description": "",
            "description_tooltip": null,
            "layout": "IPY_MODEL_8a3949e3b1f6445982b2f960ecc8753e",
            "placeholder": "​",
            "style": "IPY_MODEL_eeb1f8469a32489c813a6454f94db5c1",
            "value": " 200/200 [00:06]"
          }
        },
        "b32a9edc2eec48a3966d91e5d5045cc4": {
          "model_module": "@jupyter-widgets/base",
          "model_name": "LayoutModel",
          "model_module_version": "1.2.0",
          "state": {
            "_model_module": "@jupyter-widgets/base",
            "_model_module_version": "1.2.0",
            "_model_name": "LayoutModel",
            "_view_count": null,
            "_view_module": "@jupyter-widgets/base",
            "_view_module_version": "1.2.0",
            "_view_name": "LayoutView",
            "align_content": null,
            "align_items": null,
            "align_self": null,
            "border": null,
            "bottom": null,
            "display": null,
            "flex": null,
            "flex_flow": null,
            "grid_area": null,
            "grid_auto_columns": null,
            "grid_auto_flow": null,
            "grid_auto_rows": null,
            "grid_column": null,
            "grid_gap": null,
            "grid_row": null,
            "grid_template_areas": null,
            "grid_template_columns": null,
            "grid_template_rows": null,
            "height": null,
            "justify_content": null,
            "justify_items": null,
            "left": null,
            "margin": null,
            "max_height": null,
            "max_width": null,
            "min_height": null,
            "min_width": null,
            "object_fit": null,
            "object_position": null,
            "order": null,
            "overflow": null,
            "overflow_x": null,
            "overflow_y": null,
            "padding": null,
            "right": null,
            "top": null,
            "visibility": null,
            "width": null
          }
        },
        "890470403af5446d8b2eaf61895a981d": {
          "model_module": "@jupyter-widgets/base",
          "model_name": "LayoutModel",
          "model_module_version": "1.2.0",
          "state": {
            "_model_module": "@jupyter-widgets/base",
            "_model_module_version": "1.2.0",
            "_model_name": "LayoutModel",
            "_view_count": null,
            "_view_module": "@jupyter-widgets/base",
            "_view_module_version": "1.2.0",
            "_view_name": "LayoutView",
            "align_content": null,
            "align_items": null,
            "align_self": null,
            "border": null,
            "bottom": null,
            "display": null,
            "flex": null,
            "flex_flow": null,
            "grid_area": null,
            "grid_auto_columns": null,
            "grid_auto_flow": null,
            "grid_auto_rows": null,
            "grid_column": null,
            "grid_gap": null,
            "grid_row": null,
            "grid_template_areas": null,
            "grid_template_columns": null,
            "grid_template_rows": null,
            "height": null,
            "justify_content": null,
            "justify_items": null,
            "left": null,
            "margin": null,
            "max_height": null,
            "max_width": null,
            "min_height": null,
            "min_width": null,
            "object_fit": null,
            "object_position": null,
            "order": null,
            "overflow": null,
            "overflow_x": null,
            "overflow_y": null,
            "padding": null,
            "right": null,
            "top": null,
            "visibility": null,
            "width": null
          }
        },
        "528f7e2d90ee43708c94098eb0a93852": {
          "model_module": "@jupyter-widgets/controls",
          "model_name": "DescriptionStyleModel",
          "model_module_version": "1.5.0",
          "state": {
            "_model_module": "@jupyter-widgets/controls",
            "_model_module_version": "1.5.0",
            "_model_name": "DescriptionStyleModel",
            "_view_count": null,
            "_view_module": "@jupyter-widgets/base",
            "_view_module_version": "1.2.0",
            "_view_name": "StyleView",
            "description_width": ""
          }
        },
        "0111466bd8bf41f2b3a6ac49d8423108": {
          "model_module": "@jupyter-widgets/base",
          "model_name": "LayoutModel",
          "model_module_version": "1.2.0",
          "state": {
            "_model_module": "@jupyter-widgets/base",
            "_model_module_version": "1.2.0",
            "_model_name": "LayoutModel",
            "_view_count": null,
            "_view_module": "@jupyter-widgets/base",
            "_view_module_version": "1.2.0",
            "_view_name": "LayoutView",
            "align_content": null,
            "align_items": null,
            "align_self": null,
            "border": null,
            "bottom": null,
            "display": null,
            "flex": null,
            "flex_flow": null,
            "grid_area": null,
            "grid_auto_columns": null,
            "grid_auto_flow": null,
            "grid_auto_rows": null,
            "grid_column": null,
            "grid_gap": null,
            "grid_row": null,
            "grid_template_areas": null,
            "grid_template_columns": null,
            "grid_template_rows": null,
            "height": null,
            "justify_content": null,
            "justify_items": null,
            "left": null,
            "margin": null,
            "max_height": null,
            "max_width": null,
            "min_height": null,
            "min_width": null,
            "object_fit": null,
            "object_position": null,
            "order": null,
            "overflow": null,
            "overflow_x": null,
            "overflow_y": null,
            "padding": null,
            "right": null,
            "top": null,
            "visibility": null,
            "width": null
          }
        },
        "3160abfb4e674b72862addd04fdedcb0": {
          "model_module": "@jupyter-widgets/controls",
          "model_name": "ProgressStyleModel",
          "model_module_version": "1.5.0",
          "state": {
            "_model_module": "@jupyter-widgets/controls",
            "_model_module_version": "1.5.0",
            "_model_name": "ProgressStyleModel",
            "_view_count": null,
            "_view_module": "@jupyter-widgets/base",
            "_view_module_version": "1.2.0",
            "_view_name": "StyleView",
            "bar_color": null,
            "description_width": ""
          }
        },
        "8a3949e3b1f6445982b2f960ecc8753e": {
          "model_module": "@jupyter-widgets/base",
          "model_name": "LayoutModel",
          "model_module_version": "1.2.0",
          "state": {
            "_model_module": "@jupyter-widgets/base",
            "_model_module_version": "1.2.0",
            "_model_name": "LayoutModel",
            "_view_count": null,
            "_view_module": "@jupyter-widgets/base",
            "_view_module_version": "1.2.0",
            "_view_name": "LayoutView",
            "align_content": null,
            "align_items": null,
            "align_self": null,
            "border": null,
            "bottom": null,
            "display": null,
            "flex": null,
            "flex_flow": null,
            "grid_area": null,
            "grid_auto_columns": null,
            "grid_auto_flow": null,
            "grid_auto_rows": null,
            "grid_column": null,
            "grid_gap": null,
            "grid_row": null,
            "grid_template_areas": null,
            "grid_template_columns": null,
            "grid_template_rows": null,
            "height": null,
            "justify_content": null,
            "justify_items": null,
            "left": null,
            "margin": null,
            "max_height": null,
            "max_width": null,
            "min_height": null,
            "min_width": null,
            "object_fit": null,
            "object_position": null,
            "order": null,
            "overflow": null,
            "overflow_x": null,
            "overflow_y": null,
            "padding": null,
            "right": null,
            "top": null,
            "visibility": null,
            "width": null
          }
        },
        "eeb1f8469a32489c813a6454f94db5c1": {
          "model_module": "@jupyter-widgets/controls",
          "model_name": "DescriptionStyleModel",
          "model_module_version": "1.5.0",
          "state": {
            "_model_module": "@jupyter-widgets/controls",
            "_model_module_version": "1.5.0",
            "_model_name": "DescriptionStyleModel",
            "_view_count": null,
            "_view_module": "@jupyter-widgets/base",
            "_view_module_version": "1.2.0",
            "_view_name": "StyleView",
            "description_width": ""
          }
        }
      }
    }
  },
  "cells": [
    {
      "cell_type": "markdown",
      "source": [
        "# Getting Started with Image Classification and Dataset Curation using FiftyOne and PyTorch\n",
        "\n",
        "## Zero-shot Classification with CLIP and Supervised Learning with Convolutional Neural Networks\n",
        "\n",
        "\n",
        "### Who Is this Tutorial for\n",
        "This tutorial is designed for computer vision practitioners and data scientists who want to master image classification workflows using FiftyOne. Whether you're new to computer vision or experienced with other tools, you'll learn how to leverage FiftyOne's powerful capabilities for dataset curation, model evaluation, and visual analysis.\n",
        "\n",
        "This tutorial is appropriate for any level of computer vision knowledge. By the end of this tutorial, you'll be able to quickly identify mislabeled samples, compare classification models, create meaningful embeddings, and seamlessly move between FiftyOne and PyTorch workflows.\n",
        "\n",
        "### Assumed Knowledge\n",
        "We assume familiarity with basic Python programming and fundamental machine learning concepts. Knowledge of PyTorch is helpful but not required,  we'll explain the key concepts as we go. This tutorial is recommended for beginners to intermediate practitioners in computer vision.\n",
        "\n",
        "### Time to Complete\n",
        "90-120 minutes\n",
        "\n",
        "### Required Packages\n",
        "FiftyOne, PyTorch, and several other packages are required. You can install them with:\n",
        "\n",
        "```bash\n",
        "pip install fiftyone==1.5.2 torch torchvision numpy\n",
        "```\n",
        "\n"
      ],
      "metadata": {
        "id": "JO75fXaFtdvE"
      }
    },
    {
      "cell_type": "markdown",
      "source": [
        "\n",
        "## Content Overview\n",
        "\n",
        "### 1. MNIST Dataset Exploration with FiftyOne\n",
        "\n",
        "Understand the MNIST dataset structure. Load the test split into FiftyOne. Compute and visualize metadata. Explore data distributions using aggregations and the FiftyOne App.\n",
        "\n",
        "**Key concepts covered:**\n",
        "*   Loading datasets from FiftyOne Dataset Zoo\n",
        "*   Computing image metadata\n",
        "*   Using FiftyOne aggregations for data statistics\n",
        "*   Visualizing dataset distributions\n",
        "\n",
        "### 2. Image Embeddings with CLIP\n",
        "\n",
        "Generate image embeddings for the test dataset using a pre-trained CLIP model. Visualize these high dimensional vectors in 2D using PCA and UMAP to understand image similarity.\n",
        "\n",
        "**Key concepts covered:**\n",
        "*   Loading pre-trained models from FiftyOne Model Zoo\n",
        "*   Computing image embeddings with CLIP\n",
        "*   Assigning embeddings to dataset samples\n",
        "*   Dimensionality reduction: PCA and UMAP\n",
        "*   Visualizing embedding plots in FiftyOne\n",
        "\n",
        "### 3. Dataset Analysis using CLIP Embeddings\n",
        "\n",
        "Continue analysis of the CLIP embeddings on the test dataset. Explore dataset clustering concepts. Compute and examine sample uniqueness and representativeness based on CLIP embeddings.\n",
        "\n",
        "**Key concepts covered:**\n",
        "*   Introduction to clustering with embeddings\n",
        "*   Creating a similarity index\n",
        "*   Identifying outliers and representative samples\n",
        "\n",
        "### 4. Zero-Shot Classification with CLIP\n",
        "\n",
        "Perform image classification on the test dataset using CLIP without task specific training. Evaluate CLIP's performance using FiftyOne's tools.\n",
        "\n",
        "**Key concepts covered:**\n",
        "*   Zero-shot classification principles\n",
        "*   Text prompts for classification\n",
        "*   Applying a model to a FiftyOne dataset\n",
        "*   Evaluating classification results including accuracy and confusion matrix\n",
        "\n",
        "### 5. Supervised Classification: LeNet-5 with PyTorch\n",
        "\n",
        "Build and train a LeNet-5 convolutional neural network from scratch using PyTorch. Prepare the MNIST training data. Implement the training loop and validation procedures.\n",
        "\n",
        "**Key concepts covered:**\n",
        "*   LeNet-5 architecture\n",
        "*   Defining a subclass of PyTorch's `nn.Module`\n",
        "*   Splitting FiftyOne data for training and validation\n",
        "*   Creating custom PyTorch Datasets from FiftyOne views\n",
        "*   Data normalization through mean and standard deviation computation\n",
        "*   PyTorch DataLoaders\n",
        "*   Defining loss functions and optimizers\n",
        "*   Training loops and model checkpointing\n",
        "\n",
        "### 6. LeNet-5 Model Evaluation on Test Data\n",
        "\n",
        "Apply the trained LeNet-5 model to the MNIST test set. Store predictions in FiftyOne. Evaluate its performance. Analyze prediction characteristics, including hardness and mistakenness.\n",
        "\n",
        "**Key concepts covered:**\n",
        "*   Applying a PyTorch model to a FiftyOne dataset\n",
        "*   Storing predictions, confidence, and logits\n",
        "*   Evaluating classification performance\n",
        "*   Analyzing prediction confidence distributions\n",
        "*   Computing sample hardness and mistakenness\n",
        "\n",
        "### 7. Analysis of LeNet-5 Learned Features using Training Data\n",
        "\n",
        "Extract embeddings from the trained LeNet-5 model using the training data. Compute and visualize these embeddings. Analyze uniqueness and representativeness based on LeNet's learned features. Identify misclassifications within the training set.\n",
        "\n",
        "**Key concepts covered:**\n",
        "*   Extracting embeddings from intermediate PyTorch model layers\n",
        "*   Storing custom model embeddings in FiftyOne\n",
        "*   Visualizing custom embeddings with PCA and UMAP\n",
        "*   Analyzing uniqueness and representativeness of training samples\n",
        "*   Evaluating model performance on training data\n",
        "*   Identifying false positives and false negatives in training data\n",
        "\n",
        "### 8. Data Augmentation Concepts for MNIST\n",
        "\n",
        "Understand effective data augmentation strategies for the MNIST dataset. Learn about geometric transformations and elastic deformations. Discuss augmentations to avoid. This section provides a conceptual discussion.\n",
        "\n",
        "**Key concepts covered:**\n",
        "*   Rationale for data augmentation\n",
        "*   Geometric and elastic transformations suitable for MNIST\n",
        "*   Best practices and pitfalls in augmentation"
      ],
      "metadata": {
        "id": "ISDyu809KcxZ"
      }
    },
    {
      "cell_type": "markdown",
      "source": [
        "## Installation"
      ],
      "metadata": {
        "id": "IQnUrahBi1Yp"
      }
    },
    {
      "cell_type": "code",
      "source": [
        "# Remove > /dev/null if you encounter errors during installation\n",
        "!pip install fiftyone==1.5.2 > /dev/null"
      ],
      "metadata": {
        "id": "W9NFRcctjBMc"
      },
      "execution_count": 1,
      "outputs": []
    },
    {
      "cell_type": "markdown",
      "source": [
        "### FiftyOne Plug-ins"
      ],
      "metadata": {
        "id": "iG3_ZBDEjNwq"
      }
    },
    {
      "cell_type": "markdown",
      "source": [
        "We'll also install FiftyOne plugins for model evaluation and data augmentation:\n",
        "\n",
        "\n",
        "\n",
        "\n"
      ],
      "metadata": {
        "id": "yRlSg9rPlT2H"
      }
    },
    {
      "cell_type": "code",
      "source": [
        "# Plug-in to evaluate the performance of our classification models\n",
        "!fiftyone plugins download \\\n",
        "    https://github.com/voxel51/fiftyone-plugins \\\n",
        "    --plugin-names @voxel51/evaluation"
      ],
      "metadata": {
        "id": "JzHKYfmnjRYa",
        "colab": {
          "base_uri": "https://localhost:8080/"
        },
        "outputId": "dba708fa-ddda-4092-cf82-b7217141a7a5"
      },
      "execution_count": 2,
      "outputs": [
        {
          "output_type": "stream",
          "name": "stdout",
          "text": [
            "Downloading voxel51/fiftyone-plugins...\n",
            "\n",
            "Copying plugin '@voxel51/evaluation' to '/root/fiftyone/__plugins__/@voxel51/evaluation'\n"
          ]
        }
      ]
    },
    {
      "cell_type": "code",
      "source": [
        "# Plug-in for image augmentations\n",
        "!fiftyone plugins download https://github.com/jacobmarks/fiftyone-albumentations-plugin"
      ],
      "metadata": {
        "id": "_r0OvvAflvmV",
        "colab": {
          "base_uri": "https://localhost:8080/"
        },
        "outputId": "85f2fd14-c6e9-4d09-fa2d-edc61aff2434"
      },
      "execution_count": 3,
      "outputs": [
        {
          "output_type": "stream",
          "name": "stdout",
          "text": [
            "Downloading jacobmarks/fiftyone-albumentations-plugin...\n",
            "\n",
            "Copying plugin '@jacobmarks/albumentations_augmentation' to '/root/fiftyone/__plugins__/@jacobmarks/albumentations_augmentation'\n"
          ]
        }
      ]
    },
    {
      "cell_type": "markdown",
      "source": [
        "## Imports"
      ],
      "metadata": {
        "id": "oCOAC2gFi4ND"
      }
    },
    {
      "cell_type": "code",
      "source": [
        "import os\n",
        "\n",
        "# Set environment variables for reproducibility BEFORE importing torch\n",
        "os.environ['PYTHONHASHSEED'] = '51'\n",
        "os.environ['CUBLAS_WORKSPACE_CONFIG'] = ':4096:8'\n",
        "\n",
        "from PIL import Image\n",
        "import numpy as np\n",
        "import torch\n",
        "import torch.nn as nn\n",
        "import torch.nn.functional as Fun\n",
        "import torchvision.transforms.v2 as transforms\n",
        "import fiftyone as fo\n",
        "import fiftyone.zoo as foz\n",
        "import fiftyone.brain as fob\n",
        "from torch.utils.data import Dataset, ConcatDataset\n",
        "from fiftyone import ViewField as F\n",
        "import fiftyone.utils.random as four\n",
        "from tqdm import tqdm\n",
        "from torch.optim import Adam\n",
        "from pathlib import Path\n",
        "import matplotlib.pyplot as plt\n",
        "import gc\n",
        "import albumentations as A\n",
        "import cv2\n",
        "import random\n",
        "from typing import Optional, Dict, Tuple, Any"
      ],
      "metadata": {
        "id": "0Rj1VqYYi6J1"
      },
      "execution_count": 4,
      "outputs": []
    },
    {
      "cell_type": "markdown",
      "source": [
        "## The MNIST dataset\n",
        "\n",
        "![](https://github.com/andandandand/practical-computer-vision/blob/main/images/mnist_clean.png?raw=true)\n",
        "\n",
        "The Modified National Institute of Standards and Technology (MNIST) dataset stands as one of the most influential benchmarks in computer vision and machine learning history. Created by Yann LeCun and colleagues in 1998, MNIST transformed a collection of handwritten digits from American Census Bureau employees and high school students into a standardized machine learning challenge that has shaped decades of research.\n",
        "\n",
        "\n",
        "\n",
        "**Dataset Structure and Characteristics**\n",
        "\n",
        "The MNIST dataset contains 60,000 training images and 10,000 testing images of handwritten digits (0-9). These are grayscale images of size 28x28 pixels, with each pixel value ranging from 0 (black) to 255 (white). The images have been size-normalized and centered, making them ideal for learning fundamental computer vision concepts without the complexity of dealing with varying scales, rotations, or backgrounds found in natural images. You can inspect the samples on the test portion of the dataset through [try.fiftyone.ai](https://try.fiftyone.ai/datasets/mnist/samples).\n",
        "\n",
        "**Historical Significance and Impact**\n",
        "\n",
        "MNIST earned its status as the \"Hello World\" of computer vision for several reasons. First, it provided the research community with a common benchmark that was computationally tractable, even early personal computers could train models on MNIST in reasonable time. Second, its simplicity allowed researchers to focus on algorithmic innovations rather than data preprocessing challenges. Landmark achievements in deep learning, from early multilayer perceptrons to convolutional architectures like LeNet-5, were first demonstrated and validated on MNIST.\n",
        "\n",
        "The dataset served as a proving ground for fundamental concepts of modern computer vision: convolutional neural networks, regularization techniques, and optimization algorithms were all tested on these handwritten digits. Many techniques that seem obvious today, like data augmentation, dropout, and batch normalization, were first explored and validated using MNIST as a testbed.\n",
        "\n",
        "**Why MNIST Remains Relevant**\n",
        "\n",
        "While critics sometimes dismiss MNIST as \"too easy\" for modern standards, it continues to serve crucial educational and research purposes. For newcomers to computer vision, MNIST provides an ideal environment to understand core concepts without overwhelming complexity. The dataset is small enough to experiment with quickly, yet rich enough to demonstrate important phenomena like overfitting, the importance of data augmentation, and the impact of architectural choices.\n",
        "\n",
        "Moreover, MNIST's apparent simplicity can be deceptive. Achieving state-of-the-art performance >99.7% accuracy requires sophisticated techniques and careful attention to detail, making it an interesting benchmark for testing new methodologies.\n",
        "\n",
        "See the [discussion on Kaggle here](https://www.kaggle.com/competitions/digit-recognizer/discussion/61480) to get inspiration of how to best tackle this challenge.\n",
        "\n",
        "\n",
        "## MNIST in the Modern Era\n",
        "\n",
        "Today, MNIST serves as an excellent starting point for understanding how modern techniques like embeddings, zero-shot classification, and transfer learning work. While a model trained specifically on MNIST might achieve 99%+ accuracy, applying a general-purpose vision model like CLIP without any MNIST-specific training provides insights into how well these models generalize and what they've learned about visual patterns from their massive training datasets.\n",
        "\n",
        "This makes MNIST perfect for comparing traditional supervised learning approaches with modern pre-trained models, helping us understand the trade-offs between task-specific optimization and general-purpose visual understanding.\n",
        "\n",
        "\n",
        "## CLIP\n",
        "\n",
        "**CLIP (Contrastive Language-Image Pre-training)** is a vision-language model developed by OpenAI that learns to understand the relationship between images and text descriptions. Traditional computer vision models are trained on fixed sets of image categories, but CLIP was trained on 400 million image-text pairs from the internet, learning to match images with their captions. This training enables CLIP to perform \"zero-shot\" classification: the ability to classify images into categories it has not seen during training by comparing the image representation with text descriptions of potential classes. The model works by encoding both images and text into the same high-dimensional embedding space, where similar concepts cluster together, allowing it to determine which text description best matches a given image through similarity comparison.\n",
        "\n",
        "![](https://github.com/andandandand/images-for-colab-notebooks/blob/main/clip%20contrastive%20pre-training.png?raw=true)\n",
        "\n",
        "### CLIP vs MNIST\n",
        "\n",
        "In [OpenAI's 2021 CLIP paper](https://arxiv.org/abs/2103.00020), the comparison with MNIST revealed fascinating insights about zero-shot learning capabilities. While supervised models trained specifically on MNIST achieve near-perfect accuracy (>99.7%), OpenAI's best performing variant of CLIP (trained on about 400 million image-text pairs) achieved only 88% accuracy on these handwritten digits. This is interesting considering the model was not trained explicitly trained on any variant of this dataset. This comparison highlighted a shift in modern computer vision from specialized models that excel at narrow tasks to general models that perform reasonably well across diverse domains. The 11+ percentage point gap between supervised and zero-shot approaches on MNIST demonstrates both the power and limitations of general-purpose vision-language models, making MNIST an excellent case study for understanding the trade-offs between specialized optimization and general-purpose learning, particularly valuable for exploring modern approaches like few-shot learning, prompt engineering, and transfer learning strategies.\n",
        "\n",
        "Note that the variant of CLIP that we use in our experiments of this notebook, `\"clip-vit-base32-torch\"` (a Vit-B/32 model) is *not* the top performing variant of CLIP that is showcased on the original OpenAI paper. That would be \"ViT-L/14@336px\", a bigger vision transformer model. The Vit-B/32 base models remain interesting and widely used due to their lower number of parameters.\n",
        "\n",
        "\n",
        "**Known Issues and Research Opportunities**\n",
        "\n",
        "The original dataset contains several images where the ground truth labeling is ambiguous or questionable. The academic community has identified [several of these ambiguous samples](https://arxiv.org/abs/1912.05283). These labeling inconsistencies, while representing less than 0.1% of the dataset, provide opportunities to explore data quality assessment techniques.\n",
        "\n",
        "Finding and analyzing these edge cases teaches valuable lessons about real-world data challenges. In production systems, you'll inevitably encounter ambiguous samples, annotation errors, and edge cases. MNIST's imperfections make it an excellent sandbox for developing robust approaches to handle these issues. Let's see if we can find them using FiftyOne's powerful analysis capabilities!"
      ],
      "metadata": {
        "id": "hKx_LKY_W87E"
      }
    },
    {
      "cell_type": "markdown",
      "source": [
        "## Zero-shot Classification vs \"Traditional\" Supervised Training\n",
        "\n",
        "**Zero-shot classification** leverages pre-trained models like CLIP that have learned rich visual representations from massive datasets, allowing them to classify images into \"interpolated\" categories they've not explicitly seen during training. These models understand the semantic relationship between images and text descriptions, enabling classification through natural language prompts like \"a photo of the digit 3\" without requiring any task-specific training data. In contrast, **traditional supervised training** requires labeled examples for each class you want to predict. You must provide the model with many of images of each digit along with their correct labels, then train the network to learn the mapping from pixel patterns to class labels through backpropagation. While supervised training often achieves higher accuracy on specific datasets and allows for domain-specific optimization, zero-shot approaches offer remarkable flexibility and can instantly work on new classification tasks without additional training time or computational resources."
      ],
      "metadata": {
        "id": "ws9PjUuSZhH1"
      }
    },
    {
      "cell_type": "markdown",
      "source": [
        "![](https://github.com/andandandand/images-for-colab-notebooks/blob/main/clip%20zero-shot%20prediction.png?raw=true)"
      ],
      "metadata": {
        "id": "7qaJxdibqZeZ"
      }
    },
    {
      "cell_type": "markdown",
      "source": [
        "## Where CLIP Fails: Specialized Domains\n",
        "\n",
        "**Understanding the Limitations of General-Purpose Vision Models**\n",
        "\n",
        "While CLIP excels at understanding natural images and common objects, it struggles with specialized domains that differ from its internet-scale training data. MNIST handwritten digits represent one such domain where CLIP's performance drops compared to task-specific models.\n",
        "\n",
        "**Domain-Specific Challenges:**\n",
        "\n",
        "**Limited Training Exposure**: CLIP trained on web-scraped image-text pairs, which contain fewer examples of handwritten digits compared to photographs of everyday objects. The model lacks deep exposure to the subtle variations in handwriting styles.\n",
        "\n",
        "**Scale and Context Mismatch**: CLIP expects high-resolution, colorful images with rich contextual information. MNIST's 28x28 grayscale digits provide minimal visual context that CLIP relies on for classification decisions.\n",
        "\n",
        "**Specialized Visual Features**: Handwritten digits require recognition of fine-grained stroke patterns, curves, and connections that differ from the broader visual concepts CLIP learned from natural images. A \"6\" versus \"9\" distinction depends on subtle orientation cues.\n",
        "\n",
        "**Text-Image Alignment**: CLIP's strength lies in matching images with descriptive captions. Simple digit classification lacks the rich semantic relationships between visual and textual information that CLIP exploits in other domains.\n",
        "\n",
        "**Performance Gap**: This explains why CLIP achieves only ~88% accuracy on MNIST while specialized CNNs reach >99%. The 11+ percentage point gap highlights the trade-off between general-purpose capabilities and domain-specific optimization.\n",
        "\n",
        "Other specialized domains where CLIP struggles include medical imaging, satellite imagery, microscopy, and industrial inspection: areas where domain expertise and task-specific training data prove more valuable than general visual understanding.\n",
        "\n",
        "\n"
      ],
      "metadata": {
        "id": "_Bo7U6NjqTSu"
      }
    },
    {
      "cell_type": "markdown",
      "source": [
        "![](https://github.com/andandandand/practical-computer-vision/blob/main/images/clip_limitations.png?raw=true)"
      ],
      "metadata": {
        "id": "p3C20CqVqgRN"
      }
    },
    {
      "cell_type": "markdown",
      "source": [
        "### Loading the MNIST Dataset from FiftyOne's Dataset Zoo\n",
        "\n",
        "A FiftyOne dataset wraps together the annotations and image data into a unified, queryable structure that makes computer vision workflows seamless. Unlike traditional approaches where you might manage separate files for images and labels, FiftyOne treats each sample as a rich object containing the image itself, ground truth labels, metadata, and any predictions or embeddings you add later. This design enables powerful operations like filtering by class imbalance, visualizing prediction confidence, or finding samples with specific characteristics, all through a consistent API.\n",
        "\n",
        "Loading MNIST from [FiftyOne's Dataset Zoo](https://docs.voxel51.com/dataset_zoo/index.html) is straightforward:\n"
      ],
      "metadata": {
        "id": "S3J8_p_7ZsvW"
      }
    },
    {
      "cell_type": "code",
      "source": [
        "# We will load the test split from the dataset first\n",
        "test_dataset = foz.load_zoo_dataset(\"mnist\", split='test')\n",
        "test_dataset"
      ],
      "metadata": {
        "id": "Nzg-FFDoTVWr",
        "colab": {
          "base_uri": "https://localhost:8080/"
        },
        "outputId": "ed57113f-d2db-4c45-b19a-cf486436e90a"
      },
      "execution_count": 5,
      "outputs": [
        {
          "output_type": "stream",
          "name": "stdout",
          "text": [
            "Downloading split 'test' to '/root/fiftyone/mnist/test'\n"
          ]
        },
        {
          "output_type": "stream",
          "name": "stderr",
          "text": [
            "INFO:fiftyone.zoo.datasets:Downloading split 'test' to '/root/fiftyone/mnist/test'\n",
            "100%|██████████| 9.91M/9.91M [00:01<00:00, 6.07MB/s]\n",
            "100%|██████████| 28.9k/28.9k [00:00<00:00, 161kB/s]\n",
            "100%|██████████| 1.65M/1.65M [00:01<00:00, 1.52MB/s]\n",
            "100%|██████████| 4.54k/4.54k [00:00<00:00, 9.12MB/s]"
          ]
        },
        {
          "output_type": "stream",
          "name": "stdout",
          "text": [
            "   3% |/------------|   260/10000 [100.7ms elapsed, 3.8s remaining, 2.6K samples/s] "
          ]
        },
        {
          "output_type": "stream",
          "name": "stderr",
          "text": [
            "\n"
          ]
        },
        {
          "output_type": "stream",
          "name": "stdout",
          "text": [
            " 100% |█████████████| 10000/10000 [3.3s elapsed, 0s remaining, 3.1K samples/s]      \n"
          ]
        },
        {
          "output_type": "stream",
          "name": "stderr",
          "text": [
            "INFO:eta.core.utils: 100% |█████████████| 10000/10000 [3.3s elapsed, 0s remaining, 3.1K samples/s]      \n"
          ]
        },
        {
          "output_type": "stream",
          "name": "stdout",
          "text": [
            "Dataset info written to '/root/fiftyone/mnist/info.json'\n"
          ]
        },
        {
          "output_type": "stream",
          "name": "stderr",
          "text": [
            "INFO:fiftyone.zoo.datasets:Dataset info written to '/root/fiftyone/mnist/info.json'\n"
          ]
        },
        {
          "output_type": "stream",
          "name": "stdout",
          "text": [
            "Loading 'mnist' split 'test'\n"
          ]
        },
        {
          "output_type": "stream",
          "name": "stderr",
          "text": [
            "INFO:fiftyone.zoo.datasets:Loading 'mnist' split 'test'\n"
          ]
        },
        {
          "output_type": "stream",
          "name": "stdout",
          "text": [
            " 100% |█████████████| 10000/10000 [5.0s elapsed, 0s remaining, 1.9K samples/s]      \n"
          ]
        },
        {
          "output_type": "stream",
          "name": "stderr",
          "text": [
            "INFO:eta.core.utils: 100% |█████████████| 10000/10000 [5.0s elapsed, 0s remaining, 1.9K samples/s]      \n"
          ]
        },
        {
          "output_type": "stream",
          "name": "stdout",
          "text": [
            "Dataset 'mnist-test' created\n"
          ]
        },
        {
          "output_type": "stream",
          "name": "stderr",
          "text": [
            "INFO:fiftyone.zoo.datasets:Dataset 'mnist-test' created\n"
          ]
        },
        {
          "output_type": "execute_result",
          "data": {
            "text/plain": [
              "Name:        mnist-test\n",
              "Media type:  image\n",
              "Num samples: 10000\n",
              "Persistent:  False\n",
              "Tags:        []\n",
              "Sample fields:\n",
              "    id:               fiftyone.core.fields.ObjectIdField\n",
              "    filepath:         fiftyone.core.fields.StringField\n",
              "    tags:             fiftyone.core.fields.ListField(fiftyone.core.fields.StringField)\n",
              "    metadata:         fiftyone.core.fields.EmbeddedDocumentField(fiftyone.core.metadata.ImageMetadata)\n",
              "    created_at:       fiftyone.core.fields.DateTimeField\n",
              "    last_modified_at: fiftyone.core.fields.DateTimeField\n",
              "    ground_truth:     fiftyone.core.fields.EmbeddedDocumentField(fiftyone.core.labels.Classification)"
            ]
          },
          "metadata": {},
          "execution_count": 5
        }
      ]
    },
    {
      "cell_type": "markdown",
      "source": [
        "We launch the FiftyOne app to visualize the test set."
      ],
      "metadata": {
        "id": "b3UYLNkgyKNj"
      }
    },
    {
      "cell_type": "code",
      "source": [
        "session = fo.launch_app(test_dataset, auto=False)"
      ],
      "metadata": {
        "id": "xD7xgYznyGZR",
        "colab": {
          "base_uri": "https://localhost:8080/"
        },
        "outputId": "35eebfc7-3025-451b-b3fa-16eddd00a60a"
      },
      "execution_count": 6,
      "outputs": [
        {
          "output_type": "stream",
          "name": "stdout",
          "text": [
            "Session launched. Run `session.show()` to open the App in a cell output.\n"
          ]
        },
        {
          "output_type": "stream",
          "name": "stderr",
          "text": [
            "INFO:fiftyone.core.session.session:Session launched. Run `session.show()` to open the App in a cell output.\n"
          ]
        },
        {
          "output_type": "stream",
          "name": "stdout",
          "text": [
            "\n",
            "Welcome to\n",
            "\n",
            "███████╗██╗███████╗████████╗██╗   ██╗ ██████╗ ███╗   ██╗███████╗\n",
            "██╔════╝██║██╔════╝╚══██╔══╝╚██╗ ██╔╝██╔═══██╗████╗  ██║██╔════╝\n",
            "█████╗  ██║█████╗     ██║    ╚████╔╝ ██║   ██║██╔██╗ ██║█████╗\n",
            "██╔══╝  ██║██╔══╝     ██║     ╚██╔╝  ██║   ██║██║╚██╗██║██╔══╝\n",
            "██║     ██║██║        ██║      ██║   ╚██████╔╝██║ ╚████║███████╗\n",
            "╚═╝     ╚═╝╚═╝        ╚═╝      ╚═╝    ╚═════╝ ╚═╝  ╚═══╝╚══════╝ v1.5.2\n",
            "\n",
            "If you're finding FiftyOne helpful, here's how you can get involved:\n",
            "\n",
            "|\n",
            "|  ⭐⭐⭐ Give the project a star on GitHub ⭐⭐⭐\n",
            "|  https://github.com/voxel51/fiftyone\n",
            "|\n",
            "|  🚀🚀🚀 Join the FiftyOne Discord community 🚀🚀🚀\n",
            "|  https://community.voxel51.com/\n",
            "|\n",
            "\n"
          ]
        },
        {
          "output_type": "stream",
          "name": "stderr",
          "text": [
            "INFO:fiftyone.core.session.session:\n",
            "Welcome to\n",
            "\n",
            "███████╗██╗███████╗████████╗██╗   ██╗ ██████╗ ███╗   ██╗███████╗\n",
            "██╔════╝██║██╔════╝╚══██╔══╝╚██╗ ██╔╝██╔═══██╗████╗  ██║██╔════╝\n",
            "█████╗  ██║█████╗     ██║    ╚████╔╝ ██║   ██║██╔██╗ ██║█████╗\n",
            "██╔══╝  ██║██╔══╝     ██║     ╚██╔╝  ██║   ██║██║╚██╗██║██╔══╝\n",
            "██║     ██║██║        ██║      ██║   ╚██████╔╝██║ ╚████║███████╗\n",
            "╚═╝     ╚═╝╚═╝        ╚═╝      ╚═╝    ╚═════╝ ╚═╝  ╚═══╝╚══════╝ v1.5.2\n",
            "\n",
            "If you're finding FiftyOne helpful, here's how you can get involved:\n",
            "\n",
            "|\n",
            "|  ⭐⭐⭐ Give the project a star on GitHub ⭐⭐⭐\n",
            "|  https://github.com/voxel51/fiftyone\n",
            "|\n",
            "|  🚀🚀🚀 Join the FiftyOne Discord community 🚀🚀🚀\n",
            "|  https://community.voxel51.com/\n",
            "|\n",
            "\n"
          ]
        }
      ]
    },
    {
      "cell_type": "markdown",
      "source": [
        "With `compute_metadata()` we add the size in bytes, the image file type, the width and height of the image, and the number of channels to our dataset."
      ],
      "metadata": {
        "id": "ym7vp063WUm-"
      }
    },
    {
      "cell_type": "code",
      "source": [
        "test_dataset.compute_metadata()"
      ],
      "metadata": {
        "id": "nKBLQnntVila",
        "colab": {
          "base_uri": "https://localhost:8080/"
        },
        "outputId": "1b0c3896-894a-4e8f-fa97-3c5e271f97eb"
      },
      "execution_count": 7,
      "outputs": [
        {
          "output_type": "stream",
          "name": "stdout",
          "text": [
            "Computing metadata...\n"
          ]
        },
        {
          "output_type": "stream",
          "name": "stderr",
          "text": [
            "INFO:fiftyone.core.metadata:Computing metadata...\n"
          ]
        },
        {
          "output_type": "stream",
          "name": "stdout",
          "text": [
            " 100% |█████████████| 10000/10000 [3.7s elapsed, 0s remaining, 3.0K samples/s]      \n"
          ]
        },
        {
          "output_type": "stream",
          "name": "stderr",
          "text": [
            "INFO:eta.core.utils: 100% |█████████████| 10000/10000 [3.7s elapsed, 0s remaining, 3.0K samples/s]      \n"
          ]
        }
      ]
    },
    {
      "cell_type": "markdown",
      "source": [
        "We can do [aggregations](https://docs.voxel51.com/user_guide/using_aggregations.html) on the dataset to explore the dataset.\n",
        "\n"
      ],
      "metadata": {
        "id": "YTH-cijUZfAm"
      }
    },
    {
      "cell_type": "markdown",
      "source": [
        "We can use the [bounds](https://docs.voxel51.com/api/fiftyone.core.collections.html#fiftyone.core.collections.SampleCollection.bounds) aggregation to compute the [min, max] range of a numeric field of a dataset. And [mean()](https://docs.voxel51.com/api/fiftyone.core.collections.html#fiftyone.core.collections.SampleCollection.bounds) and [std()](https://docs.voxel51.com/api/fiftyone.core.collections.html#fiftyone.core.collections.SampleCollection.std) to compute the mean and standard deviation of it.\n",
        "\n"
      ],
      "metadata": {
        "id": "xr_v-8_yZ041"
      }
    },
    {
      "cell_type": "code",
      "source": [
        "test_dataset.bounds(\"metadata.size_bytes\")"
      ],
      "metadata": {
        "id": "yphCNxUxY-BW",
        "colab": {
          "base_uri": "https://localhost:8080/"
        },
        "outputId": "c8b48115-e0d2-4a50-8b8b-04cb297a9c60"
      },
      "execution_count": 8,
      "outputs": [
        {
          "output_type": "execute_result",
          "data": {
            "text/plain": [
              "(483, 1033)"
            ]
          },
          "metadata": {},
          "execution_count": 8
        }
      ]
    },
    {
      "cell_type": "code",
      "source": [
        "test_dataset.mean(\"metadata.size_bytes\"), test_dataset.std(\"metadata.size_bytes\")"
      ],
      "metadata": {
        "id": "MXWLJSuYZV0-",
        "colab": {
          "base_uri": "https://localhost:8080/"
        },
        "outputId": "c8e45c97-22ca-4e7b-b051-96af3e492f6d"
      },
      "execution_count": 9,
      "outputs": [
        {
          "output_type": "execute_result",
          "data": {
            "text/plain": [
              "(768.6065, 84.01331833554713)"
            ]
          },
          "metadata": {},
          "execution_count": 9
        }
      ]
    },
    {
      "cell_type": "markdown",
      "source": [
        "Try filtering by label and visualizing the metadata of the MNIST images through the FiftyOne app.\n",
        "\n",
        "![](https://github.com/andandandand/practical-computer-vision/blob/main/images/filtering_by_label_mnist_w_metadata.png?raw=true)"
      ],
      "metadata": {
        "id": "yOmjhEc6X4Am"
      }
    },
    {
      "cell_type": "code",
      "source": [
        "session.refresh()\n",
        "print(session.url)"
      ],
      "metadata": {
        "id": "Rm8fbYruVVZI",
        "colab": {
          "base_uri": "https://localhost:8080/",
          "height": 34
        },
        "outputId": "92b9fdf1-cf4a-4f3a-ebf7-7bf75951141a"
      },
      "execution_count": 10,
      "outputs": [
        {
          "output_type": "stream",
          "name": "stdout",
          "text": [
            "https://5151-gpu-t4-hm-q0i2puutqv5p-c.asia-east1-1.prod.colab.dev?polling=true\n"
          ]
        }
      ]
    },
    {
      "cell_type": "markdown",
      "source": [
        "We can also visualize the distributions of `metadata.size_bytes` and `ground_truth.label`. Both of these are relevant when we decide the batch size on which to run our models and to evaluate the balance of classes in our dataset.\n",
        "\n",
        "![](https://github.com/andandandand/practical-computer-vision/blob/main/images/distribtution_size_bytes.png?raw=true)\n",
        "\n",
        "For this try clicking on the `+` symbol next to samples, select `Histograms` and then `metadata.size_bytes` and `ground_truth.label` from the dropdown menu. The `Split horizontally button` will allow you to see the panel alongside the image data.\n",
        "\n",
        "\n",
        "![](https://github.com/andandandand/practical-computer-vision/blob/main/images/ground_truh_distribution_mnist.png?raw=true)"
      ],
      "metadata": {
        "id": "XF-aubVNe3JX"
      }
    },
    {
      "cell_type": "markdown",
      "source": [
        "## Creating Image Embeddings with CLIP\n",
        "\n",
        "**Image embeddings** are high-dimensional vector representations that capture the semantic and aesthetic content of images in a vector format that machine learning models can understand and compare.\n",
        "\n",
        "Think of embeddings as a way to translate visual concepts into vectors where similar images will correspond to similar embedding vectors, while visually or semantically different images will have more distant vectors in a high-dimensional space.\n",
        "\n",
        "OpenAI's CLIP model creates particularly powerful embeddings because it was trained to understand the relationship between images and their matching text descriptions, enabling it to capture rich semantic meaning. In FiftyOne, creating embeddings with CLIP is straightforward:\n",
        "\n",
        "1. We obtain the model through [`foz.load_zoo_model(\"\"clip-vit-base32-torch\"\")`](https://docs.voxel51.com/model_zoo/models.html#clip-vit-base32-torch) and pass it to the GPU (if we have it available).\n",
        "2. We use the [`compute_embeddings()`](https://docs.voxel51.com/api/fiftyone.brain.internal.core.elasticsearch.html#fiftyone.brain.internal.core.elasticsearch.ElasticsearchSimilarityIndex.compute_embeddings) method:\n",
        "\n",
        "\n"
      ],
      "metadata": {
        "id": "bQQPA9HTXVsC"
      }
    },
    {
      "cell_type": "code",
      "source": [
        "device = \"cuda\" if torch.cuda.is_available() else \"cpu\"\n",
        "clip_model = foz.load_zoo_model(\"clip-vit-base32-torch\",\n",
        "                                device=device)\n",
        "print(f\"The model is loaded on {clip_model._device}\")"
      ],
      "metadata": {
        "id": "ST1OahV5kvgi",
        "colab": {
          "base_uri": "https://localhost:8080/"
        },
        "outputId": "dd38e689-043d-42d7-cc0d-3087757a9f9c"
      },
      "execution_count": 11,
      "outputs": [
        {
          "output_type": "stream",
          "name": "stdout",
          "text": [
            "Downloading model from 'https://openaipublic.azureedge.net/clip/models/40d365715913c9da98579312b702a82c18be219cc2a73407c4526f58eba950af/ViT-B-32.pt'...\n"
          ]
        },
        {
          "output_type": "stream",
          "name": "stderr",
          "text": [
            "INFO:fiftyone.core.models:Downloading model from 'https://openaipublic.azureedge.net/clip/models/40d365715913c9da98579312b702a82c18be219cc2a73407c4526f58eba950af/ViT-B-32.pt'...\n"
          ]
        },
        {
          "output_type": "stream",
          "name": "stdout",
          "text": [
            " 100% |██████|    2.6Gb/2.6Gb [5.1s elapsed, 0s remaining, 432.1Mb/s]       \n"
          ]
        },
        {
          "output_type": "stream",
          "name": "stderr",
          "text": [
            "INFO:eta.core.utils: 100% |██████|    2.6Gb/2.6Gb [5.1s elapsed, 0s remaining, 432.1Mb/s]       \n"
          ]
        },
        {
          "output_type": "stream",
          "name": "stdout",
          "text": [
            "Downloading CLIP tokenizer...\n"
          ]
        },
        {
          "output_type": "stream",
          "name": "stderr",
          "text": [
            "INFO:fiftyone.utils.clip.zoo:Downloading CLIP tokenizer...\n"
          ]
        },
        {
          "output_type": "stream",
          "name": "stdout",
          "text": [
            " 100% |█████|   10.4Mb/10.4Mb [247.2ms elapsed, 0s remaining, 41.9Mb/s]      \n"
          ]
        },
        {
          "output_type": "stream",
          "name": "stderr",
          "text": [
            "INFO:eta.core.utils: 100% |█████|   10.4Mb/10.4Mb [247.2ms elapsed, 0s remaining, 41.9Mb/s]      \n"
          ]
        },
        {
          "output_type": "stream",
          "name": "stdout",
          "text": [
            "The model is loaded on cuda\n"
          ]
        }
      ]
    },
    {
      "cell_type": "code",
      "source": [
        "# Calculate the total number of parameters in the model\n",
        "total_params = sum(p.numel() for p in clip_model._model.parameters())\n",
        "\n",
        "print(f\"The CLIP model has {total_params:,} parameters.\")"
      ],
      "metadata": {
        "id": "HhHT2scrakDC",
        "colab": {
          "base_uri": "https://localhost:8080/"
        },
        "outputId": "a5ce6e06-eec8-48ce-8de0-9da4e18c9dbc"
      },
      "execution_count": 12,
      "outputs": [
        {
          "output_type": "stream",
          "name": "stdout",
          "text": [
            "The CLIP model has 151,277,313 parameters.\n"
          ]
        }
      ]
    },
    {
      "cell_type": "markdown",
      "source": [
        "This will take about 3 min on a Google Colab instance with GPU enabled"
      ],
      "metadata": {
        "id": "R1Z9t8CBoXKz"
      }
    },
    {
      "cell_type": "code",
      "source": [
        "clip_embeddings = test_dataset.compute_embeddings(model=clip_model,\n",
        "                                        batch_size=512,\n",
        "                                        num_workers=2)"
      ],
      "metadata": {
        "id": "J-va5BZtpFw6",
        "colab": {
          "base_uri": "https://localhost:8080/"
        },
        "outputId": "b9914d40-a937-49df-98a4-c12d38f65bdb"
      },
      "execution_count": 13,
      "outputs": [
        {
          "output_type": "stream",
          "name": "stdout",
          "text": [
            " 100% |█████████████| 10000/10000 [29.2s elapsed, 0s remaining, 363.8 samples/s]      \n"
          ]
        },
        {
          "output_type": "stream",
          "name": "stderr",
          "text": [
            "INFO:eta.core.utils: 100% |█████████████| 10000/10000 [29.2s elapsed, 0s remaining, 363.8 samples/s]      \n"
          ]
        }
      ]
    },
    {
      "cell_type": "markdown",
      "source": [
        "The collection of embeddings is a NumPy array. Each embedding is a 512-dimensional vector. We can think about each embedding as a distinct point in a high-dimensional space."
      ],
      "metadata": {
        "id": "PV6umlNpEmGe"
      }
    },
    {
      "cell_type": "code",
      "source": [
        "# Check the format and shape of our embeddings vector\n",
        "type(clip_embeddings), clip_embeddings.shape"
      ],
      "metadata": {
        "id": "dSyH8a7M0IrT",
        "colab": {
          "base_uri": "https://localhost:8080/"
        },
        "outputId": "e860d9e3-b085-4efd-cf28-aaa06bedd90d"
      },
      "execution_count": 14,
      "outputs": [
        {
          "output_type": "execute_result",
          "data": {
            "text/plain": [
              "(numpy.ndarray, (10000, 512))"
            ]
          },
          "metadata": {},
          "execution_count": 14
        }
      ]
    },
    {
      "cell_type": "markdown",
      "source": [
        "Here we attach each embedding to its corresponding image sample."
      ],
      "metadata": {
        "id": "MQQtu1jkE0I8"
      }
    },
    {
      "cell_type": "code",
      "source": [
        "for index, sample in enumerate(test_dataset):\n",
        "    sample[\"clip_embeddings\"] = clip_embeddings[index]\n",
        "    sample.save()"
      ],
      "metadata": {
        "id": "wKDE9MR80UJ7"
      },
      "execution_count": 15,
      "outputs": []
    },
    {
      "cell_type": "markdown",
      "source": [
        "We see that the first sample now has the field `embeddings` attached to it, and we can query its shape.\n"
      ],
      "metadata": {
        "id": "d8ZVmfIOFHtK"
      }
    },
    {
      "cell_type": "code",
      "source": [
        "test_dataset.first().clip_embeddings.shape"
      ],
      "metadata": {
        "id": "cDSCqkEss_K4",
        "colab": {
          "base_uri": "https://localhost:8080/"
        },
        "outputId": "3f398440-8875-436b-d039-a20add8b1158"
      },
      "execution_count": 16,
      "outputs": [
        {
          "output_type": "execute_result",
          "data": {
            "text/plain": [
              "(512,)"
            ]
          },
          "metadata": {},
          "execution_count": 16
        }
      ]
    },
    {
      "cell_type": "markdown",
      "source": [
        "## Creating a Similarity Index\n",
        "\n",
        "A **similarity index** allows for efficient searching of similar samples within a dataset based on their embeddings. Instead of comparing a query sample's embedding to every other embedding in the dataset (which can be slow for large datasets), the index organizes the embeddings in a way that allows for fast retrieval of the most similar samples. This is particularly useful for tasks like:\n",
        "\n",
        "- Finding visually similar images.\n",
        "- Identifying near-duplicate samples.\n",
        "- Exploring clusters of similar data points.\n",
        "\n",
        "In this case, we're creating a similarity index based on the CLIP embeddings, which capture the semantic content of the images. This index will enable us to quickly find images that are semantically similar to a given query image.\n",
        "\n"
      ],
      "metadata": {
        "id": "y7i_BkCiFYXs"
      }
    },
    {
      "cell_type": "code",
      "source": [
        "# Compute similarity index based on CLIP embeddings\n",
        "print(\"Computing similarity index based on CLIP embeddings...\")\n",
        "\n",
        "similarity_index = fob.compute_similarity(\n",
        "    test_dataset,\n",
        "    embeddings=\"clip_embeddings\",  # Field containing the CLIP embeddings\n",
        "    brain_key=\"clip_cosine_similarity_index\",  # Unique identifier for this similarity index\n",
        "    backend=\"sklearn\",  # Can also use \"pinecone\" for large datasets\n",
        "    metric=\"cosine\"  # Similarity metric (cosine is good for embeddings)\n",
        ")\n",
        "\n",
        "print(f\"Similarity index computed successfully!\")\n"
      ],
      "metadata": {
        "id": "DsloYFP4eUIe",
        "colab": {
          "base_uri": "https://localhost:8080/"
        },
        "outputId": "835118b5-c2d1-48cd-95e1-6daae20986fc"
      },
      "execution_count": 17,
      "outputs": [
        {
          "output_type": "stream",
          "name": "stdout",
          "text": [
            "Computing similarity index based on CLIP embeddings...\n",
            "Similarity index computed successfully!\n"
          ]
        }
      ]
    },
    {
      "cell_type": "code",
      "source": [
        "# Display similarity index information\n",
        "print(f\"Similarity Index Details:\")\n",
        "print(f\"- Total samples indexed: {len(test_dataset)}\")\n",
        "print(f\"- Embeddings field: {similarity_index.config.embeddings_field}\")\n",
        "print(f\"- Metric: {similarity_index.config.metric}\")\n",
        "\n",
        "# Example 1: Find similar images to a specific digit\n",
        "query_sample = test_dataset.first()\n",
        "print(f\"\"\"\\nQuerying for images similar to sample: {query_sample.id}\n",
        "            with label {query_sample.ground_truth.label}\"\"\")\n",
        "\n",
        "# Use the sample ID (string) instead of the sample object\n",
        "similar_view = test_dataset.sort_by_similarity(\n",
        "    query_sample.id,  # Pass the sample ID, not the sample object\n",
        "    brain_key=\"clip_cosine_similarity_index\",\n",
        "    k=10,  # Return top 10 most similar\n",
        "    reverse=False  # Most similar first\n",
        ")\n",
        "\n",
        "print(f\"Found {len(similar_view)} most similar samples\")\n",
        "session.view = similar_view\n",
        "session.refresh()\n",
        "print(session.url)\n"
      ],
      "metadata": {
        "id": "2kXiNdZaewRJ",
        "colab": {
          "base_uri": "https://localhost:8080/",
          "height": 173
        },
        "outputId": "e6bb1cb1-e012-4716-e66b-ddb24157a395"
      },
      "execution_count": 18,
      "outputs": [
        {
          "output_type": "stream",
          "name": "stdout",
          "text": [
            "Similarity Index Details:\n",
            "- Total samples indexed: 10000\n",
            "- Embeddings field: clip_embeddings\n",
            "- Metric: cosine\n",
            "\n",
            "Querying for images similar to sample: 684db786e6273d19aee155ec\n",
            "            with label 7 - seven\n",
            "Found 10 most similar samples\n",
            "https://5151-gpu-t4-hm-q0i2puutqv5p-c.asia-east1-1.prod.colab.dev?polling=true\n"
          ]
        }
      ]
    },
    {
      "cell_type": "markdown",
      "source": [
        "### Creating a 2D Projection of the Embeddings for Visualization\n",
        "\n",
        "**Compressing High-Dimensional Representations for Visual Analysis**\n",
        "\n",
        "Projecting high-dimensional embeddings to 2D enables visual exploration of data structure and relationships. This process represents lossy compression. The 2D visualization cannot capture all information present in the original embedding space. The projection serves as an approximation for understanding data patterns, not for precise analysis.\n",
        "\n",
        "**Dimensionality Reduction Methods**: PCA and UMAP compress embeddings through different approaches. PCA finds linear combinations that preserve maximum variance, making it faster and deterministic, the same data produces identical results. UMAP uses sophisticated manifold learning to preserve local neighborhoods and reveal cluster structure, but operates through stochastic processes that can produce different results across runs.\n",
        "\n",
        "**Visualization Purpose**: These projections help identify clusters, outliers, and data distribution patterns. Points close together in the visualization often share similar characteristics, while distant points represent different concepts. The projection quality depends on how well the chosen method preserves the relationships present in the original high-dimensional space.\n",
        "\n",
        "**Interpretation Limits**: Remember that 2D projections cannot represent all relationships from the original embeddings. Some distances may appear closer or farther than they actually are in the full dimensional space.\n",
        "\n"
      ],
      "metadata": {
        "id": "gjHRCURddjR8"
      }
    },
    {
      "cell_type": "code",
      "source": [
        "pca_visualization = fob.compute_visualization(test_dataset,\n",
        "                                              method=\"pca\",\n",
        "                                              embeddings=\"clip_embeddings\",\n",
        "                                              num_dims=2,\n",
        "                                              brain_key=\"pca_visualization_clip_embeds\")"
      ],
      "metadata": {
        "id": "XacGyC6OrtdR",
        "colab": {
          "base_uri": "https://localhost:8080/"
        },
        "outputId": "e28be24f-287e-49cd-eae8-1d266cffd4f2"
      },
      "execution_count": 19,
      "outputs": [
        {
          "output_type": "stream",
          "name": "stdout",
          "text": [
            "Generating visualization...\n"
          ]
        },
        {
          "output_type": "stream",
          "name": "stderr",
          "text": [
            "INFO:fiftyone.brain.visualization:Generating visualization...\n"
          ]
        }
      ]
    },
    {
      "cell_type": "code",
      "source": [
        "umap_visualization = fob.compute_visualization(test_dataset,\n",
        "                                              method=\"umap\",\n",
        "                                              embeddings=\"clip_embeddings\",\n",
        "                                              num_dims=2,\n",
        "                                              brain_key=\"umap_visualization_clip_embeds\")"
      ],
      "metadata": {
        "id": "4mq4hg9_ovbh",
        "colab": {
          "base_uri": "https://localhost:8080/",
          "height": 538,
          "referenced_widgets": [
            "91758ef8a55949a3ac676b5bb0b11197",
            "ada2d651a675452bb6766d366d9bb5ba",
            "e6e7eab2cb954c91817ce78cd3b2a48d",
            "9a4ca6841b504f74a5d741d3118129da",
            "f84e3b18d7584f998e92a21f024d2626",
            "af406c92c25b4cb9aca4ba95b5a7b7dc",
            "f7014b3ab1b947b0806d346f2c9a4bd8",
            "f2ed5ff97a064338b7ed3ee10e6d0a30",
            "da09eade67a64e25be78bb6097425fa8",
            "495585fa2a23496999ef188174e42c18",
            "a9fe5792ef2b47708ec84c07e9df6c60"
          ]
        },
        "outputId": "87844221-7028-4938-85ad-217f97eb76f6"
      },
      "execution_count": 20,
      "outputs": [
        {
          "output_type": "stream",
          "name": "stdout",
          "text": [
            "Generating visualization...\n"
          ]
        },
        {
          "output_type": "stream",
          "name": "stderr",
          "text": [
            "INFO:fiftyone.brain.visualization:Generating visualization...\n",
            "/usr/local/lib/python3.11/dist-packages/sklearn/utils/deprecation.py:151: FutureWarning: 'force_all_finite' was renamed to 'ensure_all_finite' in 1.6 and will be removed in 1.8.\n",
            "  warnings.warn(\n"
          ]
        },
        {
          "output_type": "stream",
          "name": "stdout",
          "text": [
            "UMAP( verbose=True)\n",
            "Sat Jun 14 17:57:13 2025 Construct fuzzy simplicial set\n",
            "Sat Jun 14 17:57:13 2025 Finding Nearest Neighbors\n",
            "Sat Jun 14 17:57:13 2025 Building RP forest with 10 trees\n",
            "Sat Jun 14 17:57:17 2025 NN descent for 13 iterations\n",
            "\t 1  /  13\n",
            "\t 2  /  13\n",
            "\t 3  /  13\n",
            "\t 4  /  13\n",
            "\tStopping threshold met -- exiting after 4 iterations\n",
            "Sat Jun 14 17:57:29 2025 Finished Nearest Neighbor Search\n",
            "Sat Jun 14 17:57:32 2025 Construct embedding\n"
          ]
        },
        {
          "output_type": "display_data",
          "data": {
            "text/plain": [
              "Epochs completed:   0%|            0/500 [00:00]"
            ],
            "application/vnd.jupyter.widget-view+json": {
              "version_major": 2,
              "version_minor": 0,
              "model_id": "91758ef8a55949a3ac676b5bb0b11197"
            }
          },
          "metadata": {}
        },
        {
          "output_type": "stream",
          "name": "stdout",
          "text": [
            "\tcompleted  0  /  500 epochs\n",
            "\tcompleted  50  /  500 epochs\n",
            "\tcompleted  100  /  500 epochs\n",
            "\tcompleted  150  /  500 epochs\n",
            "\tcompleted  200  /  500 epochs\n",
            "\tcompleted  250  /  500 epochs\n",
            "\tcompleted  300  /  500 epochs\n",
            "\tcompleted  350  /  500 epochs\n",
            "\tcompleted  400  /  500 epochs\n",
            "\tcompleted  450  /  500 epochs\n",
            "Sat Jun 14 17:57:38 2025 Finished embedding\n"
          ]
        }
      ]
    },
    {
      "cell_type": "markdown",
      "source": [
        "## Visualizing Embeddings in the FiftyOne App\n",
        "\n",
        "To view the embedding visualizations (PCA and UMAP) in the FiftyOne App:\n",
        "\n",
        "1. **Open the Panel**: Click on the \"**+**\" icon next to \"Samples\" in the FiftyOne App's header.\n",
        "2. **Select Visualizations**: From the dropdown menu, select \"Embeddings\" under the \"Visualizations\" section.\n",
        "3. **Choose Embeddings**: In the Embeddings panel that appears, select the embedding field you want to visualize from the dropdown (e.g., `pca_visualization_clip_embeds` or `umap_visualization_clip_embeds`).\n",
        "\n",
        "You can then interact with the 2D plot, hovering over points to see the corresponding images and selecting regions to filter the samples in the grid."
      ],
      "metadata": {
        "id": "mtBJDv7_JwMY"
      }
    },
    {
      "cell_type": "code",
      "source": [
        "session.refresh()\n",
        "print(session.url)"
      ],
      "metadata": {
        "id": "htl4-xTnt5xY",
        "colab": {
          "base_uri": "https://localhost:8080/",
          "height": 34
        },
        "outputId": "703e4faa-13fe-4ace-9e8f-10660b06f3cb"
      },
      "execution_count": 21,
      "outputs": [
        {
          "output_type": "stream",
          "name": "stdout",
          "text": [
            "https://5151-gpu-t4-hm-q0i2puutqv5p-c.asia-east1-1.prod.colab.dev?polling=true\n"
          ]
        }
      ]
    },
    {
      "cell_type": "markdown",
      "source": [
        "![](https://github.com/andandandand/practical-computer-vision/blob/main/images/image_embeddings_zero_cluster.gif?raw=true)"
      ],
      "metadata": {
        "id": "sJTHNOjydh7d"
      }
    },
    {
      "cell_type": "markdown",
      "source": [
        "Let's use the FiftyOne app to explore the  samples in the dataset."
      ],
      "metadata": {
        "id": "FzdQd-g3A248"
      }
    },
    {
      "cell_type": "code",
      "source": [
        "session.refresh()\n",
        "print(session.url)"
      ],
      "metadata": {
        "id": "EDJ5HWQzAnEZ",
        "colab": {
          "base_uri": "https://localhost:8080/",
          "height": 34
        },
        "outputId": "d55b2e63-4f6e-4ed2-b2ef-244c98114520"
      },
      "execution_count": 22,
      "outputs": [
        {
          "output_type": "stream",
          "name": "stdout",
          "text": [
            "https://5151-gpu-t4-hm-q0i2puutqv5p-c.asia-east1-1.prod.colab.dev?polling=true\n"
          ]
        }
      ]
    },
    {
      "cell_type": "markdown",
      "source": [
        "## Clustering through Embeddings"
      ],
      "metadata": {
        "id": "qwoQi7T52naS"
      }
    },
    {
      "cell_type": "markdown",
      "source": [
        "\n",
        "**Clustering** transforms the high-dimensional embedding space into groups of similar images, helping us discover hidden patterns and structure in our dataset. Rather than manually browsing through thousands of images, clustering algorithms like K-means, HDBSCAN, or Gaussian Mixture Models automatically identify samples that share visual or semantic characteristics. This is particularly powerful when combined with CLIP embeddings, as the clusters often correspond to semantic concepts like \"outdoor scenes,\" \"close-up portraits,\" or \"nighttime images.\" FiftyOne provides a dedicated clustering plugin that makes this analysis seamless. Install it with:\n",
        "\n",
        "\n"
      ],
      "metadata": {
        "id": "cJeaax5-8Rww"
      }
    },
    {
      "cell_type": "code",
      "source": [
        "!fiftyone plugins download https://github.com/jacobmarks/clustering-plugin"
      ],
      "metadata": {
        "id": "XNWq6eg43Fn_",
        "colab": {
          "base_uri": "https://localhost:8080/"
        },
        "outputId": "142c8310-1929-4ac1-f5c1-f0000b75f931"
      },
      "execution_count": 23,
      "outputs": [
        {
          "output_type": "stream",
          "name": "stdout",
          "text": [
            "Downloading jacobmarks/clustering-plugin...\n",
            "\n",
            "Copying plugin '@jacobmarks/clustering' to '/root/fiftyone/__plugins__/@jacobmarks/clustering'\n"
          ]
        }
      ]
    },
    {
      "cell_type": "markdown",
      "source": [
        "Once installed, you can access clustering functionality directly from the FiftyOne App by pressing the backtick key (`) and typing `compute_clusters`. The plugin offers multiple clustering algorithms and customizable parameters. This workflow is valuable for understanding the groupings within your data produced by the embedding model. Learn more about clustering workflows and advanced techniques in the [FiftyOne clustering tutorial](https://docs.voxel51.com/tutorials/clustering.html).\n"
      ],
      "metadata": {
        "id": "HXlzLzWZ860S"
      }
    },
    {
      "cell_type": "code",
      "source": [
        "session.refresh()\n",
        "print(session.url)"
      ],
      "metadata": {
        "id": "WNnlzTX93OnS",
        "colab": {
          "base_uri": "https://localhost:8080/",
          "height": 34
        },
        "outputId": "9e130039-69b8-461a-aca6-6fbbf85723e5"
      },
      "execution_count": 27,
      "outputs": [
        {
          "output_type": "stream",
          "name": "stdout",
          "text": [
            "https://5151-gpu-t4-hm-q0i2puutqv5p-c.asia-east1-1.prod.colab.dev?polling=true\n"
          ]
        }
      ]
    },
    {
      "cell_type": "markdown",
      "source": [
        "## Zero-shot Classification"
      ],
      "metadata": {
        "id": "JloCmwLUXZ78"
      }
    },
    {
      "cell_type": "markdown",
      "source": [
        "Now that we understand how CLIP creates meaningful embeddings, we can leverage these representations for **zero-shot classification** - the ability to classify images into categories without any task-specific training. CLIP's vision-language training enables it to understand the semantic relationship between images and text descriptions, allowing us to classify MNIST digits simply by providing natural language descriptions of each class.\n",
        "\n",
        "The key insight is that CLIP learns to map both images and text into the same embedding space, where semantically similar concepts cluster together. By computing the similarity between an image's embedding and text embeddings for each class description, we can determine which category best matches the input image. This approach is remarkably flexible, we can change our classification categories simply by modifying the text prompts, without retraining the models.\n",
        "\n",
        "For MNIST digit classification, we'll use descriptive text prompts combined with the written names of each digit.\n"
      ],
      "metadata": {
        "id": "87uZ17UaeBcw"
      }
    },
    {
      "cell_type": "code",
      "source": [
        "# We obtain the distinct labels of the dataset\n",
        "dataset_classes = sorted(test_dataset.distinct(\"ground_truth.label\"))\n",
        "dataset_classes"
      ],
      "metadata": {
        "id": "w8Jk1qpak2Q9",
        "colab": {
          "base_uri": "https://localhost:8080/"
        },
        "outputId": "2db64efc-7380-4eb1-db92-ea81d1f87e89"
      },
      "execution_count": 28,
      "outputs": [
        {
          "output_type": "execute_result",
          "data": {
            "text/plain": [
              "['0 - zero',\n",
              " '1 - one',\n",
              " '2 - two',\n",
              " '3 - three',\n",
              " '4 - four',\n",
              " '5 - five',\n",
              " '6 - six',\n",
              " '7 - seven',\n",
              " '8 - eight',\n",
              " '9 - nine']"
            ]
          },
          "metadata": {},
          "execution_count": 28
        }
      ]
    },
    {
      "cell_type": "markdown",
      "source": [
        "## The Effect of the Text Prompt"
      ],
      "metadata": {
        "id": "uLYZ287EUJQh"
      }
    },
    {
      "cell_type": "markdown",
      "source": [
        "With CLIP, the `text_prompt` parameter can have a significant effect on the accuracy of the model, as it affects the text embedding for the label.\n",
        "\n",
        "### Experiment with the Prompt\n",
        "\n",
        "Try modifying the `text_prompt` field with:\n",
        "\n",
        "* \"The handwritten digit \"\n",
        "* \"A grayscale image of the number \"\n",
        "* \"A pixel illustration of the digit \"\n",
        "* \"A low resolution image of the number\"\n",
        "* \"An MNIST digit \"\n",
        "\n",
        "And observe the effect on the accuracy, precision and recall on our classification report."
      ],
      "metadata": {
        "id": "R4oAWHCawr7b"
      }
    },
    {
      "cell_type": "code",
      "source": [
        "clip_model = foz.load_zoo_model(\n",
        "    \"clip-vit-base32-torch\",\n",
        "    text_prompt=\"A photo of \",\n",
        "    classes=dataset_classes,\n",
        "    device=device\n",
        ")"
      ],
      "metadata": {
        "id": "O6Q7NqbJdYCL"
      },
      "execution_count": 29,
      "outputs": []
    },
    {
      "cell_type": "code",
      "source": [
        "# The CLIP model preprocesses the input data\n",
        "clip_model.preprocess"
      ],
      "metadata": {
        "id": "hBgS_90dWgbf",
        "colab": {
          "base_uri": "https://localhost:8080/"
        },
        "outputId": "e19f0cb6-e22f-4d91-c702-55b6d0c3152a"
      },
      "execution_count": 30,
      "outputs": [
        {
          "output_type": "execute_result",
          "data": {
            "text/plain": [
              "True"
            ]
          },
          "metadata": {},
          "execution_count": 30
        }
      ]
    },
    {
      "cell_type": "code",
      "source": [
        "# Notice that the CLIP model was originally trained on much larger images and that\n",
        "# these where RGB, in order to make the MNIST data work with it, it has been transformed and scaled\n",
        "clip_model._transforms"
      ],
      "metadata": {
        "id": "_rMuKMCQWP9u",
        "colab": {
          "base_uri": "https://localhost:8080/"
        },
        "outputId": "5fbf5a24-0cae-4f8d-a7e4-6cc852414880"
      },
      "execution_count": 31,
      "outputs": [
        {
          "output_type": "execute_result",
          "data": {
            "text/plain": [
              "Compose(\n",
              "    <fiftyone.utils.torch.ToPILImage object at 0x7ba2e1068f10>\n",
              "    Resize(size=[224, 224], interpolation=bilinear, max_size=None, antialias=True)\n",
              "    ToTensor()\n",
              "    Normalize(mean=[0.48145466, 0.4578275, 0.40821073], std=[0.26862954, 0.26130258, 0.27577711])\n",
              ")"
            ]
          },
          "metadata": {},
          "execution_count": 31
        }
      ]
    },
    {
      "cell_type": "markdown",
      "source": [
        "The `store_logits=True` parameter is important as it preserves the model's confidence scores for each prediction, enabling us to analyze prediction uncertainty and identify samples where the model was unsure. After applying the model, we can compute comprehensive evaluation metrics and visualize the results using FiftyOne's evaluation framework:"
      ],
      "metadata": {
        "id": "8mG-ECXjiQ7p"
      }
    },
    {
      "cell_type": "code",
      "source": [
        "test_dataset.apply_model(\n",
        "    model=clip_model,\n",
        "    label_field=\"clip_zero_shot_classification\",\n",
        "    # We need to store the logits to compute the \"mistakenness\" value\n",
        "    store_logits=True,\n",
        "    # This is how many samples we will show to the model at once\n",
        "    batch_size=256,\n",
        "    progress_bar=True,\n",
        "     # Use more running threads if you have multiple cpus\n",
        "    num_workers=os.cpu_count()\n",
        ")"
      ],
      "metadata": {
        "id": "P9F4bKQheb_-",
        "colab": {
          "base_uri": "https://localhost:8080/"
        },
        "outputId": "aca31178-ffff-4f17-eea1-7b58a526b784"
      },
      "execution_count": 32,
      "outputs": [
        {
          "output_type": "stream",
          "name": "stdout",
          "text": [
            " 100% |█████████████| 10000/10000 [33.9s elapsed, 0s remaining, 305.4 samples/s]      \n"
          ]
        },
        {
          "output_type": "stream",
          "name": "stderr",
          "text": [
            "INFO:eta.core.utils: 100% |█████████████| 10000/10000 [33.9s elapsed, 0s remaining, 305.4 samples/s]      \n"
          ]
        }
      ]
    },
    {
      "cell_type": "code",
      "source": [
        "session.refresh()\n",
        "print(session.url)"
      ],
      "metadata": {
        "id": "kACq6EVGf5RR",
        "colab": {
          "base_uri": "https://localhost:8080/",
          "height": 34
        },
        "outputId": "4f0486eb-c37a-4fdc-a4a7-df4fc44eb41b"
      },
      "execution_count": 33,
      "outputs": [
        {
          "output_type": "stream",
          "name": "stdout",
          "text": [
            "https://5151-gpu-t4-hm-q0i2puutqv5p-c.asia-east1-1.prod.colab.dev?polling=true\n"
          ]
        }
      ]
    },
    {
      "cell_type": "markdown",
      "source": [
        "## Evaluating CLIP's Classification Performance\n",
        "\n",
        "With our zero-shot CLIP predictions generated, we need to evaluate how well the model performs compared to the ground truth labels. FiftyOne provides powerful evaluation capabilities that go beyond simple accuracy metrics, allowing us to understand where and why our model succeeds or fails.\n",
        "\n",
        "[FiftyOne's Model Evaluation Panel](https://docs.voxel51.com/user_guide/app.html#model-evaluation-panel-sub-new ) provides interactive confusion matrices, per-class metrics, and the ability to drill down into specific failure modes. This visual analysis helps identify systematic errors, class imbalances, and edge cases that pure numerical metrics might miss, enabling targeted improvements to your classification pipeline.\n",
        "\n",
        "\n"
      ],
      "metadata": {
        "id": "plmWGrpTXfSQ"
      }
    },
    {
      "cell_type": "code",
      "source": [
        "clip_evaluation_results = test_dataset.evaluate_classifications(\n",
        "    \"clip_zero_shot_classification\",\n",
        "    gt_field=\"ground_truth\",\n",
        "    eval_key=\"clip_zero_shot_eval\")\n",
        "\n",
        "session.refresh()\n",
        "print(session.url)"
      ],
      "metadata": {
        "id": "y04n9H8WhAUf",
        "colab": {
          "base_uri": "https://localhost:8080/",
          "height": 34
        },
        "outputId": "471c32d0-dc53-47a8-bb05-78094dd342da"
      },
      "execution_count": 34,
      "outputs": [
        {
          "output_type": "stream",
          "name": "stdout",
          "text": [
            "https://5151-gpu-t4-hm-q0i2puutqv5p-c.asia-east1-1.prod.colab.dev?polling=true\n"
          ]
        }
      ]
    },
    {
      "cell_type": "code",
      "source": [
        "clip_evaluation_results.print_report(classes=dataset_classes, digits=3)"
      ],
      "metadata": {
        "id": "ZaXb016KpLcd",
        "colab": {
          "base_uri": "https://localhost:8080/"
        },
        "outputId": "ffd79307-3475-49d4-cdf2-708d9283ab7b"
      },
      "execution_count": 35,
      "outputs": [
        {
          "output_type": "stream",
          "name": "stdout",
          "text": [
            "              precision    recall  f1-score   support\n",
            "\n",
            "    0 - zero      0.256     0.999     0.408       980\n",
            "     1 - one      0.145     0.033     0.053      1135\n",
            "     2 - two      1.000     0.016     0.031      1032\n",
            "   3 - three      0.901     0.386     0.541      1010\n",
            "    4 - four      0.513     0.177     0.263       982\n",
            "    5 - five      0.600     0.161     0.254       892\n",
            "     6 - six      0.076     0.255     0.117       958\n",
            "   7 - seven      0.613     0.635     0.624      1028\n",
            "   8 - eight      0.178     0.115     0.140       974\n",
            "    9 - nine      0.000     0.000     0.000      1009\n",
            "\n",
            "    accuracy                          0.275     10000\n",
            "   macro avg      0.428     0.278     0.243     10000\n",
            "weighted avg      0.427     0.275     0.241     10000\n",
            "\n"
          ]
        }
      ]
    },
    {
      "cell_type": "code",
      "source": [
        "# The confusion matrix has a lot activity outside of the main diagonal\n",
        "clip_evaluation_results.plot_confusion_matrix()"
      ],
      "metadata": {
        "id": "TioSsNHjS_sw",
        "colab": {
          "base_uri": "https://localhost:8080/",
          "height": 666
        },
        "outputId": "a4d2b98c-2585-44a9-c43e-fbbcf6b798cb"
      },
      "execution_count": 36,
      "outputs": [
        {
          "output_type": "stream",
          "name": "stderr",
          "text": [
            "/usr/local/lib/python3.11/dist-packages/fiftyone/core/plots/plotly.py:1591: UserWarning:\n",
            "\n",
            "Interactive plots are currently only supported in Jupyter notebooks. Support outside of notebooks and in Google Colab and Databricks will be included in an upcoming release. In the meantime, you can still use this plot, but note that (i) selecting data will not trigger callbacks, and (ii) you must manually call `plot.show()` to launch a new plot that reflects the current state of an attached session.\n",
            "\n",
            "See https://docs.voxel51.com/user_guide/plots.html#working-in-notebooks for more information.\n",
            "\n"
          ]
        },
        {
          "output_type": "display_data",
          "data": {
            "text/html": [
              "<html>\n",
              "<head><meta charset=\"utf-8\" /></head>\n",
              "<body>\n",
              "    <div>            <script src=\"https://cdnjs.cloudflare.com/ajax/libs/mathjax/2.7.5/MathJax.js?config=TeX-AMS-MML_SVG\"></script><script type=\"text/javascript\">if (window.MathJax && window.MathJax.Hub && window.MathJax.Hub.Config) {window.MathJax.Hub.Config({SVG: {font: \"STIX-Web\"}});}</script>                <script type=\"text/javascript\">window.PlotlyConfig = {MathJaxConfig: 'local'};</script>\n",
              "        <script charset=\"utf-8\" src=\"https://cdn.plot.ly/plotly-2.35.2.min.js\"></script>                <div id=\"9cd0e9b8-b0cd-4a5d-90ca-c985f17797b2\" class=\"plotly-graph-div\" style=\"height:525px; width:100%;\"></div>            <script type=\"text/javascript\">                                    window.PLOTLYENV=window.PLOTLYENV || {};                                    if (document.getElementById(\"9cd0e9b8-b0cd-4a5d-90ca-c985f17797b2\")) {                    Plotly.newPlot(                        \"9cd0e9b8-b0cd-4a5d-90ca-c985f17797b2\",                        [{\"mode\":\"markers\",\"opacity\":0.1,\"x\":[0,1,2,3,4,5,6,7,8,9,0,1,2,3,4,5,6,7,8,9,0,1,2,3,4,5,6,7,8,9,0,1,2,3,4,5,6,7,8,9,0,1,2,3,4,5,6,7,8,9,0,1,2,3,4,5,6,7,8,9,0,1,2,3,4,5,6,7,8,9,0,1,2,3,4,5,6,7,8,9,0,1,2,3,4,5,6,7,8,9,0,1,2,3,4,5,6,7,8,9],\"y\":[0,0,0,0,0,0,0,0,0,0,1,1,1,1,1,1,1,1,1,1,2,2,2,2,2,2,2,2,2,2,3,3,3,3,3,3,3,3,3,3,4,4,4,4,4,4,4,4,4,4,5,5,5,5,5,5,5,5,5,5,6,6,6,6,6,6,6,6,6,6,7,7,7,7,7,7,7,7,7,7,8,8,8,8,8,8,8,8,8,8,9,9,9,9,9,9,9,9,9,9],\"type\":\"scatter\",\"uid\":\"90854b99-8380-4e7b-8999-b8e291adbc43\"},{\"colorscale\":[[0.0,\"rgb(255,245,235)\"],[0.125,\"rgb(254,230,206)\"],[0.25,\"rgb(253,208,162)\"],[0.375,\"rgb(253,174,107)\"],[0.5,\"rgb(253,141,60)\"],[0.625,\"rgb(241,105,19)\"],[0.75,\"rgb(217,72,1)\"],[0.875,\"rgb(166,54,3)\"],[1.0,\"rgb(127,39,4)\"]],\"hoverinfo\":\"skip\",\"showscale\":false,\"z\":[[229,16,0,0,6,4,394,38,322,0],[147,47,0,1,6,3,647,10,112,1],[192,64,0,0,47,1,66,653,5,0],[603,3,0,0,0,3,244,0,105,0],[58,0,0,0,1,144,684,2,3,0],[162,0,0,0,174,1,592,30,23,0],[25,0,0,390,40,75,416,30,34,0],[378,89,16,42,55,0,141,303,8,0],[1049,37,0,0,10,9,15,0,15,0],[979,0,0,0,0,0,0,0,1,0]],\"zmax\":1049,\"zmin\":0,\"type\":\"heatmap\",\"uid\":\"4a5138be-7053-447e-b8ed-648db333f47f\"},{\"colorbar\":{\"len\":1,\"lenmode\":\"fraction\"},\"colorscale\":[[0.0,\"rgb(255,245,235)\"],[0.125,\"rgb(254,230,206)\"],[0.25,\"rgb(253,208,162)\"],[0.375,\"rgb(253,174,107)\"],[0.5,\"rgb(253,141,60)\"],[0.625,\"rgb(241,105,19)\"],[0.75,\"rgb(217,72,1)\"],[0.875,\"rgb(166,54,3)\"],[1.0,\"rgb(127,39,4)\"]],\"hovertemplate\":\"\\u003cb\\u003ecount: %{z}\\u003c\\u002fb\\u003e\\u003cbr\\u003eground_truth: %{y}\\u003cbr\\u003eclip_zero_shot_classification: %{x}\\u003cextra\\u003e\\u003c\\u002fextra\\u003e\",\"opacity\":0.25,\"z\":[[229,16,0,0,6,4,394,38,322,0],[147,47,0,1,6,3,647,10,112,1],[192,64,0,0,47,1,66,653,5,0],[603,3,0,0,0,3,244,0,105,0],[58,0,0,0,1,144,684,2,3,0],[162,0,0,0,174,1,592,30,23,0],[25,0,0,390,40,75,416,30,34,0],[378,89,16,42,55,0,141,303,8,0],[1049,37,0,0,10,9,15,0,15,0],[979,0,0,0,0,0,0,0,1,0]],\"zmax\":1049,\"zmin\":0,\"type\":\"heatmap\",\"uid\":\"748fe7ed-804e-4b5d-b8a5-a7f940e52476\"}],                        {\"clickmode\":\"event\",\"template\":{\"data\":{\"barpolar\":[{\"marker\":{\"line\":{\"color\":\"rgb(237,237,237)\",\"width\":0.5},\"pattern\":{\"fillmode\":\"overlay\",\"size\":10,\"solidity\":0.2}},\"type\":\"barpolar\"}],\"bar\":[{\"error_x\":{\"color\":\"rgb(51,51,51)\"},\"error_y\":{\"color\":\"rgb(51,51,51)\"},\"marker\":{\"line\":{\"color\":\"rgb(237,237,237)\",\"width\":0.5},\"pattern\":{\"fillmode\":\"overlay\",\"size\":10,\"solidity\":0.2}},\"type\":\"bar\"}],\"carpet\":[{\"aaxis\":{\"endlinecolor\":\"rgb(51,51,51)\",\"gridcolor\":\"white\",\"linecolor\":\"white\",\"minorgridcolor\":\"white\",\"startlinecolor\":\"rgb(51,51,51)\"},\"baxis\":{\"endlinecolor\":\"rgb(51,51,51)\",\"gridcolor\":\"white\",\"linecolor\":\"white\",\"minorgridcolor\":\"white\",\"startlinecolor\":\"rgb(51,51,51)\"},\"type\":\"carpet\"}],\"choropleth\":[{\"colorbar\":{\"outlinewidth\":0,\"tickcolor\":\"rgb(237,237,237)\",\"ticklen\":6,\"ticks\":\"inside\"},\"type\":\"choropleth\"}],\"contourcarpet\":[{\"colorbar\":{\"outlinewidth\":0,\"tickcolor\":\"rgb(237,237,237)\",\"ticklen\":6,\"ticks\":\"inside\"},\"type\":\"contourcarpet\"}],\"contour\":[{\"colorbar\":{\"outlinewidth\":0,\"tickcolor\":\"rgb(237,237,237)\",\"ticklen\":6,\"ticks\":\"inside\"},\"colorscale\":[[0,\"rgb(20,44,66)\"],[1,\"rgb(90,179,244)\"]],\"type\":\"contour\"}],\"heatmapgl\":[{\"colorbar\":{\"outlinewidth\":0,\"tickcolor\":\"rgb(237,237,237)\",\"ticklen\":6,\"ticks\":\"inside\"},\"colorscale\":[[0,\"rgb(20,44,66)\"],[1,\"rgb(90,179,244)\"]],\"type\":\"heatmapgl\"}],\"heatmap\":[{\"colorbar\":{\"outlinewidth\":0,\"tickcolor\":\"rgb(237,237,237)\",\"ticklen\":6,\"ticks\":\"inside\"},\"colorscale\":[[0,\"rgb(20,44,66)\"],[1,\"rgb(90,179,244)\"]],\"type\":\"heatmap\"}],\"histogram2dcontour\":[{\"colorbar\":{\"outlinewidth\":0,\"tickcolor\":\"rgb(237,237,237)\",\"ticklen\":6,\"ticks\":\"inside\"},\"colorscale\":[[0,\"rgb(20,44,66)\"],[1,\"rgb(90,179,244)\"]],\"type\":\"histogram2dcontour\"}],\"histogram2d\":[{\"colorbar\":{\"outlinewidth\":0,\"tickcolor\":\"rgb(237,237,237)\",\"ticklen\":6,\"ticks\":\"inside\"},\"colorscale\":[[0,\"rgb(20,44,66)\"],[1,\"rgb(90,179,244)\"]],\"type\":\"histogram2d\"}],\"histogram\":[{\"marker\":{\"pattern\":{\"fillmode\":\"overlay\",\"size\":10,\"solidity\":0.2}},\"type\":\"histogram\"}],\"mesh3d\":[{\"colorbar\":{\"outlinewidth\":0,\"tickcolor\":\"rgb(237,237,237)\",\"ticklen\":6,\"ticks\":\"inside\"},\"type\":\"mesh3d\"}],\"parcoords\":[{\"line\":{\"colorbar\":{\"outlinewidth\":0,\"tickcolor\":\"rgb(237,237,237)\",\"ticklen\":6,\"ticks\":\"inside\"}},\"type\":\"parcoords\"}],\"pie\":[{\"automargin\":true,\"type\":\"pie\"}],\"scatter3d\":[{\"line\":{\"colorbar\":{\"outlinewidth\":0,\"tickcolor\":\"rgb(237,237,237)\",\"ticklen\":6,\"ticks\":\"inside\"}},\"marker\":{\"colorbar\":{\"outlinewidth\":0,\"tickcolor\":\"rgb(237,237,237)\",\"ticklen\":6,\"ticks\":\"inside\"}},\"type\":\"scatter3d\"}],\"scattercarpet\":[{\"marker\":{\"colorbar\":{\"outlinewidth\":0,\"tickcolor\":\"rgb(237,237,237)\",\"ticklen\":6,\"ticks\":\"inside\"}},\"type\":\"scattercarpet\"}],\"scattergeo\":[{\"marker\":{\"colorbar\":{\"outlinewidth\":0,\"tickcolor\":\"rgb(237,237,237)\",\"ticklen\":6,\"ticks\":\"inside\"}},\"type\":\"scattergeo\"}],\"scattergl\":[{\"marker\":{\"colorbar\":{\"outlinewidth\":0,\"tickcolor\":\"rgb(237,237,237)\",\"ticklen\":6,\"ticks\":\"inside\"}},\"type\":\"scattergl\"}],\"scattermapbox\":[{\"marker\":{\"colorbar\":{\"outlinewidth\":0,\"tickcolor\":\"rgb(237,237,237)\",\"ticklen\":6,\"ticks\":\"inside\"}},\"type\":\"scattermapbox\"}],\"scatterpolargl\":[{\"marker\":{\"colorbar\":{\"outlinewidth\":0,\"tickcolor\":\"rgb(237,237,237)\",\"ticklen\":6,\"ticks\":\"inside\"}},\"type\":\"scatterpolargl\"}],\"scatterpolar\":[{\"marker\":{\"colorbar\":{\"outlinewidth\":0,\"tickcolor\":\"rgb(237,237,237)\",\"ticklen\":6,\"ticks\":\"inside\"}},\"type\":\"scatterpolar\"}],\"scatter\":[{\"fillpattern\":{\"fillmode\":\"overlay\",\"size\":10,\"solidity\":0.2},\"type\":\"scatter\"}],\"scatterternary\":[{\"marker\":{\"colorbar\":{\"outlinewidth\":0,\"tickcolor\":\"rgb(237,237,237)\",\"ticklen\":6,\"ticks\":\"inside\"}},\"type\":\"scatterternary\"}],\"surface\":[{\"colorbar\":{\"outlinewidth\":0,\"tickcolor\":\"rgb(237,237,237)\",\"ticklen\":6,\"ticks\":\"inside\"},\"colorscale\":[[0,\"rgb(20,44,66)\"],[1,\"rgb(90,179,244)\"]],\"type\":\"surface\"}],\"table\":[{\"cells\":{\"fill\":{\"color\":\"rgb(237,237,237)\"},\"line\":{\"color\":\"white\"}},\"header\":{\"fill\":{\"color\":\"rgb(217,217,217)\"},\"line\":{\"color\":\"white\"}},\"type\":\"table\"}]},\"layout\":{\"annotationdefaults\":{\"arrowhead\":0,\"arrowwidth\":1},\"autotypenumbers\":\"strict\",\"coloraxis\":{\"colorbar\":{\"outlinewidth\":0,\"tickcolor\":\"rgb(237,237,237)\",\"ticklen\":6,\"ticks\":\"inside\"}},\"colorscale\":{\"sequential\":[[0,\"rgb(20,44,66)\"],[1,\"rgb(90,179,244)\"]],\"sequentialminus\":[[0,\"rgb(20,44,66)\"],[1,\"rgb(90,179,244)\"]]},\"colorway\":[\"#F8766D\",\"#A3A500\",\"#00BF7D\",\"#00B0F6\",\"#E76BF3\"],\"font\":{\"color\":\"rgb(51,51,51)\"},\"geo\":{\"bgcolor\":\"white\",\"lakecolor\":\"white\",\"landcolor\":\"rgb(237,237,237)\",\"showlakes\":true,\"showland\":true,\"subunitcolor\":\"white\"},\"hoverlabel\":{\"align\":\"left\"},\"hovermode\":\"closest\",\"paper_bgcolor\":\"white\",\"plot_bgcolor\":\"rgb(237,237,237)\",\"polar\":{\"angularaxis\":{\"gridcolor\":\"white\",\"linecolor\":\"white\",\"showgrid\":true,\"tickcolor\":\"rgb(51,51,51)\",\"ticks\":\"outside\"},\"bgcolor\":\"rgb(237,237,237)\",\"radialaxis\":{\"gridcolor\":\"white\",\"linecolor\":\"white\",\"showgrid\":true,\"tickcolor\":\"rgb(51,51,51)\",\"ticks\":\"outside\"}},\"scene\":{\"xaxis\":{\"backgroundcolor\":\"rgb(237,237,237)\",\"gridcolor\":\"white\",\"gridwidth\":2,\"linecolor\":\"white\",\"showbackground\":true,\"showgrid\":true,\"tickcolor\":\"rgb(51,51,51)\",\"ticks\":\"outside\",\"zerolinecolor\":\"white\"},\"yaxis\":{\"backgroundcolor\":\"rgb(237,237,237)\",\"gridcolor\":\"white\",\"gridwidth\":2,\"linecolor\":\"white\",\"showbackground\":true,\"showgrid\":true,\"tickcolor\":\"rgb(51,51,51)\",\"ticks\":\"outside\",\"zerolinecolor\":\"white\"},\"zaxis\":{\"backgroundcolor\":\"rgb(237,237,237)\",\"gridcolor\":\"white\",\"gridwidth\":2,\"linecolor\":\"white\",\"showbackground\":true,\"showgrid\":true,\"tickcolor\":\"rgb(51,51,51)\",\"ticks\":\"outside\",\"zerolinecolor\":\"white\"}},\"shapedefaults\":{\"fillcolor\":\"black\",\"line\":{\"width\":0},\"opacity\":0.3},\"ternary\":{\"aaxis\":{\"gridcolor\":\"white\",\"linecolor\":\"white\",\"showgrid\":true,\"tickcolor\":\"rgb(51,51,51)\",\"ticks\":\"outside\"},\"baxis\":{\"gridcolor\":\"white\",\"linecolor\":\"white\",\"showgrid\":true,\"tickcolor\":\"rgb(51,51,51)\",\"ticks\":\"outside\"},\"bgcolor\":\"rgb(237,237,237)\",\"caxis\":{\"gridcolor\":\"white\",\"linecolor\":\"white\",\"showgrid\":true,\"tickcolor\":\"rgb(51,51,51)\",\"ticks\":\"outside\"}},\"xaxis\":{\"automargin\":true,\"gridcolor\":\"white\",\"linecolor\":\"white\",\"showgrid\":true,\"tickcolor\":\"rgb(51,51,51)\",\"ticks\":\"outside\",\"title\":{\"standoff\":15},\"zerolinecolor\":\"white\"},\"yaxis\":{\"automargin\":true,\"gridcolor\":\"white\",\"linecolor\":\"white\",\"showgrid\":true,\"tickcolor\":\"rgb(51,51,51)\",\"ticks\":\"outside\",\"title\":{\"standoff\":15},\"zerolinecolor\":\"white\"}}},\"xaxis\":{\"constrain\":\"domain\",\"range\":[-0.5,9.5],\"tickmode\":\"array\",\"ticktext\":[\"0 - zero\",\"1 - one\",\"2 - two\",\"3 - three\",\"4 - four\",\"5 - five\",\"6 - six\",\"7 - seven\",\"8 - eight\",\"9 - nine\"],\"tickvals\":[0,1,2,3,4,5,6,7,8,9]},\"yaxis\":{\"constrain\":\"domain\",\"range\":[-0.5,9.5],\"scaleanchor\":\"x\",\"scaleratio\":1,\"tickmode\":\"array\",\"ticktext\":[\"9 - nine\",\"8 - eight\",\"7 - seven\",\"6 - six\",\"5 - five\",\"4 - four\",\"3 - three\",\"2 - two\",\"1 - one\",\"0 - zero\"],\"tickvals\":[0,1,2,3,4,5,6,7,8,9]},\"margin\":{\"r\":0,\"t\":30,\"l\":0,\"b\":0},\"title\":{}},                        {\"responsive\": true}                    ).then(function(){\n",
              "                            \n",
              "var gd = document.getElementById('9cd0e9b8-b0cd-4a5d-90ca-c985f17797b2');\n",
              "var x = new MutationObserver(function (mutations, observer) {{\n",
              "        var display = window.getComputedStyle(gd).display;\n",
              "        if (!display || display === 'none') {{\n",
              "            console.log([gd, 'removed!']);\n",
              "            Plotly.purge(gd);\n",
              "            observer.disconnect();\n",
              "        }}\n",
              "}});\n",
              "\n",
              "// Listen for the removal of the full notebook cells\n",
              "var notebookContainer = gd.closest('#notebook-container');\n",
              "if (notebookContainer) {{\n",
              "    x.observe(notebookContainer, {childList: true});\n",
              "}}\n",
              "\n",
              "// Listen for the clearing of the current output cell\n",
              "var outputEl = gd.closest('.output');\n",
              "if (outputEl) {{\n",
              "    x.observe(outputEl, {childList: true});\n",
              "}}\n",
              "\n",
              "                        })                };                            </script>        </div>\n",
              "</body>\n",
              "</html>"
            ]
          },
          "metadata": {}
        },
        {
          "output_type": "execute_result",
          "data": {
            "text/plain": []
          },
          "metadata": {},
          "execution_count": 36
        }
      ]
    },
    {
      "cell_type": "markdown",
      "source": [
        "## Inspect the Images where the Model is Performing Worst\n",
        "\n",
        "We can create a view of the images labeled as nines on the dataset, to get a closer look at what CLIP is misclassifying.  "
      ],
      "metadata": {
        "id": "_Exkmk50l_Kr"
      }
    },
    {
      "cell_type": "code",
      "source": [
        "nines_view = test_dataset.filter_labels(\"ground_truth\",\n",
        "                                        F(\"$ground_truth.label\") == \"9 - nine\"\n",
        "                                       )"
      ],
      "metadata": {
        "id": "W0WTxH3smMkE"
      },
      "execution_count": 37,
      "outputs": []
    },
    {
      "cell_type": "markdown",
      "source": [
        "#### The Purpose of `session.refresh()` in FiftyOne\n",
        "\n",
        "The `session.refresh()` command in FiftyOne syncs the state of the FiftyOne App interface with the state of our FiftyOne dataset object in the Python kernel.\n",
        "\n",
        "When we modify a dataset or view in your Python code by adding new fields, computing embeddings, applying models, filtering samples, or adding tags, these changes are made to the dataset object in your Python session. However, the FiftyOne App, which runs in a separate process, doesn't automatically know about these updates.\n",
        "\n",
        "Calling `session.refresh()` explicitly tells the FiftyOne App to reload the current view of the dataset from the backend. This ensures that the App's visualization and sample grid reflect the latest changes you've made in your notebook, allowing you to see and interact with the results of your code in the App's UI. Without `session.refresh()`, the App might show an outdated version of your dataset."
      ],
      "metadata": {
        "id": "-IOzwOIZGzeS"
      }
    },
    {
      "cell_type": "code",
      "source": [
        "session.view = nines_view\n",
        "session.refresh()\n",
        "print(session.url)"
      ],
      "metadata": {
        "id": "oFZbuxx-wv5L",
        "colab": {
          "base_uri": "https://localhost:8080/",
          "height": 34
        },
        "outputId": "9dc89b2c-a3f3-431b-b5b1-2c8c95bb3517"
      },
      "execution_count": 38,
      "outputs": [
        {
          "output_type": "stream",
          "name": "stdout",
          "text": [
            "https://5151-gpu-t4-hm-q0i2puutqv5p-c.asia-east1-1.prod.colab.dev?polling=true\n"
          ]
        }
      ]
    },
    {
      "cell_type": "markdown",
      "source": [
        "## Clearing the CLIP Model from GPU memory\n",
        "\n",
        "After using the CLIP model, it's good practice to free up the GPU memory it occupied. This is done by:\n",
        "\n",
        "1. Deleting the model variable (`del clip_model`).\n",
        "2. Running Python's garbage collector (`gc.collect()`) to clean up references.\n",
        "3. Emptying the CUDA cache (`torch.cuda.empty_cache()`) to release cached memory on the GPU.\n",
        "\n",
        "This ensures that the GPU memory (aka VRAM) is available for the next batches of images and models.\n"
      ],
      "metadata": {
        "id": "e74j5GZ8HAI5"
      }
    },
    {
      "cell_type": "code",
      "source": [
        "# Delete the model variable\n",
        "del clip_model\n",
        "\n",
        "# Run Python's garbage collector\n",
        "gc.collect()\n",
        "\n",
        "# Empty the CUDA cache\n",
        "if torch.cuda.is_available():\n",
        "    torch.cuda.empty_cache()\n",
        "\n",
        "print(\"CUDA device memory from clip_model should be cleared.\")"
      ],
      "metadata": {
        "id": "t0uw_4muPB-8",
        "colab": {
          "base_uri": "https://localhost:8080/"
        },
        "outputId": "8682b63e-0841-4347-9159-a39e98d37865"
      },
      "execution_count": 39,
      "outputs": [
        {
          "output_type": "stream",
          "name": "stdout",
          "text": [
            "CUDA device memory from clip_model should be cleared.\n"
          ]
        }
      ]
    },
    {
      "cell_type": "markdown",
      "source": [
        "## Reproducibility for Training Experiments\n",
        "\n",
        "To ensure full reproducibility of your training experiments, you need to set random seeds for all libraries and operations that involve randomness. This ensures that initial model weights, data shuffling, and any other random operations are the same across different runs.\n",
        "\n"
      ],
      "metadata": {
        "id": "qUd2c3J0q79_"
      }
    },
    {
      "cell_type": "code",
      "source": [
        "def set_seeds(seed=51):\n",
        "    \"\"\"\n",
        "    Set seeds for complete reproducibility across all libraries and operations.\n",
        "\n",
        "    Args:\n",
        "        seed (int): Random seed value\n",
        "    \"\"\"\n",
        "    # Set environment variables before other imports\n",
        "    os.environ['PYTHONHASHSEED'] = str(seed)\n",
        "    os.environ['CUBLAS_WORKSPACE_CONFIG'] = ':4096:8'\n",
        "\n",
        "    # Python random module\n",
        "    random.seed(seed)\n",
        "\n",
        "    # NumPy\n",
        "    np.random.seed(seed)\n",
        "\n",
        "    # PyTorch CPU\n",
        "    torch.manual_seed(seed)\n",
        "\n",
        "    # PyTorch GPU (all devices)\n",
        "    if torch.cuda.is_available():\n",
        "        torch.cuda.manual_seed(seed)\n",
        "        torch.cuda.manual_seed_all(seed)  # For multi-GPU setups\n",
        "\n",
        "        # CUDA deterministic operations\n",
        "        torch.backends.cudnn.deterministic = True\n",
        "        torch.backends.cudnn.benchmark = False\n",
        "\n",
        "    # OpenCV\n",
        "    cv2.setRNGSeed(seed)\n",
        "\n",
        "    # Albumentations (for data augmentation)\n",
        "    try:\n",
        "        A.seed_everything(seed)\n",
        "    except AttributeError:\n",
        "        # Older versions of albumentations\n",
        "        pass\n",
        "\n",
        "    # PyTorch deterministic algorithms (may impact performance)\n",
        "    try:\n",
        "        torch.use_deterministic_algorithms(True)\n",
        "    except RuntimeError:\n",
        "        # Some operations don't have deterministic implementations\n",
        "        print(\"Warning: Some operations may not be deterministic\")\n",
        "\n",
        "    print(f\"All random seeds set to {seed} for reproducibility\")\n",
        "\n",
        "\n",
        "\n",
        "# Usage: Call this function at the beginning and before each training phase\n",
        "set_seeds(51)\n",
        "\n",
        "# Additional reproducibility considerations:\n",
        "\n",
        "def create_deterministic_training_dataloader(dataset, batch_size, shuffle=True, **kwargs):\n",
        "    \"\"\"\n",
        "    Create a DataLoader with deterministic behavior.\n",
        "\n",
        "    Args:\n",
        "        dataset: PyTorch Dataset instance\n",
        "        batch_size: Batch size\n",
        "        shuffle: Whether to shuffle data\n",
        "        **kwargs: Additional DataLoader arguments\n",
        "\n",
        "    Returns:\n",
        "        Training DataLoader with reproducible behavior\n",
        "    \"\"\"\n",
        "    # Use a generator with fixed seed for reproducible shuffling\n",
        "    generator = torch.Generator()\n",
        "    generator.manual_seed(51)\n",
        "\n",
        "    return torch.utils.data.DataLoader(\n",
        "        dataset,\n",
        "        batch_size=batch_size,\n",
        "        shuffle=shuffle,\n",
        "        generator=generator if shuffle else None,\n",
        "        **kwargs\n",
        "    )\n",
        "\n",
        "# Example usage:\n",
        "# train_loader = create_deterministic_dataloader(\n",
        "#     torch_train_set,\n",
        "#     batch_size=64,\n",
        "#     shuffle=True,\n",
        "#     num_workers=4,\n",
        "#     pin_memory=True\n",
        "# )\n",
        "\n"
      ],
      "metadata": {
        "id": "i-VJ7ajbq16D",
        "colab": {
          "base_uri": "https://localhost:8080/"
        },
        "outputId": "75da85de-4e95-4672-9a06-c2b735977ceb"
      },
      "execution_count": 40,
      "outputs": [
        {
          "output_type": "stream",
          "name": "stdout",
          "text": [
            "All random seeds set to 51 for reproducibility\n"
          ]
        }
      ]
    },
    {
      "cell_type": "markdown",
      "source": [
        "## Creating a Custom Convolutional Neural Networks in PyTorch (Two Versions of LeNet-5)\n",
        "\n",
        "![](https://raw.githubusercontent.com/andandandand/practical-computer-vision/refs/heads/main/images/lenet5-architecture.png)\n",
        "\n",
        "While zero-shot classification with CLIP demonstrates the power of modern pre-trained models, understanding how to build and train convolutional neural networks from scratch remains fundamental to computer vision. **LeNet-5**, proposed by Yann LeCun in 1998, represents one of the earliest and most influential CNN architectures. Despite its age, LeNet-5 perfectly illustrates core CNN concepts including convolutional layers, pooling layers, and the transition from feature extraction to classification.\n",
        "\n",
        "LeNet-5's architecture is elegantly simple yet effective: it uses alternating convolutional and pooling layers to extract hierarchical features, followed by fully connected layers for classification. The network learns low-level features like edges and curves in early layers, then combines these into higher-level digit patterns in deeper layers. This hierarchical feature learning principle underlies virtually all modern CNN architectures.\n",
        "\n",
        "For MNIST digit classification, LeNet-5 provides an excellent baseline to compare against CLIP's zero-shot performance. While CLIP leverages massive-scale pre-training and vision-language understanding, LeNet-5 demonstrates what's possible with task-specific supervised learning on a much smaller scale. Building this model from scratch in PyTorch teaches essential concepts about gradient-based optimization, backpropagation, and the relationship between network architecture and learning capacity.\n",
        "\n"
      ],
      "metadata": {
        "id": "NKrksi3nXk2k"
      }
    },
    {
      "cell_type": "markdown",
      "source": [
        "Here is [a great animation](https://youtu.be/UxIS_PoVoz8?si=3ibZms7Hk1oSj55k) showcasing the architecture.\n",
        "\n"
      ],
      "metadata": {
        "id": "Lr3oiQDzibmw"
      }
    },
    {
      "cell_type": "code",
      "source": [
        "class ClassicLeNet5(nn.Module):\n",
        "    \"\"\"\n",
        "    LeNet-5 CNN architecture for MNIST digit classification.\n",
        "\n",
        "    Original paper: \"Gradient-Based Learning Applied to Document Recognition\"\n",
        "    by LeCun et al. (1998)\n",
        "\n",
        "    Architecture (maintains original design with padding):\n",
        "    Input (28x28) -> Pad to (32x32) -> C1 (6@28x28) -> S2 (6@14x14) ->\n",
        "    C3 (16@10x10) -> S4 (16@5x5) -> C5 (120@1x1) -> F6 (84) -> Output (10)\n",
        "    \"\"\"\n",
        "\n",
        "    def __init__(self, num_classes=10):\n",
        "        super(ClassicLeNet5, self).__init__()\n",
        "\n",
        "        # Feature extraction layers\n",
        "        # C1: Convolutional layer - 6 feature maps, 5x5 kernels\n",
        "        # Add padding=2 to convert 28x28 input to 32x32, maintaining original design\n",
        "        self.conv1 = nn.Conv2d(1, 6, kernel_size=5, stride=1, padding=2)\n",
        "\n",
        "        # S2: Subsampling layer (average pooling) - 2x2 with stride 2\n",
        "        self.pool1 = nn.AvgPool2d(kernel_size=2, stride=2)\n",
        "\n",
        "        # C3: Convolutional layer - 16 feature maps, 5x5 kernels\n",
        "        self.conv2 = nn.Conv2d(6, 16, kernel_size=5, stride=1)\n",
        "\n",
        "        # S4: Subsampling layer (average pooling) - 2x2 with stride 2\n",
        "        self.pool2 = nn.AvgPool2d(kernel_size=2, stride=2)\n",
        "\n",
        "        # C5: Convolutional layer - 120 feature maps, 5x5 kernels (original design)\n",
        "        # This reduces the 5x5 feature maps to 1x1\n",
        "        self.conv3 = nn.Conv2d(16, 120, kernel_size=5, stride=1)\n",
        "\n",
        "        # Classification layers\n",
        "        # F6: Fully connected layer with 84 units\n",
        "        self.fc1 = nn.Linear(120, 84)\n",
        "\n",
        "        # Output layer: 10 classes for digits 0-9\n",
        "        self.fc2 = nn.Linear(84, num_classes)\n",
        "\n",
        "    def forward(self, x):\n",
        "        \"\"\"\n",
        "        Forward pass through the network.\n",
        "\n",
        "        Args:\n",
        "            x: Input tensor of shape (batch_size, 1, 28, 28)\n",
        "\n",
        "        Returns:\n",
        "            Output logits of shape (batch_size, num_classes)\n",
        "        \"\"\"\n",
        "        # C1: Convolution + activation (padding converts 28x28 to 32x32, then conv to 28x28)\n",
        "        # Input: (batch, 1, 28, 28) -> Pad to (32, 32) -> Conv to (batch, 6, 28, 28)\n",
        "        x = torch.tanh(self.conv1(x))\n",
        "\n",
        "        # S2: Average pooling\n",
        "        # Input: (batch, 6, 28, 28) -> Output: (batch, 6, 14, 14)\n",
        "        x = self.pool1(x)\n",
        "\n",
        "        # C3: Convolution + activation\n",
        "        # Input: (batch, 6, 14, 14) -> Output: (batch, 16, 10, 10)\n",
        "        x = torch.tanh(self.conv2(x))\n",
        "\n",
        "        # S4: Average pooling\n",
        "        # Input: (batch, 16, 10, 10) -> Output: (batch, 16, 5, 5)\n",
        "        x = self.pool2(x)\n",
        "\n",
        "        # C5: Convolution + activation (original 5x5 kernel design)\n",
        "        # Input: (batch, 16, 5, 5) -> Output: (batch, 120, 1, 1)\n",
        "        x = torch.tanh(self.conv3(x))\n",
        "\n",
        "        # Flatten for fully connected layers\n",
        "        # Input: (batch, 120, 1, 1) -> Output: (batch, 120)\n",
        "        x = x.view(x.size(0), -1)\n",
        "\n",
        "        # F6: Fully connected + activation\n",
        "        # Input: (batch, 120) -> Output: (batch, 84)\n",
        "        x = torch.tanh(self.fc1(x))\n",
        "\n",
        "        # Output layer (no activation - raw logits)\n",
        "        # Input: (batch, 84) -> Output: (batch, 10)\n",
        "        x = self.fc2(x)\n",
        "\n",
        "        return x"
      ],
      "metadata": {
        "id": "i9bB2RaOyc3G"
      },
      "execution_count": 41,
      "outputs": []
    },
    {
      "cell_type": "markdown",
      "source": [
        "Below is an alternative and more modern implementation. Here the activation functions have been switched from tanh to ReLU and Max Pooling is used instead of Average Pooling. Feel free to choose either!\n",
        "\n",
        "Unlike the CLIP model, that has been pretrained, these networks are trained from scratch. We will use train portion of the MNIST dataset to do this."
      ],
      "metadata": {
        "id": "u31fRXOc1XA6"
      }
    },
    {
      "cell_type": "code",
      "source": [
        "# Alternative modern version with ReLU and MaxPooling\n",
        "class ModernLeNet5(nn.Module):\n",
        "    \"\"\"\n",
        "    Modernized version of LeNet-5 with ReLU activations and max pooling.\n",
        "    Often performs better on MNIST than the original version.\n",
        "    \"\"\"\n",
        "\n",
        "    def __init__(self, num_classes=10):\n",
        "        super(ModernLeNet5, self).__init__()\n",
        "\n",
        "        self.conv1 = nn.Conv2d(1, 6, kernel_size=5)\n",
        "        self.conv2 = nn.Conv2d(6, 16, kernel_size=5)\n",
        "        self.conv3 = nn.Conv2d(16, 120, kernel_size=4)\n",
        "\n",
        "        self.pool = nn.MaxPool2d(kernel_size=2, stride=2)\n",
        "\n",
        "        self.fc1 = nn.Linear(120, 84)\n",
        "        self.fc2 = nn.Linear(84, num_classes)\n",
        "\n",
        "        self.dropout = nn.Dropout(0.5)\n",
        "\n",
        "    def forward(self, x):\n",
        "        x = self.pool(Fun.relu(self.conv1(x)))\n",
        "        x = self.pool(Fun.relu(self.conv2(x)))\n",
        "        x = Fun.relu(self.conv3(x))\n",
        "\n",
        "        x = x.view(x.size(0), -1)\n",
        "        x = Fun.relu(self.fc1(x))\n",
        "        x = self.dropout(x)  # Add dropout for regularization\n",
        "        x = self.fc2(x)\n",
        "\n",
        "        return x\n"
      ],
      "metadata": {
        "id": "_OXvBhUE1Nqz"
      },
      "execution_count": 42,
      "outputs": []
    },
    {
      "cell_type": "markdown",
      "source": [
        "## Obtain the Training Dataset from FiftyOne's Zoo"
      ],
      "metadata": {
        "id": "2ga26CjkcMAH"
      }
    },
    {
      "cell_type": "code",
      "source": [
        "# We use the training split to train our LeNet model\n",
        "# We make this dataset persistent as we want to save our changes for multiple sessions\n",
        "train_val_dataset = foz.load_zoo_dataset(\"mnist\",\n",
        "                                         split='train',\n",
        "                                         dataset_name=\"mnist-train-val\",\n",
        "                                         persistent=True)\n",
        "\n",
        "train_val_dataset.compute_metadata()"
      ],
      "metadata": {
        "id": "NezpK2qr18h3",
        "colab": {
          "base_uri": "https://localhost:8080/"
        },
        "outputId": "662959dd-d65f-46f6-ceba-321dac0da32c"
      },
      "execution_count": 43,
      "outputs": [
        {
          "output_type": "stream",
          "name": "stdout",
          "text": [
            "Downloading split 'train' to '/root/fiftyone/mnist/train'\n"
          ]
        },
        {
          "output_type": "stream",
          "name": "stderr",
          "text": [
            "INFO:fiftyone.zoo.datasets:Downloading split 'train' to '/root/fiftyone/mnist/train'\n",
            "100%|██████████| 9.91M/9.91M [00:01<00:00, 6.08MB/s]\n",
            "100%|██████████| 28.9k/28.9k [00:00<00:00, 160kB/s]\n",
            "100%|██████████| 1.65M/1.65M [00:01<00:00, 1.52MB/s]\n",
            "100%|██████████| 4.54k/4.54k [00:00<00:00, 7.39MB/s]"
          ]
        },
        {
          "output_type": "stream",
          "name": "stdout",
          "text": [
            "   0% |/------------|   296/60000 [100.7ms elapsed, 20.3s remaining, 2.9K samples/s] "
          ]
        },
        {
          "output_type": "stream",
          "name": "stderr",
          "text": [
            "\n"
          ]
        },
        {
          "output_type": "stream",
          "name": "stdout",
          "text": [
            " 100% |█████████████| 60000/60000 [19.8s elapsed, 0s remaining, 3.0K samples/s]      \n"
          ]
        },
        {
          "output_type": "stream",
          "name": "stderr",
          "text": [
            "INFO:eta.core.utils: 100% |█████████████| 60000/60000 [19.8s elapsed, 0s remaining, 3.0K samples/s]      \n"
          ]
        },
        {
          "output_type": "stream",
          "name": "stdout",
          "text": [
            "Dataset info written to '/root/fiftyone/mnist/info.json'\n"
          ]
        },
        {
          "output_type": "stream",
          "name": "stderr",
          "text": [
            "INFO:fiftyone.zoo.datasets:Dataset info written to '/root/fiftyone/mnist/info.json'\n"
          ]
        },
        {
          "output_type": "stream",
          "name": "stdout",
          "text": [
            "Loading 'mnist' split 'train'\n"
          ]
        },
        {
          "output_type": "stream",
          "name": "stderr",
          "text": [
            "INFO:fiftyone.zoo.datasets:Loading 'mnist' split 'train'\n"
          ]
        },
        {
          "output_type": "stream",
          "name": "stdout",
          "text": [
            " 100% |█████████████| 60000/60000 [30.7s elapsed, 0s remaining, 2.2K samples/s]      \n"
          ]
        },
        {
          "output_type": "stream",
          "name": "stderr",
          "text": [
            "INFO:eta.core.utils: 100% |█████████████| 60000/60000 [30.7s elapsed, 0s remaining, 2.2K samples/s]      \n"
          ]
        },
        {
          "output_type": "stream",
          "name": "stdout",
          "text": [
            "Dataset 'mnist-train-val' created\n"
          ]
        },
        {
          "output_type": "stream",
          "name": "stderr",
          "text": [
            "INFO:fiftyone.zoo.datasets:Dataset 'mnist-train-val' created\n"
          ]
        },
        {
          "output_type": "stream",
          "name": "stdout",
          "text": [
            "Computing metadata...\n"
          ]
        },
        {
          "output_type": "stream",
          "name": "stderr",
          "text": [
            "INFO:fiftyone.core.metadata:Computing metadata...\n"
          ]
        },
        {
          "output_type": "stream",
          "name": "stdout",
          "text": [
            " 100% |█████████████| 60000/60000 [21.0s elapsed, 0s remaining, 3.0K samples/s]      \n"
          ]
        },
        {
          "output_type": "stream",
          "name": "stderr",
          "text": [
            "INFO:eta.core.utils: 100% |█████████████| 60000/60000 [21.0s elapsed, 0s remaining, 3.0K samples/s]      \n"
          ]
        }
      ]
    },
    {
      "cell_type": "markdown",
      "source": [
        "## Splitting into Train and Validation\n",
        "\n",
        "The **validation set** serves as an unbiased evaluation mechanism during model development, acting as a proxy for real-world performance before touching the final test set. While the training set teaches the model to recognize patterns in handwritten digits, the validation set reveals whether the model has truly learned generalizable features or simply memorized the training data, a phenomenon known as overfitting.\n",
        "\n",
        "During training, we monitor both training and validation **loss** simultaneously. **Loss** is a numerical measure of how far off the model's predictions are from the correct answers - lower loss means better performance. We use categorical cross-entropy loss, which penalizes confident wrong predictions more heavily than uncertain ones. **Training loss** typically decreases steadily as the model learns, but **validation loss** tells the real story. If validation loss plateaus or begins increasing while training loss continues decreasing, the model is overfitting and memorizing training-specific details rather than learning robust digit recognition patterns. This signals when to stop training, adjust hyperparameters, or modify the architecture.\n",
        "\n",
        "The validation set also enables **hyperparameter tuning** without contaminating our final evaluation. We can experiment with different learning rates, batch sizes, regularization techniques, or architectural modifications, using validation loss to guide these decisions. Each configuration gets evaluated on the same held-out validation data, ensuring fair comparisons.\n",
        "\n",
        "**Important: the test set remains completely untouched** throughout the development process. Only after we've selected our final model configuration based on validation performance do we evaluate on the test set once, giving us an honest estimate of how the model will perform on truly unseen data. This three-way split (train/validation/test) is fundamental to responsible machine learning development and prevents the subtle \"data leakage\" that can make models appear better than they actually are."
      ],
      "metadata": {
        "id": "328v5V3E7nmk"
      }
    },
    {
      "cell_type": "code",
      "source": [
        "# The images come with the 'train' tag and this must be deleted\n",
        "# at the sample level.\n",
        "train_val_dataset.untag_samples([\"train\", \"validation\"])"
      ],
      "metadata": {
        "id": "7M9_3Gri26Wo"
      },
      "execution_count": 44,
      "outputs": []
    },
    {
      "cell_type": "code",
      "source": [
        "set_seeds(51)\n",
        "# Create random 85%/15% split using tags\n",
        "four.random_split(train_val_dataset,\n",
        "                  {\"train\": 0.85, \"validation\": 0.15},\n",
        "                  # The seed makes the split reproducible\n",
        "                  seed=51)\n",
        "\n",
        "# Verify the split by counting tags\n",
        "tag_counts = train_val_dataset.count_sample_tags()\n",
        "print(\"Tag counts after split:\")\n",
        "print(tag_counts)\n",
        "\n",
        "# Separate validation and train FO datasets\n",
        "train_dataset = train_val_dataset.match_tags(\"train\").clone()\n",
        "val_dataset = train_val_dataset.match_tags(\"validation\").clone()\n",
        "\n",
        "# Set names for FO datasets using the 'name' property\n",
        "train_dataset.name = \"mnist-training-set\"\n",
        "val_dataset.name = \"mnist-validation-set\"\n",
        "\n",
        "# Define persistency\n",
        "train_dataset.persistent = True\n",
        "val_dataset.persistent = True\n",
        "\n",
        "# Verify no overlap between train and validation\n",
        "train_ids = set(train_dataset.values(\"id\"))\n",
        "val_ids = set(val_dataset.values(\"id\"))\n",
        "overlap = train_ids.intersection(val_ids)"
      ],
      "metadata": {
        "id": "YfPp1Huh2258",
        "colab": {
          "base_uri": "https://localhost:8080/"
        },
        "outputId": "dbb3699a-e67c-4d31-ebfd-33a07d0d4877"
      },
      "execution_count": 45,
      "outputs": [
        {
          "output_type": "stream",
          "name": "stdout",
          "text": [
            "All random seeds set to 51 for reproducibility\n",
            "Tag counts after split:\n",
            "{'validation': 9000, 'train': 51000}\n"
          ]
        }
      ]
    },
    {
      "cell_type": "markdown",
      "source": [
        "## Moving the FiftyOne Data Splits to torch Datasets\n",
        "\n",
        "To train our PyTorch model, we need to convert our FiftyOne dataset views into PyTorch `Dataset` objects that can load and preprocess images during training. This bridge between FiftyOne's dataset management and PyTorch's training pipeline is important for maintaining both the metadata and annotations while enabling batch processing. PyTorch's `Dataset` class provides a standardized interface for data loading, handling tasks like image loading, preprocessing transforms, and label conversion. By creating a custom dataset class that works with FiftyOne's file paths and labels, we can leverage PyTorch's `DataLoader` for batching, shuffling, and parallel data loading while preserving all the dataset analysis capabilities that FiftyOne provides. This approach allows us to move between FiftyOne's visual analysis and PyTorch's training workflows without duplicating data or losing the rich metadata we've computed."
      ],
      "metadata": {
        "id": "RvCWt129XuCb"
      }
    },
    {
      "cell_type": "code",
      "source": [
        "# Custom PyTorch Dataset class for MNIST training data\n",
        "class CustomTorchImageDataset(torch.utils.data.Dataset):\n",
        "    def __init__(self, fiftyone_dataset,\n",
        "                 image_transforms=None,\n",
        "                 label_map=None,\n",
        "                 gt_field=\"ground_truth\"):\n",
        "        self.fiftyone_dataset = fiftyone_dataset\n",
        "        self.image_paths = self.fiftyone_dataset.values(\"filepath\")\n",
        "        self.str_labels = self.fiftyone_dataset.values(f\"{gt_field}.label\")\n",
        "        self.image_transforms = image_transforms\n",
        "\n",
        "        if label_map is None:\n",
        "            self.label_map = {str(i): i for i in range(10)}  # \"0\"->0, \"1\"->1, etc.\n",
        "        else:\n",
        "            self.label_map = label_map\n",
        "\n",
        "        print(f\"CustomTorchImageDataset initialized with {len(self.image_paths)} samples.\")\n",
        "\n",
        "    def __len__(self):\n",
        "        return len(self.image_paths)\n",
        "\n",
        "    def __getitem__(self, idx):\n",
        "        image_path = self.image_paths[idx]\n",
        "        try:\n",
        "            image = Image.open(image_path).convert('L')\n",
        "        except Exception as e:\n",
        "            print(f\"Error loading image {image_path}: {e}\")\n",
        "            return torch.randn(1, 28, 28), torch.tensor(-1, dtype=torch.long)\n",
        "\n",
        "        if self.image_transforms:\n",
        "            image = self.image_transforms(image)\n",
        "\n",
        "        label_str = self.str_labels[idx]\n",
        "        label_idx = self.label_map.get(label_str, -1)\n",
        "        if label_idx == -1:\n",
        "            print(f\"Warning: Label '{label_str}' not in label_map for image {image_path}\")\n",
        "\n",
        "        return image, torch.tensor(label_idx, dtype=torch.long)"
      ],
      "metadata": {
        "id": "bZu4eGYSNq-0"
      },
      "execution_count": 46,
      "outputs": []
    },
    {
      "cell_type": "markdown",
      "source": [
        "## Computing the Mean and Standard Deviation\n",
        "\n",
        "Before training neural networks, we compute the **mean and standard deviation** of our input data to apply **standard scaling** (also called normalization or standardization).\n",
        "\n",
        "\n",
        "**Standard Scaling Formula:**\n",
        "\n",
        "$$z = \\frac{x - \\mu}{\\sigma}$$\n",
        "\n",
        "Where:\n",
        "- $z$ = standardized value\n",
        "- $x$ = original pixel value\n",
        "- $\\mu$ = mean of all pixel values in the dataset\n",
        "- $\\sigma$ = standard deviation of all pixel values in the dataset\n",
        "\n",
        "In PyTorch, this is implemented with torch.`transforms.Normalize((mean_intensity), (std_intensity))`\n",
        "\n",
        "This preprocessing step transforms our pixel values to have zero mean and unit variance, which provides several critical benefits:\n",
        "\n",
        "**Why Standard Scaling Matters:**\n",
        "\n",
        "**Gradient Optimization**: Neural networks learn through gradient descent, which works best when input features are on similar scales. Without scaling, features with larger magnitudes (like raw pixel values 0-255) can dominate the gradient updates, leading to slower convergence and unstable training.\n",
        "\n",
        "**Weight Initialization Compatibility**: Modern weight initialization schemes (Xavier, He initialization) assume inputs are roughly centered around zero with unit variance. Standard scaling ensures our data matches these assumptions, preventing vanishing or exploding gradients during early training.\n",
        "\n",
        "**Activation Function Efficiency**: Many activation functions (tanh, sigmoid) work optimally when inputs are centered around zero. Scaled inputs help neurons operate in the most responsive regions of these functions rather than saturating in flat regions.\n",
        "\n",
        "**Learning Rate Stability**: With standardized inputs, we can use higher learning rates without instability, as the optimization landscape becomes more uniform across different dimensions.\n",
        "\n",
        "For MNIST images, we transform raw pixel values from the range [0, 255] to approximately [-1, 1] with mean ≈ 0, creating a more favorable training environment that typically results in faster convergence and better final performance.\n"
      ],
      "metadata": {
        "id": "p_F8qU_vFuS-"
      }
    },
    {
      "cell_type": "code",
      "source": [
        "def compute_stats_fiftyone(fiftyone_view):\n",
        "    \"\"\"\n",
        "    Compute stats directly from FiftyOne using aggregations.\n",
        "    Requires images to be loaded as arrays.\n",
        "    \"\"\"\n",
        "\n",
        "    print(\"Computing image intensity statistics from FiftyOne view...\")\n",
        "\n",
        "    # Get all image filepaths\n",
        "    filepaths = fiftyone_view.values(\"filepath\")\n",
        "\n",
        "    # Load all pixel values\n",
        "    all_pixels = []\n",
        "\n",
        "    for filepath in tqdm(filepaths):\n",
        "\n",
        "        try:\n",
        "            # Load image as grayscale array\n",
        "            image = Image.open(filepath).convert('L')\n",
        "            # Scale values to the range [0, 1]\n",
        "            pixels = np.array(image, dtype=np.float32) / 255.0\n",
        "            all_pixels.append(pixels.flatten())\n",
        "        except Exception as e:\n",
        "            print(f\"Error loading {filepath}: {e}\")\n",
        "            continue\n",
        "\n",
        "    # Concatenate all pixel values\n",
        "    all_pixels = np.concatenate(all_pixels)\n",
        "\n",
        "    # Compute statistics\n",
        "    mean = np.mean(all_pixels)\n",
        "    std = np.std(all_pixels)\n",
        "\n",
        "    print(f\"Computed from {len(filepaths)} images\")\n",
        "    print(f\"Total pixels: {len(all_pixels):,}\")\n",
        "\n",
        "    return mean, std\n",
        "\n",
        "mean_intensity, std_intensity = compute_stats_fiftyone(train_dataset)\n",
        "f\"Mean: {mean_intensity:.4f}, Std: {std_intensity:.4f}\""
      ],
      "metadata": {
        "id": "BwV9Hgh-E-PX",
        "colab": {
          "base_uri": "https://localhost:8080/",
          "height": 105
        },
        "outputId": "4bcf26cc-0c89-401a-825d-67e117f66177"
      },
      "execution_count": 47,
      "outputs": [
        {
          "output_type": "stream",
          "name": "stdout",
          "text": [
            "Computing image intensity statistics from FiftyOne view...\n"
          ]
        },
        {
          "output_type": "stream",
          "name": "stderr",
          "text": [
            "100%|██████████| 51000/51000 [00:06<00:00, 7955.28it/s]\n"
          ]
        },
        {
          "output_type": "stream",
          "name": "stdout",
          "text": [
            "Computed from 51000 images\n",
            "Total pixels: 39,984,000\n"
          ]
        },
        {
          "output_type": "execute_result",
          "data": {
            "text/plain": [
              "'Mean: 0.1318, Std: 0.3075'"
            ],
            "application/vnd.google.colaboratory.intrinsic+json": {
              "type": "string"
            }
          },
          "metadata": {},
          "execution_count": 47
        }
      ]
    },
    {
      "cell_type": "code",
      "source": [
        "# Map the string labels to numerical values (we need this for the PyTorch dataset)\n",
        "label_map = {string_label: index for index, string_label in enumerate(dataset_classes)}\n",
        "label_map"
      ],
      "metadata": {
        "id": "eO92PNlTB_Gi",
        "colab": {
          "base_uri": "https://localhost:8080/"
        },
        "outputId": "e047c440-1567-4e01-d6bb-315486a45c80"
      },
      "execution_count": 48,
      "outputs": [
        {
          "output_type": "execute_result",
          "data": {
            "text/plain": [
              "{'0 - zero': 0,\n",
              " '1 - one': 1,\n",
              " '2 - two': 2,\n",
              " '3 - three': 3,\n",
              " '4 - four': 4,\n",
              " '5 - five': 5,\n",
              " '6 - six': 6,\n",
              " '7 - seven': 7,\n",
              " '8 - eight': 8,\n",
              " '9 - nine': 9}"
            ]
          },
          "metadata": {},
          "execution_count": 48
        }
      ]
    },
    {
      "cell_type": "markdown",
      "source": [
        "Transform the PIL images into PyTorch tensors with scaling based on stats from the training set."
      ],
      "metadata": {
        "id": "5u_VZ-eoIpa6"
      }
    },
    {
      "cell_type": "code",
      "source": [
        "image_transforms = transforms.Compose([\n",
        "    transforms.ToImage(),\n",
        "    transforms.ToDtype(torch.float32, scale=True),\n",
        "    transforms.Normalize((mean_intensity,), (std_intensity,))\n",
        "])"
      ],
      "metadata": {
        "id": "6Xr_lCpPDvBV"
      },
      "execution_count": 49,
      "outputs": []
    },
    {
      "cell_type": "code",
      "source": [
        "torch_train_set = CustomTorchImageDataset(train_dataset,\n",
        "                                          label_map=label_map,\n",
        "                                          image_transforms=image_transforms)"
      ],
      "metadata": {
        "id": "bZpMBS8MBbdN",
        "colab": {
          "base_uri": "https://localhost:8080/"
        },
        "outputId": "6b766dd7-570a-4256-d2a1-4feafc974c3b"
      },
      "execution_count": 50,
      "outputs": [
        {
          "output_type": "stream",
          "name": "stdout",
          "text": [
            "CustomTorchImageDataset initialized with 51000 samples.\n"
          ]
        }
      ]
    },
    {
      "cell_type": "code",
      "source": [
        "torch_val_set = CustomTorchImageDataset(val_dataset,\n",
        "                                     label_map=label_map,\n",
        "                                     image_transforms=image_transforms)"
      ],
      "metadata": {
        "id": "98QofkjSBqiE",
        "colab": {
          "base_uri": "https://localhost:8080/"
        },
        "outputId": "1d56ddbe-6e69-4082-b650-0179a93cd52d"
      },
      "execution_count": 51,
      "outputs": [
        {
          "output_type": "stream",
          "name": "stdout",
          "text": [
            "CustomTorchImageDataset initialized with 9000 samples.\n"
          ]
        }
      ]
    },
    {
      "cell_type": "markdown",
      "source": [
        "### Create PyTorch DataLoaders\n",
        "\n",
        "DataLoaders wrap our custom datasets and handle the mechanics of training: batching samples together, shuffling data between epochs, and loading images in parallel using multiple CPU cores. The batch size determines how many images the model processes at once, affecting both memory usage and training dynamics. We shuffle the training data to prevent the model from learning spurious patterns based on sample order, but keep validation data unshuffled since evaluation order doesn't matter. Parallel loading with multiple workers speeds up training by preparing the next batch while the GPU processes the current one.\n",
        "\n"
      ],
      "metadata": {
        "id": "t4OX2J221s6u"
      }
    },
    {
      "cell_type": "code",
      "metadata": {
        "id": "bb36104f"
      },
      "source": [
        "# Define batch size (you can adjust this based on your GPU memory)\n",
        "batch_size = 64\n",
        "num_workers = os.cpu_count()  # Number of CPU cores\n",
        "\n"
      ],
      "execution_count": 52,
      "outputs": []
    },
    {
      "cell_type": "code",
      "source": [
        "train_loader = create_deterministic_training_dataloader(\n",
        "    torch_train_set,\n",
        "    batch_size=64,\n",
        "    shuffle=True,\n",
        "    num_workers=num_workers,\n",
        "    pin_memory=True\n",
        ")"
      ],
      "metadata": {
        "id": "8uiiduZxDxIZ"
      },
      "execution_count": 53,
      "outputs": []
    },
    {
      "cell_type": "code",
      "source": [
        "val_loader = torch.utils.data.DataLoader(\n",
        "    torch_val_set,\n",
        "    batch_size=batch_size,\n",
        "    shuffle=False, # No need to shuffle validation data\n",
        "    num_workers=num_workers,\n",
        "    pin_memory=True\n",
        ")\n",
        "\n",
        "print(\"Train and validation DataLoaders created successfully.\")\n",
        "print(f\"Train DataLoader has {len(train_loader)} batches.\")\n",
        "print(f\"Validation DataLoader has {len(val_loader)} batches.\")"
      ],
      "metadata": {
        "colab": {
          "base_uri": "https://localhost:8080/"
        },
        "id": "wD9r7mMUDt7B",
        "outputId": "cfc6cfb9-691a-4226-8fc1-86c17f41e61f"
      },
      "execution_count": 54,
      "outputs": [
        {
          "output_type": "stream",
          "name": "stdout",
          "text": [
            "Train and validation DataLoaders created successfully.\n",
            "Train DataLoader has 797 batches.\n",
            "Validation DataLoader has 141 batches.\n"
          ]
        }
      ]
    },
    {
      "cell_type": "markdown",
      "source": [
        "## Instantiate the Loss Function (Categorical Cross Entropy)\n",
        "\n",
        "**Categorical Cross Entropy** is the standard loss function for multi-class classification problems like MNIST digit recognition. It measures how far our model's predicted probability distribution is from the true distribution (one-hot encoded labels).\n",
        "\n",
        "**Mathematical Formula:**\n",
        "$$\\text{CCE} = -\\sum_{i=1}^{C} y_i \\log(\\hat{y}_i)$$\n",
        "\n",
        "Where:\n",
        "- $C$ = number of classes (10 for MNIST digits 0-9)\n",
        "- $y_i$ = true label (1 for correct class, 0 for others)\n",
        "- $\\hat{y}_i$ = predicted probability for class $i$\n",
        "\n",
        "**Intuitions about Cross Entropy Loss**: The loss encourages the model to output high confidence (probability close to 1.0) for the correct class and low confidence for incorrect classes.\n",
        "\n",
        "For a perfectly correct prediction (probability = 1.0 for true class), the loss approaches 0 and gradients are small (meaning that there is little change on weights). For very wrong predictions (probability = 0.001 for the ground truth class), the loss approaches infinity, strongly penalizing confident mistakes and forcing the neural network to update its weights.\n",
        "\n",
        "PyTorch implements a numerically stable variant of CCE based on the LogSoftMax function. You can read more about it [here](https://docs.pytorch.org/docs/stable/generated/torch.nn.CrossEntropyLoss.html)."
      ],
      "metadata": {
        "id": "nkUDiGQT-U4m"
      }
    },
    {
      "cell_type": "code",
      "source": [
        "ce_loss = nn.CrossEntropyLoss()"
      ],
      "metadata": {
        "id": "00k7b9P--XdQ"
      },
      "execution_count": 55,
      "outputs": []
    },
    {
      "cell_type": "markdown",
      "source": [
        "## Prepare Training and Validation for our Custom Model\n",
        "\n",
        "We define two functions to handle the training and validation phases of each epoch. The `train_epoch()` function puts the model in training mode, processes batches through forward passes, computes loss, and updates weights via backpropagation."
      ],
      "metadata": {
        "id": "bK27g21hC68B"
      }
    },
    {
      "cell_type": "code",
      "source": [
        "def train_epoch(model, train_loader):\n",
        "  batch_losses = []\n",
        "  model.train()\n",
        "  for images, labels in tqdm(train_loader, desc=\"Training: \"):\n",
        "      #import pdb; pdb.set_trace()\n",
        "\n",
        "      images = images.to(device)\n",
        "      labels = labels.to(device)\n",
        "      # Forward pass\n",
        "      logits = model(images)\n",
        "      loss_value = ce_loss(logits, labels)\n",
        "      # Clear gradients from previous iteration (PyTorch accumulates by default)\n",
        "      optimizer.zero_grad()\n",
        "      # Computes the gradients with backpropagation\n",
        "      loss_value.backward()\n",
        "      # Updates the weights\n",
        "      optimizer.step()\n",
        "\n",
        "      batch_losses.append(loss_value.item())\n",
        "\n",
        "  train_loss = np.mean(batch_losses)\n",
        "  return train_loss\n"
      ],
      "metadata": {
        "id": "zvXszqWQ4dAn"
      },
      "execution_count": 56,
      "outputs": []
    },
    {
      "cell_type": "markdown",
      "source": [
        "The `val_epoch()` function switches the model to evaluation mode and computes validation loss without updating weights, giving us an unbiased measure of performance on held-out data. These functions return the average loss across all batches, which we'll track to monitor training progress and detect overfitting."
      ],
      "metadata": {
        "id": "zFGZQrERUTEA"
      }
    },
    {
      "cell_type": "code",
      "source": [
        "def val_epoch(model, val_loader):\n",
        "  batch_losses = []\n",
        "  model.eval()\n",
        "  with torch.inference_mode():\n",
        "    for images, labels in tqdm(val_loader, desc=\"Validation: \"):\n",
        "      images = images.to(device)\n",
        "      labels = labels.to(device)\n",
        "      # Forward pass\n",
        "      logits = model(images)\n",
        "      loss_value = ce_loss(logits, labels)\n",
        "      batch_losses.append(loss_value.item())\n",
        "  val_loss = np.mean(batch_losses)\n",
        "  return val_loss"
      ],
      "metadata": {
        "id": "mAf9bjcX51pf"
      },
      "execution_count": 57,
      "outputs": []
    },
    {
      "cell_type": "markdown",
      "source": [
        "## Defining the Optimizer\n",
        "\n",
        "**Configuring the Learning Algorithm**\n",
        "\n",
        "The optimizer determines how the neural network updates its weights based on computed gradients during training. This choice affects training speed, stability, and final model performance.\n",
        "\n",
        "**Adam (Adaptive Moment Estimation)** is a variant of gradient descent that maintains running averages of both gradients and their squared values, allowing us to adapt the learning rate based on the historical behavior of each weight.\n",
        "\n",
        "```python\n",
        "optimizer = Adam(model.parameters(),\n",
        "                 lr=0.003, betas=(0.9, 0.999),\n",
        "                 eps=1e-08, weight_decay=0)\n",
        "```\n",
        "\n",
        "The learning rate (lr=0.003) controls the step size for weight updates, while the beta settings control how much history to consider when computing the adaptive rates. This configuration provides stable training for most computer vision tasks.\n"
      ],
      "metadata": {
        "id": "GK52LQDkDRfW"
      }
    },
    {
      "cell_type": "code",
      "source": [
        "model = ModernLeNet5().to(device)\n",
        "\n",
        "# Define the optimizer (variant of stochastic gradient descent)\n",
        "optimizer = Adam(model.parameters(),\n",
        "                 lr=0.003, betas=(0.9, 0.999),\n",
        "                 eps=1e-08, weight_decay=0)\n"
      ],
      "metadata": {
        "id": "y-SPncALBtCi"
      },
      "execution_count": 58,
      "outputs": []
    },
    {
      "cell_type": "markdown",
      "source": [
        "## Training and Checkpointing the Model\n",
        "\n",
        "**Iterative Learning with Performance Monitoring**\n",
        "\n",
        "Training a neural network involves showing the model batches of data, computing prediction errors, and updating weights to minimize those errors. This process continues for multiple epochs, where each epoch represents one complete pass through the entire training dataset.\n",
        "\n",
        "**The Role of Validation-Based Checkpointing**\n",
        "\n",
        "During training, we monitor performance on both training and validation sets. Training loss decreases as the model learns, but validation loss reveals the true generalization capability. The validation set acts as a proxy for real-world performance since the model never sees these samples during weight updates.\n",
        "\n",
        "We save model checkpoints based on validation performance rather than training performance to prevent overfitting. A model might achieve low training loss by memorizing training examples, but this doesn't guarantee good performance on new data. By saving the model weights that achieve the best validation loss, we capture the point where the model has learned generalizable patterns without overfitting to training-specific details.\n",
        "\n",
        "```python\n",
        "if val_loss < best_val_loss:\n",
        "    best_val_loss = val_loss\n",
        "    best_model = model\n",
        "    torch.save(best_model.state_dict(), model_save_path)\n",
        "    print('Found and saved better weights for the model')\n",
        "```\n",
        "\n",
        "This checkpointing strategy ensures we retain the model configuration that will perform best on unseen test data, even if training continues and validation performance later degrades due to overfitting."
      ],
      "metadata": {
        "id": "pqo9S2i7RjDl"
      }
    },
    {
      "cell_type": "code",
      "source": [
        "# Ensure reproducibility for the training process\n",
        "set_seeds(51) # You can change this number to get different results\n",
        "\n",
        "num_epochs = 15\n",
        "train_losses = []\n",
        "val_losses = []\n",
        "\n",
        "best_val_loss = float('inf')\n",
        "best_model = None\n",
        "\n",
        "# Define the path to save the model within your hard-drive\n",
        "path = Path(os.getcwd()) # Feel free to change the path\n",
        "\n",
        "model_save_path = path / 'best_lenet.pth'\n",
        "\n",
        "for epoch in range(num_epochs):\n",
        "    train_loss = train_epoch(model, train_loader)\n",
        "    val_loss = val_epoch(model, val_loader)\n",
        "    train_losses.append(train_loss)\n",
        "    val_losses.append(val_loss)\n",
        "\n",
        "\n",
        "    print(f\"Epoch {epoch+1}/{num_epochs} - Train Loss: {train_loss:.4f} - Val Loss: {val_loss:.4f}\")\n",
        "\n",
        "    if val_loss < best_val_loss:\n",
        "        best_val_loss = val_loss\n",
        "        best_model = model\n",
        "        # Save the best model\n",
        "        torch.save(best_model.state_dict(), model_save_path)\n",
        "        print('Found and saved better weights for the model')"
      ],
      "metadata": {
        "id": "aT-TdBp8KGuI",
        "colab": {
          "base_uri": "https://localhost:8080/"
        },
        "outputId": "068ae7a5-31f6-4303-d122-126232ca0ecd"
      },
      "execution_count": 59,
      "outputs": [
        {
          "output_type": "stream",
          "name": "stdout",
          "text": [
            "All random seeds set to 51 for reproducibility\n"
          ]
        },
        {
          "output_type": "stream",
          "name": "stderr",
          "text": [
            "Training: 100%|██████████| 797/797 [00:07<00:00, 113.82it/s]\n",
            "Validation: 100%|██████████| 141/141 [00:01<00:00, 122.47it/s]\n"
          ]
        },
        {
          "output_type": "stream",
          "name": "stdout",
          "text": [
            "Epoch 1/15 - Train Loss: 0.2175 - Val Loss: 0.0731\n",
            "Found and saved better weights for the model\n"
          ]
        },
        {
          "output_type": "stream",
          "name": "stderr",
          "text": [
            "Training: 100%|██████████| 797/797 [00:06<00:00, 130.27it/s]\n",
            "Validation: 100%|██████████| 141/141 [00:01<00:00, 109.24it/s]\n"
          ]
        },
        {
          "output_type": "stream",
          "name": "stdout",
          "text": [
            "Epoch 2/15 - Train Loss: 0.0790 - Val Loss: 0.0640\n",
            "Found and saved better weights for the model\n"
          ]
        },
        {
          "output_type": "stream",
          "name": "stderr",
          "text": [
            "Training: 100%|██████████| 797/797 [00:06<00:00, 125.01it/s]\n",
            "Validation: 100%|██████████| 141/141 [00:01<00:00, 116.28it/s]\n"
          ]
        },
        {
          "output_type": "stream",
          "name": "stdout",
          "text": [
            "Epoch 3/15 - Train Loss: 0.0626 - Val Loss: 0.0489\n",
            "Found and saved better weights for the model\n"
          ]
        },
        {
          "output_type": "stream",
          "name": "stderr",
          "text": [
            "Training: 100%|██████████| 797/797 [00:06<00:00, 129.36it/s]\n",
            "Validation: 100%|██████████| 141/141 [00:01<00:00, 112.83it/s]\n"
          ]
        },
        {
          "output_type": "stream",
          "name": "stdout",
          "text": [
            "Epoch 4/15 - Train Loss: 0.0533 - Val Loss: 0.0594\n"
          ]
        },
        {
          "output_type": "stream",
          "name": "stderr",
          "text": [
            "Training: 100%|██████████| 797/797 [00:06<00:00, 127.15it/s]\n",
            "Validation: 100%|██████████| 141/141 [00:01<00:00, 122.81it/s]\n"
          ]
        },
        {
          "output_type": "stream",
          "name": "stdout",
          "text": [
            "Epoch 5/15 - Train Loss: 0.0490 - Val Loss: 0.0462\n",
            "Found and saved better weights for the model\n"
          ]
        },
        {
          "output_type": "stream",
          "name": "stderr",
          "text": [
            "Training: 100%|██████████| 797/797 [00:06<00:00, 124.31it/s]\n",
            "Validation: 100%|██████████| 141/141 [00:01<00:00, 108.68it/s]\n"
          ]
        },
        {
          "output_type": "stream",
          "name": "stdout",
          "text": [
            "Epoch 6/15 - Train Loss: 0.0426 - Val Loss: 0.0522\n"
          ]
        },
        {
          "output_type": "stream",
          "name": "stderr",
          "text": [
            "Training: 100%|██████████| 797/797 [00:06<00:00, 129.39it/s]\n",
            "Validation: 100%|██████████| 141/141 [00:01<00:00, 123.45it/s]\n"
          ]
        },
        {
          "output_type": "stream",
          "name": "stdout",
          "text": [
            "Epoch 7/15 - Train Loss: 0.0422 - Val Loss: 0.0522\n"
          ]
        },
        {
          "output_type": "stream",
          "name": "stderr",
          "text": [
            "Training: 100%|██████████| 797/797 [00:06<00:00, 123.26it/s]\n",
            "Validation: 100%|██████████| 141/141 [00:01<00:00, 125.58it/s]\n"
          ]
        },
        {
          "output_type": "stream",
          "name": "stdout",
          "text": [
            "Epoch 8/15 - Train Loss: 0.0339 - Val Loss: 0.0590\n"
          ]
        },
        {
          "output_type": "stream",
          "name": "stderr",
          "text": [
            "Training: 100%|██████████| 797/797 [00:06<00:00, 129.58it/s]\n",
            "Validation: 100%|██████████| 141/141 [00:01<00:00, 123.15it/s]\n"
          ]
        },
        {
          "output_type": "stream",
          "name": "stdout",
          "text": [
            "Epoch 9/15 - Train Loss: 0.0368 - Val Loss: 0.0512\n"
          ]
        },
        {
          "output_type": "stream",
          "name": "stderr",
          "text": [
            "Training: 100%|██████████| 797/797 [00:06<00:00, 124.38it/s]\n",
            "Validation: 100%|██████████| 141/141 [00:01<00:00, 120.70it/s]\n"
          ]
        },
        {
          "output_type": "stream",
          "name": "stdout",
          "text": [
            "Epoch 10/15 - Train Loss: 0.0356 - Val Loss: 0.0557\n"
          ]
        },
        {
          "output_type": "stream",
          "name": "stderr",
          "text": [
            "Training: 100%|██████████| 797/797 [00:06<00:00, 129.38it/s]\n",
            "Validation: 100%|██████████| 141/141 [00:01<00:00, 123.08it/s]\n"
          ]
        },
        {
          "output_type": "stream",
          "name": "stdout",
          "text": [
            "Epoch 11/15 - Train Loss: 0.0320 - Val Loss: 0.0879\n"
          ]
        },
        {
          "output_type": "stream",
          "name": "stderr",
          "text": [
            "Training: 100%|██████████| 797/797 [00:06<00:00, 120.62it/s]\n",
            "Validation: 100%|██████████| 141/141 [00:01<00:00, 123.03it/s]\n"
          ]
        },
        {
          "output_type": "stream",
          "name": "stdout",
          "text": [
            "Epoch 12/15 - Train Loss: 0.0314 - Val Loss: 0.0731\n"
          ]
        },
        {
          "output_type": "stream",
          "name": "stderr",
          "text": [
            "Training: 100%|██████████| 797/797 [00:06<00:00, 129.80it/s]\n",
            "Validation: 100%|██████████| 141/141 [00:01<00:00, 113.38it/s]\n"
          ]
        },
        {
          "output_type": "stream",
          "name": "stdout",
          "text": [
            "Epoch 13/15 - Train Loss: 0.0262 - Val Loss: 0.0880\n"
          ]
        },
        {
          "output_type": "stream",
          "name": "stderr",
          "text": [
            "Training: 100%|██████████| 797/797 [00:06<00:00, 122.92it/s]\n",
            "Validation: 100%|██████████| 141/141 [00:01<00:00, 118.30it/s]\n"
          ]
        },
        {
          "output_type": "stream",
          "name": "stdout",
          "text": [
            "Epoch 14/15 - Train Loss: 0.0295 - Val Loss: 0.0734\n"
          ]
        },
        {
          "output_type": "stream",
          "name": "stderr",
          "text": [
            "Training: 100%|██████████| 797/797 [00:06<00:00, 125.83it/s]\n",
            "Validation: 100%|██████████| 141/141 [00:01<00:00, 111.12it/s]"
          ]
        },
        {
          "output_type": "stream",
          "name": "stdout",
          "text": [
            "Epoch 15/15 - Train Loss: 0.0306 - Val Loss: 0.0584\n"
          ]
        },
        {
          "output_type": "stream",
          "name": "stderr",
          "text": [
            "\n"
          ]
        }
      ]
    },
    {
      "cell_type": "markdown",
      "source": [
        "## Visualizing Training vs Validation Losses\n",
        "\n",
        "Plotting training and validation loss over epochs provides insights into model learning dynamics. These curves reveal whether the model is learning, overfitting, or underfitting the data.\n",
        "In healthy training, both curves decrease together, with training loss lower than validation loss. When training loss continues decreasing while validation loss plateaus or increases, this indicates overfitting where the model memorizes training data rather than learning generalizable patterns. If both curves plateau at high values, the model may be underfitting and require more capacity (e.g.more layers or more weights) or more training epochs."
      ],
      "metadata": {
        "id": "HGC7oxwM9AGV"
      }
    },
    {
      "cell_type": "code",
      "source": [
        "plt.figure(figsize=(10, 5))\n",
        "plt.plot(train_losses, label='Training Loss')\n",
        "plt.plot(val_losses, label='Validation Loss')\n",
        "plt.xlabel('Epochs')\n",
        "plt.ylabel('Loss')\n",
        "plt.legend()\n",
        "plt.title('Training and Validation Loss')\n",
        "\n",
        "# Find the epoch with the best validation loss\n",
        "best_epoch = np.argmin(val_losses) + 1 # Add 1 because epochs are 1-indexed\n",
        "\n",
        "# Add a vertical red line at the epoch with the best validation loss\n",
        "plt.axvline(x=best_epoch, color='red', linestyle='--', label=f'Best Val Loss Epoch {best_epoch}')\n",
        "plt.legend()\n",
        "\n",
        "plt.show()"
      ],
      "metadata": {
        "id": "ponD-bYqKvQy"
      },
      "execution_count": null,
      "outputs": []
    },
    {
      "cell_type": "markdown",
      "source": [
        "## Reload the Best LeNet Model Weights\n",
        "\n",
        "After training completes, we need to load the saved model weights that achieved the best validation performance. This ensures we use the model configuration that generalizes best to unseen data, rather than the final training state which may have overfitted.\n",
        "The reloading process involves creating a new model instance with the same architecture, then loading the saved state dictionary containing the optimal weights. We must ensure the model is moved to the correct device (CPU or GPU) and set to evaluation mode for inference."
      ],
      "metadata": {
        "id": "NUY0t6oPcmJH"
      }
    },
    {
      "cell_type": "code",
      "source": [
        "# Define the path where the best model was saved\n",
        "path = Path(os.getcwd())\n",
        "model_save_path = path / 'best_lenet.pth'\n",
        "\n",
        "# Instantiate a new model with the same architecture\n",
        "# Make sure you use the same model class that was trained\n",
        "loaded_model = ModernLeNet5()\n",
        "\n",
        "# Load the saved state dictionary into the new model instance\n",
        "# Make sure the model is on the correct device (CPU or GPU)\n",
        "device = \"cuda\" if torch.cuda.is_available() else \"cpu\"\n",
        "loaded_model.load_state_dict(torch.load(model_save_path, map_location=device))\n",
        "\n",
        "# Move the model to the device\n",
        "loaded_model = loaded_model.to(device)\n",
        "\n",
        "# Set the model to evaluation mode\n",
        "loaded_model.eval()\n",
        "\n",
        "print(f\"Model loaded successfully from {model_save_path}\")\n",
        "print(f\"Model is on device: {next(loaded_model.parameters()).device}\")"
      ],
      "metadata": {
        "id": "zzA4y5mpOImr",
        "colab": {
          "base_uri": "https://localhost:8080/"
        },
        "outputId": "eee8cc59-3421-4f58-bee7-fb60bc0df05a"
      },
      "execution_count": 61,
      "outputs": [
        {
          "output_type": "stream",
          "name": "stdout",
          "text": [
            "Model loaded successfully from /content/best_lenet.pth\n",
            "Model is on device: cuda:0\n"
          ]
        }
      ]
    },
    {
      "cell_type": "markdown",
      "source": [
        "## Apply our Custom Model to the Test Set\n",
        "\n",
        "We have trained our LeNet-5 model and need to apply it to the test set to generate predictions and evaluate its performance. This step bridges the gap between PyTorch training and FiftyOne's analysis capabilities.\n",
        "\n",
        "**Why Store Predictions as FiftyOne Classifications?**\n",
        "\n",
        "Instead of storing raw predictions as strings or numbers, we use FiftyOne's [`Classification`](https://docs.voxel51.com/api/fiftyone.core.labels.html#fiftyone.core.labels.Classification) objects, which provide several key advantages:\n",
        "\n",
        "**Structured Data Storage**: Classification objects encapsulate the predicted label, confidence score, and raw logits in a standardized format that FiftyOne understands.\n",
        "\n",
        "**Evaluation Integration**: FiftyOne's evaluation framework (`evaluate_classifications()`) can compare Classification objects against ground truth labels, generating metrics like confusion matrices, per-class accuracy, and performance reports.\n",
        "\n",
        "**Querying and Filtering**: With Classification objects, we can filter samples by confidence thresholds, find misclassifications, or identify uncertain predictions using FiftyOne's query language:\n",
        "\n",
        "```python\n",
        "# Find high-confidence predictions\n",
        "high_conf = dataset.match(F(\"predictions.confidence\") > 0.95)\n",
        "\n",
        "# Find misclassifications  \n",
        "errors = dataset.match(F(\"predictions.label\") != F(\"ground_truth.label\"))\n",
        "```\n",
        "\n",
        "**Visual Analysis**: The FiftyOne App can visualize Classification objects with confidence scores, making it simple to spot patterns in model behavior and identify errors.\n",
        "\n",
        "**Model Comparison**: Storing predictions in this standardized format enables comparison between different models (like our LeNet vs. CLIP's zero-shot classification) using the same evaluation framework.\n",
        "\n",
        "**Confidence-Based Analysis**: The embedded confidence scores allow for analysis like identifying samples where the model is uncertain, which correspond to edge cases or potential labeling errors in the dataset.\n",
        "\n",
        "This approach transforms raw model outputs into queryable metadata that integrates with FiftyOne's computer vision workflow, enabling insights into model performance and behavior."
      ],
      "metadata": {
        "id": "8VVt65BMRbZo"
      }
    },
    {
      "cell_type": "code",
      "source": [
        "## Apply best_model to the test set, store logits and confidence\n",
        "\n",
        "# Create a PyTorch Dataset for the test set\n",
        "torch_test_set = CustomTorchImageDataset(test_dataset,\n",
        "                                      label_map=label_map, # Use the same label map as training\n",
        "                                      image_transforms=image_transforms) # Use the same transforms\n",
        "\n",
        "# Create a PyTorch DataLoader for the test set\n",
        "test_loader = torch.utils.data.DataLoader(\n",
        "    torch_test_set,\n",
        "    batch_size=batch_size,\n",
        "    shuffle=False, # No need to shuffle test data\n",
        "    num_workers=num_workers,\n",
        "    pin_memory=True\n",
        ")\n",
        "\n",
        "print(\"Test DataLoader created successfully.\")\n",
        "print(f\"Test DataLoader has {len(test_loader)} batches.\")\n",
        "\n",
        "# Set the loaded model to evaluation mode\n",
        "loaded_model.eval()\n",
        "\n",
        "# Lists to store predictions and logits\n",
        "predictions = []\n",
        "all_logits = []\n",
        "\n",
        "# Run inference on the test set\n",
        "print(\"Applying best LeNet model to the test set...\")\n",
        "with torch.inference_mode(): # Disable gradient calculation\n",
        "    for images, _ in tqdm(test_loader):\n",
        "        images = images.to(device)\n",
        "\n",
        "        # Forward pass to get logits\n",
        "        logits = loaded_model(images)\n",
        "        all_logits.append(logits.cpu().numpy()) # Store logits\n",
        "\n",
        "        # Get predicted class indices\n",
        "        _, predicted = torch.max(logits.data, 1)\n",
        "        predictions.extend(predicted.cpu().numpy()) # Store predictions\n",
        "\n",
        "# Concatenate logits from all batches\n",
        "all_logits = np.concatenate(all_logits, axis=0)\n",
        "\n",
        "print(\"Inference on test set complete.\")\n",
        "print(f\"Shape of collected logits: {all_logits.shape}\")\n",
        "print(f\"Number of collected predictions: {len(predictions)}\")\n",
        "\n",
        "# Store the predictions and logits back into the FiftyOne dataset as Classification objects\n",
        "print(\"Storing predictions and logits as FiftyOne Classifications...\")\n",
        "\n",
        "for i, sample in enumerate(test_dataset):\n",
        "    # Get the predicted class index and corresponding class name\n",
        "    predicted_idx = predictions[i]\n",
        "    predicted_label = dataset_classes[predicted_idx]\n",
        "\n",
        "    # Get logits for this sample\n",
        "    sample_logits = all_logits[i]\n",
        "\n",
        "    # Calculate confidence scores (softmax applied to logits)\n",
        "    confidences = Fun.softmax(torch.tensor(sample_logits), dim=0).numpy()\n",
        "    predicted_confidence = float(confidences[predicted_idx])\n",
        "\n",
        "    # Create FiftyOne Classification object with prediction\n",
        "    classification = fo.Classification(\n",
        "        label=predicted_label,\n",
        "        confidence=predicted_confidence,\n",
        "        logits=sample_logits.tolist()  # Store raw logits\n",
        "    )\n",
        "\n",
        "    # Store the Classification object in the sample\n",
        "    sample[\"lenet_classification\"] = classification\n",
        "\n",
        "    sample.save()\n",
        "\n",
        "\n"
      ],
      "metadata": {
        "id": "rtL5ZfG6YYXe",
        "colab": {
          "base_uri": "https://localhost:8080/"
        },
        "outputId": "a3b9c5b4-02f4-4bc1-de51-b07972dcf901"
      },
      "execution_count": 62,
      "outputs": [
        {
          "output_type": "stream",
          "name": "stdout",
          "text": [
            "CustomTorchImageDataset initialized with 10000 samples.\n",
            "Test DataLoader created successfully.\n",
            "Test DataLoader has 157 batches.\n",
            "Applying best LeNet model to the test set...\n"
          ]
        },
        {
          "output_type": "stream",
          "name": "stderr",
          "text": [
            "100%|██████████| 157/157 [00:01<00:00, 118.41it/s]\n"
          ]
        },
        {
          "output_type": "stream",
          "name": "stdout",
          "text": [
            "Inference on test set complete.\n",
            "Shape of collected logits: (10000, 10)\n",
            "Number of collected predictions: 10000\n",
            "Storing predictions and logits as FiftyOne Classifications...\n"
          ]
        }
      ]
    },
    {
      "cell_type": "markdown",
      "source": [
        "### Verify the Stored Data Structure for Predictions\n",
        "We should see `Classification` objects with label, confidence, and logits fields. We need these to perform analytics on our FiftyOne dataset.\n"
      ],
      "metadata": {
        "id": "M0LdkBKqY4FT"
      }
    },
    {
      "cell_type": "code",
      "source": [
        "print(\"\\n=== Verification ===\")\n",
        "sample = test_dataset.first()\n",
        "print(f\"Sample prediction type: {type(sample.lenet_classification)}\")\n",
        "print(f\"Sample prediction: {sample.lenet_classification}\")\n",
        "print(f\"Prediction label: {sample.lenet_classification.label}\")\n",
        "print(f\"Prediction confidence: {sample.lenet_classification.confidence}\")\n",
        "print(f\"Prediction logits shape: {len(sample.lenet_classification.logits)}\")\n",
        "\n",
        "session.refresh()\n",
        "print(f\"\\nFiftyOne App URL: {session.url}\")\n",
        "\n"
      ],
      "metadata": {
        "colab": {
          "base_uri": "https://localhost:8080/",
          "height": 312
        },
        "id": "mgBctL3WY61A",
        "outputId": "2a0ef95c-641d-46c6-fa01-ae44fb1c9f73"
      },
      "execution_count": 63,
      "outputs": [
        {
          "output_type": "stream",
          "name": "stdout",
          "text": [
            "\n",
            "=== Verification ===\n",
            "Sample prediction type: <class 'fiftyone.core.labels.Classification'>\n",
            "Sample prediction: <Classification: {\n",
            "    'id': '684db923e6273d19aee4b171',\n",
            "    'tags': [],\n",
            "    'label': '7 - seven',\n",
            "    'confidence': 1.0,\n",
            "    'logits': array([-20.62574768, -10.11302567,  -3.73636937,  -1.80681992,\n",
            "            -8.75860214, -18.0674305 , -33.1974411 ,  16.05401611,\n",
            "           -15.19614124,  -5.64339733]),\n",
            "}>\n",
            "Prediction label: 7 - seven\n",
            "Prediction confidence: 1.0\n",
            "Prediction logits shape: 10\n",
            "\n",
            "FiftyOne App URL: https://5151-gpu-t4-hm-q0i2puutqv5p-c.asia-east1-1.prod.colab.dev?polling=true\n"
          ]
        }
      ]
    },
    {
      "cell_type": "markdown",
      "source": [
        "### Create a View Showing only LeNet's Mistakes\n",
        "\n",
        "The FiftyOne `Classification` object allows to do filtering on the samples where we have issues.\n"
      ],
      "metadata": {
        "id": "jWumhgwGZSNE"
      }
    },
    {
      "cell_type": "code",
      "source": [
        "# Create a view showing only LeNet's misclassifications\n",
        "misclassified_view = test_dataset.match(\n",
        "    F(\"lenet_classification.label\") != F(\"ground_truth.label\")\n",
        ")\n",
        "print(f\"Misclassified samples: {len(misclassified_view)} samples\")\n"
      ],
      "metadata": {
        "id": "wBzGnUgIaYBj",
        "colab": {
          "base_uri": "https://localhost:8080/"
        },
        "outputId": "3790cd01-216a-461e-c914-47460e9d0cd9"
      },
      "execution_count": 64,
      "outputs": [
        {
          "output_type": "stream",
          "name": "stdout",
          "text": [
            "Misclassified samples: 114 samples\n"
          ]
        }
      ]
    },
    {
      "cell_type": "markdown",
      "source": [
        "## Evaluating LeNet's Classification Performance\n",
        "\n",
        "After applying our trained LeNet model to the test set, we need to evaluate its performance against the ground truth labels. This evaluation goes beyond simple accuracy to provide detailed insights into where and how the model succeeds or fails.\n",
        "FiftyOne's evaluation framework generates metrics including per-class precision, recall, and F1-scores, along with confusion matrices that reveal which digit pairs the model most often confuses. This analysis helps identify weaknesses and guides future improvements.\n",
        "\n"
      ],
      "metadata": {
        "id": "HAUyD2N1Z039"
      }
    },
    {
      "cell_type": "code",
      "source": [
        "lenet_evaluation_results = test_dataset.evaluate_classifications(\n",
        "    \"lenet_classification\",\n",
        "    gt_field=\"ground_truth\",\n",
        "    eval_key=\"lenet_eval\")\n",
        "\n",
        "session.refresh()\n",
        "print(session.url)"
      ],
      "metadata": {
        "id": "FbdrK2HVdL6t",
        "colab": {
          "base_uri": "https://localhost:8080/",
          "height": 34
        },
        "outputId": "b6c2d5fd-4ecb-4c30-d7b5-e02bb4192743"
      },
      "execution_count": 65,
      "outputs": [
        {
          "output_type": "stream",
          "name": "stdout",
          "text": [
            "https://5151-gpu-t4-hm-q0i2puutqv5p-c.asia-east1-1.prod.colab.dev?polling=true\n"
          ]
        }
      ]
    },
    {
      "cell_type": "code",
      "source": [
        "lenet_evaluation_results.print_report(digits=3)"
      ],
      "metadata": {
        "id": "HdP_CpjJhPRZ",
        "colab": {
          "base_uri": "https://localhost:8080/"
        },
        "outputId": "b3874427-7340-4efc-ae76-eeee8db00aab"
      },
      "execution_count": 66,
      "outputs": [
        {
          "output_type": "stream",
          "name": "stdout",
          "text": [
            "              precision    recall  f1-score   support\n",
            "\n",
            "    0 - zero      0.990     0.996     0.993       980\n",
            "     1 - one      0.993     0.994     0.993      1135\n",
            "     2 - two      0.986     0.991     0.989      1032\n",
            "   3 - three      0.978     0.992     0.985      1010\n",
            "    4 - four      0.983     0.997     0.990       982\n",
            "    5 - five      0.984     0.989     0.987       892\n",
            "     6 - six      0.997     0.984     0.991       958\n",
            "   7 - seven      0.988     0.975     0.981      1028\n",
            "   8 - eight      0.996     0.990     0.993       974\n",
            "    9 - nine      0.991     0.978     0.985      1009\n",
            "\n",
            "    accuracy                          0.989     10000\n",
            "   macro avg      0.989     0.989     0.989     10000\n",
            "weighted avg      0.989     0.989     0.989     10000\n",
            "\n"
          ]
        }
      ]
    },
    {
      "cell_type": "code",
      "source": [
        "lenet_evaluation_results.plot_confusion_matrix()"
      ],
      "metadata": {
        "id": "jahmUa2_SuM2",
        "colab": {
          "base_uri": "https://localhost:8080/",
          "height": 666
        },
        "outputId": "09923ecc-1254-4898-b5eb-fd6271d30c48"
      },
      "execution_count": 67,
      "outputs": [
        {
          "output_type": "stream",
          "name": "stderr",
          "text": [
            "/usr/local/lib/python3.11/dist-packages/fiftyone/core/plots/plotly.py:1591: UserWarning:\n",
            "\n",
            "Interactive plots are currently only supported in Jupyter notebooks. Support outside of notebooks and in Google Colab and Databricks will be included in an upcoming release. In the meantime, you can still use this plot, but note that (i) selecting data will not trigger callbacks, and (ii) you must manually call `plot.show()` to launch a new plot that reflects the current state of an attached session.\n",
            "\n",
            "See https://docs.voxel51.com/user_guide/plots.html#working-in-notebooks for more information.\n",
            "\n"
          ]
        },
        {
          "output_type": "display_data",
          "data": {
            "text/html": [
              "<html>\n",
              "<head><meta charset=\"utf-8\" /></head>\n",
              "<body>\n",
              "    <div>            <script src=\"https://cdnjs.cloudflare.com/ajax/libs/mathjax/2.7.5/MathJax.js?config=TeX-AMS-MML_SVG\"></script><script type=\"text/javascript\">if (window.MathJax && window.MathJax.Hub && window.MathJax.Hub.Config) {window.MathJax.Hub.Config({SVG: {font: \"STIX-Web\"}});}</script>                <script type=\"text/javascript\">window.PlotlyConfig = {MathJaxConfig: 'local'};</script>\n",
              "        <script charset=\"utf-8\" src=\"https://cdn.plot.ly/plotly-2.35.2.min.js\"></script>                <div id=\"770cda5e-8f85-4f49-8d86-eee958dfd4ab\" class=\"plotly-graph-div\" style=\"height:525px; width:100%;\"></div>            <script type=\"text/javascript\">                                    window.PLOTLYENV=window.PLOTLYENV || {};                                    if (document.getElementById(\"770cda5e-8f85-4f49-8d86-eee958dfd4ab\")) {                    Plotly.newPlot(                        \"770cda5e-8f85-4f49-8d86-eee958dfd4ab\",                        [{\"mode\":\"markers\",\"opacity\":0.1,\"x\":[0,1,2,3,4,5,6,7,8,9,0,1,2,3,4,5,6,7,8,9,0,1,2,3,4,5,6,7,8,9,0,1,2,3,4,5,6,7,8,9,0,1,2,3,4,5,6,7,8,9,0,1,2,3,4,5,6,7,8,9,0,1,2,3,4,5,6,7,8,9,0,1,2,3,4,5,6,7,8,9,0,1,2,3,4,5,6,7,8,9,0,1,2,3,4,5,6,7,8,9],\"y\":[0,0,0,0,0,0,0,0,0,0,1,1,1,1,1,1,1,1,1,1,2,2,2,2,2,2,2,2,2,2,3,3,3,3,3,3,3,3,3,3,4,4,4,4,4,4,4,4,4,4,5,5,5,5,5,5,5,5,5,5,6,6,6,6,6,6,6,6,6,6,7,7,7,7,7,7,7,7,7,7,8,8,8,8,8,8,8,8,8,8,9,9,9,9,9,9,9,9,9,9],\"type\":\"scatter\",\"uid\":\"5218779a-d029-4ae8-8e64-abf034004bef\"},{\"colorscale\":[[0.0,\"rgb(255,245,235)\"],[0.125,\"rgb(254,230,206)\"],[0.25,\"rgb(253,208,162)\"],[0.375,\"rgb(253,174,107)\"],[0.5,\"rgb(253,141,60)\"],[0.625,\"rgb(241,105,19)\"],[0.75,\"rgb(217,72,1)\"],[0.875,\"rgb(166,54,3)\"],[1.0,\"rgb(127,39,4)\"]],\"hoverinfo\":\"skip\",\"showscale\":false,\"z\":[[0,0,0,2,8,6,0,5,1,987],[3,0,2,1,1,2,0,0,964,1],[0,5,8,7,2,0,0,1002,0,4],[3,2,1,0,6,2,943,0,1,0],[3,0,0,5,0,882,1,0,0,1],[0,0,0,0,979,0,0,0,0,3],[1,0,3,1002,0,3,0,1,0,0],[0,1,1023,2,0,0,0,5,1,0],[0,1128,0,6,0,1,0,0,0,0],[976,0,0,0,0,0,2,1,1,0]],\"zmax\":1128,\"zmin\":0,\"type\":\"heatmap\",\"uid\":\"33ed1c99-04f3-4ea0-8d60-910fb3b8713a\"},{\"colorbar\":{\"len\":1,\"lenmode\":\"fraction\"},\"colorscale\":[[0.0,\"rgb(255,245,235)\"],[0.125,\"rgb(254,230,206)\"],[0.25,\"rgb(253,208,162)\"],[0.375,\"rgb(253,174,107)\"],[0.5,\"rgb(253,141,60)\"],[0.625,\"rgb(241,105,19)\"],[0.75,\"rgb(217,72,1)\"],[0.875,\"rgb(166,54,3)\"],[1.0,\"rgb(127,39,4)\"]],\"hovertemplate\":\"\\u003cb\\u003ecount: %{z}\\u003c\\u002fb\\u003e\\u003cbr\\u003eground_truth: %{y}\\u003cbr\\u003elenet_classification: %{x}\\u003cextra\\u003e\\u003c\\u002fextra\\u003e\",\"opacity\":0.25,\"z\":[[0,0,0,2,8,6,0,5,1,987],[3,0,2,1,1,2,0,0,964,1],[0,5,8,7,2,0,0,1002,0,4],[3,2,1,0,6,2,943,0,1,0],[3,0,0,5,0,882,1,0,0,1],[0,0,0,0,979,0,0,0,0,3],[1,0,3,1002,0,3,0,1,0,0],[0,1,1023,2,0,0,0,5,1,0],[0,1128,0,6,0,1,0,0,0,0],[976,0,0,0,0,0,2,1,1,0]],\"zmax\":1128,\"zmin\":0,\"type\":\"heatmap\",\"uid\":\"e38b101c-bd39-4d66-af81-1192bca6be62\"}],                        {\"clickmode\":\"event\",\"template\":{\"data\":{\"barpolar\":[{\"marker\":{\"line\":{\"color\":\"rgb(237,237,237)\",\"width\":0.5},\"pattern\":{\"fillmode\":\"overlay\",\"size\":10,\"solidity\":0.2}},\"type\":\"barpolar\"}],\"bar\":[{\"error_x\":{\"color\":\"rgb(51,51,51)\"},\"error_y\":{\"color\":\"rgb(51,51,51)\"},\"marker\":{\"line\":{\"color\":\"rgb(237,237,237)\",\"width\":0.5},\"pattern\":{\"fillmode\":\"overlay\",\"size\":10,\"solidity\":0.2}},\"type\":\"bar\"}],\"carpet\":[{\"aaxis\":{\"endlinecolor\":\"rgb(51,51,51)\",\"gridcolor\":\"white\",\"linecolor\":\"white\",\"minorgridcolor\":\"white\",\"startlinecolor\":\"rgb(51,51,51)\"},\"baxis\":{\"endlinecolor\":\"rgb(51,51,51)\",\"gridcolor\":\"white\",\"linecolor\":\"white\",\"minorgridcolor\":\"white\",\"startlinecolor\":\"rgb(51,51,51)\"},\"type\":\"carpet\"}],\"choropleth\":[{\"colorbar\":{\"outlinewidth\":0,\"tickcolor\":\"rgb(237,237,237)\",\"ticklen\":6,\"ticks\":\"inside\"},\"type\":\"choropleth\"}],\"contourcarpet\":[{\"colorbar\":{\"outlinewidth\":0,\"tickcolor\":\"rgb(237,237,237)\",\"ticklen\":6,\"ticks\":\"inside\"},\"type\":\"contourcarpet\"}],\"contour\":[{\"colorbar\":{\"outlinewidth\":0,\"tickcolor\":\"rgb(237,237,237)\",\"ticklen\":6,\"ticks\":\"inside\"},\"colorscale\":[[0,\"rgb(20,44,66)\"],[1,\"rgb(90,179,244)\"]],\"type\":\"contour\"}],\"heatmapgl\":[{\"colorbar\":{\"outlinewidth\":0,\"tickcolor\":\"rgb(237,237,237)\",\"ticklen\":6,\"ticks\":\"inside\"},\"colorscale\":[[0,\"rgb(20,44,66)\"],[1,\"rgb(90,179,244)\"]],\"type\":\"heatmapgl\"}],\"heatmap\":[{\"colorbar\":{\"outlinewidth\":0,\"tickcolor\":\"rgb(237,237,237)\",\"ticklen\":6,\"ticks\":\"inside\"},\"colorscale\":[[0,\"rgb(20,44,66)\"],[1,\"rgb(90,179,244)\"]],\"type\":\"heatmap\"}],\"histogram2dcontour\":[{\"colorbar\":{\"outlinewidth\":0,\"tickcolor\":\"rgb(237,237,237)\",\"ticklen\":6,\"ticks\":\"inside\"},\"colorscale\":[[0,\"rgb(20,44,66)\"],[1,\"rgb(90,179,244)\"]],\"type\":\"histogram2dcontour\"}],\"histogram2d\":[{\"colorbar\":{\"outlinewidth\":0,\"tickcolor\":\"rgb(237,237,237)\",\"ticklen\":6,\"ticks\":\"inside\"},\"colorscale\":[[0,\"rgb(20,44,66)\"],[1,\"rgb(90,179,244)\"]],\"type\":\"histogram2d\"}],\"histogram\":[{\"marker\":{\"pattern\":{\"fillmode\":\"overlay\",\"size\":10,\"solidity\":0.2}},\"type\":\"histogram\"}],\"mesh3d\":[{\"colorbar\":{\"outlinewidth\":0,\"tickcolor\":\"rgb(237,237,237)\",\"ticklen\":6,\"ticks\":\"inside\"},\"type\":\"mesh3d\"}],\"parcoords\":[{\"line\":{\"colorbar\":{\"outlinewidth\":0,\"tickcolor\":\"rgb(237,237,237)\",\"ticklen\":6,\"ticks\":\"inside\"}},\"type\":\"parcoords\"}],\"pie\":[{\"automargin\":true,\"type\":\"pie\"}],\"scatter3d\":[{\"line\":{\"colorbar\":{\"outlinewidth\":0,\"tickcolor\":\"rgb(237,237,237)\",\"ticklen\":6,\"ticks\":\"inside\"}},\"marker\":{\"colorbar\":{\"outlinewidth\":0,\"tickcolor\":\"rgb(237,237,237)\",\"ticklen\":6,\"ticks\":\"inside\"}},\"type\":\"scatter3d\"}],\"scattercarpet\":[{\"marker\":{\"colorbar\":{\"outlinewidth\":0,\"tickcolor\":\"rgb(237,237,237)\",\"ticklen\":6,\"ticks\":\"inside\"}},\"type\":\"scattercarpet\"}],\"scattergeo\":[{\"marker\":{\"colorbar\":{\"outlinewidth\":0,\"tickcolor\":\"rgb(237,237,237)\",\"ticklen\":6,\"ticks\":\"inside\"}},\"type\":\"scattergeo\"}],\"scattergl\":[{\"marker\":{\"colorbar\":{\"outlinewidth\":0,\"tickcolor\":\"rgb(237,237,237)\",\"ticklen\":6,\"ticks\":\"inside\"}},\"type\":\"scattergl\"}],\"scattermapbox\":[{\"marker\":{\"colorbar\":{\"outlinewidth\":0,\"tickcolor\":\"rgb(237,237,237)\",\"ticklen\":6,\"ticks\":\"inside\"}},\"type\":\"scattermapbox\"}],\"scatterpolargl\":[{\"marker\":{\"colorbar\":{\"outlinewidth\":0,\"tickcolor\":\"rgb(237,237,237)\",\"ticklen\":6,\"ticks\":\"inside\"}},\"type\":\"scatterpolargl\"}],\"scatterpolar\":[{\"marker\":{\"colorbar\":{\"outlinewidth\":0,\"tickcolor\":\"rgb(237,237,237)\",\"ticklen\":6,\"ticks\":\"inside\"}},\"type\":\"scatterpolar\"}],\"scatter\":[{\"fillpattern\":{\"fillmode\":\"overlay\",\"size\":10,\"solidity\":0.2},\"type\":\"scatter\"}],\"scatterternary\":[{\"marker\":{\"colorbar\":{\"outlinewidth\":0,\"tickcolor\":\"rgb(237,237,237)\",\"ticklen\":6,\"ticks\":\"inside\"}},\"type\":\"scatterternary\"}],\"surface\":[{\"colorbar\":{\"outlinewidth\":0,\"tickcolor\":\"rgb(237,237,237)\",\"ticklen\":6,\"ticks\":\"inside\"},\"colorscale\":[[0,\"rgb(20,44,66)\"],[1,\"rgb(90,179,244)\"]],\"type\":\"surface\"}],\"table\":[{\"cells\":{\"fill\":{\"color\":\"rgb(237,237,237)\"},\"line\":{\"color\":\"white\"}},\"header\":{\"fill\":{\"color\":\"rgb(217,217,217)\"},\"line\":{\"color\":\"white\"}},\"type\":\"table\"}]},\"layout\":{\"annotationdefaults\":{\"arrowhead\":0,\"arrowwidth\":1},\"autotypenumbers\":\"strict\",\"coloraxis\":{\"colorbar\":{\"outlinewidth\":0,\"tickcolor\":\"rgb(237,237,237)\",\"ticklen\":6,\"ticks\":\"inside\"}},\"colorscale\":{\"sequential\":[[0,\"rgb(20,44,66)\"],[1,\"rgb(90,179,244)\"]],\"sequentialminus\":[[0,\"rgb(20,44,66)\"],[1,\"rgb(90,179,244)\"]]},\"colorway\":[\"#F8766D\",\"#A3A500\",\"#00BF7D\",\"#00B0F6\",\"#E76BF3\"],\"font\":{\"color\":\"rgb(51,51,51)\"},\"geo\":{\"bgcolor\":\"white\",\"lakecolor\":\"white\",\"landcolor\":\"rgb(237,237,237)\",\"showlakes\":true,\"showland\":true,\"subunitcolor\":\"white\"},\"hoverlabel\":{\"align\":\"left\"},\"hovermode\":\"closest\",\"paper_bgcolor\":\"white\",\"plot_bgcolor\":\"rgb(237,237,237)\",\"polar\":{\"angularaxis\":{\"gridcolor\":\"white\",\"linecolor\":\"white\",\"showgrid\":true,\"tickcolor\":\"rgb(51,51,51)\",\"ticks\":\"outside\"},\"bgcolor\":\"rgb(237,237,237)\",\"radialaxis\":{\"gridcolor\":\"white\",\"linecolor\":\"white\",\"showgrid\":true,\"tickcolor\":\"rgb(51,51,51)\",\"ticks\":\"outside\"}},\"scene\":{\"xaxis\":{\"backgroundcolor\":\"rgb(237,237,237)\",\"gridcolor\":\"white\",\"gridwidth\":2,\"linecolor\":\"white\",\"showbackground\":true,\"showgrid\":true,\"tickcolor\":\"rgb(51,51,51)\",\"ticks\":\"outside\",\"zerolinecolor\":\"white\"},\"yaxis\":{\"backgroundcolor\":\"rgb(237,237,237)\",\"gridcolor\":\"white\",\"gridwidth\":2,\"linecolor\":\"white\",\"showbackground\":true,\"showgrid\":true,\"tickcolor\":\"rgb(51,51,51)\",\"ticks\":\"outside\",\"zerolinecolor\":\"white\"},\"zaxis\":{\"backgroundcolor\":\"rgb(237,237,237)\",\"gridcolor\":\"white\",\"gridwidth\":2,\"linecolor\":\"white\",\"showbackground\":true,\"showgrid\":true,\"tickcolor\":\"rgb(51,51,51)\",\"ticks\":\"outside\",\"zerolinecolor\":\"white\"}},\"shapedefaults\":{\"fillcolor\":\"black\",\"line\":{\"width\":0},\"opacity\":0.3},\"ternary\":{\"aaxis\":{\"gridcolor\":\"white\",\"linecolor\":\"white\",\"showgrid\":true,\"tickcolor\":\"rgb(51,51,51)\",\"ticks\":\"outside\"},\"baxis\":{\"gridcolor\":\"white\",\"linecolor\":\"white\",\"showgrid\":true,\"tickcolor\":\"rgb(51,51,51)\",\"ticks\":\"outside\"},\"bgcolor\":\"rgb(237,237,237)\",\"caxis\":{\"gridcolor\":\"white\",\"linecolor\":\"white\",\"showgrid\":true,\"tickcolor\":\"rgb(51,51,51)\",\"ticks\":\"outside\"}},\"xaxis\":{\"automargin\":true,\"gridcolor\":\"white\",\"linecolor\":\"white\",\"showgrid\":true,\"tickcolor\":\"rgb(51,51,51)\",\"ticks\":\"outside\",\"title\":{\"standoff\":15},\"zerolinecolor\":\"white\"},\"yaxis\":{\"automargin\":true,\"gridcolor\":\"white\",\"linecolor\":\"white\",\"showgrid\":true,\"tickcolor\":\"rgb(51,51,51)\",\"ticks\":\"outside\",\"title\":{\"standoff\":15},\"zerolinecolor\":\"white\"}}},\"xaxis\":{\"constrain\":\"domain\",\"range\":[-0.5,9.5],\"tickmode\":\"array\",\"ticktext\":[\"0 - zero\",\"1 - one\",\"2 - two\",\"3 - three\",\"4 - four\",\"5 - five\",\"6 - six\",\"7 - seven\",\"8 - eight\",\"9 - nine\"],\"tickvals\":[0,1,2,3,4,5,6,7,8,9]},\"yaxis\":{\"constrain\":\"domain\",\"range\":[-0.5,9.5],\"scaleanchor\":\"x\",\"scaleratio\":1,\"tickmode\":\"array\",\"ticktext\":[\"9 - nine\",\"8 - eight\",\"7 - seven\",\"6 - six\",\"5 - five\",\"4 - four\",\"3 - three\",\"2 - two\",\"1 - one\",\"0 - zero\"],\"tickvals\":[0,1,2,3,4,5,6,7,8,9]},\"margin\":{\"r\":0,\"t\":30,\"l\":0,\"b\":0},\"title\":{}},                        {\"responsive\": true}                    ).then(function(){\n",
              "                            \n",
              "var gd = document.getElementById('770cda5e-8f85-4f49-8d86-eee958dfd4ab');\n",
              "var x = new MutationObserver(function (mutations, observer) {{\n",
              "        var display = window.getComputedStyle(gd).display;\n",
              "        if (!display || display === 'none') {{\n",
              "            console.log([gd, 'removed!']);\n",
              "            Plotly.purge(gd);\n",
              "            observer.disconnect();\n",
              "        }}\n",
              "}});\n",
              "\n",
              "// Listen for the removal of the full notebook cells\n",
              "var notebookContainer = gd.closest('#notebook-container');\n",
              "if (notebookContainer) {{\n",
              "    x.observe(notebookContainer, {childList: true});\n",
              "}}\n",
              "\n",
              "// Listen for the clearing of the current output cell\n",
              "var outputEl = gd.closest('.output');\n",
              "if (outputEl) {{\n",
              "    x.observe(outputEl, {childList: true});\n",
              "}}\n",
              "\n",
              "                        })                };                            </script>        </div>\n",
              "</body>\n",
              "</html>"
            ]
          },
          "metadata": {}
        },
        {
          "output_type": "execute_result",
          "data": {
            "text/plain": []
          },
          "metadata": {},
          "execution_count": 67
        }
      ]
    },
    {
      "cell_type": "code",
      "source": [
        "# Compute quantiles of confidence\n",
        "test_dataset.quantiles(\"lenet_classification.confidence\", [0.01, 0.05, 0.25, 0.5, 0.75] )"
      ],
      "metadata": {
        "id": "o0Y0qZVhAqOn",
        "colab": {
          "base_uri": "https://localhost:8080/"
        },
        "outputId": "8d653b13-bae2-4a9b-d514-f236acb07259"
      },
      "execution_count": 68,
      "outputs": [
        {
          "output_type": "execute_result",
          "data": {
            "text/plain": [
              "[0.7184225916862488, 0.9946229457855225, 0.9999969005584717, 1.0, 1.0]"
            ]
          },
          "metadata": {},
          "execution_count": 68
        }
      ]
    },
    {
      "cell_type": "code",
      "source": [
        "low_confidence_view = test_dataset.match(F(\"lenet_classification.confidence\") < 0.69)\n",
        "low_confidence_view"
      ],
      "metadata": {
        "id": "JleYduhreBg6",
        "colab": {
          "base_uri": "https://localhost:8080/"
        },
        "outputId": "1f83a83b-8be6-4d1f-de62-716142d997bb"
      },
      "execution_count": 69,
      "outputs": [
        {
          "output_type": "execute_result",
          "data": {
            "text/plain": [
              "Dataset:     mnist-test\n",
              "Media type:  image\n",
              "Num samples: 78\n",
              "Sample fields:\n",
              "    id:                            fiftyone.core.fields.ObjectIdField\n",
              "    filepath:                      fiftyone.core.fields.StringField\n",
              "    tags:                          fiftyone.core.fields.ListField(fiftyone.core.fields.StringField)\n",
              "    metadata:                      fiftyone.core.fields.EmbeddedDocumentField(fiftyone.core.metadata.ImageMetadata)\n",
              "    created_at:                    fiftyone.core.fields.DateTimeField\n",
              "    last_modified_at:              fiftyone.core.fields.DateTimeField\n",
              "    ground_truth:                  fiftyone.core.fields.EmbeddedDocumentField(fiftyone.core.labels.Classification)\n",
              "    clip_embeddings:               fiftyone.core.fields.VectorField\n",
              "    clip_zero_shot_classification: fiftyone.core.fields.EmbeddedDocumentField(fiftyone.core.labels.Classification)\n",
              "    clip_zero_shot_eval:           fiftyone.core.fields.BooleanField\n",
              "    lenet_classification:          fiftyone.core.fields.EmbeddedDocumentField(fiftyone.core.labels.Classification)\n",
              "    lenet_eval:                    fiftyone.core.fields.BooleanField\n",
              "View stages:\n",
              "    1. Match(filter={'$expr': {'$lt': [...]}})"
            ]
          },
          "metadata": {},
          "execution_count": 69
        }
      ]
    },
    {
      "cell_type": "code",
      "source": [
        "session.view = low_confidence_view\n",
        "session.refresh()\n",
        "print(session.url)"
      ],
      "metadata": {
        "id": "lKnI5jJceXMK",
        "colab": {
          "base_uri": "https://localhost:8080/",
          "height": 34
        },
        "outputId": "8675b923-bb60-4865-ddc8-4537e48f0107"
      },
      "execution_count": 70,
      "outputs": [
        {
          "output_type": "stream",
          "name": "stdout",
          "text": [
            "https://5151-gpu-t4-hm-q0i2puutqv5p-c.asia-east1-1.prod.colab.dev?polling=true\n"
          ]
        }
      ]
    },
    {
      "cell_type": "markdown",
      "source": [
        "## Evaluating Sample Hardness and Mistakenness through Logits\n",
        "\n",
        "**Quantifying Prediction Uncertainty and Label Quality**\n",
        "\n",
        "Model logits contain rich information beyond simple predictions. By analyzing the raw output scores before softmax conversion (the logits), we can compute metrics that reveal which samples the model finds challenging and which labels may be questionable.\n",
        "\n",
        "**Hardness** measures prediction uncertainty based on the model's confidence distribution. Samples with high hardness have flat probability distributions, indicating the model struggles to distinguish between classes. These often represent genuinely difficult cases or edge cases in the data.\n",
        "\n",
        "**Mistakenness** identifies samples where the model's confident predictions disagree with ground truth labels. High mistakenness scores suggest potential annotation errors rather than model failures, as the model may have learned correct patterns that conflict with incorrect labels.\n",
        "\n",
        "```python\n",
        "# Compute hardness based on prediction uncertainty\n",
        "fob.compute_hardness(test_dataset, label_field='lenet_classification')\n",
        "\n",
        "# Compute mistakenness to identify potential label errors  \n",
        "fob.compute_mistakenness(test_dataset,\n",
        "                        pred_field=\"lenet_classification\",\n",
        "                        label_field=\"ground_truth\")\n",
        "```\n",
        "\n",
        "These metrics transform raw model scores (logits) into actionable insights for the dataset"
      ],
      "metadata": {
        "id": "9eSfe8gg-yF_"
      }
    },
    {
      "cell_type": "code",
      "source": [
        "#Hardness is a measure computed based on model prediction output (through\n",
        "#logits) that summarizes a measure of the uncertainty the model had with the\n",
        "#sample. This makes hardness quantitative and can be used to detect things\n",
        "#like hard samples and annotation errors\n",
        "fob.compute_hardness(test_dataset,\n",
        "                     label_field='lenet_classification',\n",
        "                     )"
      ],
      "metadata": {
        "id": "Tv9eUU8H7W8Q",
        "colab": {
          "base_uri": "https://localhost:8080/"
        },
        "outputId": "344031b9-f3ab-4108-da06-f0b23a0a18df"
      },
      "execution_count": 71,
      "outputs": [
        {
          "output_type": "stream",
          "name": "stdout",
          "text": [
            "Computing hardness...\n"
          ]
        },
        {
          "output_type": "stream",
          "name": "stderr",
          "text": [
            "INFO:fiftyone.brain.internal.core.hardness:Computing hardness...\n"
          ]
        },
        {
          "output_type": "stream",
          "name": "stdout",
          "text": [
            " 100% |█████████████| 10000/10000 [17.1s elapsed, 0s remaining, 601.7 samples/s]      \n"
          ]
        },
        {
          "output_type": "stream",
          "name": "stderr",
          "text": [
            "INFO:eta.core.utils: 100% |█████████████| 10000/10000 [17.1s elapsed, 0s remaining, 601.7 samples/s]      \n"
          ]
        },
        {
          "output_type": "stream",
          "name": "stdout",
          "text": [
            "Hardness computation complete\n"
          ]
        },
        {
          "output_type": "stream",
          "name": "stderr",
          "text": [
            "INFO:fiftyone.brain.internal.core.hardness:Hardness computation complete\n"
          ]
        }
      ]
    },
    {
      "cell_type": "code",
      "source": [
        "# Evaluate sample mistakenness (how likely the sample is mislabeled)\n",
        "# Samples with high mistakenness often have conflicting model output and ground truth\n",
        "fob.compute_mistakenness(test_dataset,\n",
        "                        pred_field=\"lenet_classification\",\n",
        "                        label_field=\"ground_truth\")\n"
      ],
      "metadata": {
        "id": "LnVwG6OHpQ7Z",
        "colab": {
          "base_uri": "https://localhost:8080/"
        },
        "outputId": "4e238c3b-e6e6-4bee-8ace-37234bea66ec"
      },
      "execution_count": 72,
      "outputs": [
        {
          "output_type": "stream",
          "name": "stdout",
          "text": [
            "Computing mistakenness...\n"
          ]
        },
        {
          "output_type": "stream",
          "name": "stderr",
          "text": [
            "INFO:fiftyone.brain.internal.core.mistakenness:Computing mistakenness...\n"
          ]
        },
        {
          "output_type": "stream",
          "name": "stdout",
          "text": [
            " 100% |█████████████| 10000/10000 [14.3s elapsed, 0s remaining, 730.5 samples/s]      \n"
          ]
        },
        {
          "output_type": "stream",
          "name": "stderr",
          "text": [
            "INFO:eta.core.utils: 100% |█████████████| 10000/10000 [14.3s elapsed, 0s remaining, 730.5 samples/s]      \n"
          ]
        },
        {
          "output_type": "stream",
          "name": "stdout",
          "text": [
            "Mistakenness computation complete\n"
          ]
        },
        {
          "output_type": "stream",
          "name": "stderr",
          "text": [
            "INFO:fiftyone.brain.internal.core.mistakenness:Mistakenness computation complete\n"
          ]
        }
      ]
    },
    {
      "cell_type": "code",
      "source": [
        "session.refresh()\n",
        "print(f\"\\nFiftyOne App URL: {session.url}\")"
      ],
      "metadata": {
        "id": "9_ckgWTTo6cL",
        "colab": {
          "base_uri": "https://localhost:8080/",
          "height": 52
        },
        "outputId": "eda67f65-f386-4836-e0e2-9a0e8c0d1871"
      },
      "execution_count": 73,
      "outputs": [
        {
          "output_type": "stream",
          "name": "stdout",
          "text": [
            "\n",
            "FiftyOne App URL: https://5151-gpu-t4-hm-q0i2puutqv5p-c.asia-east1-1.prod.colab.dev?polling=true\n"
          ]
        }
      ]
    },
    {
      "cell_type": "markdown",
      "source": [
        "## Creating Embeddings from the LeNet-5 Model\n",
        "\n",
        "**Extracting Internal Feature Representations**\n",
        "\n",
        "Neural networks process information through multiple layers, with each layer transforming input data into increasingly abstract representations. While we typically focus on the final output layer for predictions, the intermediate layers contain valuable feature representations that reveal what the model has learned about the input data.\n",
        "\n",
        "LeNet-5's architecture builds features hierarchically: early convolutional layers detect edges and simple patterns, while deeper layers combine these into more complex digit-specific features. The fully connected layers before the final classification layer contain rich embeddings that capture the essential characteristics the model uses to distinguish between digit classes.\n",
        "\n",
        "By extracting these learned embeddings, we can analyze how our trained model represents each digit internally. Unlike pre-trained embeddings from models like CLIP, these features are optimized for our specific task of handwritten digit recognition. This makes them particularly valuable for understanding model behavior, identifying challenging samples, and comparing how different digits cluster in the learned feature space.\n",
        "\n",
        "The extraction process uses PyTorch hooks to capture intermediate layer outputs during inference, allowing us to access the 84-dimensional feature vectors from the penultimate layer that encode each sample's representation in the model's learned space.\n",
        "\n",
        "\n"
      ],
      "metadata": {
        "id": "KAQh1hXIrSS7"
      }
    },
    {
      "cell_type": "code",
      "source": [
        "## Extract Embeddings from LeNet Model Using PyTorch Hooks\n",
        "\n",
        "def extract_lenet_embeddings(model, dataloader, device, layer_name='fc1'):\n",
        "    \"\"\"\n",
        "    Extract embeddings from a specified layer of the LeNet model using PyTorch hooks.\n",
        "\n",
        "    Args:\n",
        "        model: Trained LeNet model\n",
        "        dataloader: PyTorch DataLoader\n",
        "        device: Device to run inference on\n",
        "        layer_name: Name of the layer to extract embeddings from\n",
        "                   Options: 'conv3', 'fc1', or 'fc2'\n",
        "\n",
        "    Returns:\n",
        "        numpy array of embeddings\n",
        "    \"\"\"\n",
        "    # Dictionary to store the embeddings\n",
        "    embeddings_dict = {}\n",
        "\n",
        "    def hook_fn(module, input, output):\n",
        "        \"\"\"Hook function to capture layer outputs\"\"\"\n",
        "        # Flatten the output if it's from conv layers\n",
        "        if len(output.shape) > 2:\n",
        "            embeddings_dict['embeddings'] = output.view(output.size(0), -1).cpu().detach()\n",
        "        else:\n",
        "            embeddings_dict['embeddings'] = output.cpu().detach()\n",
        "\n",
        "    # Register the hook on the specified layer\n",
        "    layer_map = {\n",
        "        'conv3': model.conv3,  # Shape: (batch_size, 120, 1, 1) -> flattened to (batch_size, 120)\n",
        "        'fc1': model.fc1,     # Shape: (batch_size, 84) - most common choice\n",
        "        'fc2': model.fc2      # Shape: (batch_size, 10) - final logits\n",
        "    }\n",
        "\n",
        "    if layer_name not in layer_map:\n",
        "        raise ValueError(f\"Invalid layer_name. Choose from: {list(layer_map.keys())}\")\n",
        "\n",
        "    target_layer = layer_map[layer_name]\n",
        "    hook_handle = target_layer.register_forward_hook(hook_fn)\n",
        "\n",
        "    # Set model to evaluation mode\n",
        "    model.eval()\n",
        "\n",
        "    all_embeddings = []\n",
        "\n",
        "    print(f\"Extracting embeddings from {layer_name} layer...\")\n",
        "\n",
        "    with torch.inference_mode():\n",
        "        for images, _ in tqdm(dataloader, desc=\"Processing batches\"):\n",
        "            images = images.to(device)\n",
        "\n",
        "            # Forward pass (hook will capture the embeddings)\n",
        "            _ = model(images)\n",
        "\n",
        "            # Store the captured embeddings\n",
        "            batch_embeddings = embeddings_dict['embeddings'].numpy()\n",
        "            all_embeddings.append(batch_embeddings)\n",
        "\n",
        "    # Remove the hook to clean up\n",
        "    hook_handle.remove()\n",
        "\n",
        "    # Concatenate all embeddings\n",
        "    final_embeddings = np.concatenate(all_embeddings, axis=0)\n",
        "\n",
        "    print(f\"Extracted embeddings shape: {final_embeddings.shape}\")\n",
        "    print(f\"Embedding dimension: {final_embeddings.shape[1]}\")\n",
        "\n",
        "    return final_embeddings"
      ],
      "metadata": {
        "id": "cxsL2g-Rstpq"
      },
      "execution_count": 74,
      "outputs": []
    },
    {
      "cell_type": "markdown",
      "source": [
        "# Create a new DataLoader for the train_set  for inference\n",
        "\n",
        "It's important to ensure that shuffling is disabled for this training data `DataLoader`, otherwise our predictions will not match the corresponding data points when we store them.\n"
      ],
      "metadata": {
        "id": "3_L9gSqK6mg5"
      }
    },
    {
      "cell_type": "code",
      "metadata": {
        "id": "d73fcf8b",
        "colab": {
          "base_uri": "https://localhost:8080/"
        },
        "outputId": "97372a58-cada-4dc3-c892-0afd12ff7b4d"
      },
      "source": [
        "# This uses the torch_train_set which is derived from train_dataset\n",
        "train_inference_loader = torch.utils.data.DataLoader(\n",
        "    torch_train_set,\n",
        "    batch_size=batch_size,\n",
        "    shuffle=False,    # CRITICAL: Must be False for ordered predictions\n",
        "    num_workers=num_workers,\n",
        "    pin_memory=True\n",
        ")\n",
        "\n",
        "# Set the loaded model to evaluation mode\n",
        "loaded_model.eval()\n",
        "\n",
        "# Lists to store predictions and logits for the training set\n",
        "train_predictions = []\n",
        "train_all_logits = []\n",
        "\n",
        "# Run inference on the training set using the NON-SHUFFLED loader\n",
        "print(\"Applying LeNet model to the train_dataset (using non-shuffled loader)...\")\n",
        "with torch.inference_mode(): # Disable gradient calculation\n",
        "    # Use the new train_inference_loader\n",
        "    for images, _ in tqdm(train_inference_loader, desc=\"Processing train batches for inference\"):\n",
        "        images = images.to(device)\n",
        "\n",
        "        # Forward pass to get logits\n",
        "        logits = loaded_model(images)\n",
        "        train_all_logits.append(logits.cpu().numpy()) # Store logits\n",
        "\n",
        "        # Get predicted class indices\n",
        "        _, predicted = torch.max(logits.data, 1)\n",
        "        train_predictions.extend(predicted.cpu().numpy()) # Store predictions\n",
        "\n",
        "# Concatenate logits from all batches\n",
        "train_all_logits = np.concatenate(train_all_logits, axis=0)\n",
        "\n",
        "print(\"Inference on train_dataset complete.\")\n",
        "print(f\"Shape of collected train logits: {train_all_logits.shape}\")\n",
        "print(f\"Number of collected train predictions: {len(train_predictions)}\")\n",
        "\n",
        "# Store the predictions and logits back into the FiftyOne dataset as Classification objects\n",
        "print(\"Storing predictions and logits as FiftyOne Classifications for train_dataset...\")\n",
        "for i, sample in enumerate(tqdm(train_dataset, desc=\"Storing train classifications\")):\n",
        "    predicted_idx = train_predictions[i]\n",
        "    predicted_label = dataset_classes[predicted_idx] # Assuming dataset_classes is consistent\n",
        "    sample_logits = train_all_logits[i]\n",
        "    confidences = Fun.softmax(torch.tensor(sample_logits), dim=0).numpy()\n",
        "    predicted_confidence = float(confidences[predicted_idx])\n",
        "    classification = fo.Classification(\n",
        "        label=predicted_label,\n",
        "        confidence=predicted_confidence,\n",
        "        logits=sample_logits.tolist()\n",
        "    )\n",
        "    sample[\"lenet_train_classification\"] = classification\n",
        "    sample.save()\n",
        "\n",
        "print(\"Predictions and logits stored successfully as FiftyOne Classifications for train_dataset.\")"
      ],
      "execution_count": 75,
      "outputs": [
        {
          "output_type": "stream",
          "name": "stdout",
          "text": [
            "Applying LeNet model to the train_dataset (using non-shuffled loader)...\n"
          ]
        },
        {
          "output_type": "stream",
          "name": "stderr",
          "text": [
            "Processing train batches for inference: 100%|██████████| 797/797 [00:05<00:00, 147.22it/s]\n"
          ]
        },
        {
          "output_type": "stream",
          "name": "stdout",
          "text": [
            "Inference on train_dataset complete.\n",
            "Shape of collected train logits: (51000, 10)\n",
            "Number of collected train predictions: 51000\n",
            "Storing predictions and logits as FiftyOne Classifications for train_dataset...\n"
          ]
        },
        {
          "output_type": "stream",
          "name": "stderr",
          "text": [
            "Storing train classifications: 100%|██████████| 51000/51000 [01:10<00:00, 726.24it/s]"
          ]
        },
        {
          "output_type": "stream",
          "name": "stdout",
          "text": [
            "Predictions and logits stored successfully as FiftyOne Classifications for train_dataset.\n"
          ]
        },
        {
          "output_type": "stream",
          "name": "stderr",
          "text": [
            "\n"
          ]
        }
      ]
    },
    {
      "cell_type": "code",
      "source": [
        "lenet_train_evaluation_results = train_dataset.evaluate_classifications(\n",
        "    \"lenet_train_classification\",\n",
        "    gt_field=\"ground_truth\",\n",
        "    eval_key=\"lenet_train_eval\"\n",
        ")\n",
        "session.refresh()\n",
        "lenet_train_evaluation_results.print_report(digits=3)"
      ],
      "metadata": {
        "id": "k1RwWM6aa19b",
        "colab": {
          "base_uri": "https://localhost:8080/"
        },
        "outputId": "7fe1026d-9bcf-417b-98d1-d3d3c7410f8f"
      },
      "execution_count": 76,
      "outputs": [
        {
          "output_type": "stream",
          "name": "stdout",
          "text": [
            "              precision    recall  f1-score   support\n",
            "\n",
            "    0 - zero      0.998     0.997     0.998      5006\n",
            "     1 - one      0.995     0.997     0.996      5727\n",
            "     2 - two      0.989     0.997     0.993      5078\n",
            "   3 - three      0.995     0.995     0.995      5192\n",
            "    4 - four      0.988     0.997     0.992      4931\n",
            "    5 - five      0.994     0.995     0.994      4632\n",
            "     6 - six      0.997     0.996     0.996      5053\n",
            "   7 - seven      0.995     0.988     0.992      5369\n",
            "   8 - eight      0.995     0.993     0.994      4979\n",
            "    9 - nine      0.996     0.986     0.991      5033\n",
            "\n",
            "    accuracy                          0.994     51000\n",
            "   macro avg      0.994     0.994     0.994     51000\n",
            "weighted avg      0.994     0.994     0.994     51000\n",
            "\n"
          ]
        }
      ]
    },
    {
      "cell_type": "code",
      "source": [
        "session.view = train_dataset.view()\n",
        "session.refresh()\n",
        "print(session.url)"
      ],
      "metadata": {
        "id": "MimuXxRsTvP4",
        "colab": {
          "base_uri": "https://localhost:8080/",
          "height": 34
        },
        "outputId": "c929d5b5-f95d-4d7e-d4c3-0b75464b5ca8"
      },
      "execution_count": 77,
      "outputs": [
        {
          "output_type": "stream",
          "name": "stdout",
          "text": [
            "https://5151-gpu-t4-hm-q0i2puutqv5p-c.asia-east1-1.prod.colab.dev?polling=true\n"
          ]
        }
      ]
    },
    {
      "cell_type": "markdown",
      "source": [
        "## Creating a View of the Mislabeled Images in the Training Data\n",
        "\n",
        "**Identifying Potential Annotation Errors Through Model Predictions**\n",
        "\n",
        "When a trained model disagrees with ground truth labels, this often reveals annotation errors rather than model failures. A well-trained neural network that has learned robust patterns from thousands of examples may be more reliable than human annotators on ambiguous cases. This principle becomes valuable for quality control in large datasets where manual verification of every sample is impractical.\n",
        "\n",
        "**The Logic Behind Mislabel Detection**\n",
        "\n",
        "Models learn statistical patterns across the entire dataset. When a model with high accuracy predicts a different label than the ground truth, several scenarios are possible: the model made an error, the annotation is incorrect, or the sample is ambiguous. By examining these disagreements, we can identify samples that warrant human review.\n",
        "\n",
        "For MNIST, known annotation errors exist in the original dataset. Research has identified several hundred ambiguous or mislabeled samples where even human experts disagree on the correct digit. Our trained LeNet model, having learned from 50,000+ examples, may detect these problematic cases more than the original annotators.\n",
        "\n",
        "Creating a filtered view of these disagreements allows us to focus human attention on the most questionable samples. This approach scales annotation quality control from reviewing entire datasets to examining only the cases where model and annotator disagree.\n",
        "\n",
        "This approach to finding annotation errors represents a powerful application of model predictions for dataset improvement, transforming disagreements between model and labels into opportunities for enhanced data quality.\n",
        "\n",
        "We focus on the mislabeled images from the training set, as these are the ones that we should first **augment** to improve the performance of the model."
      ],
      "metadata": {
        "id": "qOivFC0taQk6"
      }
    },
    {
      "cell_type": "code",
      "source": [
        "# Here we create a view that filters\n",
        "mislabeled_train_images_view = \\\n",
        "train_dataset.match(\n",
        "    F(\"lenet_train_classification.label\")!= F(\"ground_truth.label\"))\n",
        "\n",
        "mislabeled_train_images_view\n"
      ],
      "metadata": {
        "id": "auV2OrzEFzdp",
        "colab": {
          "base_uri": "https://localhost:8080/"
        },
        "outputId": "8c0c89bb-41a8-40f2-c4db-33a6189b499a"
      },
      "execution_count": 78,
      "outputs": [
        {
          "output_type": "execute_result",
          "data": {
            "text/plain": [
              "Dataset:     mnist-training-set\n",
              "Media type:  image\n",
              "Num samples: 304\n",
              "Sample fields:\n",
              "    id:                         fiftyone.core.fields.ObjectIdField\n",
              "    filepath:                   fiftyone.core.fields.StringField\n",
              "    tags:                       fiftyone.core.fields.ListField(fiftyone.core.fields.StringField)\n",
              "    metadata:                   fiftyone.core.fields.EmbeddedDocumentField(fiftyone.core.metadata.ImageMetadata)\n",
              "    created_at:                 fiftyone.core.fields.DateTimeField\n",
              "    last_modified_at:           fiftyone.core.fields.DateTimeField\n",
              "    ground_truth:               fiftyone.core.fields.EmbeddedDocumentField(fiftyone.core.labels.Classification)\n",
              "    lenet_train_classification: fiftyone.core.fields.EmbeddedDocumentField(fiftyone.core.labels.Classification)\n",
              "    lenet_train_eval:           fiftyone.core.fields.BooleanField\n",
              "View stages:\n",
              "    1. Match(filter={'$expr': {'$ne': [...]}})"
            ]
          },
          "metadata": {},
          "execution_count": 78
        }
      ]
    },
    {
      "cell_type": "code",
      "source": [
        "session.view = mislabeled_train_images_view\n",
        "session.refresh()\n",
        "print(session.url)"
      ],
      "metadata": {
        "id": "TX7nYlhciQHW",
        "colab": {
          "base_uri": "https://localhost:8080/",
          "height": 34
        },
        "outputId": "867ccb68-087f-4747-a702-ad9be7ba99c1"
      },
      "execution_count": 79,
      "outputs": [
        {
          "output_type": "stream",
          "name": "stdout",
          "text": [
            "https://5151-gpu-t4-hm-q0i2puutqv5p-c.asia-east1-1.prod.colab.dev?polling=true\n"
          ]
        }
      ]
    },
    {
      "cell_type": "markdown",
      "source": [
        "## Extract Embeddings from the Trained LeNet\n",
        "\n",
        "**Capturing Learned Feature Representations**\n",
        "\n",
        "Neural networks learn hierarchical feature representations through their layers. While the final layer produces class predictions, intermediate layers contain rich embeddings that capture the visual patterns the model has learned to distinguish digits. These learned features often differ from pre-trained embeddings like CLIP, as they are optimized for the specific task of handwritten digit recognition.\n",
        "\n",
        "Extracting embeddings from our trained LeNet model allows us to analyze what visual concepts the network has learned. The fully connected layer before the final classification layer (fc1) produces 84-dimensional vectors that represent each digit in the feature space that the model uses for decision-making.\n",
        "\n"
      ],
      "metadata": {
        "id": "m9rqX4iDi6Tq"
      }
    },
    {
      "cell_type": "code",
      "source": [
        "print(\"Creating non-shuffled DataLoader for embedding extraction...\")\n",
        "\n",
        "# Create a DataLoader specifically for inference with NO SHUFFLING\n",
        "train_inference_loader = torch.utils.data.DataLoader(\n",
        "    torch_train_set,\n",
        "    batch_size=batch_size,\n",
        "    shuffle=False,\n",
        "    num_workers=num_workers,\n",
        "    pin_memory=True\n",
        ")\n",
        "\n",
        "print(f\"Non-shuffled inference DataLoader created with {len(train_inference_loader)} batches\")\n",
        "\n",
        "# Extract embeddings from the fc1 layer (84-dimensional representations)\n",
        "print(\"Extracting LeNet embeddings with proper sample ordering...\")\n",
        "\n",
        "lenet_embeddings = extract_lenet_embeddings(\n",
        "    model=loaded_model,\n",
        "    dataloader=train_inference_loader,  # ✅ Use non-shuffled loader\n",
        "    device=device,\n",
        "    layer_name='fc1'  # 84-dimensional embeddings from fully connected layer\n",
        ")"
      ],
      "metadata": {
        "id": "UkdkbeSFuwKI",
        "colab": {
          "base_uri": "https://localhost:8080/"
        },
        "outputId": "a701462b-0cee-4641-9b0d-d6558ffbd8ea"
      },
      "execution_count": 80,
      "outputs": [
        {
          "output_type": "stream",
          "name": "stdout",
          "text": [
            "Creating non-shuffled DataLoader for embedding extraction...\n",
            "Non-shuffled inference DataLoader created with 797 batches\n",
            "Extracting LeNet embeddings with proper sample ordering...\n",
            "Extracting embeddings from fc1 layer...\n"
          ]
        },
        {
          "output_type": "stream",
          "name": "stderr",
          "text": [
            "Processing batches: 100%|██████████| 797/797 [00:05<00:00, 157.17it/s]\n"
          ]
        },
        {
          "output_type": "stream",
          "name": "stdout",
          "text": [
            "Extracted embeddings shape: (51000, 84)\n",
            "Embedding dimension: 84\n"
          ]
        }
      ]
    },
    {
      "cell_type": "code",
      "source": [
        "# Wrap embeddings to their associated filenames ()\n",
        "embeddings_dict = {img_path: emb for img_path, emb in zip(torch_train_set.image_paths, lenet_embeddings)}"
      ],
      "metadata": {
        "id": "nq7o80pLz5cd"
      },
      "execution_count": 81,
      "outputs": []
    },
    {
      "cell_type": "markdown",
      "source": [
        "## Store LeNet Embeddings in FiftyOne Dataset\n",
        "\n",
        "**Integrating Model Features with Dataset Metadata**\n",
        "\n",
        "After extracting embeddings from our trained LeNet model, we need to store them in our FiftyOne dataset to enable analysis and visualization. This integration allows us to leverage FiftyOne's powerful querying and visualization capabilities on the learned feature representations.\n",
        "\n",
        "Storing embeddings as sample fields transforms abstract neural network features into queryable fields. We can then compute similarity indices, create visualizations, and analyze how the model's learned representations relate to prediction accuracy and sample characteristics."
      ],
      "metadata": {
        "id": "IErbAydN5hRz"
      }
    },
    {
      "cell_type": "code",
      "source": [
        "print(\"Storing LeNet embeddings in FiftyOne dataset...\")\n",
        "\n",
        "# Store embeddings in each sample\n",
        "for index, sample in enumerate(tqdm(train_dataset, desc=\"Storing embeddings\")):\n",
        "    sample[\"lenet_embeddings\"] = lenet_embeddings[index]\n",
        "    sample.save()\n",
        "\n",
        "print(\"LeNet embeddings stored successfully in samples from train_dataset.\")\n",
        "\n",
        "# Verify storage\n",
        "sample = train_dataset.first()\n",
        "print(f\"Sample LeNet embedding shape: {sample.lenet_embeddings.shape}\")\n",
        "print(f\"Embedding type: {type(sample.lenet_embeddings)}\")\n",
        "\n",
        "# Persisting the change\n",
        "train_dataset.save()"
      ],
      "metadata": {
        "id": "6iXPUdi3u2v3",
        "colab": {
          "base_uri": "https://localhost:8080/"
        },
        "outputId": "4e396e85-e689-4add-f901-79473f3ff5ab"
      },
      "execution_count": 82,
      "outputs": [
        {
          "output_type": "stream",
          "name": "stdout",
          "text": [
            "Storing LeNet embeddings in FiftyOne dataset...\n"
          ]
        },
        {
          "output_type": "stream",
          "name": "stderr",
          "text": [
            "Storing embeddings: 100%|██████████| 51000/51000 [01:19<00:00, 641.67it/s]"
          ]
        },
        {
          "output_type": "stream",
          "name": "stdout",
          "text": [
            "LeNet embeddings stored successfully in samples from train_dataset.\n",
            "Sample LeNet embedding shape: (84,)\n",
            "Embedding type: <class 'numpy.ndarray'>\n"
          ]
        },
        {
          "output_type": "stream",
          "name": "stderr",
          "text": [
            "\n"
          ]
        }
      ]
    },
    {
      "cell_type": "code",
      "source": [
        "train_dataset.first()"
      ],
      "metadata": {
        "id": "Y41hy9q04zov",
        "colab": {
          "base_uri": "https://localhost:8080/"
        },
        "outputId": "387c7e6f-553c-4905-8e7e-206414381586"
      },
      "execution_count": 83,
      "outputs": [
        {
          "output_type": "execute_result",
          "data": {
            "text/plain": [
              "<Sample: {\n",
              "    'id': '684db86ce6273d19aee2dcad',\n",
              "    'media_type': 'image',\n",
              "    'filepath': '/root/fiftyone/mnist/train/data/000001.jpg',\n",
              "    'tags': ['train'],\n",
              "    'metadata': <ImageMetadata: {\n",
              "        'size_bytes': 884,\n",
              "        'mime_type': 'image/jpeg',\n",
              "        'width': 28,\n",
              "        'height': 28,\n",
              "        'num_channels': 1,\n",
              "    }>,\n",
              "    'created_at': datetime.datetime(2025, 6, 14, 18, 0, 7, 82000),\n",
              "    'last_modified_at': datetime.datetime(2025, 6, 14, 18, 4, 36, 844000),\n",
              "    'ground_truth': <Classification: {\n",
              "        'id': '684db86ce6273d19aee2dcac',\n",
              "        'tags': [],\n",
              "        'label': '5 - five',\n",
              "        'confidence': None,\n",
              "        'logits': None,\n",
              "    }>,\n",
              "    'lenet_train_classification': <Classification: {\n",
              "        'id': '684db963e6273d19aee4d88e',\n",
              "        'tags': [],\n",
              "        'label': '5 - five',\n",
              "        'confidence': 1.0,\n",
              "        'logits': array([-19.45707703, -19.89377213, -21.02772331,  -4.66832161,\n",
              "               -16.74676704,  17.32675552, -11.14080048, -19.48103714,\n",
              "               -10.5084095 ,  -5.24538612]),\n",
              "    }>,\n",
              "    'lenet_train_eval': True,\n",
              "    'lenet_embeddings': array([ 10.11623   ,  -5.3310404 ,  -6.284894  , -18.016117  ,\n",
              "           -12.857053  ,  -9.533463  ,  -4.978774  ,  -9.8441305 ,\n",
              "             4.227047  ,   6.493386  ,  -7.3688674 ,   5.3689804 ,\n",
              "             0.97655207,  -4.998061  ,  -9.118319  ,   6.8866043 ,\n",
              "            -3.0108368 ,  -6.7244463 , -12.331934  , -14.509695  ,\n",
              "            -3.728743  ,   2.2976873 ,  -5.8440633 ,   4.6768637 ,\n",
              "            -3.2726827 , -13.648991  , -10.408069  ,  -4.574266  ,\n",
              "           -11.185869  ,  -7.954747  ,   7.2548513 ,   4.322931  ,\n",
              "            -6.9363365 ,   0.81290877,  -9.271515  , -12.69166   ,\n",
              "             7.883577  , -11.174189  ,  -7.626971  ,   3.2091382 ,\n",
              "           -11.764746  , -12.476526  ,   4.786168  ,   9.264273  ,\n",
              "            -4.972993  ,   3.3215384 ,  -5.7006583 ,  -8.7430525 ,\n",
              "             4.6079516 ,  -9.519852  ,  -2.636698  ,  -5.81213   ,\n",
              "            -3.7319026 ,   8.0722475 ,  -8.142964  , -15.926274  ,\n",
              "            -3.4316835 ,  -1.7970015 ,  -3.2210906 ,   5.8496747 ,\n",
              "           -15.193713  ,  -3.884061  ,   3.7603614 ,   2.6661959 ,\n",
              "             6.159799  ,  -8.77726   , -10.40547   ,   7.7976956 ,\n",
              "             4.6668544 ,   6.4191103 ,   0.49267042,  -2.0294356 ,\n",
              "             5.0151296 ,   8.112529  ,   6.408894  ,  -5.3196325 ,\n",
              "            -6.143031  ,  10.730824  ,  -7.8141103 ,  -0.61318475,\n",
              "            -3.1810863 ,  -7.0111413 , -10.6274185 ,  -2.9257727 ],\n",
              "          dtype=float32),\n",
              "}>"
            ]
          },
          "metadata": {},
          "execution_count": 83
        }
      ]
    },
    {
      "cell_type": "code",
      "source": [
        "train_dataset.get_field_schema()"
      ],
      "metadata": {
        "id": "vglV17Mq4Pi4",
        "colab": {
          "base_uri": "https://localhost:8080/"
        },
        "outputId": "20abd51d-2716-43a5-8f59-89e5bbfd63b9"
      },
      "execution_count": 84,
      "outputs": [
        {
          "output_type": "execute_result",
          "data": {
            "text/plain": [
              "OrderedDict([('id', <fiftyone.core.fields.ObjectIdField at 0x7ba13611d4d0>),\n",
              "             ('filepath',\n",
              "              <fiftyone.core.fields.StringField at 0x7ba13611e650>),\n",
              "             ('tags', <fiftyone.core.fields.ListField at 0x7ba13611e250>),\n",
              "             ('metadata',\n",
              "              <fiftyone.core.fields.EmbeddedDocumentField at 0x7ba13611fa90>),\n",
              "             ('created_at',\n",
              "              <fiftyone.core.fields.DateTimeField at 0x7ba13611f690>),\n",
              "             ('last_modified_at',\n",
              "              <fiftyone.core.fields.DateTimeField at 0x7ba13611ce50>),\n",
              "             ('ground_truth',\n",
              "              <fiftyone.core.fields.EmbeddedDocumentField at 0x7ba13611c210>),\n",
              "             ('lenet_train_classification',\n",
              "              <fiftyone.core.fields.EmbeddedDocumentField at 0x7ba1378adf10>),\n",
              "             ('lenet_train_eval',\n",
              "              <fiftyone.core.fields.BooleanField at 0x7ba1378ae010>),\n",
              "             ('lenet_embeddings',\n",
              "              <fiftyone.core.fields.VectorField at 0x7ba135cc6410>)])"
            ]
          },
          "metadata": {},
          "execution_count": 84
        }
      ]
    },
    {
      "cell_type": "markdown",
      "source": [
        "## Create a Similarity Index Based on the CNN embeddings\n",
        "\n",
        "After extracting embeddings from our trained LeNet model, we create a **similarity index**. This index allows for efficient searching of samples based on their learned feature representations. Similar to the CLIP similarity index, this enables us to quickly find training images that are visually similar according to what the LeNet model has learned, which is useful for exploring clusters and identifying related samples in the model's feature space.\n",
        "\n",
        "\n"
      ],
      "metadata": {
        "id": "ynqq_Ymg8brY"
      }
    },
    {
      "cell_type": "code",
      "source": [
        "print(\"Computing similarity index based on LeNet embeddings...\")\n",
        "\n",
        "lenet_similarity_index = fob.compute_similarity(\n",
        "    train_dataset,  # Using the training dataset\n",
        "    embeddings=\"lenet_embeddings\",  # Field containing the LeNet embeddings\n",
        "    brain_key=\"lenet_cosine_similarity_index\",  # Unique identifier for this similarity index\n",
        "    backend=\"sklearn\",  # Can also use \"pinecone\" for large datasets\n",
        "    metric=\"cosine\"  # Similarity metric\n",
        ")\n",
        "\n",
        "print(f\"LeNet similarity index computed successfully!\")\n",
        "\n"
      ],
      "metadata": {
        "id": "bsu1gMZe8Kvm",
        "colab": {
          "base_uri": "https://localhost:8080/"
        },
        "outputId": "665cb685-aee2-44c9-8324-d7932a1ce906"
      },
      "execution_count": 85,
      "outputs": [
        {
          "output_type": "stream",
          "name": "stdout",
          "text": [
            "Computing similarity index based on LeNet embeddings...\n",
            "LeNet similarity index computed successfully!\n"
          ]
        }
      ]
    },
    {
      "cell_type": "code",
      "source": [
        "# Display similarity index information\n",
        "print(f\"LeNet Similarity Index Details:\")\n",
        "print(f\"- Total samples indexed: {len(train_dataset)}\")\n",
        "print(f\"- Embeddings field: {lenet_similarity_index.config.embeddings_field}\")\n",
        "print(f\"- Metric: {lenet_similarity_index.config.metric}\")\n",
        "\n",
        "# Example 1: Find similar images to a specific digit using LeNet embeddings\n",
        "# Let's pick a sample from the training dataset\n",
        "query_sample = train_dataset.first()\n",
        "print(f\"\"\"\\nQuerying for images similar to sample: {query_sample.id}\n",
        "            with label {query_sample.ground_truth.label}\n",
        "            using LeNet embeddings\"\"\")\n",
        "\n",
        "# Use the sample ID (string) instead of the sample object\n",
        "similar_view_lenet = train_dataset.sort_by_similarity(\n",
        "    query_sample.id,  # Pass the sample ID\n",
        "    brain_key=\"lenet_cosine_similarity_index\",\n",
        "    k=10,  # Return top 10 most similar\n",
        "    reverse=False  # Most similar first\n",
        ")\n",
        "\n",
        "print(f\"Found {len(similar_view_lenet)} most similar samples using LeNet embeddings\")\n",
        "\n",
        "# Update FiftyOne App view to show similar samples\n",
        "session.view = similar_view_lenet\n",
        "session.refresh()\n",
        "print(session.url)"
      ],
      "metadata": {
        "id": "neWE1NCOKjKV",
        "colab": {
          "base_uri": "https://localhost:8080/",
          "height": 191
        },
        "outputId": "8f5600dd-9c34-4578-bad6-e8739d393070"
      },
      "execution_count": 86,
      "outputs": [
        {
          "output_type": "stream",
          "name": "stdout",
          "text": [
            "LeNet Similarity Index Details:\n",
            "- Total samples indexed: 51000\n",
            "- Embeddings field: lenet_embeddings\n",
            "- Metric: cosine\n",
            "\n",
            "Querying for images similar to sample: 684db86ce6273d19aee2dcad\n",
            "            with label 5 - five\n",
            "            using LeNet embeddings\n",
            "Found 10 most similar samples using LeNet embeddings\n",
            "https://5151-gpu-t4-hm-q0i2puutqv5p-c.asia-east1-1.prod.colab.dev?polling=true\n"
          ]
        }
      ]
    },
    {
      "cell_type": "markdown",
      "source": [
        "## Evaluating Image Representativeness and Uniqueness through their Embeddings\n",
        "\n",
        "**Image representativeness** and **uniqueness** are metrics for understanding dataset quality and composition that work hand-in-hand with clustering analysis.\n",
        "\n",
        "**Representativeness** measures how well a sample captures the central characteristics of its cluster, highly representative images sit near cluster centers and exemplify the common visual patterns within each group.\n",
        "\n",
        "**Uniqueness** identifies samples that are distant from any cluster centers, often representing edge cases, rare scenarios, or potential annotation errors that clustering algorithms struggle to categorize.\n",
        "\n",
        "These scores are normalized to [0, 1] and become particularly insightful when viewed alongside clustering results. Representative samples serve as ideal cluster exemplars for understanding what each group represents, while highly unique samples often fall between clusters or form singleton groups, indicating unusual data points that may require special handling in our machine learning pipeline.\n"
      ],
      "metadata": {
        "id": "FISLQ-LuSlaS"
      }
    },
    {
      "cell_type": "code",
      "source": [
        "## Compute Uniqueness and Representativeness for LeNet Embeddings\n",
        "\n",
        "print(\"Computing uniqueness scores based on LeNet embeddings...\")\n",
        "fob.compute_uniqueness(train_dataset, embeddings='lenet_embeddings')\n",
        "\n",
        "print(\"Computing representativeness scores based on LeNet embeddings...\")\n",
        "fob.compute_representativeness(train_dataset, embeddings='lenet_embeddings')\n",
        "\n",
        "print(\"Uniqueness and representativeness computation complete.\")\n",
        "\n"
      ],
      "metadata": {
        "id": "huEFWGbiu6kV",
        "colab": {
          "base_uri": "https://localhost:8080/"
        },
        "outputId": "8294bdc2-0feb-4175-f188-b625c7a72d04"
      },
      "execution_count": 87,
      "outputs": [
        {
          "output_type": "stream",
          "name": "stdout",
          "text": [
            "Computing uniqueness scores based on LeNet embeddings...\n",
            "Computing uniqueness...\n"
          ]
        },
        {
          "output_type": "stream",
          "name": "stderr",
          "text": [
            "INFO:fiftyone.brain.internal.core.uniqueness:Computing uniqueness...\n"
          ]
        },
        {
          "output_type": "stream",
          "name": "stdout",
          "text": [
            "Uniqueness computation complete\n"
          ]
        },
        {
          "output_type": "stream",
          "name": "stderr",
          "text": [
            "INFO:fiftyone.brain.internal.core.uniqueness:Uniqueness computation complete\n"
          ]
        },
        {
          "output_type": "stream",
          "name": "stdout",
          "text": [
            "Computing representativeness scores based on LeNet embeddings...\n",
            "Computing representativeness...\n"
          ]
        },
        {
          "output_type": "stream",
          "name": "stderr",
          "text": [
            "INFO:fiftyone.brain.internal.core.representativeness:Computing representativeness...\n"
          ]
        },
        {
          "output_type": "stream",
          "name": "stdout",
          "text": [
            "Computing clusters for 51000 embeddings; this may take awhile...\n"
          ]
        },
        {
          "output_type": "stream",
          "name": "stderr",
          "text": [
            "INFO:fiftyone.brain.internal.core.representativeness:Computing clusters for 51000 embeddings; this may take awhile...\n"
          ]
        },
        {
          "output_type": "stream",
          "name": "stdout",
          "text": [
            "Representativeness computation complete\n"
          ]
        },
        {
          "output_type": "stream",
          "name": "stderr",
          "text": [
            "INFO:fiftyone.brain.internal.core.representativeness:Representativeness computation complete\n"
          ]
        },
        {
          "output_type": "stream",
          "name": "stdout",
          "text": [
            "Uniqueness and representativeness computation complete.\n"
          ]
        }
      ]
    },
    {
      "cell_type": "code",
      "source": [
        "# Compute mistakenness on samples on the train_set\n",
        "# Mistakenness identifies samples where the model's confident predictions disagree with ground truth labels.\n",
        "# High mistakenness scores suggest potential annotation errors rather than model failures.\n",
        "fob.compute_mistakenness(train_dataset,\n",
        "                         pred_field=\"lenet_train_classification\",\n",
        "                         label_field=\"ground_truth\")\n",
        "\n",
        "print(\"Mistakenness computed successfully for train_dataset.\")\n",
        "\n"
      ],
      "metadata": {
        "id": "FsJ4gY-7Fda7",
        "colab": {
          "base_uri": "https://localhost:8080/"
        },
        "outputId": "56bc9694-d652-4233-8078-63ad1281d222"
      },
      "execution_count": 88,
      "outputs": [
        {
          "output_type": "stream",
          "name": "stdout",
          "text": [
            "Computing mistakenness...\n"
          ]
        },
        {
          "output_type": "stream",
          "name": "stderr",
          "text": [
            "INFO:fiftyone.brain.internal.core.mistakenness:Computing mistakenness...\n"
          ]
        },
        {
          "output_type": "stream",
          "name": "stdout",
          "text": [
            " 100% |█████████████| 51000/51000 [1.3m elapsed, 0s remaining, 643.8 samples/s]      \n"
          ]
        },
        {
          "output_type": "stream",
          "name": "stderr",
          "text": [
            "INFO:eta.core.utils: 100% |█████████████| 51000/51000 [1.3m elapsed, 0s remaining, 643.8 samples/s]      \n"
          ]
        },
        {
          "output_type": "stream",
          "name": "stdout",
          "text": [
            "Mistakenness computation complete\n"
          ]
        },
        {
          "output_type": "stream",
          "name": "stderr",
          "text": [
            "INFO:fiftyone.brain.internal.core.mistakenness:Mistakenness computation complete\n"
          ]
        },
        {
          "output_type": "stream",
          "name": "stdout",
          "text": [
            "Mistakenness computed successfully for train_dataset.\n"
          ]
        }
      ]
    },
    {
      "cell_type": "code",
      "source": [
        "# Compute quantiles of mistakenness\n",
        "mistakenness_quantiles = train_dataset.quantiles(\n",
        "    \"mistakenness\",\n",
        "    [0.9, 0.95, 0.99]\n",
        ")\n",
        "\n",
        "print(\"\\nMistakenness quantiles for train_dataset:\")\n",
        "print(mistakenness_quantiles)\n"
      ],
      "metadata": {
        "id": "SgK1sJDHHEgr",
        "colab": {
          "base_uri": "https://localhost:8080/"
        },
        "outputId": "ad26b09d-f338-40b4-f011-b79b5250b106"
      },
      "execution_count": 89,
      "outputs": [
        {
          "output_type": "stream",
          "name": "stdout",
          "text": [
            "\n",
            "Mistakenness quantiles for train_dataset:\n",
            "[0.0001900196075439453, 0.0032596588134765625, 0.16201159358024597]\n"
          ]
        }
      ]
    },
    {
      "cell_type": "code",
      "source": [
        "# Hardness is a measure computed based on model prediction output (through\n",
        "# logits) that summarizes a measure of the uncertainty the model had with the\n",
        "# sample. This makes hardness quantitative and can be used to detect things\n",
        "# like hard samples and annotation errors\n",
        "fob.compute_hardness(train_dataset,\n",
        "                     label_field='lenet_train_classification',\n",
        "                     )\n",
        "\n",
        "print(\"Hardness computed successfully for train_dataset.\")\n",
        "\n",
        "session.refresh()\n",
        "print(f\"\\nFiftyOne App URL: {session.url}\")\n"
      ],
      "metadata": {
        "id": "Dm1VTvYHPlyT",
        "colab": {
          "base_uri": "https://localhost:8080/",
          "height": 173
        },
        "outputId": "cfb1b4f1-180b-4858-9167-e4a59b5e1eba"
      },
      "execution_count": 90,
      "outputs": [
        {
          "output_type": "stream",
          "name": "stdout",
          "text": [
            "Computing hardness...\n"
          ]
        },
        {
          "output_type": "stream",
          "name": "stderr",
          "text": [
            "INFO:fiftyone.brain.internal.core.hardness:Computing hardness...\n"
          ]
        },
        {
          "output_type": "stream",
          "name": "stdout",
          "text": [
            " 100% |█████████████| 51000/51000 [1.5m elapsed, 0s remaining, 566.3 samples/s]      \n"
          ]
        },
        {
          "output_type": "stream",
          "name": "stderr",
          "text": [
            "INFO:eta.core.utils: 100% |█████████████| 51000/51000 [1.5m elapsed, 0s remaining, 566.3 samples/s]      \n"
          ]
        },
        {
          "output_type": "stream",
          "name": "stdout",
          "text": [
            "Hardness computation complete\n"
          ]
        },
        {
          "output_type": "stream",
          "name": "stderr",
          "text": [
            "INFO:fiftyone.brain.internal.core.hardness:Hardness computation complete\n"
          ]
        },
        {
          "output_type": "stream",
          "name": "stdout",
          "text": [
            "Hardness computed successfully for train_dataset.\n",
            "\n",
            "FiftyOne App URL: https://5151-gpu-t4-hm-q0i2puutqv5p-c.asia-east1-1.prod.colab.dev?polling=true\n"
          ]
        }
      ]
    },
    {
      "cell_type": "code",
      "source": [
        "# Compute quantiles of hardness\n",
        "hardness_quantiles = train_dataset.quantiles(\n",
        "    \"hardness\",\n",
        "    [0.9, 0.95, 0.99]\n",
        ")\n",
        "\n",
        "print(\"\\nHardness quantiles for train_dataset:\")\n",
        "print(hardness_quantiles)"
      ],
      "metadata": {
        "colab": {
          "base_uri": "https://localhost:8080/"
        },
        "id": "BlHELglv0NKr",
        "outputId": "d1213bb6-17b4-471c-c1a0-2d322e9ccc9b"
      },
      "execution_count": 91,
      "outputs": [
        {
          "output_type": "stream",
          "name": "stdout",
          "text": [
            "\n",
            "Hardness quantiles for train_dataset:\n",
            "[0.0036211465406892295, 0.0422801294953652, 0.6641968621269847]\n"
          ]
        }
      ]
    },
    {
      "cell_type": "markdown",
      "source": [
        "## Create 2D Visualizations of LeNet Embeddings\n",
        "Reducing High-Dimensional Features to Visual Form\n",
        "Our LeNet embeddings exist in 84-dimensional space, making them impossible to visualize directly. Dimensionality reduction techniques transform these high-dimensional vectors into 2D points that preserve important relationships between samples.\n",
        "\n",
        "Principal Component Analysis (PCA) finds the directions of maximum variance in the data and projects samples onto the two most important axes. This linear transformation preserves global structure and shows which samples vary most from the dataset center.\n",
        "\n",
        "\n",
        "UMAP (Uniform Manifold Approximation and Projection) uses non-linear techniques to preserve local neighborhoods while revealing cluster structure. UMAP often separates distinct groups more clearly than PCA, making it valuable for identifying how the model groups similar digits.\n"
      ],
      "metadata": {
        "id": "DUt9Tx2z6LiF"
      }
    },
    {
      "cell_type": "code",
      "source": [
        "print(\"Creating 2D visualizations of LeNet embeddings...\")\n",
        "\n",
        "# PCA visualization\n",
        "pca_viz_lenet = fob.compute_visualization(\n",
        "    train_dataset,\n",
        "    method=\"pca\",\n",
        "    embeddings=\"lenet_embeddings\",\n",
        "    num_dims=2,\n",
        "    brain_key=\"pca_lenet_embeddings\"\n",
        ")\n",
        "\n",
        "# UMAP visualization\n",
        "umap_viz_lenet = fob.compute_visualization(\n",
        "    train_dataset,\n",
        "    method=\"umap\",\n",
        "    embeddings=\"lenet_embeddings\",\n",
        "    num_dims=2,\n",
        "    brain_key=\"umap_lenet_embeddings\"\n",
        ")\n",
        "\n",
        "print(\"2D visualizations created successfully.\")"
      ],
      "metadata": {
        "id": "kIIRMjCi6C1S",
        "colab": {
          "base_uri": "https://localhost:8080/",
          "height": 604,
          "referenced_widgets": [
            "7c8ed97918384c3284cb68a3c8299e81",
            "2349fff23a4f44948729f63bfc1c2a4c",
            "b8b368b61330410685b363e1f2bc9c80",
            "8176dc816b0f4751b6a7bdb69c1ea699",
            "b32a9edc2eec48a3966d91e5d5045cc4",
            "890470403af5446d8b2eaf61895a981d",
            "528f7e2d90ee43708c94098eb0a93852",
            "0111466bd8bf41f2b3a6ac49d8423108",
            "3160abfb4e674b72862addd04fdedcb0",
            "8a3949e3b1f6445982b2f960ecc8753e",
            "eeb1f8469a32489c813a6454f94db5c1"
          ]
        },
        "outputId": "6baea449-94bd-4a8f-acd2-a41bb2b9b939"
      },
      "execution_count": 92,
      "outputs": [
        {
          "output_type": "stream",
          "name": "stdout",
          "text": [
            "Creating 2D visualizations of LeNet embeddings...\n",
            "Generating visualization...\n"
          ]
        },
        {
          "output_type": "stream",
          "name": "stderr",
          "text": [
            "INFO:fiftyone.brain.visualization:Generating visualization...\n"
          ]
        },
        {
          "output_type": "stream",
          "name": "stdout",
          "text": [
            "Generating visualization...\n"
          ]
        },
        {
          "output_type": "stream",
          "name": "stderr",
          "text": [
            "INFO:fiftyone.brain.visualization:Generating visualization...\n"
          ]
        },
        {
          "output_type": "stream",
          "name": "stdout",
          "text": [
            "UMAP( verbose=True)\n",
            "Sat Jun 14 18:09:15 2025 Construct fuzzy simplicial set\n",
            "Sat Jun 14 18:09:15 2025 Finding Nearest Neighbors\n",
            "Sat Jun 14 18:09:15 2025 Building RP forest with 16 trees\n"
          ]
        },
        {
          "output_type": "stream",
          "name": "stderr",
          "text": [
            "/usr/local/lib/python3.11/dist-packages/sklearn/utils/deprecation.py:151: FutureWarning:\n",
            "\n",
            "'force_all_finite' was renamed to 'ensure_all_finite' in 1.6 and will be removed in 1.8.\n",
            "\n"
          ]
        },
        {
          "output_type": "stream",
          "name": "stdout",
          "text": [
            "Sat Jun 14 18:09:16 2025 NN descent for 16 iterations\n",
            "\t 1  /  16\n",
            "\t 2  /  16\n",
            "\t 3  /  16\n",
            "\tStopping threshold met -- exiting after 3 iterations\n",
            "Sat Jun 14 18:09:17 2025 Finished Nearest Neighbor Search\n",
            "Sat Jun 14 18:09:18 2025 Construct embedding\n"
          ]
        },
        {
          "output_type": "display_data",
          "data": {
            "text/plain": [
              "Epochs completed:   0%|            0/200 [00:00]"
            ],
            "application/vnd.jupyter.widget-view+json": {
              "version_major": 2,
              "version_minor": 0,
              "model_id": "7c8ed97918384c3284cb68a3c8299e81"
            }
          },
          "metadata": {}
        },
        {
          "output_type": "stream",
          "name": "stdout",
          "text": [
            "\tcompleted  0  /  200 epochs\n",
            "\tcompleted  20  /  200 epochs\n",
            "\tcompleted  40  /  200 epochs\n",
            "\tcompleted  60  /  200 epochs\n",
            "\tcompleted  80  /  200 epochs\n",
            "\tcompleted  100  /  200 epochs\n",
            "\tcompleted  120  /  200 epochs\n",
            "\tcompleted  140  /  200 epochs\n",
            "\tcompleted  160  /  200 epochs\n",
            "\tcompleted  180  /  200 epochs\n",
            "Sat Jun 14 18:09:34 2025 Finished embedding\n",
            "2D visualizations created successfully.\n"
          ]
        }
      ]
    },
    {
      "cell_type": "markdown",
      "source": [
        "#### PCA 2D Projection of the CNN Embedding Space\n",
        "![](https://github.com/andandandand/practical-computer-vision/blob/main/images/pca_lenet_embeddings.png?raw=true)\n",
        "\n",
        "\n",
        "#### UMAP 2D Projection of the CNN Embedding Space\n",
        "![](https://github.com/andandandand/practical-computer-vision/blob/main/images/umap_lenet_embeddings.png?raw=true)"
      ],
      "metadata": {
        "id": "XB3nQoQyDGDU"
      }
    },
    {
      "cell_type": "markdown",
      "source": [
        "Inspect the projected embeddings on the FiftyOne app. Compare how the PCA and the UMAP projections look like."
      ],
      "metadata": {
        "id": "c67c_ZJ0JHce"
      }
    },
    {
      "cell_type": "code",
      "source": [
        "session.refresh()\n",
        "print(session.url)"
      ],
      "metadata": {
        "id": "8mBoPU7nCUpq",
        "colab": {
          "base_uri": "https://localhost:8080/",
          "height": 34
        },
        "outputId": "5ec13101-cd7a-472f-acb7-44284525d127"
      },
      "execution_count": 93,
      "outputs": [
        {
          "output_type": "stream",
          "name": "stdout",
          "text": [
            "https://5151-gpu-t4-hm-q0i2puutqv5p-c.asia-east1-1.prod.colab.dev?polling=true\n"
          ]
        }
      ]
    },
    {
      "cell_type": "markdown",
      "source": [
        "## Exploring Uniqueness and Representativeness with Dataset Aggregations\n",
        "\n",
        "**Understanding Score Distributions Through Statistical Analysis**\n",
        "\n",
        "We can use FiftyOne's aggregation methods to explore the distribution of uniqueness and representativeness values across our dataset. This analysis helps us identify meaningful thresholds for categorizing our samples based on their statistical properties.\n",
        "\n",
        "**Quantile Analysis for Threshold Selection**\n",
        "\n",
        "Quantiles divide our data into meaningful segments, revealing the distribution shape and enabling principled threshold selection. The 25th, 50th (median), 75th, and 95th percentiles help us understand where most samples fall and identify the truly exceptional cases.\n",
        "\n",
        "For uniqueness scores, the 95th percentile reveals the most unusual samples that fall far from any cluster centers. These often represent edge cases, annotation errors, or rare variants that deserve special attention. The 75th percentile for representativeness identifies samples that exemplify their clusters well, making them ideal candidates for visualization or as training exemplars.\n",
        "\n",
        "```python\n",
        "# Get quantiles for uniqueness scores\n",
        "uniqueness_quantiles = train_dataset.aggregate(fo.Quantiles(\"uniqueness\",\n",
        "                                          [0.05, 0.25, 0.5, 0.75, 0.95]))\n",
        "\n",
        "# Get quantiles for representativeness scores  \n",
        "representativeness_quantiles = train_dataset.aggregate(fo.Quantiles(\"representativeness\",\n",
        "                                    [0.05, 0.25, 0.5, 0.75, 0.95]))\n",
        "```\n",
        "\n",
        "These quantile boundaries enable us to create filtered views targeting specific sample types, such as the top 5% most unique samples or the most representative examples from each cluster."
      ],
      "metadata": {
        "id": "988VFPHSIGII"
      }
    },
    {
      "cell_type": "code",
      "source": [
        "# Get quantiles for uniqueness based on LeNet embeddings\n",
        "\n",
        "quantiles_of_interest = [0.5, 0.75, 0.95, 0.99, 0.999]\n",
        "uniqueness_quantiles = train_dataset.quantiles(\"uniqueness\", quantiles_of_interest)\n",
        "quantile_labels = [f\"{label*100:.1f}% \" for label in quantiles_of_interest]\n",
        "print('Uniqueness quantiles')\n",
        "{label: value for label, value in zip(quantile_labels, uniqueness_quantiles)}"
      ],
      "metadata": {
        "id": "cz8rCYfFu_g6",
        "colab": {
          "base_uri": "https://localhost:8080/"
        },
        "outputId": "f1b357b7-93b2-4588-8a45-291f9da5b3c8"
      },
      "execution_count": 94,
      "outputs": [
        {
          "output_type": "stream",
          "name": "stdout",
          "text": [
            "Uniqueness quantiles\n"
          ]
        },
        {
          "output_type": "execute_result",
          "data": {
            "text/plain": [
              "{'50.0% ': 0.11681958678095627,\n",
              " '75.0% ': 0.16839033592692512,\n",
              " '95.0% ': 0.32159067391269425,\n",
              " '99.0% ': 0.4807977633967302,\n",
              " '99.9% ': 0.6553070354662819}"
            ]
          },
          "metadata": {},
          "execution_count": 94
        }
      ]
    },
    {
      "cell_type": "code",
      "source": [
        "quantiles_of_interest = [0.5, 0.75, 0.95, 0.99, 0.999]\n",
        "representativeness_quantiles = train_dataset.quantiles(\"uniqueness\", quantiles_of_interest)\n",
        "print('Representativeness quantiles')\n",
        "{label: value for label, value in zip(quantile_labels, representativeness_quantiles)}"
      ],
      "metadata": {
        "id": "HmdFZa82BtDE",
        "colab": {
          "base_uri": "https://localhost:8080/"
        },
        "outputId": "e517c47a-a047-4412-e3f2-0f778b0d60a3"
      },
      "execution_count": 95,
      "outputs": [
        {
          "output_type": "stream",
          "name": "stdout",
          "text": [
            "Representativeness quantiles\n"
          ]
        },
        {
          "output_type": "execute_result",
          "data": {
            "text/plain": [
              "{'50.0% ': 0.11681958678095627,\n",
              " '75.0% ': 0.16839033592692512,\n",
              " '95.0% ': 0.32159067391269425,\n",
              " '99.0% ': 0.4807977633967302,\n",
              " '99.9% ': 0.6553070354662819}"
            ]
          },
          "metadata": {},
          "execution_count": 95
        }
      ]
    },
    {
      "cell_type": "markdown",
      "source": [
        "## Create Views for Most Unique and Most Representative Samples\n",
        "\n",
        "We can use filtered Views of the dataset to get the most unique values and launch the FiftyOne app from them."
      ],
      "metadata": {
        "id": "Ug4hUH2nXYDP"
      }
    },
    {
      "cell_type": "code",
      "source": [
        "# Most unique samples (top 0.1% - these are often edge cases or outliers)\n",
        "most_unique_samples_view = train_dataset.match(\n",
        "                             F(\"uniqueness\") > uniqueness_quantiles[-1]\n",
        "                             ).sort_by(\"uniqueness\", reverse=True)\n",
        "\n",
        "print(f\"Most unique samples: {len(most_unique_samples_view)} samples\")\n",
        "\n",
        "# Most representative samples (top 0.1% - these exemplify their clusters well)\n",
        "most_representative_samples_view = train_dataset.match(\n",
        "    F(\"representativeness\") > representativeness_quantiles[-1]\n",
        "    ).sort_by(\"representativeness\", reverse=True)\n",
        "\n",
        "print(f\"Most representative samples: {len(most_representative_samples_view)} samples\")\n"
      ],
      "metadata": {
        "id": "Ld0QsUJyCyiE",
        "colab": {
          "base_uri": "https://localhost:8080/"
        },
        "outputId": "3910ef49-9666-4872-dee5-0b96254fd7b1"
      },
      "execution_count": 96,
      "outputs": [
        {
          "output_type": "stream",
          "name": "stdout",
          "text": [
            "Most unique samples: 51 samples\n",
            "Most representative samples: 1482 samples\n"
          ]
        }
      ]
    },
    {
      "cell_type": "code",
      "source": [
        "## Visualize most unique images\n",
        "session.view = most_unique_samples_view\n",
        "session.refresh()\n",
        "print(f\"FiftyOne App URL: {session.url}\")"
      ],
      "metadata": {
        "id": "d5VZ7AE3vCCG",
        "colab": {
          "base_uri": "https://localhost:8080/",
          "height": 34
        },
        "outputId": "97cd6e8c-7308-4b28-e605-b75d97d69108"
      },
      "execution_count": 97,
      "outputs": [
        {
          "output_type": "stream",
          "name": "stdout",
          "text": [
            "FiftyOne App URL: https://5151-gpu-t4-hm-q0i2puutqv5p-c.asia-east1-1.prod.colab.dev?polling=true\n"
          ]
        }
      ]
    },
    {
      "cell_type": "code",
      "source": [
        "# Get the sample with the highest uniqueness score\n",
        "most_unique_sample = most_unique_samples_view.first()\n",
        "\n",
        "print(f\"\"\"Most unique sample ID: {most_unique_sample.id}\n",
        "Uniqueness score: {most_unique_sample.uniqueness:.4f}\n",
        "Ground truth label: {most_unique_sample.ground_truth.label}\"\"\")\n",
        "\n",
        "# Find images most similar to the most unique one using the LeNet similarity index\n",
        "# We want the most similar samples, so reverse=False\n",
        "similar_to_unique_view = train_dataset.sort_by_similarity(\n",
        "    most_unique_sample.id,\n",
        "    brain_key=\"lenet_cosine_similarity_index\", # Use the LeNet index\n",
        "    k=20, # Get the top 20 similar samples (including the unique one itself)\n",
        "    reverse=False\n",
        ")\n",
        "\n",
        "print(f\"Found {len(similar_to_unique_view)} samples most similar to the most unique one.\")\n",
        "\n",
        "# Visualize the samples similar to the most unique one\n",
        "session.view = similar_to_unique_view\n",
        "session.refresh()\n",
        "print(session.url)\n"
      ],
      "metadata": {
        "id": "EOiK_Jrh_bZC",
        "colab": {
          "base_uri": "https://localhost:8080/",
          "height": 104
        },
        "outputId": "51fd3129-cbfa-42c5-de60-dc61da62b6fe"
      },
      "execution_count": 98,
      "outputs": [
        {
          "output_type": "stream",
          "name": "stdout",
          "text": [
            "Most unique sample ID: 684db887e6273d19aee47204\n",
            "Uniqueness score: 1.0000\n",
            "Ground truth label: 5 - five\n",
            "Found 20 samples most similar to the most unique one.\n",
            "https://5151-gpu-t4-hm-q0i2puutqv5p-c.asia-east1-1.prod.colab.dev?polling=true\n"
          ]
        }
      ]
    },
    {
      "cell_type": "code",
      "source": [
        "## Visualize most representative images\n",
        "session.view = most_representative_samples_view\n",
        "session.refresh()\n",
        "print(f\"FiftyOne App URL: {session.url}\")"
      ],
      "metadata": {
        "id": "o9j3UwMpOCqm",
        "colab": {
          "base_uri": "https://localhost:8080/",
          "height": 34
        },
        "outputId": "2c90ce7b-5631-47a6-9e3b-e74bed404d61"
      },
      "execution_count": 99,
      "outputs": [
        {
          "output_type": "stream",
          "name": "stdout",
          "text": [
            "FiftyOne App URL: https://5151-gpu-t4-hm-q0i2puutqv5p-c.asia-east1-1.prod.colab.dev?polling=true\n"
          ]
        }
      ]
    },
    {
      "cell_type": "markdown",
      "source": [
        "## Obtain PyTorch Datasets from the Most Unique and Representative Samples\n",
        "\n",
        "We can create new PyTorch datasets from the samples that are most unique or representative and use them to retrain the model.  "
      ],
      "metadata": {
        "id": "Ua4aI4kVHd7w"
      }
    },
    {
      "cell_type": "code",
      "source": [
        "most_unique_torch_train_ds = CustomTorchImageDataset(most_unique_samples_view,\n",
        "                                                     label_map=label_map,\n",
        "                                                     image_transforms=image_transforms)\n",
        "most_representative_torch_train_ds = CustomTorchImageDataset(most_representative_samples_view,\n",
        "                                                             label_map=label_map,\n",
        "                                                             image_transforms=image_transforms)"
      ],
      "metadata": {
        "id": "W2QdUDxGHt2h",
        "colab": {
          "base_uri": "https://localhost:8080/"
        },
        "outputId": "0980fd5c-a077-4288-edf0-eb3de84b5b78"
      },
      "execution_count": 100,
      "outputs": [
        {
          "output_type": "stream",
          "name": "stdout",
          "text": [
            "CustomTorchImageDataset initialized with 51 samples.\n",
            "CustomTorchImageDataset initialized with 1482 samples.\n"
          ]
        }
      ]
    },
    {
      "cell_type": "code",
      "source": [
        "new_train_set = ConcatDataset([most_unique_torch_train_ds, most_representative_torch_train_ds])"
      ],
      "metadata": {
        "id": "ICAFI-g4rWZr"
      },
      "execution_count": 101,
      "outputs": []
    },
    {
      "cell_type": "markdown",
      "source": [
        "**Suggested Exercise**\n",
        "Create a new DataLoader and retrain the model using **only** the most representative and unique samples. On the next sections there is code that can be used as guide."
      ],
      "metadata": {
        "id": "S_VLAyZEu2C3"
      }
    },
    {
      "cell_type": "markdown",
      "source": [
        "## Augmenting the Misclassified Training Samples and Retrain\n",
        "\n"
      ],
      "metadata": {
        "id": "waBtOaOoaaUm"
      }
    },
    {
      "cell_type": "markdown",
      "source": [
        "### Effective Augmentations for MNIST\n",
        "\n",
        "\n",
        "### Geometric Transformations:\n",
        "\n",
        "* Small rotations (±10-15 degrees): Handwritten digits naturally vary in orientation\n",
        "* Small translations (±2-3 pixels): Accounts for centering variations in digit positioning\n",
        "* Slight scaling (0.9-1.1x): Handles size variations in handwriting\n",
        "* Moderate elastic deformations are  useful for MNIST because they simulate the natural variations in handwriting style. Imagine stretching and compressing parts of a digit as different people might write them.\n",
        "### Why These Work\n",
        "The principle behind effective augmentation is creating realistic variations that preserve the digit's identity while exposing the model to plausible distortions. MNIST digits are centered and normalized, so augmentations should introduce controlled variability without making digits unrecognizable.\n",
        "### Augmentations to Avoid\n",
        "* Heavy distortions like large rotations (>20°), extreme scaling, or aggressive elastic deformation can make digits ambiguous, a rotated \"6\" might look like a \"9\", or a heavily stretched \"1\" might resemble a \"7\".\n",
        "\n",
        "* Color-based augmentations (brightness, contrast) have limited benefit since MNIST is grayscale and already normalized."
      ],
      "metadata": {
        "id": "H_uLxSnsm0rm"
      }
    },
    {
      "cell_type": "markdown",
      "source": [
        "## Retraining and Final Evaluation\n",
        "\n",
        "**Measuring the Impact of Augmented Data**\n",
        "\n",
        "After identifying misclassified training samples and creating augmented versions, we retrain our model to measure performance improvements. This process demonstrates how targeted data augmentation can address specific model weaknesses while maintaining overall performance.\n",
        "\n",
        "The retraining phase uses the original best model weights as a starting point, then fine-tunes on the combined dataset containing both original training data and augmented versions of problematic samples. We use a lower learning rate to preserve learned features while adapting to the new data.\n",
        "\n",
        "Final evaluation compares the retrained model against both the original LeNet performance and CLIP's zero-shot results. This comparison reveals the relative benefits of supervised learning with augmentation versus pre-trained model capabilities.\n",
        "\n",
        "```python\n",
        "# Load best model for retraining\n",
        "retrain_model = ModernLeNet5()\n",
        "retrain_model.load_state_dict(torch.load(best_model_path, map_location=device))\n",
        "\n",
        "# Retrain with combined dataset\n",
        "combined_train_dataset = ConcatDataset([torch_train_set, torch_augmented_dataset])\n",
        "```\n",
        "\n",
        "The evaluation metrics quantify whether targeted augmentation successfully improved model robustness and generalization on the held-out test set."
      ],
      "metadata": {
        "id": "jujitJcyCvdN"
      }
    },
    {
      "cell_type": "code",
      "source": [
        "## Data Augmentation for Misclassified Training Samples\n",
        "\n",
        "print(f\"Number of misclassified training samples: {len(mislabeled_train_images_view)}\")\n",
        "\n"
      ],
      "metadata": {
        "id": "xWhQyNotngBu",
        "colab": {
          "base_uri": "https://localhost:8080/"
        },
        "outputId": "22d08f17-f8bd-40f7-86fb-658a08942d3a"
      },
      "execution_count": 102,
      "outputs": [
        {
          "output_type": "stream",
          "name": "stdout",
          "text": [
            "Number of misclassified training samples: 304\n"
          ]
        }
      ]
    },
    {
      "cell_type": "markdown",
      "source": [
        "\n",
        "## Samples to Filter-out During Fine-tuning\n",
        "\n"
      ],
      "metadata": {
        "id": "1ZkHGpJjgniw"
      }
    },
    {
      "cell_type": "code",
      "source": [
        "# Identify samples in the top 0.1 percentile of mistakenness (likely annotation errors)mistakenness_99th_percentile = train_dataset.quantiles(\"mistakenness\", [0.99])[0]\n",
        "mistakenness_99th_percentile = train_dataset.quantiles(\"mistakenness\", [0.999])[0]\n",
        "highly_mistaken_view = train_dataset.match(F(\"mistakenness\") > mistakenness_99th_percentile)\n",
        "\n",
        "# Identify samples in the top 1 percentile of hardness (likely genuinely hard samples)\n",
        "hardness_99th_percentile = train_dataset.quantiles(\"hardness\", [0.999])[0]\n",
        "highly_hard_view = train_dataset.match(F(\"hardness\") > hardness_99th_percentile)\n",
        "\n",
        "print(f\"Number of highly mistaken samples (top 1%): {len(highly_mistaken_view)}\")\n",
        "print(f\"Number of highly hard samples (top 1%): {len(highly_hard_view)}\")\n",
        "\n",
        "# Get the IDs of samples that are highly mistaken or highly hard\n",
        "highly_mistaken_ids = set(highly_mistaken_view.values(\"id\"))\n",
        "highly_hard_ids = set(highly_hard_view.values(\"id\"))\n",
        "\n",
        "# Combine the sets of IDs that are hard\n",
        "difficult_samples = highly_mistaken_ids.union(highly_hard_ids)\n",
        "\n",
        "print(f\"Total number of difficult samples (union of highly mistaken and highly hard): {len(difficult_samples)}\")\n",
        "\n"
      ],
      "metadata": {
        "id": "gX6UxRK3NoqR",
        "colab": {
          "base_uri": "https://localhost:8080/"
        },
        "outputId": "4dfa702c-778a-474b-e107-907f8ea71c90"
      },
      "execution_count": 103,
      "outputs": [
        {
          "output_type": "stream",
          "name": "stdout",
          "text": [
            "Number of highly mistaken samples (top 1%): 51\n",
            "Number of highly hard samples (top 1%): 51\n",
            "Total number of difficult samples (union of highly mistaken and highly hard): 102\n"
          ]
        }
      ]
    },
    {
      "cell_type": "code",
      "source": [
        "# Get the IDs of the misclassified samples\n",
        "misclassified_sample_ids = set(mislabeled_train_images_view.values(\"id\"))\n",
        "\n",
        "print(f\"Total number of misclassified samples in the training set: {len(misclassified_sample_ids)}\")\n",
        "\n",
        "# Find the intersection of difficult samples and misclassified samples\n",
        "intersection_difficult_misclassified_ids = difficult_samples.intersection(misclassified_sample_ids)\n",
        "\n",
        "print(f\"Number of samples that are both difficult and misclassified: {len(intersection_difficult_misclassified_ids)}\")\n",
        "\n",
        "# Create a FiftyOne view containing only these intersection samples\n",
        "intersection_difficult_misclassified_view = train_dataset.select(\n",
        "    list(intersection_difficult_misclassified_ids)\n",
        "    ).sort_by('hardness',\n",
        "              reverse=True)\n",
        "\n",
        "\n",
        "print(f\"Created a FiftyOne view for the intersection samples with {len(intersection_difficult_misclassified_view)} samples.\")\n",
        "\n",
        "\n",
        "# Inspect the samples in ids_to_remove, we can decide whether\n",
        "# whether we augment them or exclude them from the fine-tuning data\n",
        "session.view = intersection_difficult_misclassified_view\n",
        "session.refresh()\n",
        "print(f\"\\nFiftyOne App URL: {session.url}\")"
      ],
      "metadata": {
        "id": "A9gijcmokiKk",
        "colab": {
          "base_uri": "https://localhost:8080/",
          "height": 104
        },
        "outputId": "2aff13aa-c5c4-49cb-db0e-e95e4e63e5ab"
      },
      "execution_count": 203,
      "outputs": [
        {
          "output_type": "stream",
          "name": "stdout",
          "text": [
            "Total number of misclassified samples in the training set: 304\n",
            "Number of samples that are both difficult and misclassified: 78\n",
            "Created a FiftyOne view for the intersection samples with 78 samples.\n",
            "\n",
            "FiftyOne App URL: https://5151-gpu-t4-hm-q0i2puutqv5p-c.asia-east1-1.prod.colab.dev?polling=true\n"
          ]
        }
      ]
    },
    {
      "cell_type": "markdown",
      "source": [
        "### Finding the Needles in the Haystack\n",
        "\n",
        "![](https://raw.githubusercontent.com/andandandand/practical-computer-vision/refs/heads/main/images/mistaken_images.png)\n",
        "\n",
        "Using our metrics we have reduced significantly the search space and the manual inspection for our problematic samples. Isn't it interesting to find these samples in one of the most canonical datasets in machine learning?"
      ],
      "metadata": {
        "id": "SFRSg5ufWfwe"
      }
    },
    {
      "cell_type": "code",
      "source": [
        "filenames_of_samples_to_exclude = set([\"/root/fiftyone/mnist/train/data/002902.jpg\",\n",
        "                                      \"/root/fiftyone/mnist/train/data/003693.jpg\",\n",
        "                                      \"/root/fiftyone/mnist/train/data/035247.jpg\",\n",
        "                                      \"/root/fiftyone/mnist/train/data/018383.jpg\",\n",
        "                                      \"/root/fiftyone/mnist/train/data/033507.jpg\",\n",
        "                                      \"/root/fiftyone/mnist/train/data/039424.jpg\",\n",
        "                                      \"/root/fiftyone/mnist/train/data/025547.jpg\",\n",
        "                                      \"/root/fiftyone/mnist/train/data/047218.jpg\",\n",
        "                                      \"/root/fiftyone/mnist/train/data/001921.jpg\",\n",
        "                                      \"/root/fiftyone/mnist/train/data/004477.jpg\",\n",
        "                                      \"/root/fiftyone/mnist/train/data/050606.jpg\",\n",
        "                                      \"/root/fiftyone/mnist/train/data/030050.jpg\",\n",
        "                                      \"/root/fiftyone/mnist/train/data/024614.jpg\",\n",
        "                                      \"/root/fiftyone/mnist/train/data/014583.jpg\",\n",
        "                                      \"/root/fiftyone/mnist/train/data/034521.jpg\",\n",
        "                                      \"/root/fiftyone/mnist/train/data/050995.jpg\",\n",
        "                                      \"/root/fiftyone/mnist/train/data/004477.jpg\",\n",
        "                                      \"/root/fiftyone/mnist/train/data/033319.jpg\",\n",
        "                                      \"/root/fiftyone/mnist/train/data/034405.jpg\"])\n",
        "\n",
        "# Use match() to filter by filepath\n",
        "samples_to_exclude_view = train_dataset.match(\n",
        "    fo.ViewField(\"filepath\").is_in(filenames_of_samples_to_exclude)\n",
        ")\n",
        "\n",
        "session.view = samples_to_exclude_view\n",
        "session.refresh()\n",
        "print(session.url)"
      ],
      "metadata": {
        "colab": {
          "base_uri": "https://localhost:8080/",
          "height": 34
        },
        "id": "d4jWhhtJTCEu",
        "outputId": "cb17ab10-4a88-4841-a4b3-b721d10f9b9d"
      },
      "execution_count": 204,
      "outputs": [
        {
          "output_type": "stream",
          "name": "stdout",
          "text": [
            "https://5151-gpu-t4-hm-q0i2puutqv5p-c.asia-east1-1.prod.colab.dev?polling=true\n"
          ]
        }
      ]
    },
    {
      "cell_type": "code",
      "source": [
        "# get the ids from samples_to_exclude_view\n",
        "ids_of_samples_to_exclude = samples_to_exclude_view.values(\"id\")\n",
        "ids_of_samples_to_exclude"
      ],
      "metadata": {
        "colab": {
          "base_uri": "https://localhost:8080/"
        },
        "id": "rvC4F-c9u4vJ",
        "outputId": "fde43504-4c45-40e2-8bf5-3227466a9745"
      },
      "execution_count": 205,
      "outputs": [
        {
          "output_type": "execute_result",
          "data": {
            "text/plain": [
              "['684db86de6273d19aee2ed0a',\n",
              " '684db86ee6273d19aee2f457',\n",
              " '684db86ee6273d19aee2faf4',\n",
              " '684db86ee6273d19aee2ffbc',\n",
              " '684db874e6273d19aee34f63',\n",
              " '684db876e6273d19aee36d81',\n",
              " '684db879e6273d19aee39e36',\n",
              " '684db87ae6273d19aee3a542',\n",
              " '684db87ce6273d19aee3c8ac',\n",
              " '684db87de6273d19aee3e193',\n",
              " '684db87ee6273d19aee3e407',\n",
              " '684db87ee6273d19aee3eaf5',\n",
              " '684db87ee6273d19aee3eb69',\n",
              " '684db87ee6273d19aee3f1a7',\n",
              " '684db881e6273d19aee41191',\n",
              " '684db885e6273d19aee44f23',\n",
              " '684db886e6273d19aee46859',\n",
              " '684db887e6273d19aee46b98']"
            ]
          },
          "metadata": {},
          "execution_count": 205
        }
      ]
    },
    {
      "cell_type": "markdown",
      "source": [
        "## Create a New Training Dataset without the Excluded Samples"
      ],
      "metadata": {
        "id": "aHYCoyZIXn8h"
      }
    },
    {
      "cell_type": "code",
      "source": [
        "new_train_dataset = train_dataset.exclude(ids_of_samples_to_exclude).clone()\n",
        "\n",
        "print(f\"Original train_dataset has {len(train_dataset)} samples.\")\n",
        "print(f\"Excluding {len(new_train_set)} samples.\")\n",
        "print(f\"New train_dataset view has {len(new_train_set)} samples.\")\n",
        "\n",
        "new_train_dataset.name = \"filtered-mnist-training-set\"\n",
        "new_train_dataset.persistent = True\n",
        "print(f\"New persistent dataset created with {len(new_train_dataset)} samples.\")\n",
        "\n"
      ],
      "metadata": {
        "colab": {
          "base_uri": "https://localhost:8080/"
        },
        "id": "m04hU2qDXWtl",
        "outputId": "f22d6d27-ed38-449a-92eb-bedd064af56e"
      },
      "execution_count": 207,
      "outputs": [
        {
          "output_type": "stream",
          "name": "stdout",
          "text": [
            "Original train_dataset has 51000 samples.\n",
            "Excluding 1533 samples.\n",
            "New train_dataset view has 1533 samples.\n",
            "New persistent dataset created with 50982 samples.\n"
          ]
        }
      ]
    },
    {
      "cell_type": "code",
      "source": [
        "# To work with this view in PyTorch, create a CustomTorchImageDataset from it\n",
        "new_torch_train_set = CustomTorchImageDataset(\n",
        "    new_train_dataset,  # Changed from new_train_set to new_train_dataset\n",
        "    label_map=label_map, # Use the same label map\n",
        "    image_transforms=image_transforms # Use the same transforms\n",
        ")\n",
        "\n",
        "print(f\"New PyTorch dataset created from the filtered view with {len(new_torch_train_set)} samples.\")\n",
        "\n",
        "# You can now use new_torch_train_set to create a new DataLoader for retraining\n",
        "# new_train_loader = create_deterministic_training_dataloader(\n",
        "#     new_torch_train_set,\n",
        "#     batch_size=batch_size,\n",
        "#     shuffle=True,\n",
        "#     num_workers=num_workers,\n",
        "#     pin_memory=True\n",
        "# )\n",
        "# print(f\"New train DataLoader created with {len(new_train_loader)} batches.\")"
      ],
      "metadata": {
        "colab": {
          "base_uri": "https://localhost:8080/"
        },
        "id": "sUt5zP1eozkF",
        "outputId": "7dcd9297-1062-42bc-8376-f86fe3e501ff"
      },
      "execution_count": 208,
      "outputs": [
        {
          "output_type": "stream",
          "name": "stdout",
          "text": [
            "CustomTorchImageDataset initialized with 50982 samples.\n",
            "New PyTorch dataset created from the filtered view with 50982 samples.\n"
          ]
        }
      ]
    },
    {
      "cell_type": "markdown",
      "source": [
        "**Another possibility:** using these samples to train a model with an 'IDK' (I don't know class).\n",
        "\n",
        "Also consider that the validation and test set might have dirty samples too. Ideally we should repeat this process with them too.  "
      ],
      "metadata": {
        "id": "XyPUYKG4VKBN"
      }
    },
    {
      "cell_type": "markdown",
      "source": [
        "## Define Augmentations\n",
        "\n",
        "**Configuring Transformations for MNIST Digit Recognition**\n",
        "\n",
        "Data augmentation applies controlled transformations to training images, creating variations that help models generalize to new handwriting styles. For MNIST, effective augmentations simulate natural variations in digit writing without changing the digit's identity.\n",
        "\n",
        "**Seeding for Reproducibility**: Set random seeds before defining augmentations to ensure consistent results across training runs. This enables reproducible experiments and fair model comparisons.\n",
        "\n",
        "**MNIST-Specific Transformations**: Small rotations, translations, and elastic deformations work well for handwritten digits. These transformations mimic natural handwriting variations while preserving digit readability. Avoid extreme distortions that could make a \"6\" look like a \"9\" or render digits unrecognizable.\n",
        "\n",
        "**Exploration**:\n",
        "To inspect the effect of the defined augmentations on the images, you can try [using the FiftyOne plugin for this](https://github.com/jacobmarks/fiftyone-albumentations-plugin).\n"
      ],
      "metadata": {
        "id": "VK3EL0cHf6tA"
      }
    },
    {
      "cell_type": "code",
      "source": [
        "# Install the augmentations plugin\n",
        "!fiftyone plugins download https://github.com/jacobmarks/fiftyone-albumentations-plugin"
      ],
      "metadata": {
        "id": "c8xShb1LCkxi",
        "colab": {
          "base_uri": "https://localhost:8080/"
        },
        "outputId": "332bf429-b962-40b1-90bb-c97f915b1939"
      },
      "execution_count": 209,
      "outputs": [
        {
          "output_type": "stream",
          "name": "stdout",
          "text": [
            "Downloading jacobmarks/fiftyone-albumentations-plugin...\n",
            "\n",
            "Skipping existing plugin '@jacobmarks/albumentations_augmentation'\n"
          ]
        }
      ]
    },
    {
      "cell_type": "code",
      "source": [
        "\n",
        "mnist_augmentations_1 = A.Compose([\n",
        "\n",
        "    # Use Affine transform for shifting, scaling, and rotating\n",
        "    A.Affine(\n",
        "        translate_percent={\"x\": (-0.1, 0.1), \"y\": (-0.1, 0.1)},  # ±10% translation\n",
        "        scale=(0.9, 1.1),     # ±10% scaling\n",
        "        rotate=(-5, 5),     # ±5° rotation\n",
        "        p=0.8\n",
        "    ),\n",
        "\n",
        "    # Elastic deformations to simulate handwriting style variations\n",
        "    A.ElasticTransform(\n",
        "        alpha=20,             # Strength of distortion\n",
        "        sigma=5,              # Smoothness of distortion\n",
        "        border_mode=cv2.BORDER_CONSTANT,\n",
        "        p=0.6\n",
        "    ),\n",
        "\n",
        "    # Slight Gaussian noise to increase robustness\n",
        "    A.GaussNoise(\n",
        "        p=0.3,\n",
        "        std_range=(0.01, 0.02)\n",
        "    )\n",
        "])"
      ],
      "metadata": {
        "id": "Cw0Edh8ZEG_l"
      },
      "execution_count": 210,
      "outputs": []
    },
    {
      "cell_type": "code",
      "source": [
        "# Define second set of augmentations\n",
        "mnist_augmentations_2 = A.Compose([\n",
        "\n",
        "    # Equalize the image histogram (can help with contrast variations)\n",
        "    A.Equalize(p=0.3),\n",
        "\n",
        "    # Affine with shear (simulates slanted handwriting)\n",
        "    A.Affine(\n",
        "        shear=(-5, 5),  # Add shear\n",
        "        translate_percent={\"x\": (-0.03, 0.03), \"y\": (-0.03, 0.03)}, # Smaller translation\n",
        "        scale=(0.98, 1.02), # Smaller scaling\n",
        "        rotate=(-2, 2), # Smaller rotation\n",
        "        border_mode=cv2.BORDER_CONSTANT,\n",
        "        p=0.4\n",
        "    ),\n",
        "\n",
        "    # Mild perspective transformations\n",
        "    A.Perspective(scale=(0.01, 0.03), p=0.2),\n",
        "\n",
        "    # Mild grid distortion\n",
        "    A.GridDistortion(num_steps=2, distort_limit=0.05, p=0.2),\n",
        "])\n"
      ],
      "metadata": {
        "id": "AVcUoxD3Cu15"
      },
      "execution_count": 211,
      "outputs": []
    },
    {
      "cell_type": "code",
      "source": [
        "# Define a third set of augmentations for MNIST\n",
        "mnist_augmentations_3 = A.Compose([\n",
        "    # Use Affine transform for shifting, scaling, and rotating\n",
        "    A.Affine(\n",
        "        translate_percent={\"x\": (-0.1, 0.1), \"y\": (-0.1, 0.1)},  # ±10% translation\n",
        "        scale=(0.95, 1.15),     # ±15% scaling\n",
        "        rotate=(-7, 7),         # ±7° rotation\n",
        "        p=0.8\n",
        "    ),\n",
        "\n",
        "    # Elastic deformation with different parameters\n",
        "    A.ElasticTransform(\n",
        "        alpha=15,\n",
        "        sigma=4,\n",
        "        border_mode=cv2.BORDER_CONSTANT,\n",
        "        p=0.4\n",
        "    ),\n",
        "\n",
        "    # Coarse Dropout (simulates occlusions or pen lifts)\n",
        "    A.CoarseDropout(\n",
        "        p=0.3\n",
        "    ),\n",
        "])\n",
        "\n"
      ],
      "metadata": {
        "id": "IptT5b8iC0Rs"
      },
      "execution_count": 212,
      "outputs": []
    },
    {
      "cell_type": "markdown",
      "source": [
        "## Create the torch Dataset for the Augmented Set\n",
        "\n",
        "**Building a Custom PyTorch Dataset for Augmented Training Data**\n",
        "\n",
        "Creating a PyTorch Dataset for augmented data requires handling multiple variations of problematic samples while maintaining compatibility with PyTorch's DataLoader system. Our `AugmentedMNISTDataset` class applies augmentations during training, ensuring each epoch sees different variations of misclassified samples.\n",
        "\n",
        "**Key Design Principles:**\n",
        "\n",
        "**Dynamic Augmentation**: Apply transformations during data loading rather than pre-generating samples. This saves disk space while providing variation potential.\n",
        "\n",
        "**Deterministic Access**: Use mathematical mapping for consistent sample ordering while allowing multiple augmented versions of each base sample. The formula `base_idx = idx // (augment_factor + 1)` determines which original sample to use.\n",
        "\n",
        "**Integration**: Inherit from PyTorch's `Dataset` interface for compatibility with DataLoader features like batching, shuffling, and multi-process loading.\n",
        "\n",
        "**Memory and Performance Considerations:**\n",
        "\n",
        "**Memory Usage**: Store file paths rather than loaded images to maintain small memory footprint regardless of augmentation factor.\n",
        "\n",
        "**Caching Strategy**: Consider implementing an LRU cache to store recent base images, reducing disk I/O during training.\n",
        "\n",
        "**Augmentation Randomness**: Each call to `__getitem__` may produce different results due to random augmentation parameters.\n",
        "\n",
        "**Error Resilience**: Robust error handling ensures training continues even if individual samples fail to load or augment.\n",
        "\n",
        "This design provides a foundation for targeted data augmentation while maintaining flexibility to experiment with different augmentation strategies."
      ],
      "metadata": {
        "id": "f11PddjugRS9"
      }
    },
    {
      "cell_type": "code",
      "source": [
        "class AugmentedMNISTDataset(Dataset):\n",
        "    \"\"\"\n",
        "    PyTorch dataset that applies augmentations to misclassified MNIST samples.\n",
        "    Each sample can be augmented multiple times to create more training data.\n",
        "    \"\"\"\n",
        "\n",
        "    def __init__(self, fiftyone_view,\n",
        "                 label_map,\n",
        "                 base_transforms,\n",
        "                 augmentations=None,\n",
        "                 augment_factor=3):\n",
        "        \"\"\"\n",
        "        Args:\n",
        "            fiftyone_view: FiftyOne view of misclassified samples\n",
        "            label_map: Mapping from string labels to indices\n",
        "            base_transforms: Base PyTorch transforms (normalization, etc.)\n",
        "            augmentations: Albumentations transform pipeline\n",
        "            augment_factor: How many augmented versions to create per sample\n",
        "        \"\"\"\n",
        "        self.image_paths = fiftyone_view.values(\"filepath\")\n",
        "        self.str_labels = fiftyone_view.values(\"ground_truth.label\")\n",
        "        self.label_map = label_map\n",
        "        self.base_transforms = base_transforms\n",
        "        self.augmentations = augmentations\n",
        "        self.augment_factor = augment_factor\n",
        "\n",
        "        print(f\"AugmentedMNISTDataset: {len(self.image_paths)} base samples\")\n",
        "        print(f\"With augmentation factor {augment_factor}: {len(self)} total samples\")\n",
        "\n",
        "    def __len__(self):\n",
        "        return len(self.image_paths) * (self.augment_factor + 1)  # +1 for original\n",
        "\n",
        "    def __getitem__(self, idx):\n",
        "        # Determine which base sample and whether to augment\n",
        "        base_idx = idx // (self.augment_factor + 1)\n",
        "        aug_idx = idx % (self.augment_factor + 1)\n",
        "\n",
        "        # Load image\n",
        "        image_path = self.image_paths[base_idx]\n",
        "        image = Image.open(image_path).convert('L')\n",
        "\n",
        "        # Convert to numpy for albumentations\n",
        "        image_np = np.array(image, dtype=np.uint8)\n",
        "\n",
        "        # Apply augmentation if not the first version (original)\n",
        "        if aug_idx > 0 and self.augmentations is not None:\n",
        "            augmented = self.augmentations(image=image_np)\n",
        "            image_np = augmented['image']\n",
        "\n",
        "        # Convert back to PIL for PyTorch transforms\n",
        "        image = Image.fromarray(image_np, mode='L')\n",
        "\n",
        "        # Apply base transforms (normalization, tensor conversion)\n",
        "        if self.base_transforms:\n",
        "            image = self.base_transforms(image)\n",
        "\n",
        "        # Get label\n",
        "        label_str = self.str_labels[base_idx]\n",
        "        label_idx = self.label_map.get(label_str, -1)\n",
        "\n",
        "        return image, torch.tensor(label_idx, dtype=torch.long)\n",
        "\n"
      ],
      "metadata": {
        "id": "DTZEWNCHDejq"
      },
      "execution_count": 213,
      "outputs": []
    },
    {
      "cell_type": "code",
      "source": [
        "# Calculate the 1th percentile (lowest percentile) of confidence scores for lenet_train_classification\n",
        "confidence_quantiles = train_dataset.quantiles(\"lenet_train_classification.confidence\", [0.01])\n",
        "q10_confidence = confidence_quantiles[0]\n",
        "\n",
        "print(f\"The 1th percentile of confidence is: {q10_confidence:.4f}\")\n",
        "\n",
        "# Create a view of samples that were correctly classified AND have confidence <= 1th percentile\n",
        "low_confidence_correct_view = train_dataset.match(\n",
        "    (F(\"lenet_train_classification.label\") == F(\"ground_truth.label\")) &\n",
        "    (F(\"lenet_train_classification.confidence\") <= q10_confidence)\n",
        ").sort_by(\"lenet_train_classification.confidence\")\n",
        "\n",
        "print(f\"\\nNumber of correctly classified samples with confidence <= {q10_confidence:.4f}: {len(low_confidence_correct_view)}\")\n",
        "\n",
        "# We can launch the FiftyOne App to visualize this view\n",
        "session.view = low_confidence_correct_view\n",
        "session.refresh()\n",
        "print(session.url)"
      ],
      "metadata": {
        "id": "qBQXUeAwDUvt",
        "colab": {
          "base_uri": "https://localhost:8080/",
          "height": 86
        },
        "outputId": "374464d5-7ac2-49b2-fa30-125b44889812"
      },
      "execution_count": 214,
      "outputs": [
        {
          "output_type": "stream",
          "name": "stdout",
          "text": [
            "The 1th percentile of confidence is: 0.7649\n",
            "\n",
            "Number of correctly classified samples with confidence <= 0.7649: 348\n",
            "https://5151-gpu-t4-hm-q0i2puutqv5p-c.asia-east1-1.prod.colab.dev?polling=true\n"
          ]
        }
      ]
    },
    {
      "cell_type": "markdown",
      "source": [
        "## Define Samples to Augment\n",
        "\n",
        "This section focuses on identifying specific subsets of samples from the training data that are most likely to benefit from augmentation. We will select samples that were previously misclassified, are highly unique or representative in the embedding space, or were correctly classified but with low confidence. Augmenting these samples aims to improve the model's performance on challenging or underrepresented examples.\n",
        "\n",
        "\n"
      ],
      "metadata": {
        "id": "sMh0_z9nNWxR"
      }
    },
    {
      "cell_type": "code",
      "source": [
        "dataset_to_augment = fo.Dataset('images-to-augment')\n",
        "\n",
        "for sample in mislabeled_train_images_view:\n",
        "    dataset_to_augment.add_sample(sample)\n",
        "\n",
        "for sample in most_unique_samples_view:\n",
        "    dataset_to_augment.add_sample(sample)\n",
        "\n",
        "for sample in most_representative_samples_view:\n",
        "    dataset_to_augment.add_sample(sample)\n",
        "\n",
        "for sample in low_confidence_correct_view:\n",
        "    dataset_to_augment.add_sample(sample)\n",
        "\n",
        "dataset_to_augment.save()"
      ],
      "metadata": {
        "id": "HGM7NUVvtIVc"
      },
      "execution_count": 216,
      "outputs": []
    },
    {
      "cell_type": "code",
      "source": [
        "# Filter out excluded samples\n",
        "dataset_to_augment = dataset_to_augment.exclude(ids_of_samples_to_exclude).clone()"
      ],
      "metadata": {
        "id": "yALZCSEAcbYm"
      },
      "execution_count": 217,
      "outputs": []
    },
    {
      "cell_type": "code",
      "source": [
        "torch_augmented_dataset = AugmentedMNISTDataset(\n",
        "    dataset_to_augment,\n",
        "    label_map=label_map,\n",
        "    base_transforms=image_transforms,\n",
        "    augmentations=mnist_augmentations_3, # We can also try mnist_augmentations_1 or mnist_augmentations_2\n",
        "    augment_factor=3  # Create this number of augmented versions per input sample\n",
        ")\n",
        "\n",
        "print(f\"Original misclassified samples: {len(mislabeled_train_images_view)}\")\n",
        "print(f'')\n",
        "print(f\"Total augmented dataset size: {len(torch_augmented_dataset)}\")\n",
        "\n"
      ],
      "metadata": {
        "id": "PGH3ZAyrDM1A",
        "colab": {
          "base_uri": "https://localhost:8080/"
        },
        "outputId": "59c4a116-b640-467d-ec07-fa4373b05919"
      },
      "execution_count": 218,
      "outputs": [
        {
          "output_type": "stream",
          "name": "stdout",
          "text": [
            "AugmentedMNISTDataset: 2185 base samples\n",
            "With augmentation factor 3: 8740 total samples\n",
            "Original misclassified samples: 304\n",
            "\n",
            "Total augmented dataset size: 8740\n"
          ]
        }
      ]
    },
    {
      "cell_type": "code",
      "source": [
        "# Combine the original dataset with its augmentation\n",
        "combined_dataset = ConcatDataset([new_torch_train_set, torch_augmented_dataset])\n",
        "print(f\"Combined dataset size: {len(combined_dataset)}\")"
      ],
      "metadata": {
        "id": "qbY0VlychC9v",
        "colab": {
          "base_uri": "https://localhost:8080/"
        },
        "outputId": "7ea3f8e8-afa6-4b4a-ac81-fcd20a4353dc"
      },
      "execution_count": 219,
      "outputs": [
        {
          "output_type": "stream",
          "name": "stdout",
          "text": [
            "Combined dataset size: 59722\n"
          ]
        }
      ]
    },
    {
      "cell_type": "code",
      "source": [
        "# Create new DataLoader for combined dataset\n",
        "combined_train_loader = create_deterministic_training_dataloader(\n",
        "    combined_dataset,\n",
        "    batch_size=64,\n",
        "    shuffle=True,\n",
        "    num_workers=num_workers,\n",
        "    pin_memory=True\n",
        ")\n",
        "\n",
        "\n",
        "print(f\"Combined DataLoader has {len(combined_train_loader)} batches.\")\n"
      ],
      "metadata": {
        "id": "IpAymXsyhqC8",
        "colab": {
          "base_uri": "https://localhost:8080/"
        },
        "outputId": "2028c20c-19b1-4da2-9cbe-7d04f803346b"
      },
      "execution_count": 220,
      "outputs": [
        {
          "output_type": "stream",
          "name": "stdout",
          "text": [
            "Combined DataLoader has 934 batches.\n"
          ]
        }
      ]
    },
    {
      "cell_type": "markdown",
      "source": [
        "## Visualize Sample Augmentations in FiftyOne\n",
        "\n",
        "**Inspecting Augmentation Quality Before Training**\n",
        "\n",
        "Visualizing augmented samples ensures transformations improve model training rather than corrupt the data. FiftyOne provides an interface to compare original images with their augmented variants, helping validate that augmentations preserve digit identity while adding useful variation.\n",
        "\n",
        "**Quality Control**: Review augmented samples to confirm that rotations, translations, and elastic deformations remain within acceptable bounds. A properly augmented \"3\" should still look like a \"3\" despite the applied transformations.\n",
        "\n",
        "**Parameter Tuning**: Visual inspection helps adjust augmentation parameters. If elastic deformations make digits unrecognizable or rotations create ambiguous orientations, reduce the transformation intensity before training.\n",
        "\n",
        "**Dataset Creation**: The visualization process creates temporary augmented samples that can be loaded into FiftyOne for side-by-side comparison with originals, enabling systematic evaluation of augmentation effectiveness."
      ],
      "metadata": {
        "id": "CBokBRd7L9j_"
      }
    },
    {
      "cell_type": "code",
      "source": [
        "# Create a small dataset with original and augmented versions for visualization\n",
        "def create_augmentation_samples(view, augmentations, num_samples=50):\n",
        "    \"\"\"Create FiftyOne samples showing original and augmented versions\"\"\"\n",
        "\n",
        "    dataset_name = \"augmented_images_training_set\"\n",
        "\n",
        "    if dataset_name in fo.list_datasets():\n",
        "        aug_viz_dataset = fo.load_dataset(dataset_name)\n",
        "    else:\n",
        "        aug_viz_dataset = fo.Dataset(dataset_name)\n",
        "\n",
        "    sample_paths = view.values(\"filepath\")[:num_samples]\n",
        "    sample_labels = view.values(\"ground_truth.label\")[:num_samples]\n",
        "\n",
        "    for i, (path, label) in enumerate(zip(sample_paths, sample_labels)):\n",
        "        # Load original image\n",
        "        original_image = Image.open(path).convert('L')\n",
        "        original_np = np.array(original_image)\n",
        "\n",
        "        # Create sample for original image\n",
        "        original_sample = fo.Sample(filepath=path)\n",
        "        original_sample.tags = [\"original\"]\n",
        "        original_sample[\"ground_truth\"] = fo.Classification(label=label)\n",
        "        original_sample[\"augmentation_type\"] = \"original\"\n",
        "        aug_viz_dataset.add_sample(original_sample)\n",
        "\n",
        "        # Create 3 augmented versions\n",
        "        for aug_idx in range(3):\n",
        "            # Apply augmentation\n",
        "            augmented = augmentations(image=original_np)['image']\n",
        "\n",
        "            # Save augmented image temporarily\n",
        "            aug_image = Image.fromarray(augmented, mode='L')\n",
        "            temp_path = f\"/tmp/aug_{i}_{aug_idx}.png\"\n",
        "            aug_image.save(temp_path)\n",
        "\n",
        "            # Create FiftyOne sample for augmented image\n",
        "            aug_sample = fo.Sample(filepath=temp_path)\n",
        "            aug_sample.tags = [\"augmented\"]\n",
        "            aug_sample[\"ground_truth\"] = fo.Classification(label=label)\n",
        "            aug_sample[\"augmentation_type\"] = f\"augmented_{aug_idx + 1}\"\n",
        "            aug_sample[\"original_sample_id\"] = str(i)\n",
        "\n",
        "            aug_viz_dataset.add_sample(aug_sample)\n",
        "\n",
        "    return aug_viz_dataset\n",
        "\n",
        "print(\"Creating augmentation visualization dataset...\")\n",
        "\n",
        "# Create the visualization dataset\n",
        "aug_viz_dataset = create_augmentation_samples(\n",
        "    mislabeled_train_images_view,\n",
        "    mnist_augmentations_1,\n",
        "    num_samples=50\n",
        ")\n",
        "\n",
        "print(f\"Created visualization dataset with {len(aug_viz_dataset)} samples\")\n",
        "print(f\"Original samples: {len(aug_viz_dataset.match_tags('original'))}\")\n",
        "print(f\"Augmented samples: {len(aug_viz_dataset.match_tags('augmented'))}\")\n",
        "\n",
        "# Launch FiftyOne App to visualize the augmentations\n",
        "session.view = aug_viz_dataset.view()\n",
        "\n",
        "print(f\"\\nAugmentation Visualization URL: {session.url}\")"
      ],
      "metadata": {
        "id": "508hMKjcFKfY",
        "colab": {
          "base_uri": "https://localhost:8080/",
          "height": 121
        },
        "outputId": "2586cbdb-362a-4aba-83cd-0e2d78abbf17"
      },
      "execution_count": 221,
      "outputs": [
        {
          "output_type": "stream",
          "name": "stdout",
          "text": [
            "Creating augmentation visualization dataset...\n",
            "Created visualization dataset with 800 samples\n",
            "Original samples: 200\n",
            "Augmented samples: 600\n",
            "\n",
            "Augmentation Visualization URL: https://5151-gpu-t4-hm-q0i2puutqv5p-c.asia-east1-1.prod.colab.dev?polling=true\n"
          ]
        }
      ]
    },
    {
      "cell_type": "code",
      "source": [
        "# Create views for easy comparison\n",
        "original_view = aug_viz_dataset.match_tags(\"original\")\n",
        "augmented_view = aug_viz_dataset.match_tags(\"augmented\")\n",
        "\n",
        "print(f\"\\nTo compare:\")\n",
        "print(f\"- View original samples: session.view = original_view\")\n",
        "print(f\"- View augmented samples: session.view = augmented_view\")\n",
        "print(f\"- Group by original sample: Use 'original_sample_id' field to group related samples\")\n",
        "\n",
        "# Add some helpful aggregations\n",
        "print(f\"\\nSample distribution:\")\n",
        "print(f\"By augmentation type: {aug_viz_dataset.count_values('augmentation_type')}\")\n",
        "print(f\"By ground truth label: {aug_viz_dataset.count_values('ground_truth.label')}\")"
      ],
      "metadata": {
        "id": "cXV9LMYUXuVl",
        "colab": {
          "base_uri": "https://localhost:8080/"
        },
        "outputId": "70f73780-8374-49f2-b44b-09a0956ace27"
      },
      "execution_count": 222,
      "outputs": [
        {
          "output_type": "stream",
          "name": "stdout",
          "text": [
            "\n",
            "To compare:\n",
            "- View original samples: session.view = original_view\n",
            "- View augmented samples: session.view = augmented_view\n",
            "- Group by original sample: Use 'original_sample_id' field to group related samples\n",
            "\n",
            "Sample distribution:\n",
            "By augmentation type: {'augmented_1': 200, 'original': 200, 'augmented_3': 200, 'augmented_2': 200}\n",
            "By ground truth label: {'5 - five': 32, '8 - eight': 48, '6 - six': 80, '7 - seven': 192, '2 - two': 80, '9 - nine': 192, '1 - one': 64, '3 - three': 96, '4 - four': 16}\n"
          ]
        }
      ]
    },
    {
      "cell_type": "markdown",
      "source": [
        "![](https://github.com/andandandand/practical-computer-vision/blob/main/images/augmentation_mnist_vis.png?raw=true)"
      ],
      "metadata": {
        "id": "pjfiVoK0HTSp"
      }
    },
    {
      "cell_type": "markdown",
      "source": [
        "## Fine-Tuning with Augmented Data\n",
        "\n",
        "The retraining process combines our original training data with the augmented versions of misclassified samples, allowing the model to learn from its previous mistakes. We use a lower learning rate to preserve the knowledge already learned while adapting to the new augmented examples.\n",
        "\n",
        "During retraining, we monitor both training and validation loss to ensure the model improves without overfitting. The validation set continues to serve as our guide for saving the best model weights, ensuring we capture improvements in generalization rather than just memorization of the augmented data.\n",
        "\n",
        "```python\n",
        "for epoch in range(retrain_epochs):\n",
        "    train_loss = train_epoch(retrain_model, combined_train_loader)\n",
        "    val_loss = val_epoch(retrain_model, val_loader)\n",
        "    \n",
        "    if val_loss < best_retrain_val_loss:\n",
        "        torch.save(retrain_model.state_dict(), retrain_model_save_path)\n",
        "```\n",
        "\n",
        "This targeted approach allows us to address specific model weaknesses while maintaining overall performance on the broader dataset."
      ],
      "metadata": {
        "id": "c0sIham2JVEw"
      }
    },
    {
      "cell_type": "code",
      "source": [
        "## Load Best Model for Retraining\n",
        "\n",
        "# Ensure reproducibility for the retraining process\n",
        "set_seeds(51) # Use the same seed as initial training for consistency\n",
        "\n",
        "# Load the previously saved best model\n",
        "best_model_path = Path(os.getcwd()) / 'best_lenet.pth'\n",
        "retrain_model = ModernLeNet5()\n",
        "retrain_model.load_state_dict(torch.load(best_model_path, map_location=device))\n",
        "retrain_model = retrain_model.to(device)\n",
        "\n",
        "print(f\"Loaded best model from {best_model_path} for retraining\")\n",
        "\n",
        "# Use a lower learning rate for fine-tuning\n",
        "retrain_optimizer = Adam(retrain_model.parameters(), lr=0.0001,\n",
        "                       weight_decay=1e-3)\n",
        "# 10x stronger regularization\n",
        "# 30x smaller learning rate\n",
        "\n",
        "print(\"\\nStarting retraining with augmented data...\")\n",
        "\n",
        "retrain_epochs = 15\n",
        "retrain_losses = []\n",
        "retrain_val_losses = []\n",
        "\n",
        "# Track the best validation loss during retraining\n",
        "best_retrain_val_loss = float('inf')\n",
        "retrain_model_save_path = Path(os.getcwd()) / 'retrained_lenet.pth'\n",
        "\n",
        "for epoch in range(retrain_epochs):\n",
        "    print(f\"\\n--- Retrain Epoch {epoch+1}/{retrain_epochs} ---\")\n",
        "\n",
        "    # Training phase\n",
        "    retrain_model.train()\n",
        "    batch_losses = []\n",
        "\n",
        "    for images, labels in tqdm(combined_train_loader, desc=\"Retraining\"):\n",
        "        images = images.to(device)\n",
        "        labels = labels.to(device)\n",
        "\n",
        "        # Forward pass\n",
        "        logits = retrain_model(images)\n",
        "        loss_value = ce_loss(logits, labels)\n",
        "\n",
        "        # Backward pass\n",
        "        retrain_optimizer.zero_grad()\n",
        "        loss_value.backward()\n",
        "        retrain_optimizer.step()\n",
        "\n",
        "        batch_losses.append(loss_value.item())\n",
        "\n",
        "    train_loss = np.mean(batch_losses)\n",
        "    retrain_losses.append(train_loss)\n",
        "\n",
        "    # Validation phase\n",
        "    retrain_model.eval()\n",
        "    val_batch_losses = []\n",
        "\n",
        "    with torch.inference_mode():\n",
        "        for images, labels in tqdm(val_loader, desc=\"Validation\"):\n",
        "            images = images.to(device)\n",
        "            labels = labels.to(device)\n",
        "\n",
        "            logits = retrain_model(images)\n",
        "            loss_value = ce_loss(logits, labels)\n",
        "            val_batch_losses.append(loss_value.item())\n",
        "\n",
        "    val_loss = np.mean(val_batch_losses)\n",
        "    retrain_val_losses.append(val_loss)\n",
        "\n",
        "    print(f\"Epoch {epoch+1}: Train Loss: {train_loss:.4f}, Val Loss: {val_loss:.4f}\")\n",
        "\n",
        "    # Save best model during retraining\n",
        "    if val_loss < best_retrain_val_loss:\n",
        "        best_retrain_val_loss = val_loss\n",
        "        torch.save(retrain_model.state_dict(), retrain_model_save_path)\n",
        "        print(\"✓ Saved improved retrained model\")\n",
        "\n",
        "print(f\"\\nRetraining complete! Best model saved to {retrain_model_save_path}\")\n",
        "\n",
        "\n"
      ],
      "metadata": {
        "id": "h2MiRH66n-7r",
        "colab": {
          "base_uri": "https://localhost:8080/"
        },
        "outputId": "a4104e88-cf01-4d10-c470-a62948fc1660"
      },
      "execution_count": 223,
      "outputs": [
        {
          "output_type": "stream",
          "name": "stdout",
          "text": [
            "All random seeds set to 51 for reproducibility\n",
            "Loaded best model from /content/best_lenet.pth for retraining\n",
            "\n",
            "Starting retraining with augmented data...\n",
            "\n",
            "--- Retrain Epoch 1/15 ---\n"
          ]
        },
        {
          "output_type": "stream",
          "name": "stderr",
          "text": [
            "Retraining: 100%|██████████| 934/934 [00:08<00:00, 108.38it/s]\n",
            "Validation: 100%|██████████| 141/141 [00:01<00:00, 97.11it/s] \n"
          ]
        },
        {
          "output_type": "stream",
          "name": "stdout",
          "text": [
            "Epoch 1: Train Loss: 0.1418, Val Loss: 0.0329\n",
            "✓ Saved improved retrained model\n",
            "\n",
            "--- Retrain Epoch 2/15 ---\n"
          ]
        },
        {
          "output_type": "stream",
          "name": "stderr",
          "text": [
            "Retraining: 100%|██████████| 934/934 [00:08<00:00, 110.76it/s]\n",
            "Validation: 100%|██████████| 141/141 [00:01<00:00, 109.34it/s]\n"
          ]
        },
        {
          "output_type": "stream",
          "name": "stdout",
          "text": [
            "Epoch 2: Train Loss: 0.1099, Val Loss: 0.0318\n",
            "✓ Saved improved retrained model\n",
            "\n",
            "--- Retrain Epoch 3/15 ---\n"
          ]
        },
        {
          "output_type": "stream",
          "name": "stderr",
          "text": [
            "Retraining: 100%|██████████| 934/934 [00:08<00:00, 106.05it/s]\n",
            "Validation: 100%|██████████| 141/141 [00:01<00:00, 99.38it/s] \n"
          ]
        },
        {
          "output_type": "stream",
          "name": "stdout",
          "text": [
            "Epoch 3: Train Loss: 0.1036, Val Loss: 0.0313\n",
            "✓ Saved improved retrained model\n",
            "\n",
            "--- Retrain Epoch 4/15 ---\n"
          ]
        },
        {
          "output_type": "stream",
          "name": "stderr",
          "text": [
            "Retraining: 100%|██████████| 934/934 [00:09<00:00, 101.90it/s]\n",
            "Validation: 100%|██████████| 141/141 [00:01<00:00, 97.12it/s] \n"
          ]
        },
        {
          "output_type": "stream",
          "name": "stdout",
          "text": [
            "Epoch 4: Train Loss: 0.0966, Val Loss: 0.0313\n",
            "\n",
            "--- Retrain Epoch 5/15 ---\n"
          ]
        },
        {
          "output_type": "stream",
          "name": "stderr",
          "text": [
            "Retraining: 100%|██████████| 934/934 [00:08<00:00, 110.30it/s]\n",
            "Validation: 100%|██████████| 141/141 [00:01<00:00, 95.50it/s] \n"
          ]
        },
        {
          "output_type": "stream",
          "name": "stdout",
          "text": [
            "Epoch 5: Train Loss: 0.0894, Val Loss: 0.0314\n",
            "\n",
            "--- Retrain Epoch 6/15 ---\n"
          ]
        },
        {
          "output_type": "stream",
          "name": "stderr",
          "text": [
            "Retraining: 100%|██████████| 934/934 [00:09<00:00, 98.33it/s] \n",
            "Validation: 100%|██████████| 141/141 [00:01<00:00, 99.10it/s] \n"
          ]
        },
        {
          "output_type": "stream",
          "name": "stdout",
          "text": [
            "Epoch 6: Train Loss: 0.0857, Val Loss: 0.0311\n",
            "✓ Saved improved retrained model\n",
            "\n",
            "--- Retrain Epoch 7/15 ---\n"
          ]
        },
        {
          "output_type": "stream",
          "name": "stderr",
          "text": [
            "Retraining: 100%|██████████| 934/934 [00:09<00:00, 97.75it/s]\n",
            "Validation: 100%|██████████| 141/141 [00:01<00:00, 103.53it/s]\n"
          ]
        },
        {
          "output_type": "stream",
          "name": "stdout",
          "text": [
            "Epoch 7: Train Loss: 0.0813, Val Loss: 0.0312\n",
            "\n",
            "--- Retrain Epoch 8/15 ---\n"
          ]
        },
        {
          "output_type": "stream",
          "name": "stderr",
          "text": [
            "Retraining: 100%|██████████| 934/934 [00:08<00:00, 108.48it/s]\n",
            "Validation: 100%|██████████| 141/141 [00:01<00:00, 101.89it/s]\n"
          ]
        },
        {
          "output_type": "stream",
          "name": "stdout",
          "text": [
            "Epoch 8: Train Loss: 0.0772, Val Loss: 0.0315\n",
            "\n",
            "--- Retrain Epoch 9/15 ---\n"
          ]
        },
        {
          "output_type": "stream",
          "name": "stderr",
          "text": [
            "Retraining: 100%|██████████| 934/934 [00:08<00:00, 110.29it/s]\n",
            "Validation: 100%|██████████| 141/141 [00:01<00:00, 100.05it/s]\n"
          ]
        },
        {
          "output_type": "stream",
          "name": "stdout",
          "text": [
            "Epoch 9: Train Loss: 0.0782, Val Loss: 0.0305\n",
            "✓ Saved improved retrained model\n",
            "\n",
            "--- Retrain Epoch 10/15 ---\n"
          ]
        },
        {
          "output_type": "stream",
          "name": "stderr",
          "text": [
            "Retraining: 100%|██████████| 934/934 [00:08<00:00, 108.09it/s]\n",
            "Validation: 100%|██████████| 141/141 [00:01<00:00, 103.83it/s]\n"
          ]
        },
        {
          "output_type": "stream",
          "name": "stdout",
          "text": [
            "Epoch 10: Train Loss: 0.0737, Val Loss: 0.0316\n",
            "\n",
            "--- Retrain Epoch 11/15 ---\n"
          ]
        },
        {
          "output_type": "stream",
          "name": "stderr",
          "text": [
            "Retraining: 100%|██████████| 934/934 [00:08<00:00, 106.78it/s]\n",
            "Validation: 100%|██████████| 141/141 [00:01<00:00, 107.62it/s]\n"
          ]
        },
        {
          "output_type": "stream",
          "name": "stdout",
          "text": [
            "Epoch 11: Train Loss: 0.0711, Val Loss: 0.0307\n",
            "\n",
            "--- Retrain Epoch 12/15 ---\n"
          ]
        },
        {
          "output_type": "stream",
          "name": "stderr",
          "text": [
            "Retraining: 100%|██████████| 934/934 [00:09<00:00, 102.51it/s]\n",
            "Validation: 100%|██████████| 141/141 [00:01<00:00, 89.46it/s] \n"
          ]
        },
        {
          "output_type": "stream",
          "name": "stdout",
          "text": [
            "Epoch 12: Train Loss: 0.0699, Val Loss: 0.0312\n",
            "\n",
            "--- Retrain Epoch 13/15 ---\n"
          ]
        },
        {
          "output_type": "stream",
          "name": "stderr",
          "text": [
            "Retraining: 100%|██████████| 934/934 [00:08<00:00, 110.29it/s]\n",
            "Validation: 100%|██████████| 141/141 [00:01<00:00, 111.40it/s]\n"
          ]
        },
        {
          "output_type": "stream",
          "name": "stdout",
          "text": [
            "Epoch 13: Train Loss: 0.0682, Val Loss: 0.0310\n",
            "\n",
            "--- Retrain Epoch 14/15 ---\n"
          ]
        },
        {
          "output_type": "stream",
          "name": "stderr",
          "text": [
            "Retraining: 100%|██████████| 934/934 [00:08<00:00, 105.30it/s]\n",
            "Validation: 100%|██████████| 141/141 [00:01<00:00, 111.69it/s]\n"
          ]
        },
        {
          "output_type": "stream",
          "name": "stdout",
          "text": [
            "Epoch 14: Train Loss: 0.0671, Val Loss: 0.0314\n",
            "\n",
            "--- Retrain Epoch 15/15 ---\n"
          ]
        },
        {
          "output_type": "stream",
          "name": "stderr",
          "text": [
            "Retraining: 100%|██████████| 934/934 [00:08<00:00, 104.34it/s]\n",
            "Validation: 100%|██████████| 141/141 [00:01<00:00, 110.74it/s]"
          ]
        },
        {
          "output_type": "stream",
          "name": "stdout",
          "text": [
            "Epoch 15: Train Loss: 0.0666, Val Loss: 0.0310\n",
            "\n",
            "Retraining complete! Best model saved to /content/retrained_lenet.pth\n"
          ]
        },
        {
          "output_type": "stream",
          "name": "stderr",
          "text": [
            "\n"
          ]
        }
      ]
    },
    {
      "cell_type": "markdown",
      "source": [
        "## Plot Re-Training Progress\n",
        "\n",
        "**Visualizing Training Dynamics Across Phases**\n",
        "\n",
        "Training visualization reveals model learning patterns during both initial training and retraining with augmented data. Loss curves show convergence behavior, overfitting signals, and the impact of targeted data augmentation.\n",
        "\n",
        "**Two-Panel Analysis**\n",
        "\n",
        "The left panel shows retraining progress in isolation, tracking how the model adapts to augmented misclassified training samples.\n",
        "\n",
        "The right panel provides historical context by plotting the complete training timeline. The vertical line marks where retraining begins, allowing comparison between original learning dynamics and fine-tuning behavior.\n",
        "\n",
        "**Key Patterns to Observe**\n",
        "\n",
        "- **Convergence Speed**: Retraining typically converges faster than initial training due to pre-learned features\n",
        "- **Loss Magnitude**: Validation loss during retraining should remain close to or below original best values  \n",
        "- **Stability**: Smooth loss curves indicate stable learning, while oscillations suggest learning rate issues\n",
        "- **Gap Analysis**: Small train-validation gaps indicate good generalization\n",
        "\n",
        "**Interpreting Results**\n",
        "\n",
        "Successful retraining shows decreasing validation loss without diverging from training loss. If validation loss increases while training loss decreases, we have trained the model enough. We will be using the state of the model that achieved the lowest validation loss.\n"
      ],
      "metadata": {
        "id": "gh07-Kxclihj"
      }
    },
    {
      "cell_type": "code",
      "source": [
        "plt.figure(figsize=(12, 5))\n",
        "\n",
        "# Plot retraining losses\n",
        "plt.subplot(1, 2, 1)\n",
        "plt.plot(retrain_losses, label='Retrain - Training Loss', marker='o')\n",
        "plt.plot(retrain_val_losses, label='Retrain - Validation Loss', marker='s')\n",
        "plt.xlabel('Epoch')\n",
        "plt.ylabel('Loss')\n",
        "plt.title(f'Retraining Progress ({retrain_epochs} Epochs)')\n",
        "plt.legend()\n",
        "plt.grid(True, alpha=0.3)\n",
        "\n",
        "# Plot comparison with original training (if we have the data)\n",
        "plt.subplot(1, 2, 2)\n",
        "if 'train_losses' in locals() and 'val_losses' in locals():\n",
        "    epochs_orig = range(1, len(train_losses) + 1)\n",
        "    epochs_retrain = range(len(train_losses) + 1, len(train_losses) + 1 + len(retrain_losses))\n",
        "\n",
        "    plt.plot(epochs_orig, train_losses, label='Original Train', alpha=0.7)\n",
        "    plt.plot(epochs_orig, val_losses, label='Original Val', alpha=0.7)\n",
        "    plt.plot(epochs_retrain, retrain_losses, label='Retrain Train', marker='o', linewidth=2)\n",
        "    plt.plot(epochs_retrain, retrain_val_losses, label='Retrain Val', marker='s', linewidth=2)\n",
        "\n",
        "    plt.axvline(x=len(train_losses), color='red', linestyle='--', alpha=0.5, label='Retrain Start')\n",
        "    plt.xlabel('Epoch')\n",
        "    plt.ylabel('Loss')\n",
        "    plt.title('Complete Training History')\n",
        "    plt.legend()\n",
        "    plt.grid(True, alpha=0.3)\n",
        "\n",
        "plt.tight_layout()\n",
        "plt.show()"
      ],
      "metadata": {
        "id": "lx6vDV6dlcNp",
        "colab": {
          "base_uri": "https://localhost:8080/",
          "height": 459
        },
        "outputId": "5a37a5c8-5024-4f5e-9b61-87539a690632"
      },
      "execution_count": 224,
      "outputs": [
        {
          "output_type": "display_data",
          "data": {
            "text/plain": [
              "<Figure size 1200x500 with 2 Axes>"
            ],
            "image/png": "[encoded data removed]"
          },
          "metadata": {}
        }
      ]
    },
    {
      "cell_type": "markdown",
      "source": [
        "## Applying the Fine-tuned Model to the Test Set\n",
        "\n",
        "Following is a brief description of what we are doing in this section.\n",
        "\n",
        "**Evaluating Augmented Model Performance**\n",
        "\n",
        "* Load the best retrained model weights and apply to the test dataset.\n",
        "\n",
        "* Generate predictions and logits for performance comparison against the original model.\n",
        "\n",
        "**Model Loading Process**\n",
        "\n",
        "* Instantiate a fresh model architecture and load the saved state dictionary from retraining.\n",
        "\n",
        "* Move to the GPU (if available) and set evaluation mode for inference without gradient computation.\n",
        "\n",
        "**Inference Pipeline**\n",
        "\n",
        "* Process test images through the fine-tuned model using the same preprocessing pipeline as training.\n",
        "\n",
        "* Extract both predicted class indices and raw logits for comprehensive evaluation.\n",
        "\n",
        "**Result Storage**\n",
        "\n",
        "Collect predictions and logits in arrays for analysis. This enables comparison between original model performance and improvements from targeted data augmentation on challenging samples."
      ],
      "metadata": {
        "id": "kJqpzGKCl9-_"
      }
    },
    {
      "cell_type": "code",
      "source": [
        "print(\"\\nApplying retrained model to test set...\")\n",
        "\n",
        "# Load the best retrained model\n",
        "final_model = ModernLeNet5()\n",
        "final_model.load_state_dict(torch.load(retrain_model_save_path, map_location=device))\n",
        "final_model = final_model.to(device)\n",
        "final_model.eval()\n",
        "\n",
        "# Apply retrained model to test set\n",
        "retrained_predictions = []\n",
        "retrained_logits = []\n",
        "\n",
        "with torch.inference_mode():\n",
        "    for images, _ in tqdm(test_loader, desc=\"Evaluating retrained model\"):\n",
        "        images = images.to(device)\n",
        "\n",
        "        logits = final_model(images)\n",
        "        retrained_logits.append(logits.cpu().numpy())\n",
        "\n",
        "        _, predicted = torch.max(logits.data, 1)\n",
        "        retrained_predictions.extend(predicted.cpu().numpy())\n",
        "\n",
        "# Concatenate all results\n",
        "retrained_logits = np.concatenate(retrained_logits, axis=0)\n",
        "\n",
        "print(f\"Retrained model evaluation complete.\")\n",
        "print(f\"Predictions shape: {len(retrained_predictions)}\")\n",
        "print(f\"Logits shape: {retrained_logits.shape}\")\n",
        "\n"
      ],
      "metadata": {
        "id": "XGX6iRvzl7-e",
        "colab": {
          "base_uri": "https://localhost:8080/"
        },
        "outputId": "02f5b738-a871-4b80-d4e0-a4000099f7c2"
      },
      "execution_count": 225,
      "outputs": [
        {
          "output_type": "stream",
          "name": "stdout",
          "text": [
            "\n",
            "Applying retrained model to test set...\n"
          ]
        },
        {
          "output_type": "stream",
          "name": "stderr",
          "text": [
            "Evaluating retrained model: 100%|██████████| 157/157 [00:01<00:00, 103.92it/s]"
          ]
        },
        {
          "output_type": "stream",
          "name": "stdout",
          "text": [
            "Retrained model evaluation complete.\n",
            "Predictions shape: 10000\n",
            "Logits shape: (10000, 10)\n"
          ]
        },
        {
          "output_type": "stream",
          "name": "stderr",
          "text": [
            "\n"
          ]
        }
      ]
    },
    {
      "cell_type": "markdown",
      "source": [
        "## Store Retrained Model Predictions in FiftyOne\n",
        "\n",
        "Here's what we are doing next:\n",
        "\n",
        "**Integrating Fine-tuned Model Results**\n",
        "\n",
        "* Store retrained model predictions as [FiftyOne Classification](https://docs.voxel51.com/api/fiftyone.core.labels.html#fiftyone.core.labels.Classification) objects in the test dataset.\n",
        "\n",
        "* Each sample receives prediction label, confidence score, and raw logits for comprehensive analysis.\n",
        "\n",
        "**Classification Object Creation**\n",
        "\n",
        "Convert raw model outputs into structured FiftyOne format. Apply softmax to logits for confidence scores and map predicted indices to class labels using the established label mapping.\n",
        "\n",
        "**Dataset Integration**\n",
        "\n",
        "Add retrained predictions as a new field alongside existing CLIP and the original LeNet predictions. This enables direct comparison between all model variants within the same dataset framework.\n",
        "\n",
        "**Analysis Preparation**\n",
        "\n",
        "Structured storage enables filtering, querying, and evaluation using FiftyOne's built-in tools.\n",
        "\n",
        "* [FiftyOne's Views Cheat Sheet](https://docs.voxel51.com/cheat_sheets/views_cheat_sheet.html)\n",
        "* [FiftyOne's Filtering Cheat Sheet](https://docs.voxel51.com/cheat_sheets/filtering_cheat_sheet.html)\n",
        "\n",
        "With this we compare model performance and identify samples where fine-tuning improved or degraded predictions."
      ],
      "metadata": {
        "id": "oRvv1QKXlmqW"
      }
    },
    {
      "cell_type": "code",
      "source": [
        "print(\"Storing fine-tuned model predictions in FiftyOne...\")\n",
        "\n",
        "for i, sample in enumerate(tqdm(test_dataset, desc=\"Storing retrained predictions\")):\n",
        "    predicted_idx = retrained_predictions[i]\n",
        "    predicted_label = dataset_classes[predicted_idx]\n",
        "    sample_logits = retrained_logits[i]\n",
        "\n",
        "    confidences = Fun.softmax(torch.tensor(sample_logits), dim=0).numpy()\n",
        "    predicted_confidence = float(confidences[predicted_idx])\n",
        "\n",
        "    classification = fo.Classification(\n",
        "        label=predicted_label,\n",
        "        confidence=predicted_confidence,\n",
        "        logits=sample_logits.tolist()\n",
        "    )\n",
        "\n",
        "    sample[\"retrained_lenet_classification\"] = classification\n",
        "    sample.save()\n",
        "\n",
        "print(\"Retrained model predictions stored successfully!\")\n",
        "\n"
      ],
      "metadata": {
        "id": "ZVxXrY0ulZQS",
        "colab": {
          "base_uri": "https://localhost:8080/"
        },
        "outputId": "c53fe109-f792-4563-ff4e-bca18249b62c"
      },
      "execution_count": 226,
      "outputs": [
        {
          "output_type": "stream",
          "name": "stdout",
          "text": [
            "Storing fine-tuned model predictions in FiftyOne...\n"
          ]
        },
        {
          "output_type": "stream",
          "name": "stderr",
          "text": [
            "Storing retrained predictions: 100%|██████████| 10000/10000 [00:29<00:00, 333.75it/s]"
          ]
        },
        {
          "output_type": "stream",
          "name": "stdout",
          "text": [
            "Retrained model predictions stored successfully!\n"
          ]
        },
        {
          "output_type": "stream",
          "name": "stderr",
          "text": [
            "\n"
          ]
        }
      ]
    },
    {
      "cell_type": "markdown",
      "source": [
        "## Evaluate Retrained Model Performance\n",
        "\n",
        "**Comprehensive Assessment of Fine-tuned Model**\n",
        "\n",
        "Evaluate the retrained model using FiftyOne's classification evaluation framework. Generate detailed performance metrics including accuracy, precision, recall, and F1-scores for direct comparison with the original model.\n",
        "\n",
        "\n",
        "\n"
      ],
      "metadata": {
        "id": "6VNYKjHNlo2G"
      }
    },
    {
      "cell_type": "markdown",
      "source": [
        "**Performance Comparison Analysis**\n",
        "\n",
        "Compare original LeNet performance against the retrained model across key metrics. Calculate improvement deltas to quantify the impact of targeted data augmentation on model robustness."
      ],
      "metadata": {
        "id": "KhPYCJOirl_J"
      }
    },
    {
      "cell_type": "code",
      "source": [
        "print(\"\\nEvaluating retrained model performance...\")\n",
        "\n",
        "# Evaluate retrained model\n",
        "retrained_evaluation_results = test_dataset.evaluate_classifications(\n",
        "    \"retrained_lenet_classification\",\n",
        "    gt_field=\"ground_truth\",\n",
        "    eval_key=\"retrained_lenet_eval\"\n",
        ")\n",
        "\n",
        "print(\"\\n\" + \"=\"*60)\n",
        "print(\"RETRAINED MODEL EVALUATION RESULTS\")\n",
        "print(\"=\"*60)\n",
        "retrained_evaluation_results.print_report(digits=4)\n",
        "\n"
      ],
      "metadata": {
        "id": "7Dk_WJoFlWZu",
        "colab": {
          "base_uri": "https://localhost:8080/"
        },
        "outputId": "e00f3eb4-a48a-4d3b-df41-74e1a06178f9"
      },
      "execution_count": 227,
      "outputs": [
        {
          "output_type": "stream",
          "name": "stdout",
          "text": [
            "\n",
            "Evaluating retrained model performance...\n",
            "\n",
            "============================================================\n",
            "RETRAINED MODEL EVALUATION RESULTS\n",
            "============================================================\n",
            "              precision    recall  f1-score   support\n",
            "\n",
            "    0 - zero     0.9949    0.9980    0.9964       980\n",
            "     1 - one     0.9947    0.9965    0.9956      1135\n",
            "     2 - two     0.9951    0.9845    0.9898      1032\n",
            "   3 - three     0.9882    0.9960    0.9921      1010\n",
            "    4 - four     0.9949    0.9919    0.9934       982\n",
            "    5 - five     0.9866    0.9899    0.9882       892\n",
            "     6 - six     0.9979    0.9885    0.9932       958\n",
            "   7 - seven     0.9903    0.9893    0.9898      1028\n",
            "   8 - eight     0.9898    0.9949    0.9923       974\n",
            "    9 - nine     0.9872    0.9901    0.9886      1009\n",
            "\n",
            "    accuracy                         0.9920     10000\n",
            "   macro avg     0.9920    0.9920    0.9919     10000\n",
            "weighted avg     0.9920    0.9920    0.9920     10000\n",
            "\n"
          ]
        }
      ]
    },
    {
      "cell_type": "markdown",
      "source": [
        "## Compare Original vs Retrained Performance\n"
      ],
      "metadata": {
        "id": "FB4JTMyXrvOU"
      }
    },
    {
      "cell_type": "code",
      "source": [
        "print(\"\\n\" + \"=\"*60)\n",
        "print(\"PERFORMANCE COMPARISON\")\n",
        "print(\"=\"*60)\n",
        "\n",
        "# Get metrics for both models\n",
        "original_metrics = lenet_evaluation_results.metrics()\n",
        "retrained_metrics = retrained_evaluation_results.metrics()\n",
        "\n",
        "print(f\"{'Metric':<20} {'Original':<12} {'Retrained':<12} {'Improvement':<12}\")\n",
        "print(\"-\" * 56)\n",
        "\n",
        "metrics_to_compare = ['accuracy', 'precision', 'recall', 'f1']\n",
        "\n",
        "for metric in metrics_to_compare:\n",
        "    if metric in original_metrics and metric in retrained_metrics:\n",
        "        orig_val = original_metrics[metric]\n",
        "        retrain_val = retrained_metrics[metric]\n",
        "        improvement = retrain_val - orig_val\n",
        "\n",
        "        print(f\"{metric:<20} {orig_val:<12.4f} {retrain_val:<12.4f} {improvement:+.4f}\")\n",
        "\n"
      ],
      "metadata": {
        "id": "isaBZU-oreCa",
        "colab": {
          "base_uri": "https://localhost:8080/"
        },
        "outputId": "3cb07e3b-4b32-42fd-a8b8-445f1c68d9c0"
      },
      "execution_count": 228,
      "outputs": [
        {
          "output_type": "stream",
          "name": "stdout",
          "text": [
            "\n",
            "============================================================\n",
            "PERFORMANCE COMPARISON\n",
            "============================================================\n",
            "Metric               Original     Retrained    Improvement \n",
            "--------------------------------------------------------\n",
            "accuracy             0.9886       0.9920       +0.0034\n",
            "precision            0.9886       0.9920       +0.0034\n",
            "recall               0.9886       0.9920       +0.0034\n"
          ]
        }
      ]
    },
    {
      "cell_type": "markdown",
      "source": [
        "## Analysis of Misclassified Samples After Retraining\n"
      ],
      "metadata": {
        "id": "uMl8hmbnls9i"
      }
    },
    {
      "cell_type": "markdown",
      "source": [
        "**Misclassification Analysis**\n",
        "\n",
        "* Identify samples fixed by retraining versus those newly misclassified.\n",
        "\n",
        "* Compute net improvement in correct predictions to assess overall effectiveness of the augmentation strategy."
      ],
      "metadata": {
        "id": "PMbC8GmWr_Xl"
      }
    },
    {
      "cell_type": "code",
      "source": [
        "# Find samples that were misclassified before but correct now\n",
        "originally_wrong = test_dataset.match(\n",
        "    F(\"lenet_classification.label\") != F(\"ground_truth.label\")\n",
        ")\n",
        "\n",
        "now_correct = originally_wrong.match(\n",
        "    F(\"retrained_lenet_classification.label\") == F(\"ground_truth.label\")\n",
        ")\n",
        "\n",
        "print(f\"\\nSamples fixed by retraining: {len(now_correct)}\")\n",
        "\n",
        "# Find samples that were correct before but wrong now\n",
        "originally_correct = test_dataset.match(\n",
        "    F(\"lenet_classification.label\") == F(\"ground_truth.label\")\n",
        ")\n",
        "\n",
        "now_wrong = originally_correct.match(\n",
        "    F(\"retrained_lenet_classification.label\") != F(\"ground_truth.label\")\n",
        ")\n",
        "\n",
        "print(f\"Samples broken by retraining: {len(now_wrong)}\")\n",
        "\n",
        "# Net improvement\n",
        "net_improvement = len(now_correct) - len(now_wrong)\n",
        "print(f\"Net improvement in correct predictions: {net_improvement}\")\n",
        "\n"
      ],
      "metadata": {
        "id": "G8O6ygP1lSlK",
        "colab": {
          "base_uri": "https://localhost:8080/"
        },
        "outputId": "f62bf6f4-052e-41f6-b4a5-cb779ee86928"
      },
      "execution_count": 229,
      "outputs": [
        {
          "output_type": "stream",
          "name": "stdout",
          "text": [
            "\n",
            "Samples fixed by retraining: 67\n",
            "Samples broken by retraining: 33\n",
            "Net improvement in correct predictions: 34\n"
          ]
        }
      ]
    },
    {
      "cell_type": "markdown",
      "source": [
        "## Launch FiftyOne App for Insights on the  Results\n",
        "\n",
        "\n",
        "* Launch FiftyOne App with comparative views showing all model predictions. Enable exploration of specific cases where fine-tuning improved or degraded performance for model debugging.\n",
        "\n",
        "* Create filtered view containing ground truth labels and predictions from both original and retrained models. This enables direct comparison between model variants within the same interface.\n",
        "\n",
        "* Access interactive confusion matrices, per-class metrics, and sample-level analysis through FiftyOne's evaluation framework. Filter by prediction differences to identify which samples benefited from augmentation.\n",
        "\n",
        "* Use FiftyOne's query language to create views of samples fixed by retraining, samples broken by retraining, or samples where both models agree or disagree with ground truth labels."
      ],
      "metadata": {
        "id": "MySUV8G8sO8U"
      }
    },
    {
      "cell_type": "markdown",
      "source": [
        "![](https://github.com/andandandand/practical-computer-vision/blob/main/images/samples_fixed_by_fine_tuning.png?raw=true)"
      ],
      "metadata": {
        "id": "x3wrq9VJ-fLA"
      }
    },
    {
      "cell_type": "code",
      "source": [
        "print(\"\\nLaunching FiftyOne App to explore results...\")\n",
        "\n",
        "# Create a view showing the comparison\n",
        "comparison_view = test_dataset.select_fields([\n",
        "    \"ground_truth\",\n",
        "    \"lenet_classification\",\n",
        "    \"retrained_lenet_classification\"\n",
        "])\n",
        "\n",
        "session.view = comparison_view\n",
        "session.refresh()\n",
        "print(f\"FiftyOne App URL: {session.url}\")"
      ],
      "metadata": {
        "id": "VlKoxG9ZsNwM",
        "colab": {
          "base_uri": "https://localhost:8080/",
          "height": 69
        },
        "outputId": "76ce5366-f3ab-479c-f76c-fa2e1271f391"
      },
      "execution_count": 230,
      "outputs": [
        {
          "output_type": "stream",
          "name": "stdout",
          "text": [
            "\n",
            "Launching FiftyOne App to explore results...\n",
            "FiftyOne App URL: https://5151-gpu-t4-hm-q0i2puutqv5p-c.asia-east1-1.prod.colab.dev?polling=true\n"
          ]
        }
      ]
    },
    {
      "cell_type": "code",
      "source": [
        "# View the samples that are fixed by fine-tuning\n",
        "session.view = now_correct\n",
        "session.refresh()\n",
        "print(session.url)"
      ],
      "metadata": {
        "id": "NaTxNzER9c58",
        "colab": {
          "base_uri": "https://localhost:8080/",
          "height": 34
        },
        "outputId": "4ce1850c-4a48-46ff-9648-f5afca59e577"
      },
      "execution_count": 231,
      "outputs": [
        {
          "output_type": "stream",
          "name": "stdout",
          "text": [
            "https://5151-gpu-t4-hm-q0i2puutqv5p-c.asia-east1-1.prod.colab.dev?polling=true\n"
          ]
        }
      ]
    },
    {
      "cell_type": "code",
      "source": [
        "print(\"\\n\" + \"=\"*60)\n",
        "print(\"AUGMENTATION AND FINE-TUNING SUMMARY\")\n",
        "print(\"=\"*60)\n",
        "print(f\"Identified {len(mislabeled_train_images_view)} misclassified training samples\")\n",
        "print(f\"Applied MNIST-appropriate augmentations (rotation, translation, elastic deform, etc.)\")\n",
        "print(f\"Created {len(torch_augmented_dataset)} augmented training samples\")\n",
        "print(f\"Retrained model for {retrain_epochs} epochs with combined dataset\")\n",
        "print(f\"Evaluated performance on test set\")\n",
        "print(f\"Net improvement: {net_improvement} correctly classified samples\")\n"
      ],
      "metadata": {
        "id": "rrUJiyGt9Vq6",
        "colab": {
          "base_uri": "https://localhost:8080/"
        },
        "outputId": "cb2867d5-2a75-4b59-8386-37698e2871e4"
      },
      "execution_count": 232,
      "outputs": [
        {
          "output_type": "stream",
          "name": "stdout",
          "text": [
            "\n",
            "============================================================\n",
            "AUGMENTATION AND FINE-TUNING SUMMARY\n",
            "============================================================\n",
            "Identified 304 misclassified training samples\n",
            "Applied MNIST-appropriate augmentations (rotation, translation, elastic deform, etc.)\n",
            "Created 8740 augmented training samples\n",
            "Retrained model for 15 epochs with combined dataset\n",
            "Evaluated performance on test set\n",
            "Net improvement: 34 correctly classified samples\n"
          ]
        }
      ]
    },
    {
      "cell_type": "markdown",
      "source": [
        "## Key Insights\n",
        "Careful data augmentation has the potential to help with misclassified samples: By specifically targeting the samples that our model struggled with during initial training, we can create additional training examples that help the model learn to handle these edge cases more effectively. However we must do this carefully in order to not damage the model.\n",
        "\n",
        "Small rotations and elastic deformations are effective for handwritten digits: These transformations mimic natural variations in human handwriting without making digits ambiguous. The key is finding the right balance - enough variation to improve robustness, but not so much that a \"6\" looks like a \"9\".\n",
        "\n",
        "Fine-tuning with augmented data can improve model robustness: Rather than training from scratch, fine-tuning the already-trained model with augmented versions of problematic samples allows us to specifically address weaknesses while preserving the knowledge already learned.\n",
        "\n",
        "FiftyOne enables easy tracking of prediction changes across model versions: By storing predictions from both the original and retrained models in the same dataset, we can directly compare performance and identify which specific samples improved or degraded, enabling targeted analysis and further improvements.\n",
        "\n"
      ],
      "metadata": {
        "id": "XoMJ0qu3peE1"
      }
    },
    {
      "cell_type": "markdown",
      "source": [
        "## Takeaways\n",
        "\n",
        "This tutorial demonstrates several fundamental principles:\n",
        "\n",
        "- **Zero-shot vs. Supervised Learning**: Modern pre-trained models can often achieve competitive performance without task-specific training, but custom models allow for domain-specific optimization\n",
        "- **Embeddings as Universal Representations**: High-dimensional vectors capture semantic similarity and enable powerful analysis and visualization techniques  \n",
        "- **Visual Debugging**: FiftyOne's interactive capabilities make it easy to understand model behavior and identify improvement opportunities\n",
        "- **Data Quality Matters**: Systematic analysis of your dataset often leads to more significant performance gains than model architecture changes\n",
        "\n",
        "\n",
        "\n"
      ],
      "metadata": {
        "id": "chH1kiI3N8W7"
      }
    },
    {
      "cell_type": "markdown",
      "source": [
        "# Image Classification Getting Started Series Summary\n",
        "\n",
        "This comprehensive series walks you through the core components of working with\n",
        "classification data in FiftyOne: from loading and visualizing datasets, to creating embeddings, evaluating models, and finding systematic errors.\n",
        "\n",
        "## Summary of Steps\n",
        "\n",
        "### Step 1: Understanding the MNIST Dataset\n",
        "\n",
        "Explore the MNIST dataset structure and load it into FiftyOne. Learn about the 60,000 training images and 10,000 test images of handwritten digits, and understand why this dataset remains fundamental for classification research.\n",
        "\n",
        "### Step 2: Creating and Visualizing Image Embeddings\n",
        "\n",
        "Learn how neural networks represent images as high-dimensional vectors. Generate embeddings with CLIP and visualize them using dimensionality reduction techniques like PCA and UMAP to understand image similarity and clustering.\n",
        "\n",
        "### Step 3: Zero-shot Classification with CLIP\n",
        "\n",
        "Discover how modern vision-language models can classify images without explicit training on your dataset. Use pre-computed embeddings to perform efficient zero-shot classification with meaningful text prompts.\n",
        "\n",
        "### Step 4: Evaluating Dataset Quality through Embeddings\n",
        "\n",
        "Assess your dataset's composition by analyzing embedding distributions. Learn to identify representative samples, outliers, and potential data quality issues using FiftyOne's analysis capabilities.\n",
        "\n",
        "### Step 5: Traditional Supervised Classification\n",
        "\n",
        "Build a custom Convolutional Neural Network (LeNet-5) from scratch in PyTorch. Understand the fundamentals of supervised learning including convolutional layers, training loops, and optimization.\n",
        "\n",
        "### Step 6: Bridging FiftyOne and PyTorch\n",
        "\n",
        "Master the integration between FiftyOne's dataset management and PyTorch's training capabilities. Convert datasets to DataLoaders while maintaining metadata and handling preprocessing efficiently.\n",
        "\n",
        "### Step 7: Model Comparison and Benchmarking\n",
        "\n",
        "Compare your custom CNN against CLIP's zero-shot classification using FiftyOne's evaluation framework. Learn comprehensive evaluation metrics and statistical significance testing.\n",
        "\n",
        "### Step 8: Analyzing Model Predictions\n",
        "\n",
        "Interpret model behavior by examining prediction confidence and identifying hard samples. Use logit analysis to find systematic misclassification patterns and debug model failures.\n",
        "\n",
        "### Step 9: Data Augmentation Strategies\n",
        "\n",
        "Improve model performance through principled data augmentation. Learn which geometric transformations and elastic deformations help MNIST classification while avoiding destructive augmentations.\n",
        "\n",
        "### Step 10: Advanced Error Analysis\n",
        "\n",
        "Create targeted views of model failures using FiftyOne's visualization capabilities. Identify false positives, false negatives, and the most problematic samples for systematic model improvement.\n",
        "\n",
        "---\n",
        "\n",
        "This series is part of the **Getting Started with FiftyOne** initiative. For\n",
        "more tutorials, head to [FiftyOne Documentation](https://docs.voxel51.com/).\n",
        "\n"
      ],
      "metadata": {
        "id": "MOoKTaHllqTm"
      }
    },
    {
      "cell_type": "markdown",
      "source": [
        "## Suggested Exercises\n",
        "\n",
        "1. **Sample Quality Analysis**: Notice that we computed the uniqueness, representativeness, and hardness of the samples on the training set. Can you create filtered views of other batches of retraining data based on them?\n",
        "\n",
        "Try:\n",
        "* Selecting the most unique samples or those with highest hardness scores for additional augmentation\n",
        "* Filtering out the most ambiguous or questionable cases out of the fine-tuning training data\n",
        "\n",
        "2. **Active Learning**: Use the uniqueness, representativeness and hardness metrics to implement an [active learning pipeline](https://voxel51.com/blog/supercharge-your-annotation-workflow-with-active-learning) that selects the most informative samples for manual annotation or additional augmentation.\n",
        "\n",
        "3. **Dataset Exploration**: Apply these techniques to other classification datasets like [CIFAR-10](https://docs.voxel51.com/dataset_zoo/datasets.html#dataset-zoo-cifar10) or [Fashion-MNIST](https://docs.voxel51.com/dataset_zoo/datasets.html#dataset-zoo-fashion-mnist)\n",
        "\n",
        "4. **Architecture Comparison**: Implement and compare different CNN architectures (e.g. [Network in Network](https://arxiv.org/pdf/1312.4400), [ResNet](https://arxiv.org/pdf/1512.03385)) on MNIST\n",
        "\n",
        "5. **Transfer Learning**: Use pre-trained ImageNet models and fine-tune them for digit classification\n",
        "\n",
        "6. **Custom Augmentations**: Design and test novel augmentation strategies specific to handwritten digits, try augmenting the dataset [adding colors to the digits](https://paperswithcode.com/dataset/colored-mnist) and see how this change impacts the model's performance.\n",
        "\n",
        "7. **CLIP Model Variants and Prompting**: Experiment with different CLIP model variants available in FiftyOne's Model Zoo and compare their zero-shot performance on MNIST. Test how different text prompts affect accuracy across model sizes."
      ],
      "metadata": {
        "id": "YM6Hf32Vqyix"
      }
    },
    {
      "cell_type": "markdown",
      "source": [
        "\n",
        "## Resources and Further Reading\n",
        "\n",
        "- [FiftyOne Documentation](https://docs.voxel51.com/)\n",
        "- [FiftyOne's Filtering Cheatsheet](https://docs.voxel51.com/cheat_sheets/filtering_cheat_sheet.html)\n",
        "- [FiftyOne Model Zoo](https://docs.voxel51.com/user_guide/model_zoo/index.html)\n",
        "- [FiftyOne Dataset Zoo](https://docs.voxel51.com/user_guide/dataset_zoo/index.html)\n",
        "- [PyTorch Classification Tutorial](https://pytorch.org/tutorials/beginner/blitz/cifar10_tutorial.html)\n",
        "- [CLIP Paper: Learning Transferable Visual Representations](https://arxiv.org/abs/2103.00020)"
      ],
      "metadata": {
        "id": "ZTgM1-9DatJf"
      }
    },
    {
      "cell_type": "markdown",
      "source": [
        "## Next Steps\n",
        "\n",
        "Now that you've completed the Image Classification Getting Started series, here are\n",
        "some suggested next steps to deepen your journey with FiftyOne:\n",
        "\n",
        "-   **Explore Object Detection**  \n",
        "    Learn how to work with bounding boxes, evaluate detection models, and find annotation mistakes in object detection datasets.\n",
        "\n",
        "-   **Try Multi-label Classification**  \n",
        "    Extend these concepts to scenarios where images can belong to multiple classes simultaneously, common in real-world applications.\n",
        "\n",
        "-   **Experiment with FiftyOne Plugins**  \n",
        "    Enhance your workflow with powerful plugins for advanced augmentations, active learning tools, and integrations with annotation platforms.\n",
        "\n",
        "-   **Connect with the Community**  \n",
        "    Share your findings, ask questions, or browse community projects on the\n",
        "    [FiftyOne Discord](https://community.voxel51.com) or\n",
        "    [GitHub Discussions](https://github.com/voxel51/fiftyone/discussions).\n",
        "\n",
        "-   **Apply to Your Own Datasets**  \n",
        "    Adapt these workflows to your real-world classification projects. Whether\n",
        "    it's medical imaging, satellite analysis, or manufacturing quality control — FiftyOne supports diverse domains.\n",
        "\n",
        "-   **Dive into Advanced Topics**  \n",
        "    Explore segmentation, video analysis, and 3D data in the\n",
        "    [official documentation](https://docs.voxel51.com/).\n",
        "\n"
      ],
      "metadata": {
        "id": "c26WH1uGr-Wh"
      }
    },
    {
      "cell_type": "markdown",
      "metadata": {
        "id": "6cac0742"
      },
      "source": []
    }
  ]
}