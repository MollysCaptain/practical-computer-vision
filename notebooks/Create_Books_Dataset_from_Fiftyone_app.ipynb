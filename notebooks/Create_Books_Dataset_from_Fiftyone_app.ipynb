{
 "cells": [
  {
   "cell_type": "markdown",
   "metadata": {},
   "source": [
    "## Creating and saving datasets from the FiftyOne app"
   ]
  },
  {
   "cell_type": "code",
   "execution_count": 13,
   "metadata": {},
   "outputs": [],
   "source": [
    "import fiftyone as fo\n",
    "import fiftyone.zoo as foz\n",
    "from pathlib import Path"
   ]
  },
  {
   "cell_type": "code",
   "execution_count": 2,
   "metadata": {},
   "outputs": [
    {
     "data": {
      "text/plain": [
       "{'mnist': ('/Users/antonio/fiftyone/mnist',\n",
       "  <fiftyone.zoo.datasets.ZooDatasetInfo at 0x163dacd10>),\n",
       " 'coco-2017': ('/Users/antonio/fiftyone/coco-2017',\n",
       "  <fiftyone.zoo.datasets.ZooDatasetInfo at 0x163dacc90>),\n",
       " 'quickstart-video': ('/Users/antonio/fiftyone/quickstart-video',\n",
       "  <fiftyone.zoo.datasets.ZooDatasetInfo at 0x163d606d0>),\n",
       " 'quickstart': ('/Users/antonio/fiftyone/quickstart',\n",
       "  <fiftyone.zoo.datasets.ZooDatasetInfo at 0x163dacf10>)}"
      ]
     },
     "execution_count": 2,
     "metadata": {},
     "output_type": "execute_result"
    }
   ],
   "source": [
    "foz.list_downloaded_zoo_datasets()"
   ]
  },
  {
   "cell_type": "code",
   "execution_count": 3,
   "metadata": {},
   "outputs": [
    {
     "name": "stdout",
     "output_type": "stream",
     "text": [
      "Downloading split 'validation' to '/Users/antonio/fiftyone/coco-2017/validation' if necessary\n",
      "Found annotations at '/Users/antonio/fiftyone/coco-2017/raw/instances_val2017.json'\n",
      "Images already downloaded\n",
      "Existing download of split 'validation' is sufficient\n",
      "Loading existing dataset 'coco-2017-validation'. To reload from disk, either delete the existing dataset or provide a custom `dataset_name` to use\n"
     ]
    }
   ],
   "source": [
    "dataset = foz.load_zoo_dataset('coco-2017', split='validation')\n"
   ]
  },
  {
   "cell_type": "code",
   "execution_count": 4,
   "metadata": {},
   "outputs": [
    {
     "name": "stdout",
     "output_type": "stream",
     "text": [
      "Connected to FiftyOne on port 5151 at localhost.\n",
      "If you are not connecting to a remote session, you may need to start a new session and specify a port\n",
      "Session launched. Run `session.show()` to open the App in a cell output.\n",
      "http://localhost:5151/\n"
     ]
    }
   ],
   "source": [
    "session = fo.launch_app(dataset, auto=False)\n",
    "print(session.url)"
   ]
  },
  {
   "cell_type": "markdown",
   "metadata": {},
   "source": [
    "![](https://github.com/andandandand/practical-computer-vision/blob/main/images/save-current-filters-as-view.png?raw=true)"
   ]
  },
  {
   "cell_type": "markdown",
   "metadata": {},
   "source": [
    "![](https://github.com/andandandand/practical-computer-vision/blob/main/images/save-books-view.png?raw=true)"
   ]
  },
  {
   "cell_type": "code",
   "execution_count": null,
   "metadata": {},
   "outputs": [],
   "source": [
    "# Load the saved view\n",
    "books_view = dataset.load_view(\"books-view\")\n",
    "\n",
    "# Now you can work with the view programmatically\n",
    "print(f\"View contains {len(books_view)} samples\")"
   ]
  },
  {
   "cell_type": "markdown",
   "metadata": {},
   "source": [
    "![](https://github.com/andandandand/practical-computer-vision/blob/main/images/books-view-filter.png?raw=true)"
   ]
  },
  {
   "cell_type": "code",
   "execution_count": 11,
   "metadata": {},
   "outputs": [
    {
     "data": {
      "text/plain": [
       "['books-view']"
      ]
     },
     "execution_count": 11,
     "metadata": {},
     "output_type": "execute_result"
    }
   ],
   "source": [
    "dataset.list_saved_views()"
   ]
  },
  {
   "cell_type": "code",
   "execution_count": 12,
   "metadata": {},
   "outputs": [
    {
     "name": "stdout",
     "output_type": "stream",
     "text": [
      "View contains 230 samples\n"
     ]
    }
   ],
   "source": [
    "# Load the saved view\n",
    "books_view = dataset.load_saved_view(\"books-view\")\n",
    "\n",
    "# Now you can work with the view programmatically\n",
    "print(f\"View contains {len(books_view)} samples\")"
   ]
  },
  {
   "cell_type": "code",
   "execution_count": null,
   "metadata": {},
   "outputs": [],
   "source": [
    "parent_path = Path(\"/Users/antonio/Documents/Projects/GettingStartedWithFiftyOne/local_run/\")\n",
    "dataset_dir = parent_path / \"data/aerial_images_with_duplicates\""
   ]
  },
  {
   "cell_type": "code",
   "execution_count": 18,
   "metadata": {},
   "outputs": [
    {
     "name": "stdout",
     "output_type": "stream",
     "text": [
      " 100% |█████████████████| 230/230 [324.7ms elapsed, 0s remaining, 708.3 samples/s]      \n"
     ]
    }
   ],
   "source": [
    "# Save the view as a separate dataset\n",
    "books_dataset = books_view.clone()\n",
    "\n",
    "parent_path = Path(\"/Users/antonio/Documents/Projects/GettingStartedWithFiftyOne/local_run/\")\n",
    "export_dir = str(parent_path / 'data/coco-validation-books')\n",
    "\n",
    "# Export the dataset to a directory\n",
    "books_dataset.export(\n",
    "    export_dir=export_dir,\n",
    "    dataset_type=fo.types.COCODetectionDataset,\n",
    "    export_media=True,\n",
    "    overwrite=True,\n",
    ")\n"
   ]
  }
 ],
 "metadata": {
  "language_info": {
   "name": "python"
  }
 },
 "nbformat": 4,
 "nbformat_minor": 2
}
